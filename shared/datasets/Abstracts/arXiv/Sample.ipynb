{
 "cells": [
  {
   "cell_type": "code",
   "execution_count": 1,
   "id": "f48cfd8a-21ef-44dd-ba52-f89f0c373128",
   "metadata": {
    "execution": {
     "iopub.execute_input": "2023-11-10T02:51:22.082984Z",
     "iopub.status.busy": "2023-11-10T02:51:22.046384Z",
     "iopub.status.idle": "2023-11-10T02:51:22.201085Z",
     "shell.execute_reply": "2023-11-10T02:51:22.199774Z",
     "shell.execute_reply.started": "2023-11-10T02:51:22.082932Z"
    }
   },
   "outputs": [],
   "source": [
    "import os\n",
    "import csv\n",
    "import sys\n",
    "from pathlib import Path\n",
    "\n",
    "sys.path.append(\n",
    "    os.path.join(\n",
    "        Path(os.getcwd()).parents[3],\n",
    "        \"src\"\n",
    "    )\n",
    ")"
   ]
  },
  {
   "cell_type": "code",
   "execution_count": 2,
   "id": "7eb58bc5-2502-4eb9-9706-7450f01ca23b",
   "metadata": {
    "execution": {
     "iopub.execute_input": "2023-11-10T03:51:36.572293Z",
     "iopub.status.busy": "2023-11-10T03:51:36.559363Z",
     "iopub.status.idle": "2023-11-10T03:51:50.015385Z",
     "shell.execute_reply": "2023-11-10T03:51:50.014520Z",
     "shell.execute_reply.started": "2023-11-10T03:51:36.571867Z"
    }
   },
   "outputs": [],
   "source": [
    "import numpy as np\n",
    "import pandas as pd\n",
    "from models import AiNet\n",
    "from representations import NGram\n",
    "from logging import getLogger"
   ]
  },
  {
   "cell_type": "code",
   "execution_count": 3,
   "id": "3492e807-2688-461e-abac-b5e00af76cc3",
   "metadata": {
    "execution": {
     "iopub.execute_input": "2023-11-10T03:52:39.217024Z",
     "iopub.status.busy": "2023-11-10T03:52:39.215939Z",
     "iopub.status.idle": "2023-11-10T03:52:40.984103Z",
     "shell.execute_reply": "2023-11-10T03:52:40.981979Z",
     "shell.execute_reply.started": "2023-11-10T03:52:39.216968Z"
    }
   },
   "outputs": [
    {
     "name": "stdout",
     "output_type": "stream",
     "text": [
      "<class 'pandas.core.frame.DataFrame'>\n",
      "RangeIndex: 37768 entries, 0 to 37767\n",
      "Data columns (total 4 columns):\n",
      " #   Column       Non-Null Count  Dtype \n",
      "---  ------       --------------  ----- \n",
      " 0   terms        37768 non-null  object\n",
      " 1   major_terms  37768 non-null  object\n",
      " 2   titles       37768 non-null  object\n",
      " 3   abstracts    37768 non-null  object\n",
      "dtypes: object(4)\n",
      "memory usage: 1.2+ MB\n"
     ]
    }
   ],
   "source": [
    "with open(\"filtered_cleansed_data.csv\", \"r+\", newline=\"\", encoding=\"utf-8\") as f:\n",
    "    reader = csv.reader(f, delimiter=\",\", quotechar='\"', quoting=csv.QUOTE_MINIMAL)\n",
    "    data = list(reader)\n",
    "    header = data.pop(0)\n",
    "\n",
    "df = pd.DataFrame(data=data, columns=header)\n",
    "df.info()"
   ]
  },
  {
   "cell_type": "code",
   "execution_count": 4,
   "id": "46ac3b69-4f25-4e65-b646-aa66483d5ea9",
   "metadata": {
    "execution": {
     "iopub.execute_input": "2023-11-10T03:52:40.987704Z",
     "iopub.status.busy": "2023-11-10T03:52:40.986689Z",
     "iopub.status.idle": "2023-11-10T03:52:41.057086Z",
     "shell.execute_reply": "2023-11-10T03:52:41.055857Z",
     "shell.execute_reply.started": "2023-11-10T03:52:40.987676Z"
    }
   },
   "outputs": [
    {
     "name": "stdout",
     "output_type": "stream",
     "text": [
      "<class 'pandas.core.frame.DataFrame'>\n",
      "Int64Index: 5665 entries, 35361 to 19562\n",
      "Data columns (total 4 columns):\n",
      " #   Column       Non-Null Count  Dtype \n",
      "---  ------       --------------  ----- \n",
      " 0   terms        5665 non-null   object\n",
      " 1   major_terms  5665 non-null   object\n",
      " 2   titles       5665 non-null   object\n",
      " 3   abstracts    5665 non-null   object\n",
      "dtypes: object(4)\n",
      "memory usage: 221.3+ KB\n"
     ]
    }
   ],
   "source": [
    "sample = df.groupby(by=[\"major_terms\"], as_index=False, group_keys=False).apply(lambda c: c.sample(frac=0.15))\n",
    "sample.info()"
   ]
  },
  {
   "cell_type": "code",
   "execution_count": 5,
   "id": "ec20701f-8b69-4173-bfaf-d774d9892037",
   "metadata": {
    "execution": {
     "iopub.execute_input": "2023-11-10T03:52:41.059317Z",
     "iopub.status.busy": "2023-11-10T03:52:41.058127Z",
     "iopub.status.idle": "2023-11-10T03:52:41.089723Z",
     "shell.execute_reply": "2023-11-10T03:52:41.088801Z",
     "shell.execute_reply.started": "2023-11-10T03:52:41.059270Z"
    }
   },
   "outputs": [
    {
     "data": {
      "text/html": [
       "<div>\n",
       "<style scoped>\n",
       "    .dataframe tbody tr th:only-of-type {\n",
       "        vertical-align: middle;\n",
       "    }\n",
       "\n",
       "    .dataframe tbody tr th {\n",
       "        vertical-align: top;\n",
       "    }\n",
       "\n",
       "    .dataframe thead th {\n",
       "        text-align: right;\n",
       "    }\n",
       "</style>\n",
       "<table border=\"1\" class=\"dataframe\">\n",
       "  <thead>\n",
       "    <tr style=\"text-align: right;\">\n",
       "      <th></th>\n",
       "      <th>terms</th>\n",
       "      <th>major_terms</th>\n",
       "      <th>titles</th>\n",
       "      <th>abstracts</th>\n",
       "    </tr>\n",
       "  </thead>\n",
       "  <tbody>\n",
       "    <tr>\n",
       "      <th>31199</th>\n",
       "      <td>['cs.CV']</td>\n",
       "      <td>['cs']</td>\n",
       "      <td>Low-Rank Tensor Completion by Truncated Nuclea...</td>\n",
       "      <td>Currently, low-rank tensor completion has gain...</td>\n",
       "    </tr>\n",
       "    <tr>\n",
       "      <th>11509</th>\n",
       "      <td>['cs.LG', 'cs.AI']</td>\n",
       "      <td>['cs']</td>\n",
       "      <td>Multi-dimensional Parametric Mincuts for Const...</td>\n",
       "      <td>In this paper, we propose novel algorithms for...</td>\n",
       "    </tr>\n",
       "  </tbody>\n",
       "</table>\n",
       "</div>"
      ],
      "text/plain": [
       "                    terms major_terms  \\\n",
       "31199           ['cs.CV']      ['cs']   \n",
       "11509  ['cs.LG', 'cs.AI']      ['cs']   \n",
       "\n",
       "                                                  titles  \\\n",
       "31199  Low-Rank Tensor Completion by Truncated Nuclea...   \n",
       "11509  Multi-dimensional Parametric Mincuts for Const...   \n",
       "\n",
       "                                               abstracts  \n",
       "31199  Currently, low-rank tensor completion has gain...  \n",
       "11509  In this paper, we propose novel algorithms for...  "
      ]
     },
     "execution_count": 5,
     "metadata": {},
     "output_type": "execute_result"
    }
   ],
   "source": [
    "sample.sample(2)"
   ]
  },
  {
   "cell_type": "code",
   "execution_count": 6,
   "id": "299e31e7-4e17-46ae-be84-80c486019e36",
   "metadata": {
    "execution": {
     "iopub.execute_input": "2023-11-10T03:52:43.088839Z",
     "iopub.status.busy": "2023-11-10T03:52:43.088230Z",
     "iopub.status.idle": "2023-11-10T03:52:43.102376Z",
     "shell.execute_reply": "2023-11-10T03:52:43.100977Z",
     "shell.execute_reply.started": "2023-11-10T03:52:43.088812Z"
    }
   },
   "outputs": [
    {
     "data": {
      "text/plain": [
       "['cs']            3728\n",
       "['cs', 'stat']    1632\n",
       "['cs', 'eess']     305\n",
       "Name: major_terms, dtype: int64"
      ]
     },
     "execution_count": 6,
     "metadata": {},
     "output_type": "execute_result"
    }
   ],
   "source": [
    "sample[\"major_terms\"].value_counts()"
   ]
  },
  {
   "cell_type": "code",
   "execution_count": 7,
   "id": "d5b66b58-417d-42c1-87b2-67728c777333",
   "metadata": {
    "execution": {
     "iopub.execute_input": "2023-11-10T03:52:45.388608Z",
     "iopub.status.busy": "2023-11-10T03:52:45.386782Z",
     "iopub.status.idle": "2023-11-10T03:52:45.412384Z",
     "shell.execute_reply": "2023-11-10T03:52:45.410344Z",
     "shell.execute_reply.started": "2023-11-10T03:52:45.388545Z"
    }
   },
   "outputs": [
    {
     "data": {
      "text/plain": [
       "['cs']            65.80\n",
       "['cs', 'stat']    28.81\n",
       "['cs', 'eess']     5.39\n",
       "Name: major_terms, dtype: float64"
      ]
     },
     "execution_count": 7,
     "metadata": {},
     "output_type": "execute_result"
    }
   ],
   "source": [
    "np.round((df[\"major_terms\"].value_counts() / df.shape[0]) * 100, 2)"
   ]
  },
  {
   "cell_type": "code",
   "execution_count": 8,
   "id": "fcd6d2b9-c067-44f5-b91d-0c447a5023c2",
   "metadata": {
    "execution": {
     "iopub.execute_input": "2023-11-10T03:52:45.781242Z",
     "iopub.status.busy": "2023-11-10T03:52:45.780636Z",
     "iopub.status.idle": "2023-11-10T03:52:45.804274Z",
     "shell.execute_reply": "2023-11-10T03:52:45.802387Z",
     "shell.execute_reply.started": "2023-11-10T03:52:45.781212Z"
    }
   },
   "outputs": [
    {
     "data": {
      "text/plain": [
       "['cs']            65.81\n",
       "['cs', 'stat']    28.81\n",
       "['cs', 'eess']     5.38\n",
       "Name: major_terms, dtype: float64"
      ]
     },
     "execution_count": 8,
     "metadata": {},
     "output_type": "execute_result"
    }
   ],
   "source": [
    "np.round((sample[\"major_terms\"].value_counts() / sample.shape[0]) * 100, 2)"
   ]
  },
  {
   "cell_type": "code",
   "execution_count": 8,
   "id": "700d9ea0-c4f2-4a14-8071-94e99e60cde6",
   "metadata": {
    "execution": {
     "iopub.execute_input": "2023-11-04T22:14:28.545958Z",
     "iopub.status.busy": "2023-11-04T22:14:28.545342Z",
     "iopub.status.idle": "2023-11-04T22:16:36.385294Z",
     "shell.execute_reply": "2023-11-04T22:16:36.383067Z",
     "shell.execute_reply.started": "2023-11-04T22:14:28.545933Z"
    }
   },
   "outputs": [
    {
     "data": {
      "text/plain": [
       "(7554, 19483)"
      ]
     },
     "execution_count": 8,
     "metadata": {},
     "output_type": "execute_result"
    }
   ],
   "source": [
    "representation = NGram()\n",
    "features, result =representation.generate_representation(sample[\"abstracts\"].tolist())\n",
    "result.shape"
   ]
  },
  {
   "cell_type": "code",
   "execution_count": 9,
   "id": "2c48bb34-099e-4ff5-bc59-b7335ed115b5",
   "metadata": {
    "execution": {
     "iopub.execute_input": "2023-11-04T22:16:36.389375Z",
     "iopub.status.busy": "2023-11-04T22:16:36.388187Z",
     "iopub.status.idle": "2023-11-04T22:16:36.398152Z",
     "shell.execute_reply": "2023-11-04T22:16:36.395887Z",
     "shell.execute_reply.started": "2023-11-04T22:16:36.389321Z"
    }
   },
   "outputs": [],
   "source": [
    "root_logger = getLogger(\"root\")"
   ]
  },
  {
   "cell_type": "code",
   "execution_count": 10,
   "id": "c612129d-c418-4507-8a59-f4df806d5d94",
   "metadata": {
    "execution": {
     "iopub.execute_input": "2023-11-04T22:16:36.405167Z",
     "iopub.status.busy": "2023-11-04T22:16:36.404220Z",
     "iopub.status.idle": "2023-11-04T22:16:36.427041Z",
     "shell.execute_reply": "2023-11-04T22:16:36.424308Z",
     "shell.execute_reply.started": "2023-11-04T22:16:36.405119Z"
    }
   },
   "outputs": [],
   "source": [
    "aiNet = AiNet(distance_method=\"cosine\", logger=root_logger)"
   ]
  },
  {
   "cell_type": "code",
   "execution_count": null,
   "id": "1c08bddf-9d0f-4d4e-a74f-ae6badcfbbab",
   "metadata": {
    "execution": {
     "iopub.execute_input": "2023-11-05T02:17:23.158930Z",
     "iopub.status.busy": "2023-11-05T02:17:23.158384Z"
    }
   },
   "outputs": [],
   "source": [
    "aiNet.fit(\n",
    "    antigen_population=result, \n",
    "    max_iter=15, \n",
    "    number_of_antibodies=int(result.shape[0] * 0.10), \n",
    "    clone_multiplier=10, \n",
    "    no_best_cells_taken_each_selection=5, \n",
    "    percent_clones_reselected=0.12, \n",
    "    pruning_threshold=0.7,\n",
    "    suppression_threshold=0.12\n",
    ")"
   ]
  },
  {
   "cell_type": "code",
   "execution_count": 13,
   "id": "88ba54d3-39ae-498e-862a-64fef5744c49",
   "metadata": {
    "execution": {
     "iopub.execute_input": "2023-11-05T01:53:54.876998Z",
     "iopub.status.busy": "2023-11-05T01:53:54.876577Z",
     "iopub.status.idle": "2023-11-05T01:53:55.758567Z",
     "shell.execute_reply": "2023-11-05T01:53:55.756275Z",
     "shell.execute_reply.started": "2023-11-05T01:53:54.876968Z"
    }
   },
   "outputs": [
    {
     "data": {
      "text/plain": [
       "(297, 19483)"
      ]
     },
     "execution_count": 13,
     "metadata": {},
     "output_type": "execute_result"
    }
   ],
   "source": [
    "aiNet.antibody_population.shape"
   ]
  },
  {
   "cell_type": "code",
   "execution_count": 18,
   "id": "f8937b27-8e10-44b8-8ef9-a5965b789c12",
   "metadata": {
    "execution": {
     "iopub.execute_input": "2023-11-05T02:16:47.122786Z",
     "iopub.status.busy": "2023-11-05T02:16:47.121915Z",
     "iopub.status.idle": "2023-11-05T02:16:47.167296Z",
     "shell.execute_reply": "2023-11-05T02:16:47.166099Z",
     "shell.execute_reply.started": "2023-11-05T02:16:47.122724Z"
    }
   },
   "outputs": [
    {
     "data": {
      "text/plain": [
       "0"
      ]
     },
     "execution_count": 18,
     "metadata": {},
     "output_type": "execute_result"
    }
   ],
   "source": [
    "sample[\"abstracts\"].isna().astype(int).sum()"
   ]
  },
  {
   "cell_type": "code",
   "execution_count": 19,
   "id": "d22ea5a7-75b9-4d80-bd82-73d68b324ea7",
   "metadata": {
    "execution": {
     "iopub.execute_input": "2023-11-05T02:16:53.280078Z",
     "iopub.status.busy": "2023-11-05T02:16:53.279249Z",
     "iopub.status.idle": "2023-11-05T02:16:53.286484Z",
     "shell.execute_reply": "2023-11-05T02:16:53.285719Z",
     "shell.execute_reply.started": "2023-11-05T02:16:53.280059Z"
    }
   },
   "outputs": [
    {
     "data": {
      "text/plain": [
       "0"
      ]
     },
     "execution_count": 19,
     "metadata": {},
     "output_type": "execute_result"
    }
   ],
   "source": [
    "sample[\"abstracts\"].isnull().astype(int).sum()"
   ]
  },
  {
   "cell_type": "code",
   "execution_count": 9,
   "id": "f1feb168-4599-4ce7-97c8-4087206294a7",
   "metadata": {
    "execution": {
     "iopub.execute_input": "2023-11-10T03:52:49.741701Z",
     "iopub.status.busy": "2023-11-10T03:52:49.740895Z",
     "iopub.status.idle": "2023-11-10T03:52:50.190932Z",
     "shell.execute_reply": "2023-11-10T03:52:50.187685Z",
     "shell.execute_reply.started": "2023-11-10T03:52:49.741662Z"
    }
   },
   "outputs": [],
   "source": [
    "sample.to_csv(\"sample_filtered_cleansed_data.csv\", encoding=\"utf-8\", index=False, sep=\",\", quoting=csv.QUOTE_MINIMAL, quotechar='\"')"
   ]
  },
  {
   "cell_type": "code",
   "execution_count": 10,
   "id": "2a1209ca-abc1-44cb-8207-19ea89226d9b",
   "metadata": {
    "execution": {
     "iopub.execute_input": "2023-11-10T03:52:50.495524Z",
     "iopub.status.busy": "2023-11-10T03:52:50.495022Z",
     "iopub.status.idle": "2023-11-10T03:52:50.728670Z",
     "shell.execute_reply": "2023-11-10T03:52:50.727668Z",
     "shell.execute_reply.started": "2023-11-10T03:52:50.495505Z"
    }
   },
   "outputs": [],
   "source": [
    "with open(\"sample_filtered_cleansed_data.csv\", \"r+\", newline=\"\", encoding=\"utf-8\") as f:\n",
    "    reader = csv.reader(f, delimiter=\",\", quoting=csv.QUOTE_MINIMAL, quotechar='\"')\n",
    "    data = list(reader)\n",
    "    header = data.pop(0)\n",
    "\n",
    "df1 = pd.DataFrame(data=data, columns=header)"
   ]
  },
  {
   "cell_type": "code",
   "execution_count": 11,
   "id": "0071b091-763c-4c2d-b3b7-3ad575e3a707",
   "metadata": {
    "execution": {
     "iopub.execute_input": "2023-11-10T03:52:51.217286Z",
     "iopub.status.busy": "2023-11-10T03:52:51.215686Z",
     "iopub.status.idle": "2023-11-10T03:52:51.243326Z",
     "shell.execute_reply": "2023-11-10T03:52:51.242279Z",
     "shell.execute_reply.started": "2023-11-10T03:52:51.217229Z"
    }
   },
   "outputs": [
    {
     "name": "stdout",
     "output_type": "stream",
     "text": [
      "<class 'pandas.core.frame.DataFrame'>\n",
      "RangeIndex: 5665 entries, 0 to 5664\n",
      "Data columns (total 4 columns):\n",
      " #   Column       Non-Null Count  Dtype \n",
      "---  ------       --------------  ----- \n",
      " 0   terms        5665 non-null   object\n",
      " 1   major_terms  5665 non-null   object\n",
      " 2   titles       5665 non-null   object\n",
      " 3   abstracts    5665 non-null   object\n",
      "dtypes: object(4)\n",
      "memory usage: 177.2+ KB\n"
     ]
    }
   ],
   "source": [
    "df1.info()"
   ]
  },
  {
   "cell_type": "code",
   "execution_count": 12,
   "id": "8b2af5b6-76d9-49a3-a056-d770e157ce3d",
   "metadata": {
    "execution": {
     "iopub.execute_input": "2023-11-10T03:52:53.544546Z",
     "iopub.status.busy": "2023-11-10T03:52:53.544095Z",
     "iopub.status.idle": "2023-11-10T03:52:53.554785Z",
     "shell.execute_reply": "2023-11-10T03:52:53.553868Z",
     "shell.execute_reply.started": "2023-11-10T03:52:53.544527Z"
    }
   },
   "outputs": [
    {
     "data": {
      "text/plain": [
       "['cs']            3728\n",
       "['cs', 'stat']    1632\n",
       "['cs', 'eess']     305\n",
       "Name: major_terms, dtype: int64"
      ]
     },
     "execution_count": 12,
     "metadata": {},
     "output_type": "execute_result"
    }
   ],
   "source": [
    "df1[\"major_terms\"].value_counts()"
   ]
  },
  {
   "cell_type": "code",
   "execution_count": 14,
   "id": "7390e75f-c2f6-4e4b-8f89-f5dea4580a7b",
   "metadata": {
    "execution": {
     "iopub.execute_input": "2023-11-10T03:53:33.262084Z",
     "iopub.status.busy": "2023-11-10T03:53:33.261160Z",
     "iopub.status.idle": "2023-11-10T03:53:33.275868Z",
     "shell.execute_reply": "2023-11-10T03:53:33.274363Z",
     "shell.execute_reply.started": "2023-11-10T03:53:33.262008Z"
    }
   },
   "outputs": [
    {
     "data": {
      "text/plain": [
       "0"
      ]
     },
     "execution_count": 14,
     "metadata": {},
     "output_type": "execute_result"
    }
   ],
   "source": [
    "df1[\"abstracts\"].isna().astype(int).sum() + df1[\"abstracts\"].isnull().astype(int).sum()"
   ]
  },
  {
   "cell_type": "code",
   "execution_count": null,
   "id": "aa4387b0-8dc6-47f4-bf58-a96f059b342e",
   "metadata": {},
   "outputs": [],
   "source": []
  }
 ],
 "metadata": {
  "kernelspec": {
   "display_name": "Python 3 (ipykernel)",
   "language": "python",
   "name": "python3"
  },
  "language_info": {
   "codemirror_mode": {
    "name": "ipython",
    "version": 3
   },
   "file_extension": ".py",
   "mimetype": "text/x-python",
   "name": "python",
   "nbconvert_exporter": "python",
   "pygments_lexer": "ipython3",
   "version": "3.11.6"
  },
  "widgets": {
   "application/vnd.jupyter.widget-state+json": {
    "state": {},
    "version_major": 2,
    "version_minor": 0
   }
  }
 },
 "nbformat": 4,
 "nbformat_minor": 5
}
