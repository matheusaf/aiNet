{
 "cells": [
  {
   "cell_type": "code",
   "execution_count": 1,
   "id": "60e1ef95-c50a-41d7-8ef9-1d91b3e67e34",
   "metadata": {
    "execution": {
     "iopub.execute_input": "2023-10-29T07:45:18.430635Z",
     "iopub.status.busy": "2023-10-29T07:45:18.429846Z",
     "iopub.status.idle": "2023-10-29T07:45:22.817027Z",
     "shell.execute_reply": "2023-10-29T07:45:22.814469Z",
     "shell.execute_reply.started": "2023-10-29T07:45:18.430590Z"
    }
   },
   "outputs": [],
   "source": [
    "import re\n",
    "import csv\n",
    "import pandas as pd\n",
    "import numpy as np\n",
    "import matplotlib.pyplot as plt\n",
    "import seaborn as sns\n",
    "from functools import reduce\n",
    "from collections import Counter"
   ]
  },
  {
   "cell_type": "code",
   "execution_count": 2,
   "id": "7cfcf350-fe0e-4d5e-9a0a-390fc34eb375",
   "metadata": {
    "execution": {
     "iopub.execute_input": "2023-10-29T07:45:22.822345Z",
     "iopub.status.busy": "2023-10-29T07:45:22.820769Z",
     "iopub.status.idle": "2023-10-29T07:45:22.834718Z",
     "shell.execute_reply": "2023-10-29T07:45:22.831177Z",
     "shell.execute_reply.started": "2023-10-29T07:45:22.822273Z"
    }
   },
   "outputs": [],
   "source": [
    "plt.rcParams[\"axes.spines.right\"] = False\n",
    "plt.rcParams[\"axes.spines.top\"] = False"
   ]
  },
  {
   "cell_type": "markdown",
   "id": "ff012aea-fc1f-44b7-89bb-a693a2096b95",
   "metadata": {},
   "source": [
    "# Lendo Arquivos"
   ]
  },
  {
   "cell_type": "code",
   "execution_count": 3,
   "id": "0a9d01c0-aecf-4661-968b-ff76b0299728",
   "metadata": {
    "execution": {
     "iopub.execute_input": "2023-10-29T07:45:22.841583Z",
     "iopub.status.busy": "2023-10-29T07:45:22.839856Z",
     "iopub.status.idle": "2023-10-29T07:45:24.851957Z",
     "shell.execute_reply": "2023-10-29T07:45:24.850097Z",
     "shell.execute_reply.started": "2023-10-29T07:45:22.841504Z"
    }
   },
   "outputs": [],
   "source": [
    "with open(\"cleansed_data.csv\", \"r+\", encoding=\"utf-8\", newline=\"\") as f:\n",
    "    reader = csv.reader(f, delimiter=\",\", quoting=csv.QUOTE_MINIMAL, quotechar='\"')\n",
    "    data = [row for row in reader]\n",
    "    header = data.pop(0)"
   ]
  },
  {
   "cell_type": "code",
   "execution_count": 4,
   "id": "8685d446-b1b6-4708-b62c-5785adfca87e",
   "metadata": {
    "execution": {
     "iopub.execute_input": "2023-10-29T07:45:24.855477Z",
     "iopub.status.busy": "2023-10-29T07:45:24.854972Z",
     "iopub.status.idle": "2023-10-29T07:45:24.910104Z",
     "shell.execute_reply": "2023-10-29T07:45:24.907518Z",
     "shell.execute_reply.started": "2023-10-29T07:45:24.855439Z"
    }
   },
   "outputs": [
    {
     "data": {
      "text/html": [
       "<div>\n",
       "<style scoped>\n",
       "    .dataframe tbody tr th:only-of-type {\n",
       "        vertical-align: middle;\n",
       "    }\n",
       "\n",
       "    .dataframe tbody tr th {\n",
       "        vertical-align: top;\n",
       "    }\n",
       "\n",
       "    .dataframe thead th {\n",
       "        text-align: right;\n",
       "    }\n",
       "</style>\n",
       "<table border=\"1\" class=\"dataframe\">\n",
       "  <thead>\n",
       "    <tr style=\"text-align: right;\">\n",
       "      <th></th>\n",
       "      <th>terms</th>\n",
       "      <th>major_terms</th>\n",
       "      <th>titles</th>\n",
       "      <th>abstracts</th>\n",
       "    </tr>\n",
       "  </thead>\n",
       "  <tbody>\n",
       "    <tr>\n",
       "      <th>0</th>\n",
       "      <td>['cs.LG']</td>\n",
       "      <td>['cs']</td>\n",
       "      <td>Multi-Level Attention Pooling for Graph Neural...</td>\n",
       "      <td>Graph neural networks (GNNs) have been widely ...</td>\n",
       "    </tr>\n",
       "    <tr>\n",
       "      <th>1</th>\n",
       "      <td>['cs.LG', 'cs.AI']</td>\n",
       "      <td>['cs']</td>\n",
       "      <td>Decision Forests vs. Deep Networks: Conceptual...</td>\n",
       "      <td>Deep networks and decision forests (such as ra...</td>\n",
       "    </tr>\n",
       "    <tr>\n",
       "      <th>2</th>\n",
       "      <td>['cs.LG', 'cs.CR', 'stat.ML']</td>\n",
       "      <td>['stat', 'cs']</td>\n",
       "      <td>Power up! Robust Graph Convolutional Network v...</td>\n",
       "      <td>Graph convolutional networks (GCNs) are powerf...</td>\n",
       "    </tr>\n",
       "    <tr>\n",
       "      <th>3</th>\n",
       "      <td>['cs.LG', 'cs.CR']</td>\n",
       "      <td>['cs']</td>\n",
       "      <td>Releasing Graph Neural Networks with Different...</td>\n",
       "      <td>With the increasing popularity of Graph Neural...</td>\n",
       "    </tr>\n",
       "    <tr>\n",
       "      <th>4</th>\n",
       "      <td>['cs.LG']</td>\n",
       "      <td>['cs']</td>\n",
       "      <td>Recurrence-Aware Long-Term Cognitive Network f...</td>\n",
       "      <td>Machine learning solutions for pattern classif...</td>\n",
       "    </tr>\n",
       "    <tr>\n",
       "      <th>5</th>\n",
       "      <td>['cs.LG', 'stat.ML']</td>\n",
       "      <td>['stat', 'cs']</td>\n",
       "      <td>Lifelong Graph Learning</td>\n",
       "      <td>Graph neural networks (GNNs) are powerful mode...</td>\n",
       "    </tr>\n",
       "    <tr>\n",
       "      <th>6</th>\n",
       "      <td>['cs.LG']</td>\n",
       "      <td>['cs']</td>\n",
       "      <td>Bayesian graph convolutional neural networks v...</td>\n",
       "      <td>Deep learning models, such as convolutional ne...</td>\n",
       "    </tr>\n",
       "    <tr>\n",
       "      <th>7</th>\n",
       "      <td>['cs.LG', 'stat.ML']</td>\n",
       "      <td>['stat', 'cs']</td>\n",
       "      <td>Understanding and Resolving Performance Degrad...</td>\n",
       "      <td>A Graph Convolutional Network (GCN) stacks sev...</td>\n",
       "    </tr>\n",
       "    <tr>\n",
       "      <th>8</th>\n",
       "      <td>['cs.LG']</td>\n",
       "      <td>['cs']</td>\n",
       "      <td>Edge-augmented Graph Transformers: Global Self...</td>\n",
       "      <td>Transformer neural networks have achieved stat...</td>\n",
       "    </tr>\n",
       "    <tr>\n",
       "      <th>9</th>\n",
       "      <td>['cs.LG', 'cs.AI']</td>\n",
       "      <td>['cs']</td>\n",
       "      <td>Variational Graph Normalized Auto-Encoders</td>\n",
       "      <td>Link prediction is one of the key problems for...</td>\n",
       "    </tr>\n",
       "  </tbody>\n",
       "</table>\n",
       "</div>"
      ],
      "text/plain": [
       "                           terms     major_terms  \\\n",
       "0                      ['cs.LG']          ['cs']   \n",
       "1             ['cs.LG', 'cs.AI']          ['cs']   \n",
       "2  ['cs.LG', 'cs.CR', 'stat.ML']  ['stat', 'cs']   \n",
       "3             ['cs.LG', 'cs.CR']          ['cs']   \n",
       "4                      ['cs.LG']          ['cs']   \n",
       "5           ['cs.LG', 'stat.ML']  ['stat', 'cs']   \n",
       "6                      ['cs.LG']          ['cs']   \n",
       "7           ['cs.LG', 'stat.ML']  ['stat', 'cs']   \n",
       "8                      ['cs.LG']          ['cs']   \n",
       "9             ['cs.LG', 'cs.AI']          ['cs']   \n",
       "\n",
       "                                              titles  \\\n",
       "0  Multi-Level Attention Pooling for Graph Neural...   \n",
       "1  Decision Forests vs. Deep Networks: Conceptual...   \n",
       "2  Power up! Robust Graph Convolutional Network v...   \n",
       "3  Releasing Graph Neural Networks with Different...   \n",
       "4  Recurrence-Aware Long-Term Cognitive Network f...   \n",
       "5                            Lifelong Graph Learning   \n",
       "6  Bayesian graph convolutional neural networks v...   \n",
       "7  Understanding and Resolving Performance Degrad...   \n",
       "8  Edge-augmented Graph Transformers: Global Self...   \n",
       "9         Variational Graph Normalized Auto-Encoders   \n",
       "\n",
       "                                           abstracts  \n",
       "0  Graph neural networks (GNNs) have been widely ...  \n",
       "1  Deep networks and decision forests (such as ra...  \n",
       "2  Graph convolutional networks (GCNs) are powerf...  \n",
       "3  With the increasing popularity of Graph Neural...  \n",
       "4  Machine learning solutions for pattern classif...  \n",
       "5  Graph neural networks (GNNs) are powerful mode...  \n",
       "6  Deep learning models, such as convolutional ne...  \n",
       "7  A Graph Convolutional Network (GCN) stacks sev...  \n",
       "8  Transformer neural networks have achieved stat...  \n",
       "9  Link prediction is one of the key problems for...  "
      ]
     },
     "execution_count": 4,
     "metadata": {},
     "output_type": "execute_result"
    }
   ],
   "source": [
    "df = pd.DataFrame(data=data, columns=header)\n",
    "df.head(10)"
   ]
  },
  {
   "cell_type": "code",
   "execution_count": 5,
   "id": "79b76d59-0df9-4f30-8a7c-da731e8fd6f1",
   "metadata": {
    "execution": {
     "iopub.execute_input": "2023-10-29T07:45:24.914293Z",
     "iopub.status.busy": "2023-10-29T07:45:24.913501Z",
     "iopub.status.idle": "2023-10-29T07:45:25.005699Z",
     "shell.execute_reply": "2023-10-29T07:45:25.003068Z",
     "shell.execute_reply.started": "2023-10-29T07:45:24.914229Z"
    }
   },
   "outputs": [
    {
     "name": "stdout",
     "output_type": "stream",
     "text": [
      "<class 'pandas.core.frame.DataFrame'>\n",
      "RangeIndex: 41115 entries, 0 to 41114\n",
      "Data columns (total 4 columns):\n",
      " #   Column       Non-Null Count  Dtype \n",
      "---  ------       --------------  ----- \n",
      " 0   terms        41115 non-null  object\n",
      " 1   major_terms  41115 non-null  object\n",
      " 2   titles       41115 non-null  object\n",
      " 3   abstracts    41115 non-null  object\n",
      "dtypes: object(4)\n",
      "memory usage: 1.3+ MB\n"
     ]
    }
   ],
   "source": [
    "df.info()"
   ]
  },
  {
   "cell_type": "markdown",
   "id": "45b4a241-3e57-48b6-9588-7fe0369f03cc",
   "metadata": {},
   "source": [
    "# Funções para processar a base"
   ]
  },
  {
   "cell_type": "markdown",
   "id": "060229e8-d2b5-42f8-919f-f93f3023208f",
   "metadata": {},
   "source": [
    "## Mapeando todas áreas de Física para physics (https://arxiv.org/category_taxonomy)"
   ]
  },
  {
   "cell_type": "code",
   "execution_count": 6,
   "id": "48db0070-98b9-4781-8796-851c162f6f12",
   "metadata": {
    "execution": {
     "iopub.execute_input": "2023-10-29T07:45:25.008115Z",
     "iopub.status.busy": "2023-10-29T07:45:25.007637Z",
     "iopub.status.idle": "2023-10-29T07:45:25.019039Z",
     "shell.execute_reply": "2023-10-29T07:45:25.016348Z",
     "shell.execute_reply.started": "2023-10-29T07:45:25.008075Z"
    }
   },
   "outputs": [],
   "source": [
    "def map_physics_terms(major_term: str) -> str:\n",
    "    physics_majors = [\n",
    "        \"atro-ph\", \n",
    "        \"cond-mat\", \n",
    "        \"gr-qc\", \n",
    "        \"hep-ex\", \n",
    "        \"hep-lat\", \n",
    "        \"hep-ph\", \n",
    "        \"hep-th\", \n",
    "        \"math-ph\", \n",
    "        \"nlin\",\n",
    "        \"nucl-ex\",\n",
    "        \"nucl-th\",\n",
    "        \"quant-ph\"\n",
    "    ]\n",
    "\n",
    "    if major_term in physics_majors:\n",
    "        return \"physics\"\n",
    "        \n",
    "    return major_term"
   ]
  },
  {
   "cell_type": "markdown",
   "id": "33a0bfc4-b0c3-413c-a187-dc109420ce58",
   "metadata": {},
   "source": [
    "## Removendo todos objetos que não estejam no formato apresentado pelo link anterior"
   ]
  },
  {
   "cell_type": "code",
   "execution_count": 7,
   "id": "2834dff3-3ce8-4297-979b-b8f85941f763",
   "metadata": {
    "execution": {
     "iopub.execute_input": "2023-10-29T07:45:26.228468Z",
     "iopub.status.busy": "2023-10-29T07:45:26.227723Z",
     "iopub.status.idle": "2023-10-29T07:45:26.242591Z",
     "shell.execute_reply": "2023-10-29T07:45:26.240390Z",
     "shell.execute_reply.started": "2023-10-29T07:45:26.228408Z"
    }
   },
   "outputs": [],
   "source": [
    "def handle_major_terms(terms: list) -> list | None:\n",
    "    final_terms = []\n",
    "    for term in terms:\n",
    "        if re.fullmatch(r\"^[^0-9\\s.]+(\\.[^0-9^\\s]+)*$\", term.lstrip().rstrip()):\n",
    "            major_term = term.casefold().split(\".\")[0]\n",
    "            major_term = map_physics_terms(major_term)\n",
    "            final_terms.append(major_term)\n",
    "    return sorted(list(set(final_terms)))"
   ]
  },
  {
   "cell_type": "markdown",
   "id": "4144c13f-1360-42d6-b960-693635cdbcc2",
   "metadata": {},
   "source": [
    "# Gerando nova coluna apenas com os termos certos"
   ]
  },
  {
   "cell_type": "code",
   "execution_count": 8,
   "id": "9ab82382-09d2-4702-a2d7-a2fdcd69897a",
   "metadata": {
    "execution": {
     "iopub.execute_input": "2023-10-29T07:45:27.607012Z",
     "iopub.status.busy": "2023-10-29T07:45:27.606125Z",
     "iopub.status.idle": "2023-10-29T07:45:29.309147Z",
     "shell.execute_reply": "2023-10-29T07:45:29.307316Z",
     "shell.execute_reply.started": "2023-10-29T07:45:27.606967Z"
    },
    "scrolled": true
   },
   "outputs": [],
   "source": [
    "df[\"filtered_major_terms\"] = df[\"terms\"].apply(eval).apply(handle_major_terms).apply(str)"
   ]
  },
  {
   "cell_type": "code",
   "execution_count": 9,
   "id": "6e10dba0-f56c-432d-a056-94906110372b",
   "metadata": {
    "execution": {
     "iopub.execute_input": "2023-10-29T07:45:29.314094Z",
     "iopub.status.busy": "2023-10-29T07:45:29.312463Z",
     "iopub.status.idle": "2023-10-29T07:45:30.285431Z",
     "shell.execute_reply": "2023-10-29T07:45:30.282883Z",
     "shell.execute_reply.started": "2023-10-29T07:45:29.313895Z"
    }
   },
   "outputs": [
    {
     "data": {
      "text/html": [
       "<div>\n",
       "<style scoped>\n",
       "    .dataframe tbody tr th:only-of-type {\n",
       "        vertical-align: middle;\n",
       "    }\n",
       "\n",
       "    .dataframe tbody tr th {\n",
       "        vertical-align: top;\n",
       "    }\n",
       "\n",
       "    .dataframe thead th {\n",
       "        text-align: right;\n",
       "    }\n",
       "</style>\n",
       "<table border=\"1\" class=\"dataframe\">\n",
       "  <thead>\n",
       "    <tr style=\"text-align: right;\">\n",
       "      <th></th>\n",
       "      <th>terms</th>\n",
       "      <th>major_terms</th>\n",
       "      <th>titles</th>\n",
       "      <th>abstracts</th>\n",
       "      <th>filtered_major_terms</th>\n",
       "    </tr>\n",
       "  </thead>\n",
       "  <tbody>\n",
       "  </tbody>\n",
       "</table>\n",
       "</div>"
      ],
      "text/plain": [
       "Empty DataFrame\n",
       "Columns: [terms, major_terms, titles, abstracts, filtered_major_terms]\n",
       "Index: []"
      ]
     },
     "execution_count": 9,
     "metadata": {},
     "output_type": "execute_result"
    }
   ],
   "source": [
    "df[df[\"filtered_major_terms\"].apply(eval).apply(len) == 0]"
   ]
  },
  {
   "cell_type": "code",
   "execution_count": 10,
   "id": "518209fc-b9e2-4dd4-8a47-442698c132ca",
   "metadata": {
    "execution": {
     "iopub.execute_input": "2023-10-29T07:45:30.289097Z",
     "iopub.status.busy": "2023-10-29T07:45:30.288181Z",
     "iopub.status.idle": "2023-10-29T07:45:30.329943Z",
     "shell.execute_reply": "2023-10-29T07:45:30.326380Z",
     "shell.execute_reply.started": "2023-10-29T07:45:30.289021Z"
    }
   },
   "outputs": [
    {
     "data": {
      "text/html": [
       "<div>\n",
       "<style scoped>\n",
       "    .dataframe tbody tr th:only-of-type {\n",
       "        vertical-align: middle;\n",
       "    }\n",
       "\n",
       "    .dataframe tbody tr th {\n",
       "        vertical-align: top;\n",
       "    }\n",
       "\n",
       "    .dataframe thead th {\n",
       "        text-align: right;\n",
       "    }\n",
       "</style>\n",
       "<table border=\"1\" class=\"dataframe\">\n",
       "  <thead>\n",
       "    <tr style=\"text-align: right;\">\n",
       "      <th></th>\n",
       "      <th>terms</th>\n",
       "      <th>major_terms</th>\n",
       "      <th>titles</th>\n",
       "      <th>abstracts</th>\n",
       "      <th>filtered_major_terms</th>\n",
       "    </tr>\n",
       "  </thead>\n",
       "  <tbody>\n",
       "    <tr>\n",
       "      <th>41085</th>\n",
       "      <td>['cs.LG', 'stat.ML']</td>\n",
       "      <td>['stat', 'cs']</td>\n",
       "      <td>Robust Variational Autoencoders for Outlier De...</td>\n",
       "      <td>We focus on the problem of unsupervised cell o...</td>\n",
       "      <td>['cs', 'stat']</td>\n",
       "    </tr>\n",
       "    <tr>\n",
       "      <th>41086</th>\n",
       "      <td>['cs.LG', 'stat.ML']</td>\n",
       "      <td>['stat', 'cs']</td>\n",
       "      <td>AP-Perf: Incorporating Generic Performance Met...</td>\n",
       "      <td>We propose a method that enables practitioners...</td>\n",
       "      <td>['cs', 'stat']</td>\n",
       "    </tr>\n",
       "    <tr>\n",
       "      <th>41087</th>\n",
       "      <td>['cs.LG', 'cs.AI', 'stat.ML']</td>\n",
       "      <td>['stat', 'cs']</td>\n",
       "      <td>ConQUR: Mitigating Delusional Bias in Deep Q-l...</td>\n",
       "      <td>Delusional bias is a fundamental source of err...</td>\n",
       "      <td>['cs', 'stat']</td>\n",
       "    </tr>\n",
       "    <tr>\n",
       "      <th>41088</th>\n",
       "      <td>['cs.LG', 'stat.ML']</td>\n",
       "      <td>['stat', 'cs']</td>\n",
       "      <td>Interpretable Counterfactual Explanations Guid...</td>\n",
       "      <td>We propose a fast, model agnostic method for f...</td>\n",
       "      <td>['cs', 'stat']</td>\n",
       "    </tr>\n",
       "    <tr>\n",
       "      <th>41089</th>\n",
       "      <td>['cs.LG', 'stat.ML']</td>\n",
       "      <td>['stat', 'cs']</td>\n",
       "      <td>Lifting Interpretability-Performance Trade-off...</td>\n",
       "      <td>Complex black-box predictive models may have h...</td>\n",
       "      <td>['cs', 'stat']</td>\n",
       "    </tr>\n",
       "    <tr>\n",
       "      <th>41090</th>\n",
       "      <td>['cs.CV', 'cs.LG', 'cs.NE']</td>\n",
       "      <td>['cs']</td>\n",
       "      <td>DeepErase: Weakly Supervised Ink Artifact Remo...</td>\n",
       "      <td>Paper-intensive industries like insurance, law...</td>\n",
       "      <td>['cs']</td>\n",
       "    </tr>\n",
       "    <tr>\n",
       "      <th>41091</th>\n",
       "      <td>['cs.LG', 'cs.AI', 'stat.ML']</td>\n",
       "      <td>['stat', 'cs']</td>\n",
       "      <td>Scalable methods for computing state similarit...</td>\n",
       "      <td>We present new algorithms for computing and ap...</td>\n",
       "      <td>['cs', 'stat']</td>\n",
       "    </tr>\n",
       "    <tr>\n",
       "      <th>41092</th>\n",
       "      <td>['cs.LG', 'math.OC', 'math.ST', 'stat.ML', 'st...</td>\n",
       "      <td>['stat', 'cs', 'math']</td>\n",
       "      <td>Non-Asymptotic Gap-Dependent Regret Bounds for...</td>\n",
       "      <td>This paper establishes that optimistic algorit...</td>\n",
       "      <td>['cs', 'math', 'stat']</td>\n",
       "    </tr>\n",
       "    <tr>\n",
       "      <th>41093</th>\n",
       "      <td>['cs.LG', 'stat.ML']</td>\n",
       "      <td>['stat', 'cs']</td>\n",
       "      <td>A Wide and Deep Neural Network for Survival An...</td>\n",
       "      <td>We introduce a wide and deep neural network fo...</td>\n",
       "      <td>['cs', 'stat']</td>\n",
       "    </tr>\n",
       "    <tr>\n",
       "      <th>41094</th>\n",
       "      <td>['cs.LG', 'cs.CL', 'stat.ML']</td>\n",
       "      <td>['stat', 'cs']</td>\n",
       "      <td>Meta-learning of textual representations</td>\n",
       "      <td>Recent progress in AutoML has lead to state-of...</td>\n",
       "      <td>['cs', 'stat']</td>\n",
       "    </tr>\n",
       "    <tr>\n",
       "      <th>41095</th>\n",
       "      <td>['cs.LG', 'stat.ML']</td>\n",
       "      <td>['stat', 'cs']</td>\n",
       "      <td>AutoCross: Automatic Feature Crossing for Tabu...</td>\n",
       "      <td>Feature crossing captures interactions among c...</td>\n",
       "      <td>['cs', 'stat']</td>\n",
       "    </tr>\n",
       "    <tr>\n",
       "      <th>41096</th>\n",
       "      <td>['cs.CV']</td>\n",
       "      <td>['cs']</td>\n",
       "      <td>SuperTML: Two-Dimensional Word Embedding for t...</td>\n",
       "      <td>Tabular data is the most commonly used form of...</td>\n",
       "      <td>['cs']</td>\n",
       "    </tr>\n",
       "    <tr>\n",
       "      <th>41097</th>\n",
       "      <td>['cs.LG', 'stat.ML']</td>\n",
       "      <td>['stat', 'cs']</td>\n",
       "      <td>Tabular Benchmarks for Joint Architecture and ...</td>\n",
       "      <td>Due to the high computational demands executin...</td>\n",
       "      <td>['cs', 'stat']</td>\n",
       "    </tr>\n",
       "    <tr>\n",
       "      <th>41098</th>\n",
       "      <td>['cs.LG', 'stat.ML']</td>\n",
       "      <td>['stat', 'cs']</td>\n",
       "      <td>Discovering Fair Representations in the Data D...</td>\n",
       "      <td>Interpretability and fairness are critical in ...</td>\n",
       "      <td>['cs', 'stat']</td>\n",
       "    </tr>\n",
       "    <tr>\n",
       "      <th>41099</th>\n",
       "      <td>['cs.LG', 'stat.ME', 'stat.ML', 'I.2.0; G.3']</td>\n",
       "      <td>['stat', 'cs', 'i']</td>\n",
       "      <td>SAFE ML: Surrogate Assisted Feature Extraction...</td>\n",
       "      <td>Complex black-box predictive models may have h...</td>\n",
       "      <td>['cs', 'stat']</td>\n",
       "    </tr>\n",
       "    <tr>\n",
       "      <th>41100</th>\n",
       "      <td>['stat.ML', 'cs.LG']</td>\n",
       "      <td>['stat', 'cs']</td>\n",
       "      <td>Automatic Bayesian Density Analysis</td>\n",
       "      <td>Making sense of a dataset in an automatic and ...</td>\n",
       "      <td>['cs', 'stat']</td>\n",
       "    </tr>\n",
       "    <tr>\n",
       "      <th>41101</th>\n",
       "      <td>['cs.LG', 'cs.AI', 'stat.ML']</td>\n",
       "      <td>['stat', 'cs']</td>\n",
       "      <td>Source Traces for Temporal Difference Learning</td>\n",
       "      <td>This paper motivates and develops source trace...</td>\n",
       "      <td>['cs', 'stat']</td>\n",
       "    </tr>\n",
       "    <tr>\n",
       "      <th>41102</th>\n",
       "      <td>['cs.LG', 'cs.AI', 'stat.ML']</td>\n",
       "      <td>['stat', 'cs']</td>\n",
       "      <td>Provably Efficient Maximum Entropy Exploration</td>\n",
       "      <td>Suppose an agent is in a (possibly unknown) Ma...</td>\n",
       "      <td>['cs', 'stat']</td>\n",
       "    </tr>\n",
       "    <tr>\n",
       "      <th>41103</th>\n",
       "      <td>['cs.LG', 'cs.AI', 'stat.ML']</td>\n",
       "      <td>['stat', 'cs']</td>\n",
       "      <td>NIPS - Not Even Wrong? A Systematic Review of ...</td>\n",
       "      <td>Objective: To determine the completeness of ar...</td>\n",
       "      <td>['cs', 'stat']</td>\n",
       "    </tr>\n",
       "    <tr>\n",
       "      <th>41104</th>\n",
       "      <td>['cs.LG', 'stat.ML']</td>\n",
       "      <td>['stat', 'cs']</td>\n",
       "      <td>Performance Guarantees for Homomorphisms Beyon...</td>\n",
       "      <td>Most real-world problems have huge state and/o...</td>\n",
       "      <td>['cs', 'stat']</td>\n",
       "    </tr>\n",
       "    <tr>\n",
       "      <th>41105</th>\n",
       "      <td>['stat.ML', 'cs.LG']</td>\n",
       "      <td>['stat', 'cs']</td>\n",
       "      <td>Regularization Learning Networks: Deep Learnin...</td>\n",
       "      <td>Despite their impressive performance, Deep Neu...</td>\n",
       "      <td>['cs', 'stat']</td>\n",
       "    </tr>\n",
       "    <tr>\n",
       "      <th>41106</th>\n",
       "      <td>['stat.ML', 'cs.CR', 'cs.LG']</td>\n",
       "      <td>['stat', 'cs']</td>\n",
       "      <td>Detecting Potential Local Adversarial Examples...</td>\n",
       "      <td>Machine learning models are increasingly used ...</td>\n",
       "      <td>['cs', 'stat']</td>\n",
       "    </tr>\n",
       "    <tr>\n",
       "      <th>41107</th>\n",
       "      <td>['cs.LG', 'cs.HC', 'stat.ML']</td>\n",
       "      <td>['stat', 'cs']</td>\n",
       "      <td>Manifold: A Model-Agnostic Framework for Inter...</td>\n",
       "      <td>Interpretation and diagnosis of machine learni...</td>\n",
       "      <td>['cs', 'stat']</td>\n",
       "    </tr>\n",
       "    <tr>\n",
       "      <th>41108</th>\n",
       "      <td>['cs.LG', 'cs.CL']</td>\n",
       "      <td>['cs']</td>\n",
       "      <td>It was the training data pruning too!</td>\n",
       "      <td>We study the current best model (KDG) for ques...</td>\n",
       "      <td>['cs']</td>\n",
       "    </tr>\n",
       "    <tr>\n",
       "      <th>41109</th>\n",
       "      <td>['cs.CV']</td>\n",
       "      <td>['cs']</td>\n",
       "      <td>Visual Graph Mining</td>\n",
       "      <td>In this study, we formulate the concept of \"mi...</td>\n",
       "      <td>['cs']</td>\n",
       "    </tr>\n",
       "    <tr>\n",
       "      <th>41110</th>\n",
       "      <td>['stat.ML']</td>\n",
       "      <td>['stat']</td>\n",
       "      <td>An experimental study of graph-based semi-supe...</td>\n",
       "      <td>The volume of data generated by internet and s...</td>\n",
       "      <td>['stat']</td>\n",
       "    </tr>\n",
       "    <tr>\n",
       "      <th>41111</th>\n",
       "      <td>['stat.ML', 'cs.LG']</td>\n",
       "      <td>['stat', 'cs']</td>\n",
       "      <td>Bayesian Differential Privacy through Posterio...</td>\n",
       "      <td>Differential privacy formalises privacy-preser...</td>\n",
       "      <td>['cs', 'stat']</td>\n",
       "    </tr>\n",
       "    <tr>\n",
       "      <th>41112</th>\n",
       "      <td>['cs.CV', 'cs.IR']</td>\n",
       "      <td>['cs']</td>\n",
       "      <td>Mining Spatio-temporal Data on Industrializati...</td>\n",
       "      <td>Despite the growing availability of big data i...</td>\n",
       "      <td>['cs']</td>\n",
       "    </tr>\n",
       "    <tr>\n",
       "      <th>41113</th>\n",
       "      <td>['cs.LG', 'cs.AI', 'cs.CL', 'I.2.6; I.2.7']</td>\n",
       "      <td>['cs', 'i']</td>\n",
       "      <td>Wav2Letter: an End-to-End ConvNet-based Speech...</td>\n",
       "      <td>This paper presents a simple end-to-end model ...</td>\n",
       "      <td>['cs']</td>\n",
       "    </tr>\n",
       "    <tr>\n",
       "      <th>41114</th>\n",
       "      <td>['stat.ML', 'cs.LG', 'math.OC']</td>\n",
       "      <td>['stat', 'cs', 'math']</td>\n",
       "      <td>Generalized Low Rank Models</td>\n",
       "      <td>Principal components analysis (PCA) is a well-...</td>\n",
       "      <td>['cs', 'math', 'stat']</td>\n",
       "    </tr>\n",
       "  </tbody>\n",
       "</table>\n",
       "</div>"
      ],
      "text/plain": [
       "                                                   terms  \\\n",
       "41085                               ['cs.LG', 'stat.ML']   \n",
       "41086                               ['cs.LG', 'stat.ML']   \n",
       "41087                      ['cs.LG', 'cs.AI', 'stat.ML']   \n",
       "41088                               ['cs.LG', 'stat.ML']   \n",
       "41089                               ['cs.LG', 'stat.ML']   \n",
       "41090                        ['cs.CV', 'cs.LG', 'cs.NE']   \n",
       "41091                      ['cs.LG', 'cs.AI', 'stat.ML']   \n",
       "41092  ['cs.LG', 'math.OC', 'math.ST', 'stat.ML', 'st...   \n",
       "41093                               ['cs.LG', 'stat.ML']   \n",
       "41094                      ['cs.LG', 'cs.CL', 'stat.ML']   \n",
       "41095                               ['cs.LG', 'stat.ML']   \n",
       "41096                                          ['cs.CV']   \n",
       "41097                               ['cs.LG', 'stat.ML']   \n",
       "41098                               ['cs.LG', 'stat.ML']   \n",
       "41099      ['cs.LG', 'stat.ME', 'stat.ML', 'I.2.0; G.3']   \n",
       "41100                               ['stat.ML', 'cs.LG']   \n",
       "41101                      ['cs.LG', 'cs.AI', 'stat.ML']   \n",
       "41102                      ['cs.LG', 'cs.AI', 'stat.ML']   \n",
       "41103                      ['cs.LG', 'cs.AI', 'stat.ML']   \n",
       "41104                               ['cs.LG', 'stat.ML']   \n",
       "41105                               ['stat.ML', 'cs.LG']   \n",
       "41106                      ['stat.ML', 'cs.CR', 'cs.LG']   \n",
       "41107                      ['cs.LG', 'cs.HC', 'stat.ML']   \n",
       "41108                                 ['cs.LG', 'cs.CL']   \n",
       "41109                                          ['cs.CV']   \n",
       "41110                                        ['stat.ML']   \n",
       "41111                               ['stat.ML', 'cs.LG']   \n",
       "41112                                 ['cs.CV', 'cs.IR']   \n",
       "41113        ['cs.LG', 'cs.AI', 'cs.CL', 'I.2.6; I.2.7']   \n",
       "41114                    ['stat.ML', 'cs.LG', 'math.OC']   \n",
       "\n",
       "                  major_terms  \\\n",
       "41085          ['stat', 'cs']   \n",
       "41086          ['stat', 'cs']   \n",
       "41087          ['stat', 'cs']   \n",
       "41088          ['stat', 'cs']   \n",
       "41089          ['stat', 'cs']   \n",
       "41090                  ['cs']   \n",
       "41091          ['stat', 'cs']   \n",
       "41092  ['stat', 'cs', 'math']   \n",
       "41093          ['stat', 'cs']   \n",
       "41094          ['stat', 'cs']   \n",
       "41095          ['stat', 'cs']   \n",
       "41096                  ['cs']   \n",
       "41097          ['stat', 'cs']   \n",
       "41098          ['stat', 'cs']   \n",
       "41099     ['stat', 'cs', 'i']   \n",
       "41100          ['stat', 'cs']   \n",
       "41101          ['stat', 'cs']   \n",
       "41102          ['stat', 'cs']   \n",
       "41103          ['stat', 'cs']   \n",
       "41104          ['stat', 'cs']   \n",
       "41105          ['stat', 'cs']   \n",
       "41106          ['stat', 'cs']   \n",
       "41107          ['stat', 'cs']   \n",
       "41108                  ['cs']   \n",
       "41109                  ['cs']   \n",
       "41110                ['stat']   \n",
       "41111          ['stat', 'cs']   \n",
       "41112                  ['cs']   \n",
       "41113             ['cs', 'i']   \n",
       "41114  ['stat', 'cs', 'math']   \n",
       "\n",
       "                                                  titles  \\\n",
       "41085  Robust Variational Autoencoders for Outlier De...   \n",
       "41086  AP-Perf: Incorporating Generic Performance Met...   \n",
       "41087  ConQUR: Mitigating Delusional Bias in Deep Q-l...   \n",
       "41088  Interpretable Counterfactual Explanations Guid...   \n",
       "41089  Lifting Interpretability-Performance Trade-off...   \n",
       "41090  DeepErase: Weakly Supervised Ink Artifact Remo...   \n",
       "41091  Scalable methods for computing state similarit...   \n",
       "41092  Non-Asymptotic Gap-Dependent Regret Bounds for...   \n",
       "41093  A Wide and Deep Neural Network for Survival An...   \n",
       "41094           Meta-learning of textual representations   \n",
       "41095  AutoCross: Automatic Feature Crossing for Tabu...   \n",
       "41096  SuperTML: Two-Dimensional Word Embedding for t...   \n",
       "41097  Tabular Benchmarks for Joint Architecture and ...   \n",
       "41098  Discovering Fair Representations in the Data D...   \n",
       "41099  SAFE ML: Surrogate Assisted Feature Extraction...   \n",
       "41100                Automatic Bayesian Density Analysis   \n",
       "41101     Source Traces for Temporal Difference Learning   \n",
       "41102     Provably Efficient Maximum Entropy Exploration   \n",
       "41103  NIPS - Not Even Wrong? A Systematic Review of ...   \n",
       "41104  Performance Guarantees for Homomorphisms Beyon...   \n",
       "41105  Regularization Learning Networks: Deep Learnin...   \n",
       "41106  Detecting Potential Local Adversarial Examples...   \n",
       "41107  Manifold: A Model-Agnostic Framework for Inter...   \n",
       "41108              It was the training data pruning too!   \n",
       "41109                                Visual Graph Mining   \n",
       "41110  An experimental study of graph-based semi-supe...   \n",
       "41111  Bayesian Differential Privacy through Posterio...   \n",
       "41112  Mining Spatio-temporal Data on Industrializati...   \n",
       "41113  Wav2Letter: an End-to-End ConvNet-based Speech...   \n",
       "41114                        Generalized Low Rank Models   \n",
       "\n",
       "                                               abstracts  \\\n",
       "41085  We focus on the problem of unsupervised cell o...   \n",
       "41086  We propose a method that enables practitioners...   \n",
       "41087  Delusional bias is a fundamental source of err...   \n",
       "41088  We propose a fast, model agnostic method for f...   \n",
       "41089  Complex black-box predictive models may have h...   \n",
       "41090  Paper-intensive industries like insurance, law...   \n",
       "41091  We present new algorithms for computing and ap...   \n",
       "41092  This paper establishes that optimistic algorit...   \n",
       "41093  We introduce a wide and deep neural network fo...   \n",
       "41094  Recent progress in AutoML has lead to state-of...   \n",
       "41095  Feature crossing captures interactions among c...   \n",
       "41096  Tabular data is the most commonly used form of...   \n",
       "41097  Due to the high computational demands executin...   \n",
       "41098  Interpretability and fairness are critical in ...   \n",
       "41099  Complex black-box predictive models may have h...   \n",
       "41100  Making sense of a dataset in an automatic and ...   \n",
       "41101  This paper motivates and develops source trace...   \n",
       "41102  Suppose an agent is in a (possibly unknown) Ma...   \n",
       "41103  Objective: To determine the completeness of ar...   \n",
       "41104  Most real-world problems have huge state and/o...   \n",
       "41105  Despite their impressive performance, Deep Neu...   \n",
       "41106  Machine learning models are increasingly used ...   \n",
       "41107  Interpretation and diagnosis of machine learni...   \n",
       "41108  We study the current best model (KDG) for ques...   \n",
       "41109  In this study, we formulate the concept of \"mi...   \n",
       "41110  The volume of data generated by internet and s...   \n",
       "41111  Differential privacy formalises privacy-preser...   \n",
       "41112  Despite the growing availability of big data i...   \n",
       "41113  This paper presents a simple end-to-end model ...   \n",
       "41114  Principal components analysis (PCA) is a well-...   \n",
       "\n",
       "         filtered_major_terms  \n",
       "41085          ['cs', 'stat']  \n",
       "41086          ['cs', 'stat']  \n",
       "41087          ['cs', 'stat']  \n",
       "41088          ['cs', 'stat']  \n",
       "41089          ['cs', 'stat']  \n",
       "41090                  ['cs']  \n",
       "41091          ['cs', 'stat']  \n",
       "41092  ['cs', 'math', 'stat']  \n",
       "41093          ['cs', 'stat']  \n",
       "41094          ['cs', 'stat']  \n",
       "41095          ['cs', 'stat']  \n",
       "41096                  ['cs']  \n",
       "41097          ['cs', 'stat']  \n",
       "41098          ['cs', 'stat']  \n",
       "41099          ['cs', 'stat']  \n",
       "41100          ['cs', 'stat']  \n",
       "41101          ['cs', 'stat']  \n",
       "41102          ['cs', 'stat']  \n",
       "41103          ['cs', 'stat']  \n",
       "41104          ['cs', 'stat']  \n",
       "41105          ['cs', 'stat']  \n",
       "41106          ['cs', 'stat']  \n",
       "41107          ['cs', 'stat']  \n",
       "41108                  ['cs']  \n",
       "41109                  ['cs']  \n",
       "41110                ['stat']  \n",
       "41111          ['cs', 'stat']  \n",
       "41112                  ['cs']  \n",
       "41113                  ['cs']  \n",
       "41114  ['cs', 'math', 'stat']  "
      ]
     },
     "execution_count": 10,
     "metadata": {},
     "output_type": "execute_result"
    }
   ],
   "source": [
    "df.tail(30)"
   ]
  },
  {
   "cell_type": "markdown",
   "id": "d10db2a6-64e1-46c8-af3b-b83332caeb91",
   "metadata": {},
   "source": [
    "# Contando `terms` sem processamento"
   ]
  },
  {
   "cell_type": "code",
   "execution_count": 11,
   "id": "51108482-0fae-40af-a75b-4ae401d21cd7",
   "metadata": {
    "execution": {
     "iopub.execute_input": "2023-10-29T07:45:30.336022Z",
     "iopub.status.busy": "2023-10-29T07:45:30.335274Z",
     "iopub.status.idle": "2023-10-29T07:46:15.888353Z",
     "shell.execute_reply": "2023-10-29T07:46:15.883098Z",
     "shell.execute_reply.started": "2023-10-29T07:45:30.335975Z"
    }
   },
   "outputs": [],
   "source": [
    "counter_terms = Counter(reduce(lambda x, y: [*x, *y], df[\"terms\"].apply(eval), []))"
   ]
  },
  {
   "cell_type": "code",
   "execution_count": 12,
   "id": "bae08175-fea0-4e49-90e3-0ab405597191",
   "metadata": {
    "execution": {
     "iopub.execute_input": "2023-10-29T07:46:15.894450Z",
     "iopub.status.busy": "2023-10-29T07:46:15.892894Z",
     "iopub.status.idle": "2023-10-29T07:46:15.920648Z",
     "shell.execute_reply": "2023-10-29T07:46:15.915969Z",
     "shell.execute_reply.started": "2023-10-29T07:46:15.894367Z"
    }
   },
   "outputs": [
    {
     "data": {
      "text/plain": [
       "1177"
      ]
     },
     "execution_count": 12,
     "metadata": {},
     "output_type": "execute_result"
    }
   ],
   "source": [
    "len(counter_terms)"
   ]
  },
  {
   "cell_type": "markdown",
   "id": "53414780-9ecc-4926-a3d0-3d1b17389890",
   "metadata": {},
   "source": [
    "### Possível perceber `terms` que não estão dentro do padrão da taxonomia do arXiv"
   ]
  },
  {
   "cell_type": "code",
   "execution_count": 13,
   "id": "c9b26de7-4376-4aba-8d7e-f5f0b9df7ef8",
   "metadata": {
    "execution": {
     "iopub.execute_input": "2023-10-29T07:46:15.928974Z",
     "iopub.status.busy": "2023-10-29T07:46:15.926885Z",
     "iopub.status.idle": "2023-10-29T07:46:15.961842Z",
     "shell.execute_reply": "2023-10-29T07:46:15.957469Z",
     "shell.execute_reply.started": "2023-10-29T07:46:15.928876Z"
    }
   },
   "outputs": [
    {
     "data": {
      "text/plain": [
       "[('60J20, 91D30, 91C20, 62H30', 1),\n",
       " ('I.4.6; I.4.10; I.2.6; I.2.10', 1),\n",
       " ('62H30, 68T10, 68Q87, 91C20', 1),\n",
       " ('I.4.5; I.4.8; I.3.7; I.2.10; I.2.6', 1),\n",
       " ('I.2.0; J.1; J.4', 1),\n",
       " ('68U35, 68T05, 68-04', 1),\n",
       " ('68W50', 1),\n",
       " ('D.1.3; G.4; I.2.8; I.2.11; I.5.3; J.3', 1),\n",
       " ('68T07, 68T45, 68T10, 68T50, 68U35', 1),\n",
       " ('I.2.0; G.3', 1)]"
      ]
     },
     "execution_count": 13,
     "metadata": {},
     "output_type": "execute_result"
    }
   ],
   "source": [
    "counter_terms.most_common()[-10:]"
   ]
  },
  {
   "cell_type": "markdown",
   "id": "e7626865-e4a4-4fb9-8fd5-cc81f3a22687",
   "metadata": {},
   "source": [
    "# Contando `major terms`"
   ]
  },
  {
   "cell_type": "code",
   "execution_count": 14,
   "id": "444a82d1-5cf6-4595-a617-003aa7743d47",
   "metadata": {
    "execution": {
     "iopub.execute_input": "2023-10-29T07:46:15.967392Z",
     "iopub.status.busy": "2023-10-29T07:46:15.966194Z",
     "iopub.status.idle": "2023-10-29T07:46:26.351414Z",
     "shell.execute_reply": "2023-10-29T07:46:26.349093Z",
     "shell.execute_reply.started": "2023-10-29T07:46:15.967315Z"
    }
   },
   "outputs": [],
   "source": [
    "counter_major_terms = Counter(reduce(lambda x, y: [*x, *y], df[\"major_terms\"].apply(eval), []))"
   ]
  },
  {
   "cell_type": "code",
   "execution_count": 15,
   "id": "09fde724-8a0d-49d7-b6a6-955b6f2cd619",
   "metadata": {
    "execution": {
     "iopub.execute_input": "2023-10-29T07:46:26.354255Z",
     "iopub.status.busy": "2023-10-29T07:46:26.353656Z",
     "iopub.status.idle": "2023-10-29T07:46:26.368226Z",
     "shell.execute_reply": "2023-10-29T07:46:26.365913Z",
     "shell.execute_reply.started": "2023-10-29T07:46:26.354202Z"
    }
   },
   "outputs": [
    {
     "data": {
      "text/plain": [
       "466"
      ]
     },
     "execution_count": 15,
     "metadata": {},
     "output_type": "execute_result"
    }
   ],
   "source": [
    "len(counter_major_terms)"
   ]
  },
  {
   "cell_type": "code",
   "execution_count": 16,
   "id": "618fbf0d-6e4b-43a2-bc18-a890f5869102",
   "metadata": {
    "execution": {
     "iopub.execute_input": "2023-10-29T07:46:26.372826Z",
     "iopub.status.busy": "2023-10-29T07:46:26.370295Z",
     "iopub.status.idle": "2023-10-29T07:46:26.387157Z",
     "shell.execute_reply": "2023-10-29T07:46:26.384920Z",
     "shell.execute_reply.started": "2023-10-29T07:46:26.372764Z"
    }
   },
   "outputs": [
    {
     "data": {
      "text/plain": [
       "[('47b34', 1),\n",
       " ('90c26, 90c10, 90c17, 68q87, 65c20', 1),\n",
       " ('35j08, 35j15, 05c81, 68t05, 35r02', 1),\n",
       " ('68-01, 90-01', 1),\n",
       " ('60j20 (primary) 62f07, 68t05 (secondary)', 1),\n",
       " ('60j20, 91d30, 91c20, 62h30', 1),\n",
       " ('62h30, 68t10, 68q87, 91c20', 1),\n",
       " ('68u35, 68t05, 68-04', 1),\n",
       " ('68w50', 1),\n",
       " ('68t07, 68t45, 68t10, 68t50, 68u35', 1)]"
      ]
     },
     "execution_count": 16,
     "metadata": {},
     "output_type": "execute_result"
    }
   ],
   "source": [
    "counter_major_terms.most_common()[-10:]"
   ]
  },
  {
   "cell_type": "markdown",
   "id": "0c3e328b-7ab5-42e7-9bed-df43fcb2ac89",
   "metadata": {},
   "source": [
    "# Contando `terms` após processamento"
   ]
  },
  {
   "cell_type": "code",
   "execution_count": 17,
   "id": "e476c999-88db-4dee-a2cd-5fbfa66b9312",
   "metadata": {
    "execution": {
     "iopub.execute_input": "2023-10-29T07:46:26.390037Z",
     "iopub.status.busy": "2023-10-29T07:46:26.388890Z",
     "iopub.status.idle": "2023-10-29T07:46:26.409371Z",
     "shell.execute_reply": "2023-10-29T07:46:26.407630Z",
     "shell.execute_reply.started": "2023-10-29T07:46:26.389991Z"
    }
   },
   "outputs": [
    {
     "data": {
      "text/plain": [
       "['cs']                                       24853\n",
       "['cs', 'stat']                               10881\n",
       "['cs', 'eess']                                2034\n",
       "['cs', 'math', 'stat']                         852\n",
       "['cs', 'eess', 'stat']                         514\n",
       "                                             ...  \n",
       "['econ', 'q-fin', 'stat']                        1\n",
       "['astro-ph', 'cs', 'math', 'physics']            1\n",
       "['cs', 'econ', 'q-bio', 'stat']                  1\n",
       "['cs', 'econ', 'physics', 'stat']                1\n",
       "['cs', 'eess', 'math', 'physics', 'stat']        1\n",
       "Name: filtered_major_terms, Length: 64, dtype: int64"
      ]
     },
     "execution_count": 17,
     "metadata": {},
     "output_type": "execute_result"
    }
   ],
   "source": [
    "df[\"filtered_major_terms\"].value_counts()"
   ]
  },
  {
   "cell_type": "code",
   "execution_count": 18,
   "id": "019e72f5-685e-446b-a5c7-ed72aac6a60c",
   "metadata": {
    "execution": {
     "iopub.execute_input": "2023-10-29T07:46:26.413833Z",
     "iopub.status.busy": "2023-10-29T07:46:26.412956Z",
     "iopub.status.idle": "2023-10-29T07:46:26.428535Z",
     "shell.execute_reply": "2023-10-29T07:46:26.426532Z",
     "shell.execute_reply.started": "2023-10-29T07:46:26.413806Z"
    }
   },
   "outputs": [
    {
     "data": {
      "text/plain": [
       "(64,)"
      ]
     },
     "execution_count": 18,
     "metadata": {},
     "output_type": "execute_result"
    }
   ],
   "source": [
    "df[\"filtered_major_terms\"].value_counts().shape"
   ]
  },
  {
   "cell_type": "markdown",
   "id": "6e70d1bc-5d1f-42b4-b3a4-89bfe7493d74",
   "metadata": {},
   "source": [
    "# Exemplo da limpeza realizada"
   ]
  },
  {
   "cell_type": "code",
   "execution_count": 19,
   "id": "69ae7c86-fd19-49f1-b608-1621cb0c7e55",
   "metadata": {
    "execution": {
     "iopub.execute_input": "2023-10-29T07:46:26.431274Z",
     "iopub.status.busy": "2023-10-29T07:46:26.430927Z",
     "iopub.status.idle": "2023-10-29T07:46:26.437218Z",
     "shell.execute_reply": "2023-10-29T07:46:26.435715Z",
     "shell.execute_reply.started": "2023-10-29T07:46:26.431250Z"
    }
   },
   "outputs": [],
   "source": [
    "pd.options.display.max_colwidth = 2000"
   ]
  },
  {
   "cell_type": "code",
   "execution_count": 20,
   "id": "508584e0-a9ad-427d-bf58-da95eecaaf44",
   "metadata": {
    "execution": {
     "iopub.execute_input": "2023-10-29T07:46:26.438828Z",
     "iopub.status.busy": "2023-10-29T07:46:26.438524Z",
     "iopub.status.idle": "2023-10-29T07:46:26.486208Z",
     "shell.execute_reply": "2023-10-29T07:46:26.484328Z",
     "shell.execute_reply.started": "2023-10-29T07:46:26.438804Z"
    }
   },
   "outputs": [
    {
     "data": {
      "text/html": [
       "<div>\n",
       "<style scoped>\n",
       "    .dataframe tbody tr th:only-of-type {\n",
       "        vertical-align: middle;\n",
       "    }\n",
       "\n",
       "    .dataframe tbody tr th {\n",
       "        vertical-align: top;\n",
       "    }\n",
       "\n",
       "    .dataframe thead th {\n",
       "        text-align: right;\n",
       "    }\n",
       "</style>\n",
       "<table border=\"1\" class=\"dataframe\">\n",
       "  <thead>\n",
       "    <tr style=\"text-align: right;\">\n",
       "      <th></th>\n",
       "      <th>terms</th>\n",
       "      <th>major_terms</th>\n",
       "      <th>filtered_major_terms</th>\n",
       "    </tr>\n",
       "  </thead>\n",
       "  <tbody>\n",
       "    <tr>\n",
       "      <th>8121</th>\n",
       "      <td>['cs.LG', 'stat.ML', 'I.2.6']</td>\n",
       "      <td>['stat', 'cs', 'i']</td>\n",
       "      <td>['cs', 'stat']</td>\n",
       "    </tr>\n",
       "    <tr>\n",
       "      <th>23259</th>\n",
       "      <td>['cs.LG', 'stat.AP', 'stat.ML', 'I.2.6']</td>\n",
       "      <td>['stat', 'cs', 'i']</td>\n",
       "      <td>['cs', 'stat']</td>\n",
       "    </tr>\n",
       "    <tr>\n",
       "      <th>36440</th>\n",
       "      <td>['cs.CV', 'cs.NA', 'math.NA', 'math.OC', '90C22, 52C25, 05C50']</td>\n",
       "      <td>['cs', 'math', '90c22, 52c25, 05c50']</td>\n",
       "      <td>['cs', 'math']</td>\n",
       "    </tr>\n",
       "    <tr>\n",
       "      <th>15424</th>\n",
       "      <td>['cs.CV', 'cs.LG', 'cs.NE', '68T07', 'I.4; I.2']</td>\n",
       "      <td>['cs', 'i', '68t07']</td>\n",
       "      <td>['cs']</td>\n",
       "    </tr>\n",
       "    <tr>\n",
       "      <th>11382</th>\n",
       "      <td>['cs.CV', 'cs.LG', 'physics.app-ph', 'physics.ins-det', 'I.4.7']</td>\n",
       "      <td>['cs', 'physics', 'i']</td>\n",
       "      <td>['cs', 'physics']</td>\n",
       "    </tr>\n",
       "  </tbody>\n",
       "</table>\n",
       "</div>"
      ],
      "text/plain": [
       "                                                                  terms  \\\n",
       "8121                                      ['cs.LG', 'stat.ML', 'I.2.6']   \n",
       "23259                          ['cs.LG', 'stat.AP', 'stat.ML', 'I.2.6']   \n",
       "36440   ['cs.CV', 'cs.NA', 'math.NA', 'math.OC', '90C22, 52C25, 05C50']   \n",
       "15424                  ['cs.CV', 'cs.LG', 'cs.NE', '68T07', 'I.4; I.2']   \n",
       "11382  ['cs.CV', 'cs.LG', 'physics.app-ph', 'physics.ins-det', 'I.4.7']   \n",
       "\n",
       "                                 major_terms filtered_major_terms  \n",
       "8121                     ['stat', 'cs', 'i']       ['cs', 'stat']  \n",
       "23259                    ['stat', 'cs', 'i']       ['cs', 'stat']  \n",
       "36440  ['cs', 'math', '90c22, 52c25, 05c50']       ['cs', 'math']  \n",
       "15424                   ['cs', 'i', '68t07']               ['cs']  \n",
       "11382                 ['cs', 'physics', 'i']    ['cs', 'physics']  "
      ]
     },
     "execution_count": 20,
     "metadata": {},
     "output_type": "execute_result"
    }
   ],
   "source": [
    "df[df[\"terms\"].str.contains(r\"[0-9]\", case=False)][[\"terms\", \"major_terms\", \"filtered_major_terms\"]].sample(5)"
   ]
  },
  {
   "cell_type": "markdown",
   "id": "f3929c5d-518c-435f-9351-721e73aec1d7",
   "metadata": {
    "execution": {
     "iopub.execute_input": "2023-10-23T23:12:47.046232Z",
     "iopub.status.busy": "2023-10-23T23:12:47.044027Z",
     "iopub.status.idle": "2023-10-23T23:12:47.128733Z",
     "shell.execute_reply": "2023-10-23T23:12:47.124758Z",
     "shell.execute_reply.started": "2023-10-23T23:12:47.046187Z"
    }
   },
   "source": [
    "# Pegando apenas `terms` com frequência maior que 100"
   ]
  },
  {
   "cell_type": "code",
   "execution_count": 21,
   "id": "c28d2534-218d-493e-96dd-866fcd308b07",
   "metadata": {
    "execution": {
     "iopub.execute_input": "2023-10-29T07:46:26.488103Z",
     "iopub.status.busy": "2023-10-29T07:46:26.487643Z",
     "iopub.status.idle": "2023-10-29T07:46:26.525685Z",
     "shell.execute_reply": "2023-10-29T07:46:26.522862Z",
     "shell.execute_reply.started": "2023-10-29T07:46:26.488065Z"
    }
   },
   "outputs": [
    {
     "data": {
      "text/html": [
       "<div>\n",
       "<style scoped>\n",
       "    .dataframe tbody tr th:only-of-type {\n",
       "        vertical-align: middle;\n",
       "    }\n",
       "\n",
       "    .dataframe tbody tr th {\n",
       "        vertical-align: top;\n",
       "    }\n",
       "\n",
       "    .dataframe thead th {\n",
       "        text-align: right;\n",
       "    }\n",
       "</style>\n",
       "<table border=\"1\" class=\"dataframe\">\n",
       "  <thead>\n",
       "    <tr style=\"text-align: right;\">\n",
       "      <th></th>\n",
       "      <th>filtered_major_terms</th>\n",
       "      <th>count</th>\n",
       "    </tr>\n",
       "  </thead>\n",
       "  <tbody>\n",
       "    <tr>\n",
       "      <th>55</th>\n",
       "      <td>['cs']</td>\n",
       "      <td>24853</td>\n",
       "    </tr>\n",
       "    <tr>\n",
       "      <th>54</th>\n",
       "      <td>['cs', 'stat']</td>\n",
       "      <td>10881</td>\n",
       "    </tr>\n",
       "    <tr>\n",
       "      <th>33</th>\n",
       "      <td>['cs', 'eess']</td>\n",
       "      <td>2034</td>\n",
       "    </tr>\n",
       "    <tr>\n",
       "      <th>42</th>\n",
       "      <td>['cs', 'math', 'stat']</td>\n",
       "      <td>852</td>\n",
       "    </tr>\n",
       "    <tr>\n",
       "      <th>32</th>\n",
       "      <td>['cs', 'eess', 'stat']</td>\n",
       "      <td>514</td>\n",
       "    </tr>\n",
       "    <tr>\n",
       "      <th>43</th>\n",
       "      <td>['cs', 'math']</td>\n",
       "      <td>352</td>\n",
       "    </tr>\n",
       "    <tr>\n",
       "      <th>63</th>\n",
       "      <td>['stat']</td>\n",
       "      <td>312</td>\n",
       "    </tr>\n",
       "    <tr>\n",
       "      <th>49</th>\n",
       "      <td>['cs', 'physics']</td>\n",
       "      <td>246</td>\n",
       "    </tr>\n",
       "    <tr>\n",
       "      <th>48</th>\n",
       "      <td>['cs', 'physics', 'stat']</td>\n",
       "      <td>220</td>\n",
       "    </tr>\n",
       "    <tr>\n",
       "      <th>51</th>\n",
       "      <td>['cs', 'q-bio']</td>\n",
       "      <td>163</td>\n",
       "    </tr>\n",
       "    <tr>\n",
       "      <th>50</th>\n",
       "      <td>['cs', 'q-bio', 'stat']</td>\n",
       "      <td>155</td>\n",
       "    </tr>\n",
       "    <tr>\n",
       "      <th>23</th>\n",
       "      <td>['cs', 'eess', 'math', 'stat']</td>\n",
       "      <td>56</td>\n",
       "    </tr>\n",
       "    <tr>\n",
       "      <th>52</th>\n",
       "      <td>['cs', 'q-fin', 'stat']</td>\n",
       "      <td>52</td>\n",
       "    </tr>\n",
       "    <tr>\n",
       "      <th>24</th>\n",
       "      <td>['cs', 'eess', 'math']</td>\n",
       "      <td>36</td>\n",
       "    </tr>\n",
       "    <tr>\n",
       "      <th>53</th>\n",
       "      <td>['cs', 'q-fin']</td>\n",
       "      <td>35</td>\n",
       "    </tr>\n",
       "  </tbody>\n",
       "</table>\n",
       "</div>"
      ],
      "text/plain": [
       "              filtered_major_terms  count\n",
       "55                          ['cs']  24853\n",
       "54                  ['cs', 'stat']  10881\n",
       "33                  ['cs', 'eess']   2034\n",
       "42          ['cs', 'math', 'stat']    852\n",
       "32          ['cs', 'eess', 'stat']    514\n",
       "43                  ['cs', 'math']    352\n",
       "63                        ['stat']    312\n",
       "49               ['cs', 'physics']    246\n",
       "48       ['cs', 'physics', 'stat']    220\n",
       "51                 ['cs', 'q-bio']    163\n",
       "50         ['cs', 'q-bio', 'stat']    155\n",
       "23  ['cs', 'eess', 'math', 'stat']     56\n",
       "52         ['cs', 'q-fin', 'stat']     52\n",
       "24          ['cs', 'eess', 'math']     36\n",
       "53                 ['cs', 'q-fin']     35"
      ]
     },
     "execution_count": 21,
     "metadata": {},
     "output_type": "execute_result"
    }
   ],
   "source": [
    "grouped_by = df.groupby(by=[\"filtered_major_terms\"], as_index=False, group_keys=False).agg(count=(\"filtered_major_terms\", \"count\")).sort_values(by=\"count\", ascending=False)\n",
    "grouped_by.head(15)"
   ]
  },
  {
   "cell_type": "code",
   "execution_count": 22,
   "id": "99b35293-3d11-490c-8019-d76f17d3c834",
   "metadata": {
    "execution": {
     "iopub.execute_input": "2023-10-29T07:46:26.528147Z",
     "iopub.status.busy": "2023-10-29T07:46:26.527808Z",
     "iopub.status.idle": "2023-10-29T07:46:26.545131Z",
     "shell.execute_reply": "2023-10-29T07:46:26.541700Z",
     "shell.execute_reply.started": "2023-10-29T07:46:26.528121Z"
    }
   },
   "outputs": [
    {
     "data": {
      "text/html": [
       "<div>\n",
       "<style scoped>\n",
       "    .dataframe tbody tr th:only-of-type {\n",
       "        vertical-align: middle;\n",
       "    }\n",
       "\n",
       "    .dataframe tbody tr th {\n",
       "        vertical-align: top;\n",
       "    }\n",
       "\n",
       "    .dataframe thead th {\n",
       "        text-align: right;\n",
       "    }\n",
       "</style>\n",
       "<table border=\"1\" class=\"dataframe\">\n",
       "  <thead>\n",
       "    <tr style=\"text-align: right;\">\n",
       "      <th></th>\n",
       "      <th>filtered_major_terms</th>\n",
       "      <th>count</th>\n",
       "    </tr>\n",
       "  </thead>\n",
       "  <tbody>\n",
       "    <tr>\n",
       "      <th>55</th>\n",
       "      <td>['cs']</td>\n",
       "      <td>24853</td>\n",
       "    </tr>\n",
       "    <tr>\n",
       "      <th>54</th>\n",
       "      <td>['cs', 'stat']</td>\n",
       "      <td>10881</td>\n",
       "    </tr>\n",
       "    <tr>\n",
       "      <th>33</th>\n",
       "      <td>['cs', 'eess']</td>\n",
       "      <td>2034</td>\n",
       "    </tr>\n",
       "    <tr>\n",
       "      <th>42</th>\n",
       "      <td>['cs', 'math', 'stat']</td>\n",
       "      <td>852</td>\n",
       "    </tr>\n",
       "    <tr>\n",
       "      <th>32</th>\n",
       "      <td>['cs', 'eess', 'stat']</td>\n",
       "      <td>514</td>\n",
       "    </tr>\n",
       "    <tr>\n",
       "      <th>43</th>\n",
       "      <td>['cs', 'math']</td>\n",
       "      <td>352</td>\n",
       "    </tr>\n",
       "    <tr>\n",
       "      <th>63</th>\n",
       "      <td>['stat']</td>\n",
       "      <td>312</td>\n",
       "    </tr>\n",
       "    <tr>\n",
       "      <th>49</th>\n",
       "      <td>['cs', 'physics']</td>\n",
       "      <td>246</td>\n",
       "    </tr>\n",
       "    <tr>\n",
       "      <th>48</th>\n",
       "      <td>['cs', 'physics', 'stat']</td>\n",
       "      <td>220</td>\n",
       "    </tr>\n",
       "    <tr>\n",
       "      <th>51</th>\n",
       "      <td>['cs', 'q-bio']</td>\n",
       "      <td>163</td>\n",
       "    </tr>\n",
       "    <tr>\n",
       "      <th>50</th>\n",
       "      <td>['cs', 'q-bio', 'stat']</td>\n",
       "      <td>155</td>\n",
       "    </tr>\n",
       "  </tbody>\n",
       "</table>\n",
       "</div>"
      ],
      "text/plain": [
       "         filtered_major_terms  count\n",
       "55                     ['cs']  24853\n",
       "54             ['cs', 'stat']  10881\n",
       "33             ['cs', 'eess']   2034\n",
       "42     ['cs', 'math', 'stat']    852\n",
       "32     ['cs', 'eess', 'stat']    514\n",
       "43             ['cs', 'math']    352\n",
       "63                   ['stat']    312\n",
       "49          ['cs', 'physics']    246\n",
       "48  ['cs', 'physics', 'stat']    220\n",
       "51            ['cs', 'q-bio']    163\n",
       "50    ['cs', 'q-bio', 'stat']    155"
      ]
     },
     "execution_count": 22,
     "metadata": {},
     "output_type": "execute_result"
    }
   ],
   "source": [
    "grouped_by[grouped_by[\"count\"] > 100]"
   ]
  },
  {
   "cell_type": "markdown",
   "id": "76fa9764-8f93-4fd4-aa46-0fd82a67a1c1",
   "metadata": {},
   "source": [
    "### Aplicando o filtro de categorias com mais de 100 objetos mantém 98% da base (40582 objetos)"
   ]
  },
  {
   "cell_type": "code",
   "execution_count": 23,
   "id": "5a032d4b-cd32-4db4-9148-d2508d38805d",
   "metadata": {
    "execution": {
     "iopub.execute_input": "2023-10-29T07:46:26.547189Z",
     "iopub.status.busy": "2023-10-29T07:46:26.546787Z",
     "iopub.status.idle": "2023-10-29T07:46:26.561545Z",
     "shell.execute_reply": "2023-10-29T07:46:26.557857Z",
     "shell.execute_reply.started": "2023-10-29T07:46:26.547151Z"
    }
   },
   "outputs": [
    {
     "data": {
      "text/plain": [
       "40582"
      ]
     },
     "execution_count": 23,
     "metadata": {},
     "output_type": "execute_result"
    }
   ],
   "source": [
    "grouped_by[grouped_by[\"count\"] > 100][\"count\"].sum()"
   ]
  },
  {
   "cell_type": "code",
   "execution_count": 24,
   "id": "8f91994e-ed59-4cef-b18b-d0b5fceaad1a",
   "metadata": {
    "execution": {
     "iopub.execute_input": "2023-10-29T07:46:26.563719Z",
     "iopub.status.busy": "2023-10-29T07:46:26.563324Z",
     "iopub.status.idle": "2023-10-29T07:46:26.576595Z",
     "shell.execute_reply": "2023-10-29T07:46:26.574104Z",
     "shell.execute_reply.started": "2023-10-29T07:46:26.563691Z"
    }
   },
   "outputs": [
    {
     "data": {
      "text/plain": [
       "98.70363614252706"
      ]
     },
     "execution_count": 24,
     "metadata": {},
     "output_type": "execute_result"
    }
   ],
   "source": [
    "(grouped_by[grouped_by[\"count\"] > 100][\"count\"].sum() / df.shape[0]) * 100"
   ]
  },
  {
   "cell_type": "code",
   "execution_count": 25,
   "id": "b9f58cef-16eb-4954-afcd-39891217d6fe",
   "metadata": {
    "execution": {
     "iopub.execute_input": "2023-10-29T07:46:26.580616Z",
     "iopub.status.busy": "2023-10-29T07:46:26.580164Z",
     "iopub.status.idle": "2023-10-29T07:46:28.920085Z",
     "shell.execute_reply": "2023-10-29T07:46:28.915638Z",
     "shell.execute_reply.started": "2023-10-29T07:46:26.580587Z"
    }
   },
   "outputs": [
    {
     "data": {
      "image/png": "[encoded data removed]",
      "text/plain": [
       "<Figure size 2000x1000 with 1 Axes>"
      ]
     },
     "metadata": {},
     "output_type": "display_data"
    }
   ],
   "source": [
    "plt.figure(figsize=(20, 10))\n",
    "sns.barplot(grouped_by, x=\"filtered_major_terms\", y=\"count\")\n",
    "plt.xticks(rotation=90)\n",
    "plt.xlabel(\"major_terms\", fontdict={\"weight\": \"bold\", \"size\": 12})\n",
    "plt.ylabel(\"contagem\", fontdict={\"weight\": \"bold\", \"size\": 12})\n",
    "plt.title(\"Distribuição das categorias\", fontdict={\"weight\": \"bold\", \"size\": 16, \"family\": \"Arial\"})\n",
    "plt.show()"
   ]
  },
  {
   "cell_type": "code",
   "execution_count": 26,
   "id": "59e183bf-6780-41c2-b108-0ab5877d1952",
   "metadata": {
    "execution": {
     "iopub.execute_input": "2023-10-29T07:46:28.926456Z",
     "iopub.status.busy": "2023-10-29T07:46:28.924833Z",
     "iopub.status.idle": "2023-10-29T07:46:29.783431Z",
     "shell.execute_reply": "2023-10-29T07:46:29.780649Z",
     "shell.execute_reply.started": "2023-10-29T07:46:28.926342Z"
    }
   },
   "outputs": [
    {
     "data": {
      "image/png": "[encoded data removed]",
      "text/plain": [
       "<Figure size 2000x1000 with 1 Axes>"
      ]
     },
     "metadata": {},
     "output_type": "display_data"
    }
   ],
   "source": [
    "plt.figure(figsize=(20, 10))\n",
    "sns.barplot(grouped_by[grouped_by[\"count\"] > 100], x=\"filtered_major_terms\", y=\"count\")\n",
    "plt.xticks(rotation=45)\n",
    "plt.xlabel(\"major_terms\", fontdict={\"weight\": \"bold\", \"size\": 12})\n",
    "plt.ylabel(\"contagem\", fontdict={\"weight\": \"bold\", \"size\": 12})\n",
    "plt.title(\"Distribuição das categorias com contagem superior a 100\", fontdict={\"weight\": \"bold\", \"size\": 16, \"family\": \"Arial\"})\n",
    "plt.show()"
   ]
  },
  {
   "cell_type": "code",
   "execution_count": 40,
   "id": "6da8004e-4d6b-4ad7-8731-fd1c1c0a35d7",
   "metadata": {
    "execution": {
     "iopub.execute_input": "2023-10-29T07:49:33.849036Z",
     "iopub.status.busy": "2023-10-29T07:49:33.848118Z",
     "iopub.status.idle": "2023-10-29T07:49:33.858642Z",
     "shell.execute_reply": "2023-10-29T07:49:33.856622Z",
     "shell.execute_reply.started": "2023-10-29T07:49:33.849000Z"
    }
   },
   "outputs": [],
   "source": [
    "top_3 = grouped_by.sort_values(by=\"count\", ascending=False).iloc[:3][\"filtered_major_terms\"].values"
   ]
  },
  {
   "cell_type": "code",
   "execution_count": 42,
   "id": "8e599a52-d4a7-474e-8ba7-9ae079832565",
   "metadata": {
    "execution": {
     "iopub.execute_input": "2023-10-29T07:49:59.313685Z",
     "iopub.status.busy": "2023-10-29T07:49:59.313213Z",
     "iopub.status.idle": "2023-10-29T07:49:59.466463Z",
     "shell.execute_reply": "2023-10-29T07:49:59.460608Z",
     "shell.execute_reply.started": "2023-10-29T07:49:59.313651Z"
    }
   },
   "outputs": [
    {
     "data": {
      "text/html": [
       "<div>\n",
       "<style scoped>\n",
       "    .dataframe tbody tr th:only-of-type {\n",
       "        vertical-align: middle;\n",
       "    }\n",
       "\n",
       "    .dataframe tbody tr th {\n",
       "        vertical-align: top;\n",
       "    }\n",
       "\n",
       "    .dataframe thead th {\n",
       "        text-align: right;\n",
       "    }\n",
       "</style>\n",
       "<table border=\"1\" class=\"dataframe\">\n",
       "  <thead>\n",
       "    <tr style=\"text-align: right;\">\n",
       "      <th></th>\n",
       "      <th>terms</th>\n",
       "      <th>major_terms</th>\n",
       "      <th>titles</th>\n",
       "      <th>abstracts</th>\n",
       "      <th>filtered_major_terms</th>\n",
       "    </tr>\n",
       "  </thead>\n",
       "  <tbody>\n",
       "    <tr>\n",
       "      <th>15722</th>\n",
       "      <td>['cs.CV']</td>\n",
       "      <td>['cs']</td>\n",
       "      <td>Anomaly Detection with Adversarial Dual Autoencoders</td>\n",
       "      <td>Semi-supervised and unsupervised Generative Adversarial Networks (GAN)-based\\nmethods have been gaining popularity in anomaly detection task recently.\\nHowever, GAN training is somewhat challenging and unstable. Inspired from\\nprevious work in GAN-based image generation, we introduce a GAN-based anomaly\\ndetection framework - Adversarial Dual Autoencoders (ADAE) - consists of two\\nautoencoders as generator and discriminator to increase training stability. We\\nalso employ discriminator reconstruction error as anomaly score for better\\ndetection performance. Experiments across different datasets of varying\\ncomplexity show strong evidence of a robust model that can be used in different\\nscenarios, one of which is brain tumor detection.</td>\n",
       "      <td>['cs']</td>\n",
       "    </tr>\n",
       "    <tr>\n",
       "      <th>5938</th>\n",
       "      <td>['cs.CV']</td>\n",
       "      <td>['cs']</td>\n",
       "      <td>Full Flow: Optical Flow Estimation By Global Optimization over Regular Grids</td>\n",
       "      <td>We present a global optimization approach to optical flow estimation. The\\napproach optimizes a classical optical flow objective over the full space of\\nmappings between discrete grids. No descriptor matching is used. The highly\\nregular structure of the space of mappings enables optimizations that reduce\\nthe computational complexity of the algorithm's inner loop from quadratic to\\nlinear and support efficient matching of tens of thousands of nodes to tens of\\nthousands of displacements. We show that one-shot global optimization of a\\nclassical Horn-Schunck-type objective over regular grids at a single resolution\\nis sufficient to initialize continuous interpolation and achieve\\nstate-of-the-art performance on challenging modern benchmarks.</td>\n",
       "      <td>['cs']</td>\n",
       "    </tr>\n",
       "  </tbody>\n",
       "</table>\n",
       "</div>"
      ],
      "text/plain": [
       "           terms major_terms  \\\n",
       "15722  ['cs.CV']      ['cs']   \n",
       "5938   ['cs.CV']      ['cs']   \n",
       "\n",
       "                                                                             titles  \\\n",
       "15722                          Anomaly Detection with Adversarial Dual Autoencoders   \n",
       "5938   Full Flow: Optical Flow Estimation By Global Optimization over Regular Grids   \n",
       "\n",
       "                                                                                                                                                                                                                                                                                                                                                                                                                                                                                                                                                                                                                                                                                                                                                                             abstracts  \\\n",
       "15722          Semi-supervised and unsupervised Generative Adversarial Networks (GAN)-based\\nmethods have been gaining popularity in anomaly detection task recently.\\nHowever, GAN training is somewhat challenging and unstable. Inspired from\\nprevious work in GAN-based image generation, we introduce a GAN-based anomaly\\ndetection framework - Adversarial Dual Autoencoders (ADAE) - consists of two\\nautoencoders as generator and discriminator to increase training stability. We\\nalso employ discriminator reconstruction error as anomaly score for better\\ndetection performance. Experiments across different datasets of varying\\ncomplexity show strong evidence of a robust model that can be used in different\\nscenarios, one of which is brain tumor detection.   \n",
       "5938   We present a global optimization approach to optical flow estimation. The\\napproach optimizes a classical optical flow objective over the full space of\\nmappings between discrete grids. No descriptor matching is used. The highly\\nregular structure of the space of mappings enables optimizations that reduce\\nthe computational complexity of the algorithm's inner loop from quadratic to\\nlinear and support efficient matching of tens of thousands of nodes to tens of\\nthousands of displacements. We show that one-shot global optimization of a\\nclassical Horn-Schunck-type objective over regular grids at a single resolution\\nis sufficient to initialize continuous interpolation and achieve\\nstate-of-the-art performance on challenging modern benchmarks.   \n",
       "\n",
       "      filtered_major_terms  \n",
       "15722               ['cs']  \n",
       "5938                ['cs']  "
      ]
     },
     "execution_count": 42,
     "metadata": {},
     "output_type": "execute_result"
    }
   ],
   "source": [
    "df1 = df.copy()\n",
    "df1.sample(2)"
   ]
  },
  {
   "cell_type": "code",
   "execution_count": 44,
   "id": "eadb8e9b-d386-422f-baab-13ac1ad7291d",
   "metadata": {
    "execution": {
     "iopub.execute_input": "2023-10-29T07:50:37.531516Z",
     "iopub.status.busy": "2023-10-29T07:50:37.529726Z",
     "iopub.status.idle": "2023-10-29T07:50:37.582364Z",
     "shell.execute_reply": "2023-10-29T07:50:37.579474Z",
     "shell.execute_reply.started": "2023-10-29T07:50:37.531458Z"
    }
   },
   "outputs": [
    {
     "data": {
      "text/html": [
       "<div>\n",
       "<style scoped>\n",
       "    .dataframe tbody tr th:only-of-type {\n",
       "        vertical-align: middle;\n",
       "    }\n",
       "\n",
       "    .dataframe tbody tr th {\n",
       "        vertical-align: top;\n",
       "    }\n",
       "\n",
       "    .dataframe thead th {\n",
       "        text-align: right;\n",
       "    }\n",
       "</style>\n",
       "<table border=\"1\" class=\"dataframe\">\n",
       "  <thead>\n",
       "    <tr style=\"text-align: right;\">\n",
       "      <th></th>\n",
       "      <th>terms</th>\n",
       "      <th>major_terms</th>\n",
       "      <th>titles</th>\n",
       "      <th>abstracts</th>\n",
       "      <th>filtered_major_terms</th>\n",
       "    </tr>\n",
       "  </thead>\n",
       "  <tbody>\n",
       "    <tr>\n",
       "      <th>11904</th>\n",
       "      <td>['cs.CV', 'cs.LG', 'eess.IV']</td>\n",
       "      <td>['cs', 'eess']</td>\n",
       "      <td>Towards Robust Medical Image Segmentation on Small-Scale Data with Incomplete Labels</td>\n",
       "      <td>The data-driven nature of deep learning models for semantic segmentation\\nrequires a large number of pixel-level annotations. However, large-scale and\\nfully labeled medical datasets are often unavailable for practical tasks.\\nRecently, partially supervised methods have been proposed to utilize images\\nwith incomplete labels to mitigate the data scarcity problem in the medical\\ndomain. As an emerging research area, the breakthroughs made by existing\\nmethods rely on either large-scale data or complex model design, which makes\\nthem 1) less practical for certain real-life tasks and 2) less robust for\\nsmall-scale data. It is time to step back and think about the robustness of\\npartially supervised methods and how to maximally utilize small-scale and\\npartially labeled data for medical image segmentation tasks. To bridge the\\nmethodological gaps in label-efficient deep learning with partial supervision,\\nwe propose RAMP, a simple yet efficient data augmentation framework for\\npartially supervised medical image segmentation by exploiting the assumption\\nthat patients share anatomical similarities. We systematically evaluate RAMP\\nand the previous methods in various controlled multi-structure segmentation\\ntasks. Compared to the mainstream approaches, RAMP consistently improves the\\nperformance of traditional segmentation networks on small-scale partially\\nlabeled data and utilize additional image-wise weak annotations.</td>\n",
       "      <td>['cs', 'eess']</td>\n",
       "    </tr>\n",
       "    <tr>\n",
       "      <th>10525</th>\n",
       "      <td>['cs.CV']</td>\n",
       "      <td>['cs']</td>\n",
       "      <td>ScreenerNet: Learning Self-Paced Curriculum for Deep Neural Networks</td>\n",
       "      <td>We propose to learn a curriculum or a syllabus for supervised learning and\\ndeep reinforcement learning with deep neural networks by an attachable deep\\nneural network, called ScreenerNet. Specifically, we learn a weight for each\\nsample by jointly training the ScreenerNet and the main network in an\\nend-to-end self-paced fashion. The ScreenerNet neither has sampling bias nor\\nrequires to remember the past learning history. We show the networks augmented\\nwith the ScreenerNet achieve early convergence with better accuracy than the\\nstate-of-the-art curricular learning methods in extensive experiments using\\nthree popular vision datasets such as MNIST, CIFAR10 and Pascal VOC2012, and a\\nCart-pole task using Deep Q-learning. Moreover, the ScreenerNet can extend\\nother curriculum learning methods such as Prioritized Experience Replay (PER)\\nfor further accuracy improvement.</td>\n",
       "      <td>['cs']</td>\n",
       "    </tr>\n",
       "  </tbody>\n",
       "</table>\n",
       "</div>"
      ],
      "text/plain": [
       "                               terms     major_terms  \\\n",
       "11904  ['cs.CV', 'cs.LG', 'eess.IV']  ['cs', 'eess']   \n",
       "10525                      ['cs.CV']          ['cs']   \n",
       "\n",
       "                                                                                     titles  \\\n",
       "11904  Towards Robust Medical Image Segmentation on Small-Scale Data with Incomplete Labels   \n",
       "10525                  ScreenerNet: Learning Self-Paced Curriculum for Deep Neural Networks   \n",
       "\n",
       "                                                                                                                                                                                                                                                                                                                                                                                                                                                                                                                                                                                                                                                                                                                                                                                                                                                                                                                                                                                                                                                                                                                                                                                                                                                                                                                                                                                                                                                                                             abstracts  \\\n",
       "11904  The data-driven nature of deep learning models for semantic segmentation\\nrequires a large number of pixel-level annotations. However, large-scale and\\nfully labeled medical datasets are often unavailable for practical tasks.\\nRecently, partially supervised methods have been proposed to utilize images\\nwith incomplete labels to mitigate the data scarcity problem in the medical\\ndomain. As an emerging research area, the breakthroughs made by existing\\nmethods rely on either large-scale data or complex model design, which makes\\nthem 1) less practical for certain real-life tasks and 2) less robust for\\nsmall-scale data. It is time to step back and think about the robustness of\\npartially supervised methods and how to maximally utilize small-scale and\\npartially labeled data for medical image segmentation tasks. To bridge the\\nmethodological gaps in label-efficient deep learning with partial supervision,\\nwe propose RAMP, a simple yet efficient data augmentation framework for\\npartially supervised medical image segmentation by exploiting the assumption\\nthat patients share anatomical similarities. We systematically evaluate RAMP\\nand the previous methods in various controlled multi-structure segmentation\\ntasks. Compared to the mainstream approaches, RAMP consistently improves the\\nperformance of traditional segmentation networks on small-scale partially\\nlabeled data and utilize additional image-wise weak annotations.   \n",
       "10525                                                                                                                                                                                                                                                                                                                                                                                                                                                                                                                                                                              We propose to learn a curriculum or a syllabus for supervised learning and\\ndeep reinforcement learning with deep neural networks by an attachable deep\\nneural network, called ScreenerNet. Specifically, we learn a weight for each\\nsample by jointly training the ScreenerNet and the main network in an\\nend-to-end self-paced fashion. The ScreenerNet neither has sampling bias nor\\nrequires to remember the past learning history. We show the networks augmented\\nwith the ScreenerNet achieve early convergence with better accuracy than the\\nstate-of-the-art curricular learning methods in extensive experiments using\\nthree popular vision datasets such as MNIST, CIFAR10 and Pascal VOC2012, and a\\nCart-pole task using Deep Q-learning. Moreover, the ScreenerNet can extend\\nother curriculum learning methods such as Prioritized Experience Replay (PER)\\nfor further accuracy improvement.   \n",
       "\n",
       "      filtered_major_terms  \n",
       "11904       ['cs', 'eess']  \n",
       "10525               ['cs']  "
      ]
     },
     "execution_count": 44,
     "metadata": {},
     "output_type": "execute_result"
    }
   ],
   "source": [
    "df1[\"major_terms\"] = df1[\"filtered_major_terms\"]\n",
    "df1.sample(2)"
   ]
  },
  {
   "cell_type": "code",
   "execution_count": 46,
   "id": "a3f0f217-52b7-4765-bf13-d0ef4960c58c",
   "metadata": {
    "execution": {
     "iopub.execute_input": "2023-10-29T07:51:13.199056Z",
     "iopub.status.busy": "2023-10-29T07:51:13.198492Z",
     "iopub.status.idle": "2023-10-29T07:51:13.230739Z",
     "shell.execute_reply": "2023-10-29T07:51:13.228659Z",
     "shell.execute_reply.started": "2023-10-29T07:51:13.199021Z"
    }
   },
   "outputs": [
    {
     "data": {
      "text/html": [
       "<div>\n",
       "<style scoped>\n",
       "    .dataframe tbody tr th:only-of-type {\n",
       "        vertical-align: middle;\n",
       "    }\n",
       "\n",
       "    .dataframe tbody tr th {\n",
       "        vertical-align: top;\n",
       "    }\n",
       "\n",
       "    .dataframe thead th {\n",
       "        text-align: right;\n",
       "    }\n",
       "</style>\n",
       "<table border=\"1\" class=\"dataframe\">\n",
       "  <thead>\n",
       "    <tr style=\"text-align: right;\">\n",
       "      <th></th>\n",
       "      <th>terms</th>\n",
       "      <th>major_terms</th>\n",
       "      <th>titles</th>\n",
       "      <th>abstracts</th>\n",
       "    </tr>\n",
       "  </thead>\n",
       "  <tbody>\n",
       "    <tr>\n",
       "      <th>8249</th>\n",
       "      <td>['cs.LG', 'eess.SP']</td>\n",
       "      <td>['cs', 'eess']</td>\n",
       "      <td>A Relearning Approach to Reinforcement Learning for Control of Smart Buildings</td>\n",
       "      <td>This paper demonstrates that continual relearning of control policies using\\nincremental deep reinforcement learning (RL) can improve policy learning for\\nnon-stationary processes. We demonstrate this approach for a data-driven 'smart\\nbuilding environment' that we use as a test-bed for developing HVAC controllers\\nfor reducing energy consumption of large buildings on our university campus.\\nThe non-stationarity in building operations and weather patterns makes it\\nimperative to develop control strategies that are adaptive to changing\\nconditions. On-policy RL algorithms, such as Proximal Policy Optimization (PPO)\\nrepresent an approach for addressing this non-stationarity, but exploration on\\nthe actual system is not an option for safety-critical systems. As an\\nalternative, we develop an incremental RL technique that simultaneously reduces\\nbuilding energy consumption without sacrificing overall comfort. We compare the\\nperformance of our incremental RL controller to that of a static RL controller\\nthat does not implement the relearning function. The performance of the static\\ncontroller diminishes significantly over time, but the relearning controller\\nadjusts to changing conditions while ensuring comfort and optimal energy\\nperformance.</td>\n",
       "    </tr>\n",
       "    <tr>\n",
       "      <th>10068</th>\n",
       "      <td>['cs.LG', 'stat.ML']</td>\n",
       "      <td>['cs', 'stat']</td>\n",
       "      <td>Off-Policy Actor-Critic in an Ensemble: Achieving Maximum General Entropy and Effective Environment Exploration in Deep Reinforcement Learning</td>\n",
       "      <td>We propose a new policy iteration theory as an important extension of soft\\npolicy iteration and Soft Actor-Critic (SAC), one of the most efficient model\\nfree algorithms for deep reinforcement learning. Supported by the new theory,\\narbitrary entropy measures that generalize Shannon entropy, such as Tsallis\\nentropy and Renyi entropy, can be utilized to properly randomize action\\nselection while fulfilling the goal of maximizing expected long-term rewards.\\nOur theory gives birth to two new algorithms, i.e., Tsallis entropy\\nActor-Critic (TAC) and Renyi entropy Actor-Critic (RAC). Theoretical analysis\\nshows that these algorithms can be more effective than SAC. Moreover, they pave\\nthe way for us to develop a new Ensemble Actor-Critic (EAC) algorithm in this\\npaper that features the use of a bootstrap mechanism for deep environment\\nexploration as well as a new value-function based mechanism for high-level\\naction selection. Empirically we show that TAC, RAC and EAC can achieve\\nstate-of-the-art performance on a range of benchmark control tasks,\\noutperforming SAC and several cutting-edge learning algorithms in terms of both\\nsample efficiency and effectiveness.</td>\n",
       "    </tr>\n",
       "  </tbody>\n",
       "</table>\n",
       "</div>"
      ],
      "text/plain": [
       "                      terms     major_terms  \\\n",
       "8249   ['cs.LG', 'eess.SP']  ['cs', 'eess']   \n",
       "10068  ['cs.LG', 'stat.ML']  ['cs', 'stat']   \n",
       "\n",
       "                                                                                                                                               titles  \\\n",
       "8249                                                                   A Relearning Approach to Reinforcement Learning for Control of Smart Buildings   \n",
       "10068  Off-Policy Actor-Critic in an Ensemble: Achieving Maximum General Entropy and Effective Environment Exploration in Deep Reinforcement Learning   \n",
       "\n",
       "                                                                                                                                                                                                                                                                                                                                                                                                                                                                                                                                                                                                                                                                                                                                                                                                                                                                                                                                                                                                                                                                                                                                                                                                                                                                                                          abstracts  \n",
       "8249   This paper demonstrates that continual relearning of control policies using\\nincremental deep reinforcement learning (RL) can improve policy learning for\\nnon-stationary processes. We demonstrate this approach for a data-driven 'smart\\nbuilding environment' that we use as a test-bed for developing HVAC controllers\\nfor reducing energy consumption of large buildings on our university campus.\\nThe non-stationarity in building operations and weather patterns makes it\\nimperative to develop control strategies that are adaptive to changing\\nconditions. On-policy RL algorithms, such as Proximal Policy Optimization (PPO)\\nrepresent an approach for addressing this non-stationarity, but exploration on\\nthe actual system is not an option for safety-critical systems. As an\\nalternative, we develop an incremental RL technique that simultaneously reduces\\nbuilding energy consumption without sacrificing overall comfort. We compare the\\nperformance of our incremental RL controller to that of a static RL controller\\nthat does not implement the relearning function. The performance of the static\\ncontroller diminishes significantly over time, but the relearning controller\\nadjusts to changing conditions while ensuring comfort and optimal energy\\nperformance.  \n",
       "10068                                                                                 We propose a new policy iteration theory as an important extension of soft\\npolicy iteration and Soft Actor-Critic (SAC), one of the most efficient model\\nfree algorithms for deep reinforcement learning. Supported by the new theory,\\narbitrary entropy measures that generalize Shannon entropy, such as Tsallis\\nentropy and Renyi entropy, can be utilized to properly randomize action\\nselection while fulfilling the goal of maximizing expected long-term rewards.\\nOur theory gives birth to two new algorithms, i.e., Tsallis entropy\\nActor-Critic (TAC) and Renyi entropy Actor-Critic (RAC). Theoretical analysis\\nshows that these algorithms can be more effective than SAC. Moreover, they pave\\nthe way for us to develop a new Ensemble Actor-Critic (EAC) algorithm in this\\npaper that features the use of a bootstrap mechanism for deep environment\\nexploration as well as a new value-function based mechanism for high-level\\naction selection. Empirically we show that TAC, RAC and EAC can achieve\\nstate-of-the-art performance on a range of benchmark control tasks,\\noutperforming SAC and several cutting-edge learning algorithms in terms of both\\nsample efficiency and effectiveness.  "
      ]
     },
     "execution_count": 46,
     "metadata": {},
     "output_type": "execute_result"
    }
   ],
   "source": [
    "df1 = df1.drop(columns=[\"filtered_major_terms\"])\n",
    "df1.sample(2)"
   ]
  },
  {
   "cell_type": "code",
   "execution_count": 51,
   "id": "141e993a-ba58-4fe5-990b-72e5b539ae2b",
   "metadata": {
    "execution": {
     "iopub.execute_input": "2023-10-29T07:53:09.612938Z",
     "iopub.status.busy": "2023-10-29T07:53:09.611934Z",
     "iopub.status.idle": "2023-10-29T07:53:09.699455Z",
     "shell.execute_reply": "2023-10-29T07:53:09.697789Z",
     "shell.execute_reply.started": "2023-10-29T07:53:09.612808Z"
    }
   },
   "outputs": [
    {
     "data": {
      "text/html": [
       "<div>\n",
       "<style scoped>\n",
       "    .dataframe tbody tr th:only-of-type {\n",
       "        vertical-align: middle;\n",
       "    }\n",
       "\n",
       "    .dataframe tbody tr th {\n",
       "        vertical-align: top;\n",
       "    }\n",
       "\n",
       "    .dataframe thead th {\n",
       "        text-align: right;\n",
       "    }\n",
       "</style>\n",
       "<table border=\"1\" class=\"dataframe\">\n",
       "  <thead>\n",
       "    <tr style=\"text-align: right;\">\n",
       "      <th></th>\n",
       "      <th>terms</th>\n",
       "      <th>major_terms</th>\n",
       "      <th>titles</th>\n",
       "      <th>abstracts</th>\n",
       "    </tr>\n",
       "  </thead>\n",
       "  <tbody>\n",
       "    <tr>\n",
       "      <th>22079</th>\n",
       "      <td>['cs.CV']</td>\n",
       "      <td>['cs']</td>\n",
       "      <td>DF^2AM: Dual-level Feature Fusion and Affinity Modeling for RGB-Infrared Cross-modality Person Re-identification</td>\n",
       "      <td>RGB-infrared person re-identification is a challenging task due to the\\nintra-class variations and cross-modality discrepancy. Existing works mainly\\nfocus on learning modality-shared global representations by aligning image\\nstyles or feature distributions across modalities, while local feature from\\nbody part and relationships between person images are largely neglected. In\\nthis paper, we propose a Dual-level (i.e., local and global) Feature Fusion\\n(DF^2) module by learning attention for discriminative feature from local to\\nglobal manner. In particular, the attention for a local feature is determined\\nlocally, i.e., applying a learned transformation function on itself. Meanwhile,\\nto further mining the relationships between global features from person images,\\nwe propose an Affinities Modeling (AM) module to obtain the optimal intra- and\\ninter-modality image matching. Specifically, AM employes intra-class\\ncompactness and inter-class separability in the sample similarities as\\nsupervised information to model the affinities between intra- and\\ninter-modality samples. Experimental results show that our proposed method\\noutperforms state-of-the-arts by large margins on two widely used\\ncross-modality re-ID datasets SYSU-MM01 and RegDB, respectively.</td>\n",
       "    </tr>\n",
       "  </tbody>\n",
       "</table>\n",
       "</div>"
      ],
      "text/plain": [
       "           terms major_terms  \\\n",
       "22079  ['cs.CV']      ['cs']   \n",
       "\n",
       "                                                                                                                 titles  \\\n",
       "22079  DF^2AM: Dual-level Feature Fusion and Affinity Modeling for RGB-Infrared Cross-modality Person Re-identification   \n",
       "\n",
       "                                                                                                                                                                                                                                                                                                                                                                                                                                                                                                                                                                                                                                                                                                                                                                                                                                                                                                                                                                                                                                                                                                                                                                                                                                                                                                                      abstracts  \n",
       "22079  RGB-infrared person re-identification is a challenging task due to the\\nintra-class variations and cross-modality discrepancy. Existing works mainly\\nfocus on learning modality-shared global representations by aligning image\\nstyles or feature distributions across modalities, while local feature from\\nbody part and relationships between person images are largely neglected. In\\nthis paper, we propose a Dual-level (i.e., local and global) Feature Fusion\\n(DF^2) module by learning attention for discriminative feature from local to\\nglobal manner. In particular, the attention for a local feature is determined\\nlocally, i.e., applying a learned transformation function on itself. Meanwhile,\\nto further mining the relationships between global features from person images,\\nwe propose an Affinities Modeling (AM) module to obtain the optimal intra- and\\ninter-modality image matching. Specifically, AM employes intra-class\\ncompactness and inter-class separability in the sample similarities as\\nsupervised information to model the affinities between intra- and\\ninter-modality samples. Experimental results show that our proposed method\\noutperforms state-of-the-arts by large margins on two widely used\\ncross-modality re-ID datasets SYSU-MM01 and RegDB, respectively.  "
      ]
     },
     "execution_count": 51,
     "metadata": {},
     "output_type": "execute_result"
    }
   ],
   "source": [
    "df2 = df1[df1[\"major_terms\"].isin(top_3)].copy()\n",
    "df2.sample()"
   ]
  },
  {
   "cell_type": "code",
   "execution_count": 53,
   "id": "a5fc2408-16c1-41b8-9388-7dfcb416bc5c",
   "metadata": {
    "execution": {
     "iopub.execute_input": "2023-10-29T07:54:15.557689Z",
     "iopub.status.busy": "2023-10-29T07:54:15.557122Z",
     "iopub.status.idle": "2023-10-29T07:54:15.598057Z",
     "shell.execute_reply": "2023-10-29T07:54:15.592468Z",
     "shell.execute_reply.started": "2023-10-29T07:54:15.557623Z"
    }
   },
   "outputs": [
    {
     "data": {
      "text/plain": [
       "['cs']            24853\n",
       "['cs', 'stat']    10881\n",
       "['cs', 'eess']     2034\n",
       "Name: major_terms, dtype: int64"
      ]
     },
     "execution_count": 53,
     "metadata": {},
     "output_type": "execute_result"
    }
   ],
   "source": [
    "df2[\"major_terms\"].value_counts()"
   ]
  },
  {
   "cell_type": "code",
   "execution_count": 56,
   "id": "a4fa7286-2d36-4669-8f04-5629e5c65a77",
   "metadata": {
    "execution": {
     "iopub.execute_input": "2023-10-29T07:54:50.685213Z",
     "iopub.status.busy": "2023-10-29T07:54:50.684440Z",
     "iopub.status.idle": "2023-10-29T07:54:50.704019Z",
     "shell.execute_reply": "2023-10-29T07:54:50.701887Z",
     "shell.execute_reply.started": "2023-10-29T07:54:50.685177Z"
    }
   },
   "outputs": [
    {
     "data": {
      "text/html": [
       "<div>\n",
       "<style scoped>\n",
       "    .dataframe tbody tr th:only-of-type {\n",
       "        vertical-align: middle;\n",
       "    }\n",
       "\n",
       "    .dataframe tbody tr th {\n",
       "        vertical-align: top;\n",
       "    }\n",
       "\n",
       "    .dataframe thead th {\n",
       "        text-align: right;\n",
       "    }\n",
       "</style>\n",
       "<table border=\"1\" class=\"dataframe\">\n",
       "  <thead>\n",
       "    <tr style=\"text-align: right;\">\n",
       "      <th></th>\n",
       "      <th>filtered_major_terms</th>\n",
       "      <th>count</th>\n",
       "    </tr>\n",
       "  </thead>\n",
       "  <tbody>\n",
       "    <tr>\n",
       "      <th>55</th>\n",
       "      <td>['cs']</td>\n",
       "      <td>24853</td>\n",
       "    </tr>\n",
       "    <tr>\n",
       "      <th>54</th>\n",
       "      <td>['cs', 'stat']</td>\n",
       "      <td>10881</td>\n",
       "    </tr>\n",
       "    <tr>\n",
       "      <th>33</th>\n",
       "      <td>['cs', 'eess']</td>\n",
       "      <td>2034</td>\n",
       "    </tr>\n",
       "  </tbody>\n",
       "</table>\n",
       "</div>"
      ],
      "text/plain": [
       "   filtered_major_terms  count\n",
       "55               ['cs']  24853\n",
       "54       ['cs', 'stat']  10881\n",
       "33       ['cs', 'eess']   2034"
      ]
     },
     "execution_count": 56,
     "metadata": {},
     "output_type": "execute_result"
    }
   ],
   "source": [
    "grouped_by.sort_values(by=\"count\", ascending=False).iloc[:3]"
   ]
  },
  {
   "cell_type": "code",
   "execution_count": 57,
   "id": "1dc49960-67a5-49b4-837d-edd3e851e20c",
   "metadata": {
    "execution": {
     "iopub.execute_input": "2023-10-29T07:55:05.407371Z",
     "iopub.status.busy": "2023-10-29T07:55:05.406701Z",
     "iopub.status.idle": "2023-10-29T07:55:05.424931Z",
     "shell.execute_reply": "2023-10-29T07:55:05.422683Z",
     "shell.execute_reply.started": "2023-10-29T07:55:05.407333Z"
    }
   },
   "outputs": [
    {
     "data": {
      "text/plain": [
       "filtered_major_terms    ['cs']['cs', 'stat']['cs', 'eess']\n",
       "count                                                37768\n",
       "dtype: object"
      ]
     },
     "execution_count": 57,
     "metadata": {},
     "output_type": "execute_result"
    }
   ],
   "source": [
    "grouped_by.sort_values(by=\"count\", ascending=False).iloc[:3].sum()"
   ]
  },
  {
   "cell_type": "code",
   "execution_count": 58,
   "id": "28f57263-5d57-4989-8e43-72b6c5794632",
   "metadata": {
    "execution": {
     "iopub.execute_input": "2023-10-29T07:55:13.231113Z",
     "iopub.status.busy": "2023-10-29T07:55:13.230601Z",
     "iopub.status.idle": "2023-10-29T07:55:13.244215Z",
     "shell.execute_reply": "2023-10-29T07:55:13.241439Z",
     "shell.execute_reply.started": "2023-10-29T07:55:13.231072Z"
    }
   },
   "outputs": [
    {
     "data": {
      "text/plain": [
       "37768"
      ]
     },
     "execution_count": 58,
     "metadata": {},
     "output_type": "execute_result"
    }
   ],
   "source": [
    "df2.shape[0]"
   ]
  },
  {
   "cell_type": "code",
   "execution_count": 59,
   "id": "e8052971-1fe5-4fd8-b497-cc26a464a0d6",
   "metadata": {
    "execution": {
     "iopub.execute_input": "2023-10-29T07:55:46.165783Z",
     "iopub.status.busy": "2023-10-29T07:55:46.164531Z",
     "iopub.status.idle": "2023-10-29T07:55:49.094822Z",
     "shell.execute_reply": "2023-10-29T07:55:49.093272Z",
     "shell.execute_reply.started": "2023-10-29T07:55:46.165700Z"
    }
   },
   "outputs": [],
   "source": [
    "df2.to_csv(\"filtered_cleansed_data.csv\", encoding=\"utf-8\", sep=\",\", quoting=csv.QUOTE_MINIMAL, quotechar='\"', index=False) "
   ]
  },
  {
   "cell_type": "code",
   "execution_count": null,
   "id": "25cae222-20bc-4469-ad21-9bc1d14b2d05",
   "metadata": {},
   "outputs": [],
   "source": []
  }
 ],
 "metadata": {
  "kernelspec": {
   "display_name": "Python 3 (ipykernel)",
   "language": "python",
   "name": "python3"
  },
  "language_info": {
   "codemirror_mode": {
    "name": "ipython",
    "version": 3
   },
   "file_extension": ".py",
   "mimetype": "text/x-python",
   "name": "python",
   "nbconvert_exporter": "python",
   "pygments_lexer": "ipython3",
   "version": "3.11.6"
  },
  "widgets": {
   "application/vnd.jupyter.widget-state+json": {
    "state": {},
    "version_major": 2,
    "version_minor": 0
   }
  }
 },
 "nbformat": 4,
 "nbformat_minor": 5
}
