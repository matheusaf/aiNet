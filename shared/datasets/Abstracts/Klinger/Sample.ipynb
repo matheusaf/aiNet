{
 "cells": [
  {
   "cell_type": "code",
   "execution_count": 2,
   "id": "f48cfd8a-21ef-44dd-ba52-f89f0c373128",
   "metadata": {
    "execution": {
     "iopub.execute_input": "2023-12-02T16:27:29.977877Z",
     "iopub.status.busy": "2023-12-02T16:27:29.977351Z",
     "iopub.status.idle": "2023-12-02T16:27:29.983336Z",
     "shell.execute_reply": "2023-12-02T16:27:29.982098Z",
     "shell.execute_reply.started": "2023-12-02T16:27:29.977855Z"
    }
   },
   "outputs": [],
   "source": [
    "import os\n",
    "import csv\n",
    "import sys\n",
    "from pathlib import Path\n",
    "\n",
    "sys.path.append(\n",
    "    os.path.join(\n",
    "        Path(os.getcwd()).parents[3],\n",
    "        \"src\"\n",
    "    )\n",
    ")"
   ]
  },
  {
   "cell_type": "code",
   "execution_count": 3,
   "id": "7eb58bc5-2502-4eb9-9706-7450f01ca23b",
   "metadata": {
    "execution": {
     "iopub.execute_input": "2023-12-02T16:27:30.128213Z",
     "iopub.status.busy": "2023-12-02T16:27:30.127486Z",
     "iopub.status.idle": "2023-12-02T16:27:45.826949Z",
     "shell.execute_reply": "2023-12-02T16:27:45.825250Z",
     "shell.execute_reply.started": "2023-12-02T16:27:30.128191Z"
    }
   },
   "outputs": [],
   "source": [
    "import numpy as np\n",
    "import pandas as pd\n",
    "from models import AiNet\n",
    "from representations import NGram\n",
    "from logging import getLogger\n",
    "from utils import cosine_distances, euclidean_distances"
   ]
  },
  {
   "cell_type": "code",
   "execution_count": 4,
   "id": "3492e807-2688-461e-abac-b5e00af76cc3",
   "metadata": {
    "execution": {
     "iopub.execute_input": "2023-12-02T16:27:45.831078Z",
     "iopub.status.busy": "2023-12-02T16:27:45.830284Z",
     "iopub.status.idle": "2023-12-02T16:28:25.950956Z",
     "shell.execute_reply": "2023-12-02T16:28:25.944563Z",
     "shell.execute_reply.started": "2023-12-02T16:27:45.831040Z"
    }
   },
   "outputs": [
    {
     "name": "stdout",
     "output_type": "stream",
     "text": [
      "<class 'pandas.core.frame.DataFrame'>\n",
      "RangeIndex: 611798 entries, 0 to 611797\n",
      "Data columns (total 5 columns):\n",
      " #   Column        Non-Null Count   Dtype \n",
      "---  ------        --------------   ----- \n",
      " 0   id            611798 non-null  object\n",
      " 1   article_id    611798 non-null  object\n",
      " 2   created       611798 non-null  object\n",
      " 3   org_category  611798 non-null  object\n",
      " 4   abstracts     611798 non-null  object\n",
      "dtypes: object(5)\n",
      "memory usage: 23.3+ MB\n"
     ]
    }
   ],
   "source": [
    "with open(\"cleansed_data.csv\", \"r+\", newline=\"\", encoding=\"utf-8\") as f:\n",
    "    reader = csv.reader(f, delimiter=\",\", quotechar='\"', quoting=csv.QUOTE_MINIMAL)\n",
    "    data = list(reader)\n",
    "    header = data.pop(0)\n",
    "\n",
    "df = pd.DataFrame(data=data, columns=header)\n",
    "df.info()"
   ]
  },
  {
   "cell_type": "code",
   "execution_count": 5,
   "id": "554753f6-0ecc-46e4-baf0-3e4e9e5aa29c",
   "metadata": {
    "execution": {
     "iopub.execute_input": "2023-12-02T16:28:25.966011Z",
     "iopub.status.busy": "2023-12-02T16:28:25.962720Z",
     "iopub.status.idle": "2023-12-02T16:28:26.139456Z",
     "shell.execute_reply": "2023-12-02T16:28:26.137082Z",
     "shell.execute_reply.started": "2023-12-02T16:28:25.965970Z"
    }
   },
   "outputs": [
    {
     "data": {
      "text/plain": [
       "comp_educ_collab     20058\n",
       "comp_non_educ         1259\n",
       "comp_only             6673\n",
       "educ_non_comp       131726\n",
       "educ_only           452082\n",
       "Name: org_category, dtype: int64"
      ]
     },
     "execution_count": 5,
     "metadata": {},
     "output_type": "execute_result"
    }
   ],
   "source": [
    "df[\"org_category\"].value_counts().sort_index()"
   ]
  },
  {
   "cell_type": "code",
   "execution_count": 4,
   "id": "46ac3b69-4f25-4e65-b646-aa66483d5ea9",
   "metadata": {
    "execution": {
     "iopub.execute_input": "2023-11-05T03:53:57.915408Z",
     "iopub.status.busy": "2023-11-05T03:53:57.914575Z",
     "iopub.status.idle": "2023-11-05T03:53:58.277337Z",
     "shell.execute_reply": "2023-11-05T03:53:58.275490Z",
     "shell.execute_reply.started": "2023-11-05T03:53:57.915330Z"
    }
   },
   "outputs": [
    {
     "data": {
      "text/html": [
       "<div>\n",
       "<style scoped>\n",
       "    .dataframe tbody tr th:only-of-type {\n",
       "        vertical-align: middle;\n",
       "    }\n",
       "\n",
       "    .dataframe tbody tr th {\n",
       "        vertical-align: top;\n",
       "    }\n",
       "\n",
       "    .dataframe thead th {\n",
       "        text-align: right;\n",
       "    }\n",
       "</style>\n",
       "<table border=\"1\" class=\"dataframe\">\n",
       "  <thead>\n",
       "    <tr style=\"text-align: right;\">\n",
       "      <th></th>\n",
       "      <th>id</th>\n",
       "      <th>article_id</th>\n",
       "      <th>created</th>\n",
       "      <th>org_category</th>\n",
       "      <th>abstracts</th>\n",
       "    </tr>\n",
       "  </thead>\n",
       "  <tbody>\n",
       "    <tr>\n",
       "      <th>405282</th>\n",
       "      <td>405358</td>\n",
       "      <td>1803.08028</td>\n",
       "      <td>2018</td>\n",
       "      <td>educ_only</td>\n",
       "      <td>sexiphenyl on cu 100 nc afm tip functionalizat...</td>\n",
       "    </tr>\n",
       "    <tr>\n",
       "      <th>583160</th>\n",
       "      <td>583260</td>\n",
       "      <td>biorxiv-10.1101/543603</td>\n",
       "      <td>2019</td>\n",
       "      <td>educ_non_comp</td>\n",
       "      <td>unraveling diagnostic biomarkers of schizophre...</td>\n",
       "    </tr>\n",
       "  </tbody>\n",
       "</table>\n",
       "</div>"
      ],
      "text/plain": [
       "            id              article_id created   org_category  \\\n",
       "405282  405358              1803.08028    2018      educ_only   \n",
       "583160  583260  biorxiv-10.1101/543603    2019  educ_non_comp   \n",
       "\n",
       "                                                abstracts  \n",
       "405282  sexiphenyl on cu 100 nc afm tip functionalizat...  \n",
       "583160  unraveling diagnostic biomarkers of schizophre...  "
      ]
     },
     "execution_count": 4,
     "metadata": {},
     "output_type": "execute_result"
    }
   ],
   "source": [
    "sample = df.groupby(by=[\"org_category\"], as_index=False, group_keys=False).apply(lambda c: c.sample(frac=0.01))\n",
    "sample.sample(2)"
   ]
  },
  {
   "cell_type": "code",
   "execution_count": 10,
   "id": "46302a69-d1a0-4f51-b7d0-4036b07f349e",
   "metadata": {
    "execution": {
     "iopub.execute_input": "2023-11-05T03:58:44.933100Z",
     "iopub.status.busy": "2023-11-05T03:58:44.932221Z",
     "iopub.status.idle": "2023-11-05T03:58:44.981307Z",
     "shell.execute_reply": "2023-11-05T03:58:44.980611Z",
     "shell.execute_reply.started": "2023-11-05T03:58:44.933065Z"
    }
   },
   "outputs": [
    {
     "name": "stdout",
     "output_type": "stream",
     "text": [
      "<class 'pandas.core.frame.DataFrame'>\n",
      "Int64Index: 6119 entries, 102361 to 487261\n",
      "Data columns (total 5 columns):\n",
      " #   Column        Non-Null Count  Dtype \n",
      "---  ------        --------------  ----- \n",
      " 0   id            6119 non-null   object\n",
      " 1   article_id    6119 non-null   object\n",
      " 2   created       6119 non-null   object\n",
      " 3   org_category  6119 non-null   object\n",
      " 4   abstracts     6119 non-null   object\n",
      "dtypes: object(5)\n",
      "memory usage: 286.8+ KB\n"
     ]
    }
   ],
   "source": [
    "sample.info()"
   ]
  },
  {
   "cell_type": "code",
   "execution_count": 6,
   "id": "299e31e7-4e17-46ae-be84-80c486019e36",
   "metadata": {
    "execution": {
     "iopub.execute_input": "2023-11-05T03:53:58.312531Z",
     "iopub.status.busy": "2023-11-05T03:53:58.312034Z",
     "iopub.status.idle": "2023-11-05T03:53:58.326622Z",
     "shell.execute_reply": "2023-11-05T03:53:58.324963Z",
     "shell.execute_reply.started": "2023-11-05T03:53:58.312491Z"
    }
   },
   "outputs": [
    {
     "data": {
      "text/plain": [
       "educ_only           4521\n",
       "educ_non_comp       1317\n",
       "comp_educ_collab     201\n",
       "comp_only             67\n",
       "comp_non_educ         13\n",
       "Name: org_category, dtype: int64"
      ]
     },
     "execution_count": 6,
     "metadata": {},
     "output_type": "execute_result"
    }
   ],
   "source": [
    "sample[\"org_category\"].value_counts()"
   ]
  },
  {
   "cell_type": "code",
   "execution_count": 7,
   "id": "d5b66b58-417d-42c1-87b2-67728c777333",
   "metadata": {
    "execution": {
     "iopub.execute_input": "2023-11-05T03:53:58.328863Z",
     "iopub.status.busy": "2023-11-05T03:53:58.328454Z",
     "iopub.status.idle": "2023-11-05T03:53:58.426552Z",
     "shell.execute_reply": "2023-11-05T03:53:58.425178Z",
     "shell.execute_reply.started": "2023-11-05T03:53:58.328838Z"
    }
   },
   "outputs": [
    {
     "data": {
      "text/plain": [
       "educ_only           73.89\n",
       "educ_non_comp       21.53\n",
       "comp_educ_collab     3.28\n",
       "comp_only            1.09\n",
       "comp_non_educ        0.21\n",
       "Name: org_category, dtype: float64"
      ]
     },
     "execution_count": 7,
     "metadata": {},
     "output_type": "execute_result"
    }
   ],
   "source": [
    "np.round((df[\"org_category\"].value_counts() / df.shape[0]) * 100, 2)"
   ]
  },
  {
   "cell_type": "code",
   "execution_count": 8,
   "id": "fcd6d2b9-c067-44f5-b91d-0c447a5023c2",
   "metadata": {
    "execution": {
     "iopub.execute_input": "2023-11-05T03:53:58.428540Z",
     "iopub.status.busy": "2023-11-05T03:53:58.427992Z",
     "iopub.status.idle": "2023-11-05T03:53:58.444290Z",
     "shell.execute_reply": "2023-11-05T03:53:58.442821Z",
     "shell.execute_reply.started": "2023-11-05T03:53:58.428515Z"
    }
   },
   "outputs": [
    {
     "data": {
      "text/plain": [
       "educ_only           73.88\n",
       "educ_non_comp       21.52\n",
       "comp_educ_collab     3.28\n",
       "comp_only            1.09\n",
       "comp_non_educ        0.21\n",
       "Name: org_category, dtype: float64"
      ]
     },
     "execution_count": 8,
     "metadata": {},
     "output_type": "execute_result"
    }
   ],
   "source": [
    "np.round((sample[\"org_category\"].value_counts() / sample.shape[0]) * 100, 2)"
   ]
  },
  {
   "cell_type": "code",
   "execution_count": 9,
   "id": "700d9ea0-c4f2-4a14-8071-94e99e60cde6",
   "metadata": {
    "execution": {
     "iopub.execute_input": "2023-11-05T03:53:58.446646Z",
     "iopub.status.busy": "2023-11-05T03:53:58.445868Z",
     "iopub.status.idle": "2023-11-05T03:55:23.183668Z",
     "shell.execute_reply": "2023-11-05T03:55:23.182049Z",
     "shell.execute_reply.started": "2023-11-05T03:53:58.446617Z"
    }
   },
   "outputs": [
    {
     "data": {
      "text/plain": [
       "(6119, 27312)"
      ]
     },
     "execution_count": 9,
     "metadata": {},
     "output_type": "execute_result"
    }
   ],
   "source": [
    "representation = NGram()\n",
    "features, result =representation.generate_representation(sample[\"abstracts\"].tolist())\n",
    "result.shape"
   ]
  },
  {
   "cell_type": "code",
   "execution_count": 11,
   "id": "986512af-23d7-413a-be77-b1ddd6173df6",
   "metadata": {
    "execution": {
     "iopub.execute_input": "2023-11-05T03:58:49.268290Z",
     "iopub.status.busy": "2023-11-05T03:58:49.267768Z",
     "iopub.status.idle": "2023-11-05T04:00:27.271767Z",
     "shell.execute_reply": "2023-11-05T04:00:27.258504Z",
     "shell.execute_reply.started": "2023-11-05T03:58:49.268267Z"
    }
   },
   "outputs": [
    {
     "data": {
      "text/plain": [
       "array([[0.        , 0.97438127, 0.94376117, ..., 0.99235386, 0.99655795,\n",
       "        0.9876183 ],\n",
       "       [0.97438127, 0.        , 0.9764279 , ..., 0.9852223 , 0.9968798 ,\n",
       "        0.9867945 ],\n",
       "       [0.94376117, 0.9764279 , 0.        , ..., 0.9745851 , 0.97932845,\n",
       "        0.997011  ],\n",
       "       ...,\n",
       "       [0.99235386, 0.9852223 , 0.9745851 , ..., 0.        , 1.        ,\n",
       "        0.99834806],\n",
       "       [0.99655795, 0.9968798 , 0.97932845, ..., 1.        , 0.        ,\n",
       "        0.99391735],\n",
       "       [0.9876183 , 0.9867945 , 0.997011  , ..., 0.99834806, 0.99391735,\n",
       "        0.        ]], dtype=float32)"
      ]
     },
     "execution_count": 11,
     "metadata": {},
     "output_type": "execute_result"
    }
   ],
   "source": [
    "cosine_distances(result, result)"
   ]
  },
  {
   "cell_type": "code",
   "execution_count": 12,
   "id": "2c48bb34-099e-4ff5-bc59-b7335ed115b5",
   "metadata": {
    "execution": {
     "iopub.execute_input": "2023-11-05T04:00:27.332436Z",
     "iopub.status.busy": "2023-11-05T04:00:27.329887Z",
     "iopub.status.idle": "2023-11-05T04:00:27.411126Z",
     "shell.execute_reply": "2023-11-05T04:00:27.408422Z",
     "shell.execute_reply.started": "2023-11-05T04:00:27.332310Z"
    }
   },
   "outputs": [],
   "source": [
    "root_logger = getLogger(\"root\")"
   ]
  },
  {
   "cell_type": "code",
   "execution_count": 13,
   "id": "c612129d-c418-4507-8a59-f4df806d5d94",
   "metadata": {
    "execution": {
     "iopub.execute_input": "2023-11-05T04:00:27.429538Z",
     "iopub.status.busy": "2023-11-05T04:00:27.428691Z",
     "iopub.status.idle": "2023-11-05T04:00:27.520712Z",
     "shell.execute_reply": "2023-11-05T04:00:27.519590Z",
     "shell.execute_reply.started": "2023-11-05T04:00:27.429510Z"
    }
   },
   "outputs": [],
   "source": [
    "aiNet = AiNet(distance_method=\"cosine\", logger=root_logger)"
   ]
  },
  {
   "cell_type": "code",
   "execution_count": 14,
   "id": "1c08bddf-9d0f-4d4e-a74f-ae6badcfbbab",
   "metadata": {
    "execution": {
     "iopub.execute_input": "2023-11-05T04:00:27.531511Z",
     "iopub.status.busy": "2023-11-05T04:00:27.531114Z",
     "iopub.status.idle": "2023-11-05T04:12:44.631244Z",
     "shell.execute_reply": "2023-11-05T04:12:44.617619Z",
     "shell.execute_reply.started": "2023-11-05T04:00:27.531483Z"
    }
   },
   "outputs": [
    {
     "name": "stdout",
     "output_type": "stream",
     "text": [
      "iter: 1 | cur_hyper_rate:  0.00000000 | |██████----------------------------------------------------------------------------------------------| 6.7% | avd: 0.00000 | net size: 90\r"
     ]
    }
   ],
   "source": [
    "aiNet.fit(\n",
    "    antigen_population=result, \n",
    "    max_iter=15, \n",
    "    number_of_antibodies=int(result.shape[0] * 0.10), \n",
    "    clone_multiplier=10, \n",
    "    no_best_cells_taken_each_selection=5, \n",
    "    percent_clones_reselected=0.12, \n",
    "    pruning_threshold=0.5\n",
    ")"
   ]
  },
  {
   "cell_type": "code",
   "execution_count": 43,
   "id": "88ba54d3-39ae-498e-862a-64fef5744c49",
   "metadata": {
    "execution": {
     "iopub.execute_input": "2023-11-05T03:14:16.019159Z",
     "iopub.status.busy": "2023-11-05T03:14:16.017451Z",
     "iopub.status.idle": "2023-11-05T03:14:16.082003Z",
     "shell.execute_reply": "2023-11-05T03:14:16.080284Z",
     "shell.execute_reply.started": "2023-11-05T03:14:16.019032Z"
    }
   },
   "outputs": [
    {
     "data": {
      "text/plain": [
       "(278, 18389)"
      ]
     },
     "execution_count": 43,
     "metadata": {},
     "output_type": "execute_result"
    }
   ],
   "source": [
    "aiNet.antibody_population.shape"
   ]
  },
  {
   "cell_type": "code",
   "execution_count": 15,
   "id": "f1feb168-4599-4ce7-97c8-4087206294a7",
   "metadata": {
    "execution": {
     "iopub.execute_input": "2023-11-05T04:15:29.903053Z",
     "iopub.status.busy": "2023-11-05T04:15:29.899601Z",
     "iopub.status.idle": "2023-11-05T04:15:31.556128Z",
     "shell.execute_reply": "2023-11-05T04:15:31.554580Z",
     "shell.execute_reply.started": "2023-11-05T04:15:29.902853Z"
    }
   },
   "outputs": [],
   "source": [
    "sample.to_csv(\"sample_cleansed_data.csv\", encoding=\"utf-8\", index=False, sep=\",\", quoting=csv.QUOTE_MINIMAL, quotechar='\"')"
   ]
  },
  {
   "cell_type": "code",
   "execution_count": 16,
   "id": "2a1209ca-abc1-44cb-8207-19ea89226d9b",
   "metadata": {
    "execution": {
     "iopub.execute_input": "2023-11-05T04:15:31.563353Z",
     "iopub.status.busy": "2023-11-05T04:15:31.561633Z",
     "iopub.status.idle": "2023-11-05T04:15:40.125260Z",
     "shell.execute_reply": "2023-11-05T04:15:40.124092Z",
     "shell.execute_reply.started": "2023-11-05T04:15:31.563322Z"
    }
   },
   "outputs": [],
   "source": [
    "with open(\"sample_cleansed_data.csv\", \"r+\", newline=\"\", encoding=\"utf-8\") as f:\n",
    "    reader = csv.reader(f, delimiter=\",\", quoting=csv.QUOTE_MINIMAL, quotechar='\"')\n",
    "    data = list(reader)\n",
    "    header = data.pop(0)\n",
    "\n",
    "df1 = pd.DataFrame(data=data, columns=header)"
   ]
  },
  {
   "cell_type": "code",
   "execution_count": 17,
   "id": "0071b091-763c-4c2d-b3b7-3ad575e3a707",
   "metadata": {
    "execution": {
     "iopub.execute_input": "2023-11-05T04:15:40.128198Z",
     "iopub.status.busy": "2023-11-05T04:15:40.127557Z",
     "iopub.status.idle": "2023-11-05T04:15:40.250964Z",
     "shell.execute_reply": "2023-11-05T04:15:40.249722Z",
     "shell.execute_reply.started": "2023-11-05T04:15:40.128129Z"
    }
   },
   "outputs": [
    {
     "name": "stdout",
     "output_type": "stream",
     "text": [
      "<class 'pandas.core.frame.DataFrame'>\n",
      "RangeIndex: 6119 entries, 0 to 6118\n",
      "Data columns (total 5 columns):\n",
      " #   Column        Non-Null Count  Dtype \n",
      "---  ------        --------------  ----- \n",
      " 0   id            6119 non-null   object\n",
      " 1   article_id    6119 non-null   object\n",
      " 2   created       6119 non-null   object\n",
      " 3   org_category  6119 non-null   object\n",
      " 4   abstracts     6119 non-null   object\n",
      "dtypes: object(5)\n",
      "memory usage: 239.2+ KB\n"
     ]
    }
   ],
   "source": [
    "df1.info()"
   ]
  },
  {
   "cell_type": "code",
   "execution_count": 19,
   "id": "8b2af5b6-76d9-49a3-a056-d770e157ce3d",
   "metadata": {
    "execution": {
     "iopub.execute_input": "2023-11-05T04:15:49.193586Z",
     "iopub.status.busy": "2023-11-05T04:15:49.193094Z",
     "iopub.status.idle": "2023-11-05T04:15:49.203626Z",
     "shell.execute_reply": "2023-11-05T04:15:49.202345Z",
     "shell.execute_reply.started": "2023-11-05T04:15:49.193564Z"
    }
   },
   "outputs": [
    {
     "data": {
      "text/plain": [
       "educ_only           4521\n",
       "educ_non_comp       1317\n",
       "comp_educ_collab     201\n",
       "comp_only             67\n",
       "comp_non_educ         13\n",
       "Name: org_category, dtype: int64"
      ]
     },
     "execution_count": 19,
     "metadata": {},
     "output_type": "execute_result"
    }
   ],
   "source": [
    "df1[\"org_category\"].value_counts()"
   ]
  },
  {
   "cell_type": "code",
   "execution_count": 20,
   "id": "6dbdbc30-9578-4f6a-bf6a-177d84d14ac1",
   "metadata": {
    "execution": {
     "iopub.execute_input": "2023-11-05T04:16:52.011199Z",
     "iopub.status.busy": "2023-11-05T04:16:52.010704Z",
     "iopub.status.idle": "2023-11-05T04:16:52.025405Z",
     "shell.execute_reply": "2023-11-05T04:16:52.024556Z",
     "shell.execute_reply.started": "2023-11-05T04:16:52.011182Z"
    }
   },
   "outputs": [
    {
     "data": {
      "text/plain": [
       "0"
      ]
     },
     "execution_count": 20,
     "metadata": {},
     "output_type": "execute_result"
    }
   ],
   "source": [
    "(df1[\"abstracts\"].isna().astype(int) + df1[\"abstracts\"].isnull().astype(int)).sum()"
   ]
  },
  {
   "cell_type": "code",
   "execution_count": null,
   "id": "c4440910-f017-4a61-b91d-4877ea37af96",
   "metadata": {},
   "outputs": [],
   "source": []
  }
 ],
 "metadata": {
  "kernelspec": {
   "display_name": "Python 3 (ipykernel)",
   "language": "python",
   "name": "python3"
  },
  "language_info": {
   "codemirror_mode": {
    "name": "ipython",
    "version": 3
   },
   "file_extension": ".py",
   "mimetype": "text/x-python",
   "name": "python",
   "nbconvert_exporter": "python",
   "pygments_lexer": "ipython3",
   "version": "3.11.6"
  },
  "widgets": {
   "application/vnd.jupyter.widget-state+json": {
    "state": {},
    "version_major": 2,
    "version_minor": 0
   }
  }
 },
 "nbformat": 4,
 "nbformat_minor": 5
}
