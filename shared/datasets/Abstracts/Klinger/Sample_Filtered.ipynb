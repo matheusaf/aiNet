{
 "cells": [
  {
   "cell_type": "code",
   "execution_count": 1,
   "id": "f48cfd8a-21ef-44dd-ba52-f89f0c373128",
   "metadata": {
    "execution": {
     "iopub.execute_input": "2023-12-02T16:30:10.143375Z",
     "iopub.status.busy": "2023-12-02T16:30:10.135169Z",
     "iopub.status.idle": "2023-12-02T16:30:10.229993Z",
     "shell.execute_reply": "2023-12-02T16:30:10.227361Z",
     "shell.execute_reply.started": "2023-12-02T16:30:10.140849Z"
    }
   },
   "outputs": [],
   "source": [
    "import os\n",
    "import csv\n",
    "import sys\n",
    "from pathlib import Path\n",
    "\n",
    "sys.path.append(\n",
    "    os.path.join(\n",
    "        Path(os.getcwd()).parents[3],\n",
    "        \"src\"\n",
    "    )\n",
    ")"
   ]
  },
  {
   "cell_type": "code",
   "execution_count": 2,
   "id": "7eb58bc5-2502-4eb9-9706-7450f01ca23b",
   "metadata": {
    "execution": {
     "iopub.execute_input": "2023-12-02T16:30:10.299501Z",
     "iopub.status.busy": "2023-12-02T16:30:10.298188Z",
     "iopub.status.idle": "2023-12-02T16:30:25.560743Z",
     "shell.execute_reply": "2023-12-02T16:30:25.558666Z",
     "shell.execute_reply.started": "2023-12-02T16:30:10.299415Z"
    }
   },
   "outputs": [],
   "source": [
    "import numpy as np\n",
    "import pandas as pd\n",
    "from models import AiNet\n",
    "from representations import NGram\n",
    "from logging import getLogger\n",
    "from utils import cosine_distances, euclidean_distances"
   ]
  },
  {
   "cell_type": "code",
   "execution_count": 3,
   "id": "3492e807-2688-461e-abac-b5e00af76cc3",
   "metadata": {
    "execution": {
     "iopub.execute_input": "2023-12-02T16:30:25.565533Z",
     "iopub.status.busy": "2023-12-02T16:30:25.563070Z",
     "iopub.status.idle": "2023-12-02T16:30:26.454844Z",
     "shell.execute_reply": "2023-12-02T16:30:26.453009Z",
     "shell.execute_reply.started": "2023-12-02T16:30:25.565481Z"
    }
   },
   "outputs": [
    {
     "name": "stdout",
     "output_type": "stream",
     "text": [
      "<class 'pandas.core.frame.DataFrame'>\n",
      "RangeIndex: 32473 entries, 0 to 32472\n",
      "Data columns (total 7 columns):\n",
      " #   Column        Non-Null Count  Dtype \n",
      "---  ------        --------------  ----- \n",
      " 0   id            32473 non-null  object\n",
      " 1   article_id    32473 non-null  object\n",
      " 2   created       32473 non-null  object\n",
      " 3   org_category  32473 non-null  object\n",
      " 4   abstracts     32473 non-null  object\n",
      " 5   method_id     32473 non-null  object\n",
      " 6   method        32473 non-null  object\n",
      "dtypes: object(7)\n",
      "memory usage: 1.7+ MB\n"
     ]
    }
   ],
   "source": [
    "with open(\"filtered_cleansed_joined_data.csv\", \"r+\", newline=\"\", encoding=\"utf-8\") as f:\n",
    "    reader = csv.reader(f, delimiter=\",\", quotechar='\"', quoting=csv.QUOTE_MINIMAL)\n",
    "    data = list(reader)\n",
    "    header = data.pop(0)\n",
    "\n",
    "df = pd.DataFrame(data=data, columns=header)\n",
    "df.info()"
   ]
  },
  {
   "cell_type": "code",
   "execution_count": 5,
   "id": "13da214c-e8a5-4644-b414-ae1760bb5a1a",
   "metadata": {
    "execution": {
     "iopub.execute_input": "2023-12-02T16:30:31.387818Z",
     "iopub.status.busy": "2023-12-02T16:30:31.386639Z",
     "iopub.status.idle": "2023-12-02T16:30:31.413305Z",
     "shell.execute_reply": "2023-12-02T16:30:31.412289Z",
     "shell.execute_reply.started": "2023-12-02T16:30:31.387750Z"
    }
   },
   "outputs": [
    {
     "data": {
      "text/plain": [
       "computer_vision                19812\n",
       "natural_language_processing     9230\n",
       "reinforcement_learning          3431\n",
       "Name: method, dtype: int64"
      ]
     },
     "execution_count": 5,
     "metadata": {},
     "output_type": "execute_result"
    }
   ],
   "source": [
    "df[\"method\"].value_counts().sort_index()"
   ]
  },
  {
   "cell_type": "code",
   "execution_count": 6,
   "id": "ab52c95c-6396-4cc9-a588-cfe80da8a8d2",
   "metadata": {
    "execution": {
     "iopub.execute_input": "2023-12-02T16:30:37.785773Z",
     "iopub.status.busy": "2023-12-02T16:30:37.785306Z",
     "iopub.status.idle": "2023-12-02T16:30:37.807429Z",
     "shell.execute_reply": "2023-12-02T16:30:37.805951Z",
     "shell.execute_reply.started": "2023-12-02T16:30:37.785743Z"
    }
   },
   "outputs": [
    {
     "data": {
      "text/plain": [
       "computer_vision                61.01\n",
       "natural_language_processing    28.42\n",
       "reinforcement_learning         10.57\n",
       "Name: method, dtype: float64"
      ]
     },
     "execution_count": 6,
     "metadata": {},
     "output_type": "execute_result"
    }
   ],
   "source": [
    "np.round((df[\"method\"].value_counts() / df.shape[0]) * 100, 2).sort_index()"
   ]
  },
  {
   "cell_type": "code",
   "execution_count": 11,
   "id": "46ac3b69-4f25-4e65-b646-aa66483d5ea9",
   "metadata": {
    "execution": {
     "iopub.execute_input": "2023-11-05T03:45:30.642221Z",
     "iopub.status.busy": "2023-11-05T03:45:30.641944Z",
     "iopub.status.idle": "2023-11-05T03:45:30.690514Z",
     "shell.execute_reply": "2023-11-05T03:45:30.687288Z",
     "shell.execute_reply.started": "2023-11-05T03:45:30.642206Z"
    }
   },
   "outputs": [
    {
     "data": {
      "text/html": [
       "<div>\n",
       "<style scoped>\n",
       "    .dataframe tbody tr th:only-of-type {\n",
       "        vertical-align: middle;\n",
       "    }\n",
       "\n",
       "    .dataframe tbody tr th {\n",
       "        vertical-align: top;\n",
       "    }\n",
       "\n",
       "    .dataframe thead th {\n",
       "        text-align: right;\n",
       "    }\n",
       "</style>\n",
       "<table border=\"1\" class=\"dataframe\">\n",
       "  <thead>\n",
       "    <tr style=\"text-align: right;\">\n",
       "      <th></th>\n",
       "      <th>id</th>\n",
       "      <th>article_id</th>\n",
       "      <th>created</th>\n",
       "      <th>org_category</th>\n",
       "      <th>abstracts</th>\n",
       "      <th>method_id</th>\n",
       "      <th>method</th>\n",
       "    </tr>\n",
       "  </thead>\n",
       "  <tbody>\n",
       "    <tr>\n",
       "      <th>12398</th>\n",
       "      <td>401146</td>\n",
       "      <td>1802.07997</td>\n",
       "      <td>2018</td>\n",
       "      <td>educ_only</td>\n",
       "      <td>generating high quality query suggestion candi...</td>\n",
       "      <td>25631</td>\n",
       "      <td>natural_language_processing</td>\n",
       "    </tr>\n",
       "    <tr>\n",
       "      <th>30907</th>\n",
       "      <td>518553</td>\n",
       "      <td>2006.11578</td>\n",
       "      <td>2020</td>\n",
       "      <td>educ_only</td>\n",
       "      <td>learning aligned embeddings for semi supervise...</td>\n",
       "      <td>31825</td>\n",
       "      <td>natural_language_processing</td>\n",
       "    </tr>\n",
       "  </tbody>\n",
       "</table>\n",
       "</div>"
      ],
      "text/plain": [
       "           id  article_id created org_category  \\\n",
       "12398  401146  1802.07997    2018    educ_only   \n",
       "30907  518553  2006.11578    2020    educ_only   \n",
       "\n",
       "                                               abstracts method_id  \\\n",
       "12398  generating high quality query suggestion candi...     25631   \n",
       "30907  learning aligned embeddings for semi supervise...     31825   \n",
       "\n",
       "                            method  \n",
       "12398  natural_language_processing  \n",
       "30907  natural_language_processing  "
      ]
     },
     "execution_count": 11,
     "metadata": {},
     "output_type": "execute_result"
    }
   ],
   "source": [
    "sample = df.groupby(by=[\"method\"], as_index=False, group_keys=False).apply(lambda c: c.sample(frac=0.2))\n",
    "sample.sample(2)"
   ]
  },
  {
   "cell_type": "code",
   "execution_count": 12,
   "id": "46302a69-d1a0-4f51-b7d0-4036b07f349e",
   "metadata": {
    "execution": {
     "iopub.execute_input": "2023-11-05T03:45:32.185276Z",
     "iopub.status.busy": "2023-11-05T03:45:32.184393Z",
     "iopub.status.idle": "2023-11-05T03:45:32.213700Z",
     "shell.execute_reply": "2023-11-05T03:45:32.212327Z",
     "shell.execute_reply.started": "2023-11-05T03:45:32.185235Z"
    }
   },
   "outputs": [
    {
     "name": "stdout",
     "output_type": "stream",
     "text": [
      "<class 'pandas.core.frame.DataFrame'>\n",
      "Int64Index: 6494 entries, 23019 to 17920\n",
      "Data columns (total 7 columns):\n",
      " #   Column        Non-Null Count  Dtype \n",
      "---  ------        --------------  ----- \n",
      " 0   id            6494 non-null   object\n",
      " 1   article_id    6494 non-null   object\n",
      " 2   created       6494 non-null   object\n",
      " 3   org_category  6494 non-null   object\n",
      " 4   abstracts     6494 non-null   object\n",
      " 5   method_id     6494 non-null   object\n",
      " 6   method        6494 non-null   object\n",
      "dtypes: object(7)\n",
      "memory usage: 405.9+ KB\n"
     ]
    }
   ],
   "source": [
    "sample.info()"
   ]
  },
  {
   "cell_type": "code",
   "execution_count": 13,
   "id": "299e31e7-4e17-46ae-be84-80c486019e36",
   "metadata": {
    "execution": {
     "iopub.execute_input": "2023-11-05T03:45:33.867342Z",
     "iopub.status.busy": "2023-11-05T03:45:33.866674Z",
     "iopub.status.idle": "2023-11-05T03:45:33.882595Z",
     "shell.execute_reply": "2023-11-05T03:45:33.881121Z",
     "shell.execute_reply.started": "2023-11-05T03:45:33.867302Z"
    }
   },
   "outputs": [
    {
     "data": {
      "text/plain": [
       "computer_vision                3962\n",
       "natural_language_processing    1846\n",
       "reinforcement_learning          686\n",
       "Name: method, dtype: int64"
      ]
     },
     "execution_count": 13,
     "metadata": {},
     "output_type": "execute_result"
    }
   ],
   "source": [
    "sample[\"method\"].value_counts()"
   ]
  },
  {
   "cell_type": "code",
   "execution_count": 14,
   "id": "d5b66b58-417d-42c1-87b2-67728c777333",
   "metadata": {
    "execution": {
     "iopub.execute_input": "2023-11-05T03:45:34.369633Z",
     "iopub.status.busy": "2023-11-05T03:45:34.369083Z",
     "iopub.status.idle": "2023-11-05T03:45:34.386394Z",
     "shell.execute_reply": "2023-11-05T03:45:34.385401Z",
     "shell.execute_reply.started": "2023-11-05T03:45:34.369605Z"
    }
   },
   "outputs": [
    {
     "data": {
      "text/plain": [
       "computer_vision                61.01\n",
       "natural_language_processing    28.42\n",
       "reinforcement_learning         10.57\n",
       "Name: method, dtype: float64"
      ]
     },
     "execution_count": 14,
     "metadata": {},
     "output_type": "execute_result"
    }
   ],
   "source": [
    "np.round((df[\"method\"].value_counts() / df.shape[0]) * 100, 2)"
   ]
  },
  {
   "cell_type": "code",
   "execution_count": 15,
   "id": "fcd6d2b9-c067-44f5-b91d-0c447a5023c2",
   "metadata": {
    "execution": {
     "iopub.execute_input": "2023-11-05T03:45:36.402039Z",
     "iopub.status.busy": "2023-11-05T03:45:36.401508Z",
     "iopub.status.idle": "2023-11-05T03:45:36.412308Z",
     "shell.execute_reply": "2023-11-05T03:45:36.411317Z",
     "shell.execute_reply.started": "2023-11-05T03:45:36.402016Z"
    }
   },
   "outputs": [
    {
     "data": {
      "text/plain": [
       "computer_vision                61.01\n",
       "natural_language_processing    28.43\n",
       "reinforcement_learning         10.56\n",
       "Name: method, dtype: float64"
      ]
     },
     "execution_count": 15,
     "metadata": {},
     "output_type": "execute_result"
    }
   ],
   "source": [
    "np.round((sample[\"method\"].value_counts() / sample.shape[0]) * 100, 2)"
   ]
  },
  {
   "cell_type": "code",
   "execution_count": 16,
   "id": "700d9ea0-c4f2-4a14-8071-94e99e60cde6",
   "metadata": {
    "execution": {
     "iopub.execute_input": "2023-11-05T03:45:37.083975Z",
     "iopub.status.busy": "2023-11-05T03:45:37.083486Z",
     "iopub.status.idle": "2023-11-05T03:46:50.597650Z",
     "shell.execute_reply": "2023-11-05T03:46:50.595682Z",
     "shell.execute_reply.started": "2023-11-05T03:45:37.083955Z"
    }
   },
   "outputs": [
    {
     "data": {
      "text/plain": [
       "(6494, 18361)"
      ]
     },
     "execution_count": 16,
     "metadata": {},
     "output_type": "execute_result"
    }
   ],
   "source": [
    "representation = NGram()\n",
    "features, result =representation.generate_representation(sample[\"abstracts\"].tolist())\n",
    "result.shape"
   ]
  },
  {
   "cell_type": "code",
   "execution_count": 39,
   "id": "986512af-23d7-413a-be77-b1ddd6173df6",
   "metadata": {
    "execution": {
     "iopub.execute_input": "2023-11-05T02:40:54.285681Z",
     "iopub.status.busy": "2023-11-05T02:40:54.285229Z",
     "iopub.status.idle": "2023-11-05T02:41:58.129968Z",
     "shell.execute_reply": "2023-11-05T02:41:58.120162Z",
     "shell.execute_reply.started": "2023-11-05T02:40:54.285642Z"
    }
   },
   "outputs": [
    {
     "data": {
      "text/plain": [
       "array([[0.        , 0.9310231 , 0.9799266 , ..., 0.9894676 , 0.9662112 ,\n",
       "        0.9783742 ],\n",
       "       [0.9310231 , 0.        , 0.9899555 , ..., 0.97768676, 0.9471673 ,\n",
       "        0.98890543],\n",
       "       [0.9799266 , 0.9899555 , 0.        , ..., 0.99020207, 0.99143434,\n",
       "        0.9765023 ],\n",
       "       ...,\n",
       "       [0.9894676 , 0.97768676, 0.99020207, ..., 0.        , 0.9629164 ,\n",
       "        0.9757997 ],\n",
       "       [0.9662112 , 0.9471673 , 0.99143434, ..., 0.9629164 , 0.        ,\n",
       "        0.92421246],\n",
       "       [0.9783742 , 0.98890543, 0.9765023 , ..., 0.9757997 , 0.92421246,\n",
       "        0.        ]], dtype=float32)"
      ]
     },
     "execution_count": 39,
     "metadata": {},
     "output_type": "execute_result"
    }
   ],
   "source": [
    "cosine_distances(result, result)"
   ]
  },
  {
   "cell_type": "code",
   "execution_count": 40,
   "id": "2c48bb34-099e-4ff5-bc59-b7335ed115b5",
   "metadata": {
    "execution": {
     "iopub.execute_input": "2023-11-05T02:44:15.593603Z",
     "iopub.status.busy": "2023-11-05T02:44:15.590711Z",
     "iopub.status.idle": "2023-11-05T02:44:15.614140Z",
     "shell.execute_reply": "2023-11-05T02:44:15.612437Z",
     "shell.execute_reply.started": "2023-11-05T02:44:15.593517Z"
    }
   },
   "outputs": [],
   "source": [
    "root_logger = getLogger(\"root\")"
   ]
  },
  {
   "cell_type": "code",
   "execution_count": 41,
   "id": "c612129d-c418-4507-8a59-f4df806d5d94",
   "metadata": {
    "execution": {
     "iopub.execute_input": "2023-11-05T02:44:16.005912Z",
     "iopub.status.busy": "2023-11-05T02:44:16.004966Z",
     "iopub.status.idle": "2023-11-05T02:44:16.022608Z",
     "shell.execute_reply": "2023-11-05T02:44:16.021483Z",
     "shell.execute_reply.started": "2023-11-05T02:44:16.005884Z"
    }
   },
   "outputs": [],
   "source": [
    "aiNet = AiNet(distance_method=\"cosine\", logger=root_logger)"
   ]
  },
  {
   "cell_type": "code",
   "execution_count": 42,
   "id": "1c08bddf-9d0f-4d4e-a74f-ae6badcfbbab",
   "metadata": {
    "execution": {
     "iopub.execute_input": "2023-11-05T02:44:17.921147Z",
     "iopub.status.busy": "2023-11-05T02:44:17.920060Z",
     "iopub.status.idle": "2023-11-05T02:55:53.487838Z",
     "shell.execute_reply": "2023-11-05T02:55:53.475096Z",
     "shell.execute_reply.started": "2023-11-05T02:44:17.921119Z"
    }
   },
   "outputs": [
    {
     "name": "stdout",
     "output_type": "stream",
     "text": [
      "iter: 1 | cur_hyper_rate:  0.00000000 | |██████----------------------------------------------------------------------------------------------| 6.7% | avd: 0.00000 | net size: 278\r"
     ]
    }
   ],
   "source": [
    "aiNet.fit(\n",
    "    antigen_population=result, \n",
    "    max_iter=15, \n",
    "    number_of_antibodies=int(result.shape[0] * 0.10), \n",
    "    clone_multiplier=10, \n",
    "    no_best_cells_taken_each_selection=5, \n",
    "    percent_clones_reselected=0.12, \n",
    "    pruning_threshold=0.5\n",
    ")"
   ]
  },
  {
   "cell_type": "code",
   "execution_count": 43,
   "id": "88ba54d3-39ae-498e-862a-64fef5744c49",
   "metadata": {
    "execution": {
     "iopub.execute_input": "2023-11-05T03:14:16.019159Z",
     "iopub.status.busy": "2023-11-05T03:14:16.017451Z",
     "iopub.status.idle": "2023-11-05T03:14:16.082003Z",
     "shell.execute_reply": "2023-11-05T03:14:16.080284Z",
     "shell.execute_reply.started": "2023-11-05T03:14:16.019032Z"
    }
   },
   "outputs": [
    {
     "data": {
      "text/plain": [
       "(278, 18389)"
      ]
     },
     "execution_count": 43,
     "metadata": {},
     "output_type": "execute_result"
    }
   ],
   "source": [
    "aiNet.antibody_population.shape"
   ]
  },
  {
   "cell_type": "code",
   "execution_count": 21,
   "id": "f1feb168-4599-4ce7-97c8-4087206294a7",
   "metadata": {
    "execution": {
     "iopub.execute_input": "2023-11-05T03:47:54.629288Z",
     "iopub.status.busy": "2023-11-05T03:47:54.628565Z",
     "iopub.status.idle": "2023-11-05T03:47:54.853130Z",
     "shell.execute_reply": "2023-11-05T03:47:54.851769Z",
     "shell.execute_reply.started": "2023-11-05T03:47:54.629266Z"
    }
   },
   "outputs": [],
   "source": [
    "sample.to_csv(\"sample_filtered_cleansed_joined_data.csv\", encoding=\"utf-8\", index=False, sep=\",\", quoting=csv.QUOTE_MINIMAL, quotechar='\"')"
   ]
  },
  {
   "cell_type": "code",
   "execution_count": 22,
   "id": "2a1209ca-abc1-44cb-8207-19ea89226d9b",
   "metadata": {
    "execution": {
     "iopub.execute_input": "2023-11-05T03:47:56.888746Z",
     "iopub.status.busy": "2023-11-05T03:47:56.888314Z",
     "iopub.status.idle": "2023-11-05T03:47:56.994502Z",
     "shell.execute_reply": "2023-11-05T03:47:56.993583Z",
     "shell.execute_reply.started": "2023-11-05T03:47:56.888729Z"
    }
   },
   "outputs": [],
   "source": [
    "with open(\"sample_filtered_cleansed_joined_data.csv\", \"r+\", newline=\"\", encoding=\"utf-8\") as f:\n",
    "    reader = csv.reader(f, delimiter=\",\", quoting=csv.QUOTE_MINIMAL, quotechar='\"')\n",
    "    data = list(reader)\n",
    "    header = data.pop(0)\n",
    "\n",
    "df1 = pd.DataFrame(data=data, columns=header)"
   ]
  },
  {
   "cell_type": "code",
   "execution_count": 23,
   "id": "0071b091-763c-4c2d-b3b7-3ad575e3a707",
   "metadata": {
    "execution": {
     "iopub.execute_input": "2023-11-05T03:47:57.561028Z",
     "iopub.status.busy": "2023-11-05T03:47:57.559479Z",
     "iopub.status.idle": "2023-11-05T03:47:57.594769Z",
     "shell.execute_reply": "2023-11-05T03:47:57.593679Z",
     "shell.execute_reply.started": "2023-11-05T03:47:57.560969Z"
    }
   },
   "outputs": [
    {
     "name": "stdout",
     "output_type": "stream",
     "text": [
      "<class 'pandas.core.frame.DataFrame'>\n",
      "RangeIndex: 6494 entries, 0 to 6493\n",
      "Data columns (total 7 columns):\n",
      " #   Column        Non-Null Count  Dtype \n",
      "---  ------        --------------  ----- \n",
      " 0   id            6494 non-null   object\n",
      " 1   article_id    6494 non-null   object\n",
      " 2   created       6494 non-null   object\n",
      " 3   org_category  6494 non-null   object\n",
      " 4   abstracts     6494 non-null   object\n",
      " 5   method_id     6494 non-null   object\n",
      " 6   method        6494 non-null   object\n",
      "dtypes: object(7)\n",
      "memory usage: 355.3+ KB\n"
     ]
    }
   ],
   "source": [
    "df1.info()"
   ]
  },
  {
   "cell_type": "code",
   "execution_count": 26,
   "id": "8b2af5b6-76d9-49a3-a056-d770e157ce3d",
   "metadata": {
    "execution": {
     "iopub.execute_input": "2023-11-05T03:48:39.868297Z",
     "iopub.status.busy": "2023-11-05T03:48:39.865345Z",
     "iopub.status.idle": "2023-11-05T03:48:39.880099Z",
     "shell.execute_reply": "2023-11-05T03:48:39.877398Z",
     "shell.execute_reply.started": "2023-11-05T03:48:39.868124Z"
    }
   },
   "outputs": [
    {
     "data": {
      "text/plain": [
       "computer_vision                3962\n",
       "natural_language_processing    1846\n",
       "reinforcement_learning          686\n",
       "Name: method, dtype: int64"
      ]
     },
     "execution_count": 26,
     "metadata": {},
     "output_type": "execute_result"
    }
   ],
   "source": [
    "df1[\"method\"].value_counts()"
   ]
  },
  {
   "cell_type": "code",
   "execution_count": 27,
   "id": "7390e75f-c2f6-4e4b-8f89-f5dea4580a7b",
   "metadata": {
    "execution": {
     "iopub.execute_input": "2023-11-05T04:17:01.992875Z",
     "iopub.status.busy": "2023-11-05T04:17:01.983985Z",
     "iopub.status.idle": "2023-11-05T04:17:02.339844Z",
     "shell.execute_reply": "2023-11-05T04:17:02.338479Z",
     "shell.execute_reply.started": "2023-11-05T04:17:01.992788Z"
    }
   },
   "outputs": [
    {
     "data": {
      "text/plain": [
       "0"
      ]
     },
     "execution_count": 27,
     "metadata": {},
     "output_type": "execute_result"
    }
   ],
   "source": [
    "(df1[\"abstracts\"].isna().astype(int) + df1[\"abstracts\"].isnull().astype(int)).sum()"
   ]
  },
  {
   "cell_type": "code",
   "execution_count": null,
   "id": "6d2f5fa5-6d11-43dd-8cbb-05de0cdcbbcb",
   "metadata": {},
   "outputs": [],
   "source": []
  }
 ],
 "metadata": {
  "kernelspec": {
   "display_name": "Python 3 (ipykernel)",
   "language": "python",
   "name": "python3"
  },
  "language_info": {
   "codemirror_mode": {
    "name": "ipython",
    "version": 3
   },
   "file_extension": ".py",
   "mimetype": "text/x-python",
   "name": "python",
   "nbconvert_exporter": "python",
   "pygments_lexer": "ipython3",
   "version": "3.11.6"
  },
  "widgets": {
   "application/vnd.jupyter.widget-state+json": {
    "state": {},
    "version_major": 2,
    "version_minor": 0
   }
  }
 },
 "nbformat": 4,
 "nbformat_minor": 5
}
