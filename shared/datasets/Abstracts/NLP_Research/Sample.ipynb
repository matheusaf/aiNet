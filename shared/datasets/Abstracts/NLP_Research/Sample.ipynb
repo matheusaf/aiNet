{
 "cells": [
  {
   "cell_type": "code",
   "execution_count": 1,
   "id": "f48cfd8a-21ef-44dd-ba52-f89f0c373128",
   "metadata": {
    "execution": {
     "iopub.execute_input": "2023-11-05T04:24:57.468783Z",
     "iopub.status.busy": "2023-11-05T04:24:57.468005Z",
     "iopub.status.idle": "2023-11-05T04:24:57.484728Z",
     "shell.execute_reply": "2023-11-05T04:24:57.482593Z",
     "shell.execute_reply.started": "2023-11-05T04:24:57.468701Z"
    }
   },
   "outputs": [],
   "source": [
    "import os\n",
    "import csv\n",
    "import sys\n",
    "from pathlib import Path\n",
    "\n",
    "sys.path.append(\n",
    "    os.path.join(\n",
    "        Path(os.getcwd()).parents[3],\n",
    "        \"src\"\n",
    "    )\n",
    ")"
   ]
  },
  {
   "cell_type": "code",
   "execution_count": 2,
   "id": "7eb58bc5-2502-4eb9-9706-7450f01ca23b",
   "metadata": {
    "execution": {
     "iopub.execute_input": "2023-11-05T04:24:57.488223Z",
     "iopub.status.busy": "2023-11-05T04:24:57.487482Z",
     "iopub.status.idle": "2023-11-05T04:25:11.424683Z",
     "shell.execute_reply": "2023-11-05T04:25:11.423499Z",
     "shell.execute_reply.started": "2023-11-05T04:24:57.488193Z"
    }
   },
   "outputs": [],
   "source": [
    "import numpy as np\n",
    "import pandas as pd\n",
    "from models import AiNet\n",
    "from representations import NGram\n",
    "from logging import getLogger\n",
    "from utils import cosine_distances, euclidean_distances"
   ]
  },
  {
   "cell_type": "code",
   "execution_count": 3,
   "id": "3492e807-2688-461e-abac-b5e00af76cc3",
   "metadata": {
    "execution": {
     "iopub.execute_input": "2023-11-05T04:25:11.442305Z",
     "iopub.status.busy": "2023-11-05T04:25:11.441876Z",
     "iopub.status.idle": "2023-11-05T04:25:11.883441Z",
     "shell.execute_reply": "2023-11-05T04:25:11.880932Z",
     "shell.execute_reply.started": "2023-11-05T04:25:11.442261Z"
    }
   },
   "outputs": [
    {
     "name": "stdout",
     "output_type": "stream",
     "text": [
      "<class 'pandas.core.frame.DataFrame'>\n",
      "RangeIndex: 15928 entries, 0 to 15927\n",
      "Data columns (total 4 columns):\n",
      " #   Column    Non-Null Count  Dtype \n",
      "---  ------    --------------  ----- \n",
      " 0   id        15928 non-null  object\n",
      " 1   title     15928 non-null  object\n",
      " 2   abstract  15928 non-null  object\n",
      " 3   topic     15928 non-null  object\n",
      "dtypes: object(4)\n",
      "memory usage: 497.9+ KB\n"
     ]
    }
   ],
   "source": [
    "with open(\"filtered_cleansed_data.csv\", \"r+\", newline=\"\", encoding=\"utf-8\") as f:\n",
    "    reader = csv.reader(f, delimiter=\",\", quotechar='\"', quoting=csv.QUOTE_MINIMAL)\n",
    "    data = list(reader)\n",
    "    header = data.pop(0)\n",
    "\n",
    "df = pd.DataFrame(data=data, columns=header)\n",
    "df.info()"
   ]
  },
  {
   "cell_type": "code",
   "execution_count": 4,
   "id": "46ac3b69-4f25-4e65-b646-aa66483d5ea9",
   "metadata": {
    "execution": {
     "iopub.execute_input": "2023-11-05T04:25:11.885882Z",
     "iopub.status.busy": "2023-11-05T04:25:11.885063Z",
     "iopub.status.idle": "2023-11-05T04:25:11.948192Z",
     "shell.execute_reply": "2023-11-05T04:25:11.945403Z",
     "shell.execute_reply.started": "2023-11-05T04:25:11.885851Z"
    }
   },
   "outputs": [
    {
     "data": {
      "text/html": [
       "<div>\n",
       "<style scoped>\n",
       "    .dataframe tbody tr th:only-of-type {\n",
       "        vertical-align: middle;\n",
       "    }\n",
       "\n",
       "    .dataframe tbody tr th {\n",
       "        vertical-align: top;\n",
       "    }\n",
       "\n",
       "    .dataframe thead th {\n",
       "        text-align: right;\n",
       "    }\n",
       "</style>\n",
       "<table border=\"1\" class=\"dataframe\">\n",
       "  <thead>\n",
       "    <tr style=\"text-align: right;\">\n",
       "      <th></th>\n",
       "      <th>id</th>\n",
       "      <th>title</th>\n",
       "      <th>abstract</th>\n",
       "      <th>topic</th>\n",
       "    </tr>\n",
       "  </thead>\n",
       "  <tbody>\n",
       "    <tr>\n",
       "      <th>12612</th>\n",
       "      <td>16597</td>\n",
       "      <td>Semi-supervised Embedding in Attributed Networ...</td>\n",
       "      <td>In this paper, we propose a novel framework,...</td>\n",
       "      <td>computer science</td>\n",
       "    </tr>\n",
       "    <tr>\n",
       "      <th>14383</th>\n",
       "      <td>18940</td>\n",
       "      <td>Simultaneous Multiparty Communication Complexi...</td>\n",
       "      <td>In the Number On the Forehead (NOF) multipar...</td>\n",
       "      <td>computer science</td>\n",
       "    </tr>\n",
       "  </tbody>\n",
       "</table>\n",
       "</div>"
      ],
      "text/plain": [
       "          id                                              title  \\\n",
       "12612  16597  Semi-supervised Embedding in Attributed Networ...   \n",
       "14383  18940  Simultaneous Multiparty Communication Complexi...   \n",
       "\n",
       "                                                abstract             topic  \n",
       "12612    In this paper, we propose a novel framework,...  computer science  \n",
       "14383    In the Number On the Forehead (NOF) multipar...  computer science  "
      ]
     },
     "execution_count": 4,
     "metadata": {},
     "output_type": "execute_result"
    }
   ],
   "source": [
    "sample = df.groupby(by=[\"topic\"], as_index=False, group_keys=False).apply(lambda c: c.sample(frac=0.4))\n",
    "sample.sample(2)"
   ]
  },
  {
   "cell_type": "code",
   "execution_count": 5,
   "id": "46302a69-d1a0-4f51-b7d0-4036b07f349e",
   "metadata": {
    "execution": {
     "iopub.execute_input": "2023-11-05T04:25:11.951855Z",
     "iopub.status.busy": "2023-11-05T04:25:11.950917Z",
     "iopub.status.idle": "2023-11-05T04:25:12.006977Z",
     "shell.execute_reply": "2023-11-05T04:25:12.002576Z",
     "shell.execute_reply.started": "2023-11-05T04:25:11.951809Z"
    }
   },
   "outputs": [
    {
     "name": "stdout",
     "output_type": "stream",
     "text": [
      "<class 'pandas.core.frame.DataFrame'>\n",
      "Int64Index: 6371 entries, 8608 to 4685\n",
      "Data columns (total 4 columns):\n",
      " #   Column    Non-Null Count  Dtype \n",
      "---  ------    --------------  ----- \n",
      " 0   id        6371 non-null   object\n",
      " 1   title     6371 non-null   object\n",
      " 2   abstract  6371 non-null   object\n",
      " 3   topic     6371 non-null   object\n",
      "dtypes: object(4)\n",
      "memory usage: 248.9+ KB\n"
     ]
    }
   ],
   "source": [
    "sample.info()"
   ]
  },
  {
   "cell_type": "code",
   "execution_count": 10,
   "id": "299e31e7-4e17-46ae-be84-80c486019e36",
   "metadata": {
    "execution": {
     "iopub.execute_input": "2023-11-05T04:31:07.564230Z",
     "iopub.status.busy": "2023-11-05T04:31:07.563430Z",
     "iopub.status.idle": "2023-11-05T04:31:07.582139Z",
     "shell.execute_reply": "2023-11-05T04:31:07.581005Z",
     "shell.execute_reply.started": "2023-11-05T04:31:07.564206Z"
    }
   },
   "outputs": [
    {
     "data": {
      "text/plain": [
       "physics                 2048\n",
       "computer science        1964\n",
       "mathematics             1444\n",
       "statistics               654\n",
       "quantitative biology     177\n",
       "quantitative finance      84\n",
       "Name: topic, dtype: int64"
      ]
     },
     "execution_count": 10,
     "metadata": {},
     "output_type": "execute_result"
    }
   ],
   "source": [
    "sample[\"topic\"].value_counts()"
   ]
  },
  {
   "cell_type": "code",
   "execution_count": 11,
   "id": "d5b66b58-417d-42c1-87b2-67728c777333",
   "metadata": {
    "execution": {
     "iopub.execute_input": "2023-11-05T04:31:08.329824Z",
     "iopub.status.busy": "2023-11-05T04:31:08.326538Z",
     "iopub.status.idle": "2023-11-05T04:31:08.348819Z",
     "shell.execute_reply": "2023-11-05T04:31:08.347729Z",
     "shell.execute_reply.started": "2023-11-05T04:31:08.329776Z"
    }
   },
   "outputs": [
    {
     "data": {
      "text/plain": [
       "physics                 32.14\n",
       "computer science        30.83\n",
       "mathematics             22.66\n",
       "statistics              10.27\n",
       "quantitative biology     2.78\n",
       "quantitative finance     1.31\n",
       "Name: topic, dtype: float64"
      ]
     },
     "execution_count": 11,
     "metadata": {},
     "output_type": "execute_result"
    }
   ],
   "source": [
    "np.round((df[\"topic\"].value_counts() / df.shape[0]) * 100, 2)"
   ]
  },
  {
   "cell_type": "code",
   "execution_count": 12,
   "id": "fcd6d2b9-c067-44f5-b91d-0c447a5023c2",
   "metadata": {
    "execution": {
     "iopub.execute_input": "2023-11-05T04:31:09.970800Z",
     "iopub.status.busy": "2023-11-05T04:31:09.970371Z",
     "iopub.status.idle": "2023-11-05T04:31:09.980594Z",
     "shell.execute_reply": "2023-11-05T04:31:09.979335Z",
     "shell.execute_reply.started": "2023-11-05T04:31:09.970779Z"
    },
    "scrolled": true
   },
   "outputs": [
    {
     "data": {
      "text/plain": [
       "physics                 32.15\n",
       "computer science        30.83\n",
       "mathematics             22.67\n",
       "statistics              10.27\n",
       "quantitative biology     2.78\n",
       "quantitative finance     1.32\n",
       "Name: topic, dtype: float64"
      ]
     },
     "execution_count": 12,
     "metadata": {},
     "output_type": "execute_result"
    }
   ],
   "source": [
    "np.round((sample[\"topic\"].value_counts() / sample.shape[0]) * 100, 2)"
   ]
  },
  {
   "cell_type": "code",
   "execution_count": 13,
   "id": "700d9ea0-c4f2-4a14-8071-94e99e60cde6",
   "metadata": {
    "execution": {
     "iopub.execute_input": "2023-11-05T04:31:12.100496Z",
     "iopub.status.busy": "2023-11-05T04:31:12.100005Z",
     "iopub.status.idle": "2023-11-05T04:32:47.970543Z",
     "shell.execute_reply": "2023-11-05T04:32:47.968636Z",
     "shell.execute_reply.started": "2023-11-05T04:31:12.100475Z"
    }
   },
   "outputs": [
    {
     "data": {
      "text/plain": [
       "(6371, 23712)"
      ]
     },
     "execution_count": 13,
     "metadata": {},
     "output_type": "execute_result"
    }
   ],
   "source": [
    "representation = NGram()\n",
    "features, result =representation.generate_representation(sample[\"abstract\"].tolist())\n",
    "result.shape"
   ]
  },
  {
   "cell_type": "code",
   "execution_count": 14,
   "id": "986512af-23d7-413a-be77-b1ddd6173df6",
   "metadata": {
    "execution": {
     "iopub.execute_input": "2023-11-05T04:32:47.976316Z",
     "iopub.status.busy": "2023-11-05T04:32:47.974847Z",
     "iopub.status.idle": "2023-11-05T04:33:40.346037Z",
     "shell.execute_reply": "2023-11-05T04:33:40.328285Z",
     "shell.execute_reply.started": "2023-11-05T04:32:47.976264Z"
    }
   },
   "outputs": [
    {
     "data": {
      "text/plain": [
       "array([[0.        , 0.9777462 , 0.98847955, ..., 1.        , 0.9392195 ,\n",
       "        0.9916393 ],\n",
       "       [0.9777462 , 0.        , 0.9350088 , ..., 0.9948972 , 0.9599305 ,\n",
       "        0.9833609 ],\n",
       "       [0.98847955, 0.9350088 , 0.        , ..., 0.9277114 , 0.9599772 ,\n",
       "        0.96104157],\n",
       "       ...,\n",
       "       [1.        , 0.9948972 , 0.9277114 , ..., 0.        , 0.9672066 ,\n",
       "        0.99350744],\n",
       "       [0.9392195 , 0.9599305 , 0.9599772 , ..., 0.9672066 , 0.        ,\n",
       "        0.9494341 ],\n",
       "       [0.9916393 , 0.9833609 , 0.96104157, ..., 0.99350744, 0.9494341 ,\n",
       "        0.        ]], dtype=float32)"
      ]
     },
     "execution_count": 14,
     "metadata": {},
     "output_type": "execute_result"
    }
   ],
   "source": [
    "cosine_distances(result, result)"
   ]
  },
  {
   "cell_type": "code",
   "execution_count": 15,
   "id": "2c48bb34-099e-4ff5-bc59-b7335ed115b5",
   "metadata": {
    "execution": {
     "iopub.execute_input": "2023-11-05T04:33:40.390775Z",
     "iopub.status.busy": "2023-11-05T04:33:40.389304Z",
     "iopub.status.idle": "2023-11-05T04:33:40.431432Z",
     "shell.execute_reply": "2023-11-05T04:33:40.429300Z",
     "shell.execute_reply.started": "2023-11-05T04:33:40.390633Z"
    }
   },
   "outputs": [],
   "source": [
    "root_logger = getLogger(\"root\")"
   ]
  },
  {
   "cell_type": "code",
   "execution_count": 16,
   "id": "c612129d-c418-4507-8a59-f4df806d5d94",
   "metadata": {
    "execution": {
     "iopub.execute_input": "2023-11-05T04:33:40.447220Z",
     "iopub.status.busy": "2023-11-05T04:33:40.445612Z",
     "iopub.status.idle": "2023-11-05T04:33:40.480371Z",
     "shell.execute_reply": "2023-11-05T04:33:40.479116Z",
     "shell.execute_reply.started": "2023-11-05T04:33:40.447176Z"
    }
   },
   "outputs": [],
   "source": [
    "aiNet = AiNet(distance_method=\"cosine\", logger=root_logger)"
   ]
  },
  {
   "cell_type": "code",
   "execution_count": 17,
   "id": "1c08bddf-9d0f-4d4e-a74f-ae6badcfbbab",
   "metadata": {
    "execution": {
     "iopub.execute_input": "2023-11-05T04:33:40.484749Z",
     "iopub.status.busy": "2023-11-05T04:33:40.484169Z",
     "iopub.status.idle": "2023-11-05T04:45:07.459495Z",
     "shell.execute_reply": "2023-11-05T04:45:07.451972Z",
     "shell.execute_reply.started": "2023-11-05T04:33:40.484709Z"
    }
   },
   "outputs": [
    {
     "name": "stdout",
     "output_type": "stream",
     "text": [
      "iter: 1 | cur_hyper_rate:  0.00000000 | |██████----------------------------------------------------------------------------------------------| 6.7% | avd: 0.00000 | net size: 205\r"
     ]
    }
   ],
   "source": [
    "aiNet.fit(\n",
    "    antigen_population=result, \n",
    "    max_iter=15, \n",
    "    number_of_antibodies=int(result.shape[0] * 0.10), \n",
    "    clone_multiplier=10, \n",
    "    no_best_cells_taken_each_selection=5, \n",
    "    percent_clones_reselected=0.12, \n",
    "    pruning_threshold=0.5\n",
    ")"
   ]
  },
  {
   "cell_type": "code",
   "execution_count": 18,
   "id": "88ba54d3-39ae-498e-862a-64fef5744c49",
   "metadata": {
    "execution": {
     "iopub.execute_input": "2023-11-05T04:45:07.484271Z",
     "iopub.status.busy": "2023-11-05T04:45:07.479856Z",
     "iopub.status.idle": "2023-11-05T04:45:07.568396Z",
     "shell.execute_reply": "2023-11-05T04:45:07.567074Z",
     "shell.execute_reply.started": "2023-11-05T04:45:07.484088Z"
    }
   },
   "outputs": [
    {
     "data": {
      "text/plain": [
       "(205, 23712)"
      ]
     },
     "execution_count": 18,
     "metadata": {},
     "output_type": "execute_result"
    }
   ],
   "source": [
    "aiNet.antibody_population.shape"
   ]
  },
  {
   "cell_type": "code",
   "execution_count": 20,
   "id": "f1feb168-4599-4ce7-97c8-4087206294a7",
   "metadata": {
    "execution": {
     "iopub.execute_input": "2023-11-05T05:04:28.142774Z",
     "iopub.status.busy": "2023-11-05T05:04:28.141038Z",
     "iopub.status.idle": "2023-11-05T05:04:28.378199Z",
     "shell.execute_reply": "2023-11-05T05:04:28.375983Z",
     "shell.execute_reply.started": "2023-11-05T05:04:28.142720Z"
    }
   },
   "outputs": [],
   "source": [
    "sample.to_csv(\"sample_filtered_cleansed_data.csv\", encoding=\"utf-8\", index=False, sep=\",\", quoting=csv.QUOTE_MINIMAL, quotechar='\"')"
   ]
  },
  {
   "cell_type": "code",
   "execution_count": 21,
   "id": "2a1209ca-abc1-44cb-8207-19ea89226d9b",
   "metadata": {
    "execution": {
     "iopub.execute_input": "2023-11-05T05:04:30.519769Z",
     "iopub.status.busy": "2023-11-05T05:04:30.519239Z",
     "iopub.status.idle": "2023-11-05T05:04:30.753457Z",
     "shell.execute_reply": "2023-11-05T05:04:30.752445Z",
     "shell.execute_reply.started": "2023-11-05T05:04:30.519748Z"
    }
   },
   "outputs": [],
   "source": [
    "with open(\"sample_filtered_cleansed_data.csv\", \"r+\", newline=\"\", encoding=\"utf-8\") as f:\n",
    "    reader = csv.reader(f, delimiter=\",\", quoting=csv.QUOTE_MINIMAL, quotechar='\"')\n",
    "    data = list(reader)\n",
    "    header = data.pop(0)\n",
    "\n",
    "df1 = pd.DataFrame(data=data, columns=header)"
   ]
  },
  {
   "cell_type": "code",
   "execution_count": 22,
   "id": "0071b091-763c-4c2d-b3b7-3ad575e3a707",
   "metadata": {
    "execution": {
     "iopub.execute_input": "2023-11-05T05:04:31.441084Z",
     "iopub.status.busy": "2023-11-05T05:04:31.440625Z",
     "iopub.status.idle": "2023-11-05T05:04:31.522087Z",
     "shell.execute_reply": "2023-11-05T05:04:31.521080Z",
     "shell.execute_reply.started": "2023-11-05T05:04:31.441064Z"
    }
   },
   "outputs": [
    {
     "name": "stdout",
     "output_type": "stream",
     "text": [
      "<class 'pandas.core.frame.DataFrame'>\n",
      "RangeIndex: 6371 entries, 0 to 6370\n",
      "Data columns (total 4 columns):\n",
      " #   Column    Non-Null Count  Dtype \n",
      "---  ------    --------------  ----- \n",
      " 0   id        6371 non-null   object\n",
      " 1   title     6371 non-null   object\n",
      " 2   abstract  6371 non-null   object\n",
      " 3   topic     6371 non-null   object\n",
      "dtypes: object(4)\n",
      "memory usage: 199.2+ KB\n"
     ]
    }
   ],
   "source": [
    "df1.info()"
   ]
  },
  {
   "cell_type": "code",
   "execution_count": 24,
   "id": "8b2af5b6-76d9-49a3-a056-d770e157ce3d",
   "metadata": {
    "execution": {
     "iopub.execute_input": "2023-11-05T05:04:45.233007Z",
     "iopub.status.busy": "2023-11-05T05:04:45.231885Z",
     "iopub.status.idle": "2023-11-05T05:04:45.242690Z",
     "shell.execute_reply": "2023-11-05T05:04:45.241800Z",
     "shell.execute_reply.started": "2023-11-05T05:04:45.232955Z"
    }
   },
   "outputs": [
    {
     "data": {
      "text/plain": [
       "physics                 2048\n",
       "computer science        1964\n",
       "mathematics             1444\n",
       "statistics               654\n",
       "quantitative biology     177\n",
       "quantitative finance      84\n",
       "Name: topic, dtype: int64"
      ]
     },
     "execution_count": 24,
     "metadata": {},
     "output_type": "execute_result"
    }
   ],
   "source": [
    "df1[\"topic\"].value_counts()"
   ]
  },
  {
   "cell_type": "code",
   "execution_count": 25,
   "id": "6dbdbc30-9578-4f6a-bf6a-177d84d14ac1",
   "metadata": {
    "execution": {
     "iopub.execute_input": "2023-11-05T05:04:51.753858Z",
     "iopub.status.busy": "2023-11-05T05:04:51.753341Z",
     "iopub.status.idle": "2023-11-05T05:04:51.764714Z",
     "shell.execute_reply": "2023-11-05T05:04:51.763515Z",
     "shell.execute_reply.started": "2023-11-05T05:04:51.753838Z"
    }
   },
   "outputs": [
    {
     "data": {
      "text/plain": [
       "0"
      ]
     },
     "execution_count": 25,
     "metadata": {},
     "output_type": "execute_result"
    }
   ],
   "source": [
    "(df1[\"abstract\"].isna().astype(int) + df1[\"abstract\"].isnull().astype(int)).sum()"
   ]
  },
  {
   "cell_type": "code",
   "execution_count": null,
   "id": "850a7ae0-65bd-4805-b77e-eaeaf65c5b56",
   "metadata": {},
   "outputs": [],
   "source": []
  }
 ],
 "metadata": {
  "kernelspec": {
   "display_name": "Python 3 (ipykernel)",
   "language": "python",
   "name": "python3"
  },
  "language_info": {
   "codemirror_mode": {
    "name": "ipython",
    "version": 3
   },
   "file_extension": ".py",
   "mimetype": "text/x-python",
   "name": "python",
   "nbconvert_exporter": "python",
   "pygments_lexer": "ipython3",
   "version": "3.11.6"
  },
  "widgets": {
   "application/vnd.jupyter.widget-state+json": {
    "state": {},
    "version_major": 2,
    "version_minor": 0
   }
  }
 },
 "nbformat": 4,
 "nbformat_minor": 5
}
