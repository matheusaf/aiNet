{
 "cells": [
  {
   "cell_type": "code",
   "execution_count": 1,
   "id": "f48cfd8a-21ef-44dd-ba52-f89f0c373128",
   "metadata": {
    "execution": {
     "iopub.execute_input": "2023-11-06T07:13:06.193143Z",
     "iopub.status.busy": "2023-11-06T07:13:06.192634Z",
     "iopub.status.idle": "2023-11-06T07:13:06.209602Z",
     "shell.execute_reply": "2023-11-06T07:13:06.207927Z",
     "shell.execute_reply.started": "2023-11-06T07:13:06.193113Z"
    }
   },
   "outputs": [
    {
     "data": {
      "text/plain": [
       "131072"
      ]
     },
     "execution_count": 1,
     "metadata": {},
     "output_type": "execute_result"
    }
   ],
   "source": [
    "import os\n",
    "import csv\n",
    "import sys\n",
    "from pathlib import Path\n",
    "\n",
    "sys.path.append(\n",
    "    os.path.join(\n",
    "        Path(os.getcwd()).parents[3],\n",
    "        \"src\"\n",
    "    )\n",
    ")\n",
    "\n",
    "csv.field_size_limit(sys.maxsize)"
   ]
  },
  {
   "cell_type": "code",
   "execution_count": 2,
   "id": "7eb58bc5-2502-4eb9-9706-7450f01ca23b",
   "metadata": {
    "execution": {
     "iopub.execute_input": "2023-11-06T07:13:06.696814Z",
     "iopub.status.busy": "2023-11-06T07:13:06.696470Z",
     "iopub.status.idle": "2023-11-06T07:13:12.560719Z",
     "shell.execute_reply": "2023-11-06T07:13:12.559759Z",
     "shell.execute_reply.started": "2023-11-06T07:13:06.696796Z"
    }
   },
   "outputs": [],
   "source": [
    "import numpy as np\n",
    "import pandas as pd\n",
    "from models import AiNet\n",
    "from representations import NGram\n",
    "from logging import getLogger\n",
    "from utils import cosine_distances, euclidean_distances"
   ]
  },
  {
   "cell_type": "code",
   "execution_count": 3,
   "id": "3492e807-2688-461e-abac-b5e00af76cc3",
   "metadata": {
    "execution": {
     "iopub.execute_input": "2023-11-06T07:13:12.564894Z",
     "iopub.status.busy": "2023-11-06T07:13:12.562868Z",
     "iopub.status.idle": "2023-11-06T07:13:13.721755Z",
     "shell.execute_reply": "2023-11-06T07:13:13.720134Z",
     "shell.execute_reply.started": "2023-11-06T07:13:12.564840Z"
    }
   },
   "outputs": [
    {
     "name": "stdout",
     "output_type": "stream",
     "text": [
      "<class 'pandas.core.frame.DataFrame'>\n",
      "RangeIndex: 112303 entries, 0 to 112302\n",
      "Data columns (total 7 columns):\n",
      " #   Column       Non-Null Count   Dtype \n",
      "---  ------       --------------   ----- \n",
      " 0   id           112303 non-null  object\n",
      " 1   drugName     112303 non-null  object\n",
      " 2   condition    112303 non-null  object\n",
      " 3   review       112303 non-null  object\n",
      " 4   rating       112303 non-null  object\n",
      " 5   date         112303 non-null  object\n",
      " 6   usefulCount  112303 non-null  object\n",
      "dtypes: object(7)\n",
      "memory usage: 6.0+ MB\n"
     ]
    }
   ],
   "source": [
    "with open(\"cleansed_train_data.csv\", \"r+\", newline=\"\", encoding=\"utf-8\") as f:\n",
    "    reader = csv.reader(f, delimiter=\",\", quotechar='\"', quoting=csv.QUOTE_MINIMAL)\n",
    "    data = list(reader)\n",
    "    header = data.pop(0)\n",
    "\n",
    "df = pd.DataFrame(data=data, columns=header)\n",
    "df.info()"
   ]
  },
  {
   "cell_type": "code",
   "execution_count": 6,
   "id": "1d3e687b-9d44-4214-978e-ae35aab23c18",
   "metadata": {
    "execution": {
     "iopub.execute_input": "2023-11-06T09:38:10.169944Z",
     "iopub.status.busy": "2023-11-06T09:38:10.169036Z",
     "iopub.status.idle": "2023-11-06T09:38:10.193531Z",
     "shell.execute_reply": "2023-11-06T09:38:10.192204Z",
     "shell.execute_reply.started": "2023-11-06T09:38:10.169885Z"
    }
   },
   "outputs": [
    {
     "data": {
      "text/plain": [
       "10    35514\n",
       "9     19143\n",
       "1     15094\n",
       "8     13197\n",
       "7      6621\n",
       "5      5585\n",
       "2      4802\n",
       "3      4481\n",
       "6      4407\n",
       "4      3459\n",
       "Name: rating, dtype: int64"
      ]
     },
     "execution_count": 6,
     "metadata": {},
     "output_type": "execute_result"
    }
   ],
   "source": [
    "df[\"rating\"].value_counts()"
   ]
  },
  {
   "cell_type": "code",
   "execution_count": 15,
   "id": "46ac3b69-4f25-4e65-b646-aa66483d5ea9",
   "metadata": {
    "execution": {
     "iopub.execute_input": "2023-11-06T09:40:26.975575Z",
     "iopub.status.busy": "2023-11-06T09:40:26.974977Z",
     "iopub.status.idle": "2023-11-06T09:40:27.072880Z",
     "shell.execute_reply": "2023-11-06T09:40:27.071389Z",
     "shell.execute_reply.started": "2023-11-06T09:40:26.975556Z"
    }
   },
   "outputs": [
    {
     "name": "stdout",
     "output_type": "stream",
     "text": [
      "<class 'pandas.core.frame.DataFrame'>\n",
      "Int64Index: 5615 entries, 95810 to 56819\n",
      "Data columns (total 7 columns):\n",
      " #   Column       Non-Null Count  Dtype \n",
      "---  ------       --------------  ----- \n",
      " 0   id           5615 non-null   object\n",
      " 1   drugName     5615 non-null   object\n",
      " 2   condition    5615 non-null   object\n",
      " 3   review       5615 non-null   object\n",
      " 4   rating       5615 non-null   object\n",
      " 5   date         5615 non-null   object\n",
      " 6   usefulCount  5615 non-null   object\n",
      "dtypes: object(7)\n",
      "memory usage: 350.9+ KB\n"
     ]
    }
   ],
   "source": [
    "sample = df.groupby(by=[\"rating\"], as_index=False, group_keys=False).apply(lambda c: c.sample(frac=0.05))\n",
    "sample.info()"
   ]
  },
  {
   "cell_type": "code",
   "execution_count": 16,
   "id": "46302a69-d1a0-4f51-b7d0-4036b07f349e",
   "metadata": {
    "execution": {
     "iopub.execute_input": "2023-11-06T09:40:29.358149Z",
     "iopub.status.busy": "2023-11-06T09:40:29.357561Z",
     "iopub.status.idle": "2023-11-06T09:40:29.373349Z",
     "shell.execute_reply": "2023-11-06T09:40:29.371777Z",
     "shell.execute_reply.started": "2023-11-06T09:40:29.358126Z"
    }
   },
   "outputs": [
    {
     "data": {
      "text/html": [
       "<div>\n",
       "<style scoped>\n",
       "    .dataframe tbody tr th:only-of-type {\n",
       "        vertical-align: middle;\n",
       "    }\n",
       "\n",
       "    .dataframe tbody tr th {\n",
       "        vertical-align: top;\n",
       "    }\n",
       "\n",
       "    .dataframe thead th {\n",
       "        text-align: right;\n",
       "    }\n",
       "</style>\n",
       "<table border=\"1\" class=\"dataframe\">\n",
       "  <thead>\n",
       "    <tr style=\"text-align: right;\">\n",
       "      <th></th>\n",
       "      <th>id</th>\n",
       "      <th>drugName</th>\n",
       "      <th>condition</th>\n",
       "      <th>review</th>\n",
       "      <th>rating</th>\n",
       "      <th>date</th>\n",
       "      <th>usefulCount</th>\n",
       "    </tr>\n",
       "  </thead>\n",
       "  <tbody>\n",
       "    <tr>\n",
       "      <th>92761</th>\n",
       "      <td>230402</td>\n",
       "      <td>Meloxicam</td>\n",
       "      <td>Inflammatory Conditions</td>\n",
       "      <td>\"My significant other died within 5 days of st...</td>\n",
       "      <td>1</td>\n",
       "      <td>August 26, 2015</td>\n",
       "      <td>69</td>\n",
       "    </tr>\n",
       "    <tr>\n",
       "      <th>53619</th>\n",
       "      <td>113380</td>\n",
       "      <td>Bisacodyl</td>\n",
       "      <td>Constipation</td>\n",
       "      <td>\"I took it right before bed (around 10) I slep...</td>\n",
       "      <td>8</td>\n",
       "      <td>June 16, 2015</td>\n",
       "      <td>14</td>\n",
       "    </tr>\n",
       "  </tbody>\n",
       "</table>\n",
       "</div>"
      ],
      "text/plain": [
       "           id   drugName                condition  \\\n",
       "92761  230402  Meloxicam  Inflammatory Conditions   \n",
       "53619  113380  Bisacodyl             Constipation   \n",
       "\n",
       "                                                  review rating  \\\n",
       "92761  \"My significant other died within 5 days of st...      1   \n",
       "53619  \"I took it right before bed (around 10) I slep...      8   \n",
       "\n",
       "                  date usefulCount  \n",
       "92761  August 26, 2015          69  \n",
       "53619    June 16, 2015          14  "
      ]
     },
     "execution_count": 16,
     "metadata": {},
     "output_type": "execute_result"
    }
   ],
   "source": [
    "sample.sample(2)"
   ]
  },
  {
   "cell_type": "code",
   "execution_count": 35,
   "id": "299e31e7-4e17-46ae-be84-80c486019e36",
   "metadata": {
    "execution": {
     "iopub.execute_input": "2023-11-06T18:15:11.279716Z",
     "iopub.status.busy": "2023-11-06T18:15:11.278897Z",
     "iopub.status.idle": "2023-11-06T18:15:11.311890Z",
     "shell.execute_reply": "2023-11-06T18:15:11.308810Z",
     "shell.execute_reply.started": "2023-11-06T18:15:11.279658Z"
    }
   },
   "outputs": [
    {
     "data": {
      "text/plain": [
       "1      755\n",
       "10    1776\n",
       "2      240\n",
       "3      224\n",
       "4      173\n",
       "5      279\n",
       "6      220\n",
       "7      331\n",
       "8      660\n",
       "9      957\n",
       "Name: rating, dtype: int64"
      ]
     },
     "execution_count": 35,
     "metadata": {},
     "output_type": "execute_result"
    }
   ],
   "source": [
    "sample[\"rating\"].value_counts().sort_index()"
   ]
  },
  {
   "cell_type": "code",
   "execution_count": 37,
   "id": "d5b66b58-417d-42c1-87b2-67728c777333",
   "metadata": {
    "execution": {
     "iopub.execute_input": "2023-11-06T18:18:55.322562Z",
     "iopub.status.busy": "2023-11-06T18:18:55.322177Z",
     "iopub.status.idle": "2023-11-06T18:18:55.372106Z",
     "shell.execute_reply": "2023-11-06T18:18:55.368074Z",
     "shell.execute_reply.started": "2023-11-06T18:18:55.322537Z"
    }
   },
   "outputs": [
    {
     "data": {
      "text/plain": [
       "1     13.44\n",
       "2      4.28\n",
       "3      3.99\n",
       "4      3.08\n",
       "5      4.97\n",
       "6      3.92\n",
       "7      5.90\n",
       "8     11.75\n",
       "9     17.05\n",
       "10    31.62\n",
       "Name: rating, dtype: float64"
      ]
     },
     "execution_count": 37,
     "metadata": {},
     "output_type": "execute_result"
    }
   ],
   "source": [
    "np.round((df[\"rating\"].astype(int).value_counts() / df.shape[0]) * 100, 2).sort_index()"
   ]
  },
  {
   "cell_type": "code",
   "execution_count": 39,
   "id": "fcd6d2b9-c067-44f5-b91d-0c447a5023c2",
   "metadata": {
    "execution": {
     "iopub.execute_input": "2023-11-06T18:19:44.001184Z",
     "iopub.status.busy": "2023-11-06T18:19:43.999799Z",
     "iopub.status.idle": "2023-11-06T18:19:44.020783Z",
     "shell.execute_reply": "2023-11-06T18:19:44.017911Z",
     "shell.execute_reply.started": "2023-11-06T18:19:44.001142Z"
    },
    "scrolled": true
   },
   "outputs": [
    {
     "data": {
      "text/plain": [
       "1     13.45\n",
       "2      4.27\n",
       "3      3.99\n",
       "4      3.08\n",
       "5      4.97\n",
       "6      3.92\n",
       "7      5.89\n",
       "8     11.75\n",
       "9     17.04\n",
       "10    31.63\n",
       "Name: rating, dtype: float64"
      ]
     },
     "execution_count": 39,
     "metadata": {},
     "output_type": "execute_result"
    }
   ],
   "source": [
    "np.round((sample[\"rating\"].astype(int).value_counts() / sample.shape[0]) * 100, 2).sort_index()"
   ]
  },
  {
   "cell_type": "code",
   "execution_count": 20,
   "id": "700d9ea0-c4f2-4a14-8071-94e99e60cde6",
   "metadata": {
    "execution": {
     "iopub.execute_input": "2023-11-06T09:40:32.530629Z",
     "iopub.status.busy": "2023-11-06T09:40:32.530168Z",
     "iopub.status.idle": "2023-11-06T09:41:03.382454Z",
     "shell.execute_reply": "2023-11-06T09:41:03.380777Z",
     "shell.execute_reply.started": "2023-11-06T09:40:32.530611Z"
    }
   },
   "outputs": [
    {
     "data": {
      "text/plain": [
       "(5615, 9534)"
      ]
     },
     "execution_count": 20,
     "metadata": {},
     "output_type": "execute_result"
    }
   ],
   "source": [
    "representation = NGram()\n",
    "features, result = representation.generate_representation(sample[\"review\"].tolist())\n",
    "result.shape"
   ]
  },
  {
   "cell_type": "code",
   "execution_count": 21,
   "id": "d0a1b124-4e8f-48d9-b3e1-c1380c4f3b26",
   "metadata": {
    "execution": {
     "iopub.execute_input": "2023-11-06T09:42:40.268271Z",
     "iopub.status.busy": "2023-11-06T09:42:40.267523Z",
     "iopub.status.idle": "2023-11-06T09:42:40.293822Z",
     "shell.execute_reply": "2023-11-06T09:42:40.292689Z",
     "shell.execute_reply.started": "2023-11-06T09:42:40.268247Z"
    }
   },
   "outputs": [
    {
     "data": {
      "text/plain": [
       "214133768"
      ]
     },
     "execution_count": 21,
     "metadata": {},
     "output_type": "execute_result"
    }
   ],
   "source": [
    "sys.getsizeof(result)"
   ]
  },
  {
   "cell_type": "code",
   "execution_count": 22,
   "id": "2dcf9ecd-512c-4fa5-8003-a47e66442f9a",
   "metadata": {
    "execution": {
     "iopub.execute_input": "2023-11-06T09:42:40.736691Z",
     "iopub.status.busy": "2023-11-06T09:42:40.736206Z",
     "iopub.status.idle": "2023-11-06T09:42:40.746690Z",
     "shell.execute_reply": "2023-11-06T09:42:40.742461Z",
     "shell.execute_reply.started": "2023-11-06T09:42:40.736668Z"
    }
   },
   "outputs": [
    {
     "data": {
      "text/plain": [
       "0.19942761212587357"
      ]
     },
     "execution_count": 22,
     "metadata": {},
     "output_type": "execute_result"
    }
   ],
   "source": [
    "sys.getsizeof(result) / (2 ** 30)"
   ]
  },
  {
   "cell_type": "code",
   "execution_count": 23,
   "id": "986512af-23d7-413a-be77-b1ddd6173df6",
   "metadata": {
    "execution": {
     "iopub.execute_input": "2023-11-06T09:42:41.623829Z",
     "iopub.status.busy": "2023-11-06T09:42:41.623212Z",
     "iopub.status.idle": "2023-11-06T09:42:48.618282Z",
     "shell.execute_reply": "2023-11-06T09:42:48.616819Z",
     "shell.execute_reply.started": "2023-11-06T09:42:41.623690Z"
    }
   },
   "outputs": [
    {
     "data": {
      "text/plain": [
       "array([[0.        , 0.8648496 , 1.        , ..., 1.        , 0.98855263,\n",
       "        1.        ],\n",
       "       [0.8648496 , 0.        , 0.9854263 , ..., 1.        , 0.9536495 ,\n",
       "        0.98339695],\n",
       "       [1.        , 0.9854263 , 0.        , ..., 0.9806092 , 0.9847667 ,\n",
       "        1.        ],\n",
       "       ...,\n",
       "       [1.        , 1.        , 0.9806092 , ..., 0.        , 0.95522135,\n",
       "        1.        ],\n",
       "       [0.98855263, 0.9536495 , 0.9847667 , ..., 0.95522135, 0.        ,\n",
       "        0.9457799 ],\n",
       "       [1.        , 0.98339695, 1.        , ..., 1.        , 0.9457799 ,\n",
       "        0.        ]], dtype=float32)"
      ]
     },
     "execution_count": 23,
     "metadata": {},
     "output_type": "execute_result"
    }
   ],
   "source": [
    "cosine_distances(result, result)"
   ]
  },
  {
   "cell_type": "code",
   "execution_count": 24,
   "id": "2c48bb34-099e-4ff5-bc59-b7335ed115b5",
   "metadata": {
    "execution": {
     "iopub.execute_input": "2023-11-06T09:42:48.622636Z",
     "iopub.status.busy": "2023-11-06T09:42:48.621532Z",
     "iopub.status.idle": "2023-11-06T09:42:48.627328Z",
     "shell.execute_reply": "2023-11-06T09:42:48.626206Z",
     "shell.execute_reply.started": "2023-11-06T09:42:48.622595Z"
    }
   },
   "outputs": [],
   "source": [
    "root_logger = getLogger(\"root\")"
   ]
  },
  {
   "cell_type": "code",
   "execution_count": 25,
   "id": "c612129d-c418-4507-8a59-f4df806d5d94",
   "metadata": {
    "execution": {
     "iopub.execute_input": "2023-11-06T09:42:48.628556Z",
     "iopub.status.busy": "2023-11-06T09:42:48.628347Z",
     "iopub.status.idle": "2023-11-06T09:42:48.641106Z",
     "shell.execute_reply": "2023-11-06T09:42:48.640084Z",
     "shell.execute_reply.started": "2023-11-06T09:42:48.628541Z"
    }
   },
   "outputs": [],
   "source": [
    "aiNet = AiNet(distance_method=\"cosine\", logger=root_logger)"
   ]
  },
  {
   "cell_type": "code",
   "execution_count": 26,
   "id": "1c08bddf-9d0f-4d4e-a74f-ae6badcfbbab",
   "metadata": {
    "execution": {
     "iopub.execute_input": "2023-11-06T11:19:26.983968Z",
     "iopub.status.busy": "2023-11-06T11:19:26.982091Z",
     "iopub.status.idle": "2023-11-06T11:23:16.167943Z",
     "shell.execute_reply": "2023-11-06T11:23:16.165836Z",
     "shell.execute_reply.started": "2023-11-06T11:19:26.983878Z"
    }
   },
   "outputs": [
    {
     "name": "stdout",
     "output_type": "stream",
     "text": [
      "iter: 1 | cur_hyper_rate:  0.00000000 | |██████----------------------------------------------------------------------------------------------| 6.7% | avd: 0.00000 | net size: 130\r"
     ]
    }
   ],
   "source": [
    "aiNet.fit(\n",
    "    antigen_population=result, \n",
    "    max_iter=15, \n",
    "    number_of_antibodies=int(result.shape[0] * 0.10), \n",
    "    clone_multiplier=10, \n",
    "    no_best_cells_taken_each_selection=5, \n",
    "    percent_clones_reselected=0.12, \n",
    "    pruning_threshold=0.5\n",
    ")"
   ]
  },
  {
   "cell_type": "code",
   "execution_count": 27,
   "id": "88ba54d3-39ae-498e-862a-64fef5744c49",
   "metadata": {
    "execution": {
     "iopub.execute_input": "2023-11-06T11:23:16.183792Z",
     "iopub.status.busy": "2023-11-06T11:23:16.182591Z",
     "iopub.status.idle": "2023-11-06T11:23:16.211015Z",
     "shell.execute_reply": "2023-11-06T11:23:16.209443Z",
     "shell.execute_reply.started": "2023-11-06T11:23:16.183659Z"
    }
   },
   "outputs": [
    {
     "data": {
      "text/plain": [
       "(130, 9534)"
      ]
     },
     "execution_count": 27,
     "metadata": {},
     "output_type": "execute_result"
    }
   ],
   "source": [
    "aiNet.antibody_population.shape"
   ]
  },
  {
   "cell_type": "code",
   "execution_count": 28,
   "id": "f1feb168-4599-4ce7-97c8-4087206294a7",
   "metadata": {
    "execution": {
     "iopub.execute_input": "2023-11-06T11:23:16.214235Z",
     "iopub.status.busy": "2023-11-06T11:23:16.213783Z",
     "iopub.status.idle": "2023-11-06T11:23:17.037483Z",
     "shell.execute_reply": "2023-11-06T11:23:17.036223Z",
     "shell.execute_reply.started": "2023-11-06T11:23:16.214205Z"
    }
   },
   "outputs": [],
   "source": [
    "sample.to_csv(\"sample_cleansed_train_data.csv\", encoding=\"utf-8\", index=False, sep=\",\", quoting=csv.QUOTE_MINIMAL, quotechar='\"')"
   ]
  },
  {
   "cell_type": "code",
   "execution_count": 30,
   "id": "2a1209ca-abc1-44cb-8207-19ea89226d9b",
   "metadata": {
    "execution": {
     "iopub.execute_input": "2023-11-06T18:12:58.069837Z",
     "iopub.status.busy": "2023-11-06T18:12:58.068618Z",
     "iopub.status.idle": "2023-11-06T18:12:59.085580Z",
     "shell.execute_reply": "2023-11-06T18:12:59.084547Z",
     "shell.execute_reply.started": "2023-11-06T18:12:58.069800Z"
    }
   },
   "outputs": [],
   "source": [
    "with open(\"sample_cleansed_train_data.csv\", \"r+\", newline=\"\", encoding=\"utf-8\") as f:\n",
    "    reader = csv.reader(f, delimiter=\",\", quoting=csv.QUOTE_MINIMAL, quotechar='\"')\n",
    "    data = list(reader)\n",
    "    header = data.pop(0)\n",
    "\n",
    "df1 = pd.DataFrame(data=data, columns=header)"
   ]
  },
  {
   "cell_type": "code",
   "execution_count": 31,
   "id": "0071b091-763c-4c2d-b3b7-3ad575e3a707",
   "metadata": {
    "execution": {
     "iopub.execute_input": "2023-11-06T18:13:02.271616Z",
     "iopub.status.busy": "2023-11-06T18:13:02.270469Z",
     "iopub.status.idle": "2023-11-06T18:13:02.365648Z",
     "shell.execute_reply": "2023-11-06T18:13:02.363766Z",
     "shell.execute_reply.started": "2023-11-06T18:13:02.271576Z"
    }
   },
   "outputs": [
    {
     "name": "stdout",
     "output_type": "stream",
     "text": [
      "<class 'pandas.core.frame.DataFrame'>\n",
      "RangeIndex: 5615 entries, 0 to 5614\n",
      "Data columns (total 7 columns):\n",
      " #   Column       Non-Null Count  Dtype \n",
      "---  ------       --------------  ----- \n",
      " 0   id           5615 non-null   object\n",
      " 1   drugName     5615 non-null   object\n",
      " 2   condition    5615 non-null   object\n",
      " 3   review       5615 non-null   object\n",
      " 4   rating       5615 non-null   object\n",
      " 5   date         5615 non-null   object\n",
      " 6   usefulCount  5615 non-null   object\n",
      "dtypes: object(7)\n",
      "memory usage: 307.2+ KB\n"
     ]
    }
   ],
   "source": [
    "df1.info()"
   ]
  },
  {
   "cell_type": "code",
   "execution_count": 32,
   "id": "8b2af5b6-76d9-49a3-a056-d770e157ce3d",
   "metadata": {
    "execution": {
     "iopub.execute_input": "2023-11-06T04:39:00.755723Z",
     "iopub.status.busy": "2023-11-06T04:39:00.755139Z",
     "iopub.status.idle": "2023-11-06T04:39:00.799351Z",
     "shell.execute_reply": "2023-11-06T04:39:00.790660Z",
     "shell.execute_reply.started": "2023-11-06T04:39:00.755703Z"
    }
   },
   "outputs": [
    {
     "data": {
      "text/plain": [
       "8     1952\n",
       "7     1690\n",
       "6      951\n",
       "5      300\n",
       "9      286\n",
       "4      170\n",
       "3       64\n",
       "10      50\n",
       "2       36\n",
       "1        7\n",
       "0        5\n",
       "Name: score_class, dtype: int64"
      ]
     },
     "execution_count": 32,
     "metadata": {},
     "output_type": "execute_result"
    }
   ],
   "source": [
    "df1[\"score_class\"].value_counts()"
   ]
  },
  {
   "cell_type": "code",
   "execution_count": 32,
   "id": "6dbdbc30-9578-4f6a-bf6a-177d84d14ac1",
   "metadata": {
    "execution": {
     "iopub.execute_input": "2023-11-06T18:13:18.717627Z",
     "iopub.status.busy": "2023-11-06T18:13:18.716639Z",
     "iopub.status.idle": "2023-11-06T18:13:18.735784Z",
     "shell.execute_reply": "2023-11-06T18:13:18.734944Z",
     "shell.execute_reply.started": "2023-11-06T18:13:18.717585Z"
    }
   },
   "outputs": [
    {
     "data": {
      "text/plain": [
       "0"
      ]
     },
     "execution_count": 32,
     "metadata": {},
     "output_type": "execute_result"
    }
   ],
   "source": [
    "(df1[\"review\"].isna().astype(int) + df1[\"review\"].isnull().astype(int)).sum()"
   ]
  },
  {
   "cell_type": "code",
   "execution_count": null,
   "id": "c4440910-f017-4a61-b91d-4877ea37af96",
   "metadata": {},
   "outputs": [],
   "source": []
  }
 ],
 "metadata": {
  "kernelspec": {
   "display_name": "Python 3 (ipykernel)",
   "language": "python",
   "name": "python3"
  },
  "language_info": {
   "codemirror_mode": {
    "name": "ipython",
    "version": 3
   },
   "file_extension": ".py",
   "mimetype": "text/x-python",
   "name": "python",
   "nbconvert_exporter": "python",
   "pygments_lexer": "ipython3",
   "version": "3.11.6"
  },
  "widgets": {
   "application/vnd.jupyter.widget-state+json": {
    "state": {},
    "version_major": 2,
    "version_minor": 0
   }
  }
 },
 "nbformat": 4,
 "nbformat_minor": 5
}
