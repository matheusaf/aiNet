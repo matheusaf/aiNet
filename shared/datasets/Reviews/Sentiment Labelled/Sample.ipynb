{
 "cells": [
  {
   "cell_type": "code",
   "execution_count": 1,
   "id": "f48cfd8a-21ef-44dd-ba52-f89f0c373128",
   "metadata": {
    "execution": {
     "iopub.execute_input": "2023-11-06T19:46:43.915672Z",
     "iopub.status.busy": "2023-11-06T19:46:43.913038Z",
     "iopub.status.idle": "2023-11-06T19:46:43.950749Z",
     "shell.execute_reply": "2023-11-06T19:46:43.946578Z",
     "shell.execute_reply.started": "2023-11-06T19:46:43.915589Z"
    }
   },
   "outputs": [
    {
     "data": {
      "text/plain": [
       "131072"
      ]
     },
     "execution_count": 1,
     "metadata": {},
     "output_type": "execute_result"
    }
   ],
   "source": [
    "import os\n",
    "import csv\n",
    "import sys\n",
    "from pathlib import Path\n",
    "\n",
    "sys.path.append(\n",
    "    os.path.join(\n",
    "        Path(os.getcwd()).parents[3],\n",
    "        \"src\"\n",
    "    )\n",
    ")\n",
    "\n",
    "csv.field_size_limit(sys.maxsize)"
   ]
  },
  {
   "cell_type": "code",
   "execution_count": 2,
   "id": "7eb58bc5-2502-4eb9-9706-7450f01ca23b",
   "metadata": {
    "execution": {
     "iopub.execute_input": "2023-11-06T19:46:43.958079Z",
     "iopub.status.busy": "2023-11-06T19:46:43.956982Z",
     "iopub.status.idle": "2023-11-06T19:46:57.975053Z",
     "shell.execute_reply": "2023-11-06T19:46:57.973053Z",
     "shell.execute_reply.started": "2023-11-06T19:46:43.958036Z"
    }
   },
   "outputs": [],
   "source": [
    "import numpy as np\n",
    "import pandas as pd\n",
    "from models import AiNet\n",
    "from representations import NGram\n",
    "from logging import getLogger\n",
    "from utils import cosine_distances, euclidean_distances"
   ]
  },
  {
   "cell_type": "code",
   "execution_count": 3,
   "id": "93552f76-a71d-4cf5-8a01-1c8e5647765a",
   "metadata": {
    "execution": {
     "iopub.execute_input": "2023-11-06T19:46:57.978420Z",
     "iopub.status.busy": "2023-11-06T19:46:57.977292Z",
     "iopub.status.idle": "2023-11-06T19:46:57.999660Z",
     "shell.execute_reply": "2023-11-06T19:46:57.997673Z",
     "shell.execute_reply.started": "2023-11-06T19:46:57.978375Z"
    }
   },
   "outputs": [],
   "source": [
    "with open(\"cleansed_data.csv\", \"r+\", newline=\"\", encoding=\"utf-8\") as f:\n",
    "    reader = csv.reader(f, delimiter=\",\", quotechar='\"', quoting=csv.QUOTE_MINIMAL)\n",
    "    data = list(reader)\n",
    "    header = data.pop(0)"
   ]
  },
  {
   "cell_type": "code",
   "execution_count": 4,
   "id": "47ba74ef-2d61-4ae6-a42b-22125c62df18",
   "metadata": {
    "execution": {
     "iopub.execute_input": "2023-11-06T19:46:58.021933Z",
     "iopub.status.busy": "2023-11-06T19:46:58.019580Z",
     "iopub.status.idle": "2023-11-06T19:46:58.052850Z",
     "shell.execute_reply": "2023-11-06T19:46:58.050804Z",
     "shell.execute_reply.started": "2023-11-06T19:46:58.021869Z"
    }
   },
   "outputs": [
    {
     "name": "stdout",
     "output_type": "stream",
     "text": [
      "<class 'pandas.core.frame.DataFrame'>\n",
      "RangeIndex: 2979 entries, 0 to 2978\n",
      "Data columns (total 2 columns):\n",
      " #   Column  Non-Null Count  Dtype \n",
      "---  ------  --------------  ----- \n",
      " 0   text    2979 non-null   object\n",
      " 1   label   2979 non-null   object\n",
      "dtypes: object(2)\n",
      "memory usage: 46.7+ KB\n"
     ]
    }
   ],
   "source": [
    "df = pd.DataFrame(data=data, columns=header)\n",
    "df.info()"
   ]
  },
  {
   "cell_type": "code",
   "execution_count": 5,
   "id": "1d3e687b-9d44-4214-978e-ae35aab23c18",
   "metadata": {
    "execution": {
     "iopub.execute_input": "2023-11-06T19:46:58.055874Z",
     "iopub.status.busy": "2023-11-06T19:46:58.054875Z",
     "iopub.status.idle": "2023-11-06T19:46:58.072777Z",
     "shell.execute_reply": "2023-11-06T19:46:58.070588Z",
     "shell.execute_reply.started": "2023-11-06T19:46:58.055822Z"
    }
   },
   "outputs": [
    {
     "data": {
      "text/plain": [
       "0    1491\n",
       "1    1488\n",
       "Name: label, dtype: int64"
      ]
     },
     "execution_count": 5,
     "metadata": {},
     "output_type": "execute_result"
    }
   ],
   "source": [
    "df[\"label\"].value_counts().sort_index()"
   ]
  },
  {
   "cell_type": "code",
   "execution_count": 6,
   "id": "d5b66b58-417d-42c1-87b2-67728c777333",
   "metadata": {
    "execution": {
     "iopub.execute_input": "2023-11-06T19:46:58.083234Z",
     "iopub.status.busy": "2023-11-06T19:46:58.082177Z",
     "iopub.status.idle": "2023-11-06T19:46:58.106806Z",
     "shell.execute_reply": "2023-11-06T19:46:58.104294Z",
     "shell.execute_reply.started": "2023-11-06T19:46:58.083115Z"
    }
   },
   "outputs": [
    {
     "data": {
      "text/plain": [
       "0    50.05\n",
       "1    49.95\n",
       "Name: label, dtype: float64"
      ]
     },
     "execution_count": 6,
     "metadata": {},
     "output_type": "execute_result"
    }
   ],
   "source": [
    "np.round((df[\"label\"].astype(int).value_counts() / df.shape[0]) * 100, 2).sort_index()"
   ]
  },
  {
   "cell_type": "code",
   "execution_count": 20,
   "id": "700d9ea0-c4f2-4a14-8071-94e99e60cde6",
   "metadata": {
    "execution": {
     "iopub.execute_input": "2023-11-06T09:40:32.530629Z",
     "iopub.status.busy": "2023-11-06T09:40:32.530168Z",
     "iopub.status.idle": "2023-11-06T09:41:03.382454Z",
     "shell.execute_reply": "2023-11-06T09:41:03.380777Z",
     "shell.execute_reply.started": "2023-11-06T09:40:32.530611Z"
    }
   },
   "outputs": [
    {
     "data": {
      "text/plain": [
       "(5615, 9534)"
      ]
     },
     "execution_count": 20,
     "metadata": {},
     "output_type": "execute_result"
    }
   ],
   "source": [
    "representation = NGram()\n",
    "features, result = representation.generate_representation(sample[\"review\"].tolist())\n",
    "result.shape"
   ]
  },
  {
   "cell_type": "code",
   "execution_count": 21,
   "id": "d0a1b124-4e8f-48d9-b3e1-c1380c4f3b26",
   "metadata": {
    "execution": {
     "iopub.execute_input": "2023-11-06T09:42:40.268271Z",
     "iopub.status.busy": "2023-11-06T09:42:40.267523Z",
     "iopub.status.idle": "2023-11-06T09:42:40.293822Z",
     "shell.execute_reply": "2023-11-06T09:42:40.292689Z",
     "shell.execute_reply.started": "2023-11-06T09:42:40.268247Z"
    }
   },
   "outputs": [
    {
     "data": {
      "text/plain": [
       "214133768"
      ]
     },
     "execution_count": 21,
     "metadata": {},
     "output_type": "execute_result"
    }
   ],
   "source": [
    "sys.getsizeof(result)"
   ]
  },
  {
   "cell_type": "code",
   "execution_count": 22,
   "id": "2dcf9ecd-512c-4fa5-8003-a47e66442f9a",
   "metadata": {
    "execution": {
     "iopub.execute_input": "2023-11-06T09:42:40.736691Z",
     "iopub.status.busy": "2023-11-06T09:42:40.736206Z",
     "iopub.status.idle": "2023-11-06T09:42:40.746690Z",
     "shell.execute_reply": "2023-11-06T09:42:40.742461Z",
     "shell.execute_reply.started": "2023-11-06T09:42:40.736668Z"
    }
   },
   "outputs": [
    {
     "data": {
      "text/plain": [
       "0.19942761212587357"
      ]
     },
     "execution_count": 22,
     "metadata": {},
     "output_type": "execute_result"
    }
   ],
   "source": [
    "sys.getsizeof(result) / (2 ** 30)"
   ]
  },
  {
   "cell_type": "code",
   "execution_count": 23,
   "id": "986512af-23d7-413a-be77-b1ddd6173df6",
   "metadata": {
    "execution": {
     "iopub.execute_input": "2023-11-06T09:42:41.623829Z",
     "iopub.status.busy": "2023-11-06T09:42:41.623212Z",
     "iopub.status.idle": "2023-11-06T09:42:48.618282Z",
     "shell.execute_reply": "2023-11-06T09:42:48.616819Z",
     "shell.execute_reply.started": "2023-11-06T09:42:41.623690Z"
    }
   },
   "outputs": [
    {
     "data": {
      "text/plain": [
       "array([[0.        , 0.8648496 , 1.        , ..., 1.        , 0.98855263,\n",
       "        1.        ],\n",
       "       [0.8648496 , 0.        , 0.9854263 , ..., 1.        , 0.9536495 ,\n",
       "        0.98339695],\n",
       "       [1.        , 0.9854263 , 0.        , ..., 0.9806092 , 0.9847667 ,\n",
       "        1.        ],\n",
       "       ...,\n",
       "       [1.        , 1.        , 0.9806092 , ..., 0.        , 0.95522135,\n",
       "        1.        ],\n",
       "       [0.98855263, 0.9536495 , 0.9847667 , ..., 0.95522135, 0.        ,\n",
       "        0.9457799 ],\n",
       "       [1.        , 0.98339695, 1.        , ..., 1.        , 0.9457799 ,\n",
       "        0.        ]], dtype=float32)"
      ]
     },
     "execution_count": 23,
     "metadata": {},
     "output_type": "execute_result"
    }
   ],
   "source": [
    "cosine_distances(result, result)"
   ]
  },
  {
   "cell_type": "code",
   "execution_count": 24,
   "id": "2c48bb34-099e-4ff5-bc59-b7335ed115b5",
   "metadata": {
    "execution": {
     "iopub.execute_input": "2023-11-06T09:42:48.622636Z",
     "iopub.status.busy": "2023-11-06T09:42:48.621532Z",
     "iopub.status.idle": "2023-11-06T09:42:48.627328Z",
     "shell.execute_reply": "2023-11-06T09:42:48.626206Z",
     "shell.execute_reply.started": "2023-11-06T09:42:48.622595Z"
    }
   },
   "outputs": [],
   "source": [
    "root_logger = getLogger(\"root\")"
   ]
  },
  {
   "cell_type": "code",
   "execution_count": 25,
   "id": "c612129d-c418-4507-8a59-f4df806d5d94",
   "metadata": {
    "execution": {
     "iopub.execute_input": "2023-11-06T09:42:48.628556Z",
     "iopub.status.busy": "2023-11-06T09:42:48.628347Z",
     "iopub.status.idle": "2023-11-06T09:42:48.641106Z",
     "shell.execute_reply": "2023-11-06T09:42:48.640084Z",
     "shell.execute_reply.started": "2023-11-06T09:42:48.628541Z"
    }
   },
   "outputs": [],
   "source": [
    "aiNet = AiNet(distance_method=\"cosine\", logger=root_logger)"
   ]
  },
  {
   "cell_type": "code",
   "execution_count": 26,
   "id": "1c08bddf-9d0f-4d4e-a74f-ae6badcfbbab",
   "metadata": {
    "execution": {
     "iopub.execute_input": "2023-11-06T11:19:26.983968Z",
     "iopub.status.busy": "2023-11-06T11:19:26.982091Z",
     "iopub.status.idle": "2023-11-06T11:23:16.167943Z",
     "shell.execute_reply": "2023-11-06T11:23:16.165836Z",
     "shell.execute_reply.started": "2023-11-06T11:19:26.983878Z"
    }
   },
   "outputs": [
    {
     "name": "stdout",
     "output_type": "stream",
     "text": [
      "iter: 1 | cur_hyper_rate:  0.00000000 | |██████----------------------------------------------------------------------------------------------| 6.7% | avd: 0.00000 | net size: 130\r"
     ]
    }
   ],
   "source": [
    "aiNet.fit(\n",
    "    antigen_population=result, \n",
    "    max_iter=15, \n",
    "    number_of_antibodies=int(result.shape[0] * 0.10), \n",
    "    clone_multiplier=10, \n",
    "    no_best_cells_taken_each_selection=5, \n",
    "    percent_clones_reselected=0.12, \n",
    "    pruning_threshold=0.5\n",
    ")"
   ]
  },
  {
   "cell_type": "code",
   "execution_count": 27,
   "id": "88ba54d3-39ae-498e-862a-64fef5744c49",
   "metadata": {
    "execution": {
     "iopub.execute_input": "2023-11-06T11:23:16.183792Z",
     "iopub.status.busy": "2023-11-06T11:23:16.182591Z",
     "iopub.status.idle": "2023-11-06T11:23:16.211015Z",
     "shell.execute_reply": "2023-11-06T11:23:16.209443Z",
     "shell.execute_reply.started": "2023-11-06T11:23:16.183659Z"
    }
   },
   "outputs": [
    {
     "data": {
      "text/plain": [
       "(130, 9534)"
      ]
     },
     "execution_count": 27,
     "metadata": {},
     "output_type": "execute_result"
    }
   ],
   "source": [
    "aiNet.antibody_population.shape"
   ]
  },
  {
   "cell_type": "code",
   "execution_count": 28,
   "id": "f1feb168-4599-4ce7-97c8-4087206294a7",
   "metadata": {
    "execution": {
     "iopub.execute_input": "2023-11-06T11:23:16.214235Z",
     "iopub.status.busy": "2023-11-06T11:23:16.213783Z",
     "iopub.status.idle": "2023-11-06T11:23:17.037483Z",
     "shell.execute_reply": "2023-11-06T11:23:17.036223Z",
     "shell.execute_reply.started": "2023-11-06T11:23:16.214205Z"
    }
   },
   "outputs": [],
   "source": [
    "sample.to_csv(\"sample_cleansed_train_data.csv\", encoding=\"utf-8\", index=False, sep=\",\", quoting=csv.QUOTE_MINIMAL, quotechar='\"')"
   ]
  },
  {
   "cell_type": "code",
   "execution_count": 30,
   "id": "2a1209ca-abc1-44cb-8207-19ea89226d9b",
   "metadata": {
    "execution": {
     "iopub.execute_input": "2023-11-06T18:12:58.069837Z",
     "iopub.status.busy": "2023-11-06T18:12:58.068618Z",
     "iopub.status.idle": "2023-11-06T18:12:59.085580Z",
     "shell.execute_reply": "2023-11-06T18:12:59.084547Z",
     "shell.execute_reply.started": "2023-11-06T18:12:58.069800Z"
    }
   },
   "outputs": [],
   "source": [
    "with open(\"sample_cleansed_train_data.csv\", \"r+\", newline=\"\", encoding=\"utf-8\") as f:\n",
    "    reader = csv.reader(f, delimiter=\",\", quoting=csv.QUOTE_MINIMAL, quotechar='\"')\n",
    "    data = list(reader)\n",
    "    header = data.pop(0)\n",
    "\n",
    "df1 = pd.DataFrame(data=data, columns=header)"
   ]
  },
  {
   "cell_type": "code",
   "execution_count": 31,
   "id": "0071b091-763c-4c2d-b3b7-3ad575e3a707",
   "metadata": {
    "execution": {
     "iopub.execute_input": "2023-11-06T18:13:02.271616Z",
     "iopub.status.busy": "2023-11-06T18:13:02.270469Z",
     "iopub.status.idle": "2023-11-06T18:13:02.365648Z",
     "shell.execute_reply": "2023-11-06T18:13:02.363766Z",
     "shell.execute_reply.started": "2023-11-06T18:13:02.271576Z"
    }
   },
   "outputs": [
    {
     "name": "stdout",
     "output_type": "stream",
     "text": [
      "<class 'pandas.core.frame.DataFrame'>\n",
      "RangeIndex: 5615 entries, 0 to 5614\n",
      "Data columns (total 7 columns):\n",
      " #   Column       Non-Null Count  Dtype \n",
      "---  ------       --------------  ----- \n",
      " 0   id           5615 non-null   object\n",
      " 1   drugName     5615 non-null   object\n",
      " 2   condition    5615 non-null   object\n",
      " 3   review       5615 non-null   object\n",
      " 4   rating       5615 non-null   object\n",
      " 5   date         5615 non-null   object\n",
      " 6   usefulCount  5615 non-null   object\n",
      "dtypes: object(7)\n",
      "memory usage: 307.2+ KB\n"
     ]
    }
   ],
   "source": [
    "df1.info()"
   ]
  },
  {
   "cell_type": "code",
   "execution_count": 32,
   "id": "8b2af5b6-76d9-49a3-a056-d770e157ce3d",
   "metadata": {
    "execution": {
     "iopub.execute_input": "2023-11-06T04:39:00.755723Z",
     "iopub.status.busy": "2023-11-06T04:39:00.755139Z",
     "iopub.status.idle": "2023-11-06T04:39:00.799351Z",
     "shell.execute_reply": "2023-11-06T04:39:00.790660Z",
     "shell.execute_reply.started": "2023-11-06T04:39:00.755703Z"
    }
   },
   "outputs": [
    {
     "data": {
      "text/plain": [
       "8     1952\n",
       "7     1690\n",
       "6      951\n",
       "5      300\n",
       "9      286\n",
       "4      170\n",
       "3       64\n",
       "10      50\n",
       "2       36\n",
       "1        7\n",
       "0        5\n",
       "Name: score_class, dtype: int64"
      ]
     },
     "execution_count": 32,
     "metadata": {},
     "output_type": "execute_result"
    }
   ],
   "source": [
    "df1[\"score_class\"].value_counts()"
   ]
  },
  {
   "cell_type": "code",
   "execution_count": 32,
   "id": "6dbdbc30-9578-4f6a-bf6a-177d84d14ac1",
   "metadata": {
    "execution": {
     "iopub.execute_input": "2023-11-06T18:13:18.717627Z",
     "iopub.status.busy": "2023-11-06T18:13:18.716639Z",
     "iopub.status.idle": "2023-11-06T18:13:18.735784Z",
     "shell.execute_reply": "2023-11-06T18:13:18.734944Z",
     "shell.execute_reply.started": "2023-11-06T18:13:18.717585Z"
    }
   },
   "outputs": [
    {
     "data": {
      "text/plain": [
       "0"
      ]
     },
     "execution_count": 32,
     "metadata": {},
     "output_type": "execute_result"
    }
   ],
   "source": [
    "(df1[\"review\"].isna().astype(int) + df1[\"review\"].isnull().astype(int)).sum()"
   ]
  },
  {
   "cell_type": "code",
   "execution_count": null,
   "id": "c4440910-f017-4a61-b91d-4877ea37af96",
   "metadata": {},
   "outputs": [],
   "source": []
  }
 ],
 "metadata": {
  "kernelspec": {
   "display_name": "Python 3 (ipykernel)",
   "language": "python",
   "name": "python3"
  },
  "language_info": {
   "codemirror_mode": {
    "name": "ipython",
    "version": 3
   },
   "file_extension": ".py",
   "mimetype": "text/x-python",
   "name": "python",
   "nbconvert_exporter": "python",
   "pygments_lexer": "ipython3",
   "version": "3.11.6"
  },
  "widgets": {
   "application/vnd.jupyter.widget-state+json": {
    "state": {},
    "version_major": 2,
    "version_minor": 0
   }
  }
 },
 "nbformat": 4,
 "nbformat_minor": 5
}
