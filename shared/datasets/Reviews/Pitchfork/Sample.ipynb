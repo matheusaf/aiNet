{
 "cells": [
  {
   "cell_type": "code",
   "execution_count": 1,
   "id": "f48cfd8a-21ef-44dd-ba52-f89f0c373128",
   "metadata": {
    "execution": {
     "iopub.execute_input": "2023-11-11T04:37:56.111179Z",
     "iopub.status.busy": "2023-11-11T04:37:56.110751Z",
     "iopub.status.idle": "2023-11-11T04:37:56.185770Z",
     "shell.execute_reply": "2023-11-11T04:37:56.179301Z",
     "shell.execute_reply.started": "2023-11-11T04:37:56.111145Z"
    }
   },
   "outputs": [
    {
     "data": {
      "text/plain": [
       "131072"
      ]
     },
     "execution_count": 1,
     "metadata": {},
     "output_type": "execute_result"
    }
   ],
   "source": [
    "import os\n",
    "import csv\n",
    "import sys\n",
    "from pathlib import Path\n",
    "\n",
    "sys.path.append(\n",
    "    os.path.join(\n",
    "        Path(os.getcwd()).parents[3],\n",
    "        \"src\"\n",
    "    )\n",
    ")\n",
    "\n",
    "csv.field_size_limit(sys.maxsize)"
   ]
  },
  {
   "cell_type": "code",
   "execution_count": null,
   "id": "7eb58bc5-2502-4eb9-9706-7450f01ca23b",
   "metadata": {},
   "outputs": [],
   "source": [
    "import numpy as np\n",
    "import pandas as pd\n",
    "from models import AiNet\n",
    "from representations import NGram\n",
    "from logging import getLogger\n",
    "from utils import cosine_distances, euclidean_distances"
   ]
  },
  {
   "cell_type": "code",
   "execution_count": null,
   "id": "3492e807-2688-461e-abac-b5e00af76cc3",
   "metadata": {},
   "outputs": [],
   "source": [
    "with open(\"cleansed_data.csv\", \"r+\", newline=\"\", encoding=\"utf-8\") as f:\n",
    "    reader = csv.reader(f, delimiter=\",\", quotechar='\"', quoting=csv.QUOTE_MINIMAL)\n",
    "    data = list(reader)\n",
    "    header = data.pop(0)\n",
    "\n",
    "df = pd.DataFrame(data=data, columns=header)\n",
    "df.info()"
   ]
  },
  {
   "cell_type": "code",
   "execution_count": null,
   "id": "46ac3b69-4f25-4e65-b646-aa66483d5ea9",
   "metadata": {},
   "outputs": [],
   "source": [
    "sample = df.groupby(by=[\"score_class\"], as_index=False, group_keys=False).apply(lambda c: c.sample(frac=0.30))\n",
    "sample.info()"
   ]
  },
  {
   "cell_type": "code",
   "execution_count": 12,
   "id": "46302a69-d1a0-4f51-b7d0-4036b07f349e",
   "metadata": {
    "execution": {
     "iopub.execute_input": "2023-11-06T03:46:38.748128Z",
     "iopub.status.busy": "2023-11-06T03:46:38.747121Z",
     "iopub.status.idle": "2023-11-06T03:46:38.758854Z",
     "shell.execute_reply": "2023-11-06T03:46:38.757987Z",
     "shell.execute_reply.started": "2023-11-06T03:46:38.748090Z"
    }
   },
   "outputs": [
    {
     "data": {
      "text/html": [
       "<div>\n",
       "<style scoped>\n",
       "    .dataframe tbody tr th:only-of-type {\n",
       "        vertical-align: middle;\n",
       "    }\n",
       "\n",
       "    .dataframe tbody tr th {\n",
       "        vertical-align: top;\n",
       "    }\n",
       "\n",
       "    .dataframe thead th {\n",
       "        text-align: right;\n",
       "    }\n",
       "</style>\n",
       "<table border=\"1\" class=\"dataframe\">\n",
       "  <thead>\n",
       "    <tr style=\"text-align: right;\">\n",
       "      <th></th>\n",
       "      <th>id</th>\n",
       "      <th>review_title</th>\n",
       "      <th>review</th>\n",
       "      <th>url</th>\n",
       "      <th>best_new_music</th>\n",
       "      <th>author</th>\n",
       "      <th>author_type</th>\n",
       "      <th>score</th>\n",
       "      <th>score_class</th>\n",
       "    </tr>\n",
       "  </thead>\n",
       "  <tbody>\n",
       "    <tr>\n",
       "      <th>3562</th>\n",
       "      <td>18831</td>\n",
       "      <td>drilluminati 2</td>\n",
       "      <td>As Chicago’s King L continues to orbit around ...</td>\n",
       "      <td>http://pitchfork.com/reviews/albums/18831-king...</td>\n",
       "      <td>0</td>\n",
       "      <td>jordan sargent</td>\n",
       "      <td></td>\n",
       "      <td>6.7</td>\n",
       "      <td>7</td>\n",
       "    </tr>\n",
       "    <tr>\n",
       "      <th>10409</th>\n",
       "      <td>11224</td>\n",
       "      <td>grand archives</td>\n",
       "      <td>\\r\\n    I'll give this to Sub Pop: They certai...</td>\n",
       "      <td>http://pitchfork.com/reviews/albums/11224-gran...</td>\n",
       "      <td>0</td>\n",
       "      <td>ian cohen</td>\n",
       "      <td>contributor</td>\n",
       "      <td>7.8</td>\n",
       "      <td>8</td>\n",
       "    </tr>\n",
       "  </tbody>\n",
       "</table>\n",
       "</div>"
      ],
      "text/plain": [
       "          id    review_title  \\\n",
       "3562   18831  drilluminati 2   \n",
       "10409  11224  grand archives   \n",
       "\n",
       "                                                  review  \\\n",
       "3562   As Chicago’s King L continues to orbit around ...   \n",
       "10409  \\r\\n    I'll give this to Sub Pop: They certai...   \n",
       "\n",
       "                                                     url best_new_music  \\\n",
       "3562   http://pitchfork.com/reviews/albums/18831-king...              0   \n",
       "10409  http://pitchfork.com/reviews/albums/11224-gran...              0   \n",
       "\n",
       "               author  author_type score score_class  \n",
       "3562   jordan sargent                6.7           7  \n",
       "10409       ian cohen  contributor   7.8           8  "
      ]
     },
     "execution_count": 12,
     "metadata": {},
     "output_type": "execute_result"
    }
   ],
   "source": [
    "sample.sample(2)"
   ]
  },
  {
   "cell_type": "code",
   "execution_count": 13,
   "id": "299e31e7-4e17-46ae-be84-80c486019e36",
   "metadata": {
    "execution": {
     "iopub.execute_input": "2023-11-06T03:46:40.691749Z",
     "iopub.status.busy": "2023-11-06T03:46:40.691362Z",
     "iopub.status.idle": "2023-11-06T03:46:40.699735Z",
     "shell.execute_reply": "2023-11-06T03:46:40.698797Z",
     "shell.execute_reply.started": "2023-11-06T03:46:40.691732Z"
    }
   },
   "outputs": [
    {
     "data": {
      "text/plain": [
       "8     1952\n",
       "7     1690\n",
       "6      951\n",
       "5      300\n",
       "9      286\n",
       "4      170\n",
       "3       64\n",
       "10      50\n",
       "2       36\n",
       "1        7\n",
       "0        5\n",
       "Name: score_class, dtype: int64"
      ]
     },
     "execution_count": 13,
     "metadata": {},
     "output_type": "execute_result"
    }
   ],
   "source": [
    "sample[\"score_class\"].value_counts()"
   ]
  },
  {
   "cell_type": "code",
   "execution_count": 14,
   "id": "d5b66b58-417d-42c1-87b2-67728c777333",
   "metadata": {
    "execution": {
     "iopub.execute_input": "2023-11-06T03:46:41.446477Z",
     "iopub.status.busy": "2023-11-06T03:46:41.444984Z",
     "iopub.status.idle": "2023-11-06T03:46:41.463242Z",
     "shell.execute_reply": "2023-11-06T03:46:41.460906Z",
     "shell.execute_reply.started": "2023-11-06T03:46:41.446402Z"
    }
   },
   "outputs": [
    {
     "data": {
      "text/plain": [
       "8     35.42\n",
       "7     30.66\n",
       "6     17.26\n",
       "5      5.44\n",
       "9      5.19\n",
       "4      3.07\n",
       "3      1.16\n",
       "10     0.91\n",
       "2      0.66\n",
       "1      0.13\n",
       "0      0.10\n",
       "Name: score_class, dtype: float64"
      ]
     },
     "execution_count": 14,
     "metadata": {},
     "output_type": "execute_result"
    }
   ],
   "source": [
    "np.round((df[\"score_class\"].value_counts() / df.shape[0]) * 100, 2)"
   ]
  },
  {
   "cell_type": "code",
   "execution_count": 15,
   "id": "fcd6d2b9-c067-44f5-b91d-0c447a5023c2",
   "metadata": {
    "execution": {
     "iopub.execute_input": "2023-11-06T03:46:42.187509Z",
     "iopub.status.busy": "2023-11-06T03:46:42.186929Z",
     "iopub.status.idle": "2023-11-06T03:46:42.217059Z",
     "shell.execute_reply": "2023-11-06T03:46:42.215340Z",
     "shell.execute_reply.started": "2023-11-06T03:46:42.187480Z"
    },
    "scrolled": true
   },
   "outputs": [
    {
     "data": {
      "text/plain": [
       "8     35.42\n",
       "7     30.67\n",
       "6     17.26\n",
       "5      5.44\n",
       "9      5.19\n",
       "4      3.08\n",
       "3      1.16\n",
       "10     0.91\n",
       "2      0.65\n",
       "1      0.13\n",
       "0      0.09\n",
       "Name: score_class, dtype: float64"
      ]
     },
     "execution_count": 15,
     "metadata": {},
     "output_type": "execute_result"
    }
   ],
   "source": [
    "np.round((sample[\"score_class\"].value_counts() / sample.shape[0]) * 100, 2)"
   ]
  },
  {
   "cell_type": "code",
   "execution_count": 17,
   "id": "700d9ea0-c4f2-4a14-8071-94e99e60cde6",
   "metadata": {
    "execution": {
     "iopub.execute_input": "2023-11-06T03:47:47.049527Z",
     "iopub.status.busy": "2023-11-06T03:47:47.049138Z",
     "iopub.status.idle": "2023-11-06T03:55:12.118112Z",
     "shell.execute_reply": "2023-11-06T03:55:12.099768Z",
     "shell.execute_reply.started": "2023-11-06T03:47:47.049503Z"
    }
   },
   "outputs": [
    {
     "data": {
      "text/plain": [
       "(5511, 65847)"
      ]
     },
     "execution_count": 17,
     "metadata": {},
     "output_type": "execute_result"
    }
   ],
   "source": [
    "representation = NGram()\n",
    "features, result = representation.generate_representation(sample[\"review\"].tolist())\n",
    "result.shape"
   ]
  },
  {
   "cell_type": "code",
   "execution_count": 20,
   "id": "d0a1b124-4e8f-48d9-b3e1-c1380c4f3b26",
   "metadata": {
    "execution": {
     "iopub.execute_input": "2023-11-06T03:56:15.153901Z",
     "iopub.status.busy": "2023-11-06T03:56:15.153163Z",
     "iopub.status.idle": "2023-11-06T03:56:15.160980Z",
     "shell.execute_reply": "2023-11-06T03:56:15.160011Z",
     "shell.execute_reply.started": "2023-11-06T03:56:15.153856Z"
    }
   },
   "outputs": [
    {
     "data": {
      "text/plain": [
       "1451531396"
      ]
     },
     "execution_count": 20,
     "metadata": {},
     "output_type": "execute_result"
    }
   ],
   "source": [
    "sys.getsizeof(result)"
   ]
  },
  {
   "cell_type": "code",
   "execution_count": 21,
   "id": "2dcf9ecd-512c-4fa5-8003-a47e66442f9a",
   "metadata": {
    "execution": {
     "iopub.execute_input": "2023-11-06T03:56:16.305040Z",
     "iopub.status.busy": "2023-11-06T03:56:16.304385Z",
     "iopub.status.idle": "2023-11-06T03:56:16.316050Z",
     "shell.execute_reply": "2023-11-06T03:56:16.314745Z",
     "shell.execute_reply.started": "2023-11-06T03:56:16.305011Z"
    }
   },
   "outputs": [
    {
     "data": {
      "text/plain": [
       "1.3518439568579197"
      ]
     },
     "execution_count": 21,
     "metadata": {},
     "output_type": "execute_result"
    }
   ],
   "source": [
    "sys.getsizeof(result) / (2 ** 30)"
   ]
  },
  {
   "cell_type": "code",
   "execution_count": 22,
   "id": "986512af-23d7-413a-be77-b1ddd6173df6",
   "metadata": {
    "execution": {
     "iopub.execute_input": "2023-11-06T03:56:25.762379Z",
     "iopub.status.busy": "2023-11-06T03:56:25.761567Z",
     "iopub.status.idle": "2023-11-06T04:04:04.770783Z",
     "shell.execute_reply": "2023-11-06T04:04:04.735553Z",
     "shell.execute_reply.started": "2023-11-06T03:56:25.762335Z"
    }
   },
   "outputs": [
    {
     "data": {
      "text/plain": [
       "array([[0.        , 0.95929897, 0.9650641 , ..., 0.9608364 , 0.969087  ,\n",
       "        0.96520764],\n",
       "       [0.95929897, 0.        , 0.9397638 , ..., 0.9552146 , 0.9545004 ,\n",
       "        0.9536209 ],\n",
       "       [0.9650641 , 0.9397638 , 0.        , ..., 0.9578414 , 0.93697447,\n",
       "        0.7263733 ],\n",
       "       ...,\n",
       "       [0.9608364 , 0.9552146 , 0.9578414 , ..., 0.        , 0.9624095 ,\n",
       "        0.96179396],\n",
       "       [0.969087  , 0.9545004 , 0.93697447, ..., 0.9624095 , 0.        ,\n",
       "        0.9427093 ],\n",
       "       [0.96520764, 0.9536209 , 0.7263733 , ..., 0.96179396, 0.9427093 ,\n",
       "        0.        ]], dtype=float32)"
      ]
     },
     "execution_count": 22,
     "metadata": {},
     "output_type": "execute_result"
    }
   ],
   "source": [
    "cosine_distances(result, result)"
   ]
  },
  {
   "cell_type": "code",
   "execution_count": 23,
   "id": "2c48bb34-099e-4ff5-bc59-b7335ed115b5",
   "metadata": {
    "execution": {
     "iopub.execute_input": "2023-11-06T04:09:35.745265Z",
     "iopub.status.busy": "2023-11-06T04:09:35.740805Z",
     "iopub.status.idle": "2023-11-06T04:09:35.822746Z",
     "shell.execute_reply": "2023-11-06T04:09:35.821380Z",
     "shell.execute_reply.started": "2023-11-06T04:09:35.744832Z"
    }
   },
   "outputs": [],
   "source": [
    "root_logger = getLogger(\"root\")"
   ]
  },
  {
   "cell_type": "code",
   "execution_count": 24,
   "id": "c612129d-c418-4507-8a59-f4df806d5d94",
   "metadata": {
    "execution": {
     "iopub.execute_input": "2023-11-06T04:09:36.153982Z",
     "iopub.status.busy": "2023-11-06T04:09:36.152187Z",
     "iopub.status.idle": "2023-11-06T04:09:36.207245Z",
     "shell.execute_reply": "2023-11-06T04:09:36.205101Z",
     "shell.execute_reply.started": "2023-11-06T04:09:36.153958Z"
    }
   },
   "outputs": [],
   "source": [
    "aiNet = AiNet(distance_method=\"cosine\", logger=root_logger)"
   ]
  },
  {
   "cell_type": "code",
   "execution_count": 25,
   "id": "1c08bddf-9d0f-4d4e-a74f-ae6badcfbbab",
   "metadata": {
    "execution": {
     "iopub.execute_input": "2023-11-06T04:09:36.616174Z",
     "iopub.status.busy": "2023-11-06T04:09:36.614689Z",
     "iopub.status.idle": "2023-11-06T04:29:55.810066Z",
     "shell.execute_reply": "2023-11-06T04:29:55.797479Z",
     "shell.execute_reply.started": "2023-11-06T04:09:36.616151Z"
    }
   },
   "outputs": [
    {
     "name": "stdout",
     "output_type": "stream",
     "text": [
      "iter: 1 | cur_hyper_rate:  0.00000000 | |██████----------------------------------------------------------------------------------------------| 6.7% | avd: 0.00000 | net size: 142\r"
     ]
    }
   ],
   "source": [
    "aiNet.fit(\n",
    "    antigen_population=result, \n",
    "    max_iter=15, \n",
    "    number_of_antibodies=int(result.shape[0] * 0.10), \n",
    "    clone_multiplier=10, \n",
    "    no_best_cells_taken_each_selection=5, \n",
    "    percent_clones_reselected=0.12, \n",
    "    pruning_threshold=0.5\n",
    ")"
   ]
  },
  {
   "cell_type": "code",
   "execution_count": 26,
   "id": "88ba54d3-39ae-498e-862a-64fef5744c49",
   "metadata": {
    "execution": {
     "iopub.execute_input": "2023-11-06T04:29:55.860661Z",
     "iopub.status.busy": "2023-11-06T04:29:55.858140Z",
     "iopub.status.idle": "2023-11-06T04:29:56.195344Z",
     "shell.execute_reply": "2023-11-06T04:29:56.193158Z",
     "shell.execute_reply.started": "2023-11-06T04:29:55.860347Z"
    }
   },
   "outputs": [
    {
     "data": {
      "text/plain": [
       "(142, 65847)"
      ]
     },
     "execution_count": 26,
     "metadata": {},
     "output_type": "execute_result"
    }
   ],
   "source": [
    "aiNet.antibody_population.shape"
   ]
  },
  {
   "cell_type": "code",
   "execution_count": 27,
   "id": "f1feb168-4599-4ce7-97c8-4087206294a7",
   "metadata": {
    "execution": {
     "iopub.execute_input": "2023-11-06T04:29:56.199799Z",
     "iopub.status.busy": "2023-11-06T04:29:56.199437Z",
     "iopub.status.idle": "2023-11-06T04:29:59.941139Z",
     "shell.execute_reply": "2023-11-06T04:29:59.939805Z",
     "shell.execute_reply.started": "2023-11-06T04:29:56.199778Z"
    }
   },
   "outputs": [],
   "source": [
    "sample.to_csv(\"sample_cleansed_data.csv\", encoding=\"utf-8\", index=False, sep=\",\", quoting=csv.QUOTE_MINIMAL, quotechar='\"')"
   ]
  },
  {
   "cell_type": "code",
   "execution_count": 28,
   "id": "2a1209ca-abc1-44cb-8207-19ea89226d9b",
   "metadata": {
    "execution": {
     "iopub.execute_input": "2023-11-06T04:29:59.945819Z",
     "iopub.status.busy": "2023-11-06T04:29:59.945022Z",
     "iopub.status.idle": "2023-11-06T04:30:02.344913Z",
     "shell.execute_reply": "2023-11-06T04:30:02.343342Z",
     "shell.execute_reply.started": "2023-11-06T04:29:59.945784Z"
    }
   },
   "outputs": [],
   "source": [
    "with open(\"sample_cleansed_data.csv\", \"r+\", newline=\"\", encoding=\"utf-8\") as f:\n",
    "    reader = csv.reader(f, delimiter=\",\", quoting=csv.QUOTE_MINIMAL, quotechar='\"')\n",
    "    data = list(reader)\n",
    "    header = data.pop(0)\n",
    "\n",
    "df1 = pd.DataFrame(data=data, columns=header)"
   ]
  },
  {
   "cell_type": "code",
   "execution_count": 31,
   "id": "0071b091-763c-4c2d-b3b7-3ad575e3a707",
   "metadata": {
    "execution": {
     "iopub.execute_input": "2023-11-06T04:38:53.372392Z",
     "iopub.status.busy": "2023-11-06T04:38:53.371311Z",
     "iopub.status.idle": "2023-11-06T04:38:53.441831Z",
     "shell.execute_reply": "2023-11-06T04:38:53.439588Z",
     "shell.execute_reply.started": "2023-11-06T04:38:53.372326Z"
    }
   },
   "outputs": [
    {
     "name": "stdout",
     "output_type": "stream",
     "text": [
      "<class 'pandas.core.frame.DataFrame'>\n",
      "RangeIndex: 5511 entries, 0 to 5510\n",
      "Data columns (total 9 columns):\n",
      " #   Column          Non-Null Count  Dtype \n",
      "---  ------          --------------  ----- \n",
      " 0   id              5511 non-null   object\n",
      " 1   review_title    5511 non-null   object\n",
      " 2   review          5511 non-null   object\n",
      " 3   url             5511 non-null   object\n",
      " 4   best_new_music  5511 non-null   object\n",
      " 5   author          5511 non-null   object\n",
      " 6   author_type     5511 non-null   object\n",
      " 7   score           5511 non-null   object\n",
      " 8   score_class     5511 non-null   object\n",
      "dtypes: object(9)\n",
      "memory usage: 387.6+ KB\n"
     ]
    }
   ],
   "source": [
    "df1.info()"
   ]
  },
  {
   "cell_type": "code",
   "execution_count": 32,
   "id": "8b2af5b6-76d9-49a3-a056-d770e157ce3d",
   "metadata": {
    "execution": {
     "iopub.execute_input": "2023-11-06T04:39:00.755723Z",
     "iopub.status.busy": "2023-11-06T04:39:00.755139Z",
     "iopub.status.idle": "2023-11-06T04:39:00.799351Z",
     "shell.execute_reply": "2023-11-06T04:39:00.790660Z",
     "shell.execute_reply.started": "2023-11-06T04:39:00.755703Z"
    }
   },
   "outputs": [
    {
     "data": {
      "text/plain": [
       "8     1952\n",
       "7     1690\n",
       "6      951\n",
       "5      300\n",
       "9      286\n",
       "4      170\n",
       "3       64\n",
       "10      50\n",
       "2       36\n",
       "1        7\n",
       "0        5\n",
       "Name: score_class, dtype: int64"
      ]
     },
     "execution_count": 32,
     "metadata": {},
     "output_type": "execute_result"
    }
   ],
   "source": [
    "df1[\"score_class\"].value_counts()"
   ]
  },
  {
   "cell_type": "code",
   "execution_count": 33,
   "id": "6dbdbc30-9578-4f6a-bf6a-177d84d14ac1",
   "metadata": {
    "execution": {
     "iopub.execute_input": "2023-11-06T04:39:03.310461Z",
     "iopub.status.busy": "2023-11-06T04:39:03.309591Z",
     "iopub.status.idle": "2023-11-06T04:39:03.329627Z",
     "shell.execute_reply": "2023-11-06T04:39:03.328040Z",
     "shell.execute_reply.started": "2023-11-06T04:39:03.310437Z"
    }
   },
   "outputs": [
    {
     "data": {
      "text/plain": [
       "0"
      ]
     },
     "execution_count": 33,
     "metadata": {},
     "output_type": "execute_result"
    }
   ],
   "source": [
    "(df1[\"review\"].isna().astype(int) + df1[\"review\"].isnull().astype(int)).sum()"
   ]
  },
  {
   "cell_type": "code",
   "execution_count": null,
   "id": "c4440910-f017-4a61-b91d-4877ea37af96",
   "metadata": {},
   "outputs": [],
   "source": []
  }
 ],
 "metadata": {
  "kernelspec": {
   "display_name": "Python 3 (ipykernel)",
   "language": "python",
   "name": "python3"
  },
  "language_info": {
   "codemirror_mode": {
    "name": "ipython",
    "version": 3
   },
   "file_extension": ".py",
   "mimetype": "text/x-python",
   "name": "python",
   "nbconvert_exporter": "python",
   "pygments_lexer": "ipython3",
   "version": "3.11.6"
  },
  "widgets": {
   "application/vnd.jupyter.widget-state+json": {
    "state": {},
    "version_major": 2,
    "version_minor": 0
   }
  }
 },
 "nbformat": 4,
 "nbformat_minor": 5
}
