{
 "cells": [
  {
   "cell_type": "code",
   "execution_count": 1,
   "id": "f48cfd8a-21ef-44dd-ba52-f89f0c373128",
   "metadata": {
    "execution": {
     "iopub.execute_input": "2023-12-02T16:44:31.779371Z",
     "iopub.status.busy": "2023-12-02T16:44:31.778967Z",
     "iopub.status.idle": "2023-12-02T16:44:31.788361Z",
     "shell.execute_reply": "2023-12-02T16:44:31.787565Z",
     "shell.execute_reply.started": "2023-12-02T16:44:31.779353Z"
    }
   },
   "outputs": [
    {
     "data": {
      "text/plain": [
       "131072"
      ]
     },
     "execution_count": 1,
     "metadata": {},
     "output_type": "execute_result"
    }
   ],
   "source": [
    "import os\n",
    "import csv\n",
    "import sys\n",
    "from pathlib import Path\n",
    "\n",
    "sys.path.append(\n",
    "    os.path.join(\n",
    "        Path(os.getcwd()).parents[3],\n",
    "        \"src\"\n",
    "    )\n",
    ")\n",
    "\n",
    "csv.field_size_limit(sys.maxsize)"
   ]
  },
  {
   "cell_type": "code",
   "execution_count": 2,
   "id": "7eb58bc5-2502-4eb9-9706-7450f01ca23b",
   "metadata": {
    "execution": {
     "iopub.execute_input": "2023-12-02T16:44:31.978228Z",
     "iopub.status.busy": "2023-12-02T16:44:31.977959Z",
     "iopub.status.idle": "2023-12-02T16:44:38.936875Z",
     "shell.execute_reply": "2023-12-02T16:44:38.935661Z",
     "shell.execute_reply.started": "2023-12-02T16:44:31.978214Z"
    }
   },
   "outputs": [],
   "source": [
    "import numpy as np\n",
    "import pandas as pd\n",
    "from models import AiNet\n",
    "from representations import NGram\n",
    "from logging import getLogger\n",
    "from utils import cosine_distances, euclidean_distances"
   ]
  },
  {
   "cell_type": "code",
   "execution_count": 3,
   "id": "3492e807-2688-461e-abac-b5e00af76cc3",
   "metadata": {
    "execution": {
     "iopub.execute_input": "2023-12-02T16:44:38.939978Z",
     "iopub.status.busy": "2023-12-02T16:44:38.938966Z",
     "iopub.status.idle": "2023-12-02T16:44:40.841048Z",
     "shell.execute_reply": "2023-12-02T16:44:40.839589Z",
     "shell.execute_reply.started": "2023-12-02T16:44:38.939948Z"
    }
   },
   "outputs": [
    {
     "name": "stdout",
     "output_type": "stream",
     "text": [
      "<class 'pandas.core.frame.DataFrame'>\n",
      "RangeIndex: 134099 entries, 0 to 134098\n",
      "Data columns (total 9 columns):\n",
      " #   Column                   Non-Null Count   Dtype \n",
      "---  ------                   --------------   ----- \n",
      " 0   id                       134099 non-null  object\n",
      " 1   author                   134099 non-null  object\n",
      " 2   statement                134099 non-null  object\n",
      " 3   target                   134099 non-null  object\n",
      " 4   BinaryNumTarget          134099 non-null  object\n",
      " 5   manual_keywords          134099 non-null  object\n",
      " 6   tweet                    134099 non-null  object\n",
      " 7   5_label_majority_answer  134099 non-null  object\n",
      " 8   3_label_majority_answer  134099 non-null  object\n",
      "dtypes: object(9)\n",
      "memory usage: 9.2+ MB\n"
     ]
    }
   ],
   "source": [
    "with open(\"cleansed_data.csv\", \"r+\", newline=\"\", encoding=\"utf-8\") as f:\n",
    "    reader = csv.reader(f, delimiter=\",\", quotechar='\"', quoting=csv.QUOTE_MINIMAL)\n",
    "    data = list(reader)\n",
    "    header = data.pop(0)\n",
    "\n",
    "df = pd.DataFrame(data=data, columns=header)\n",
    "df.info()"
   ]
  },
  {
   "cell_type": "code",
   "execution_count": 4,
   "id": "c1fe4c6a-2ac3-4b06-a649-5b4a6e4a872d",
   "metadata": {
    "execution": {
     "iopub.execute_input": "2023-12-02T16:44:44.452009Z",
     "iopub.status.busy": "2023-12-02T16:44:44.451557Z",
     "iopub.status.idle": "2023-12-02T16:44:44.470384Z",
     "shell.execute_reply": "2023-12-02T16:44:44.469439Z",
     "shell.execute_reply.started": "2023-12-02T16:44:44.451989Z"
    }
   },
   "outputs": [
    {
     "data": {
      "text/plain": [
       "Agree       128375\n",
       "Disagree      5724\n",
       "Name: 3_label_majority_answer, dtype: int64"
      ]
     },
     "execution_count": 4,
     "metadata": {},
     "output_type": "execute_result"
    }
   ],
   "source": [
    "df[\"3_label_majority_answer\"].value_counts()"
   ]
  },
  {
   "cell_type": "code",
   "execution_count": 5,
   "id": "4f40abe9-d7ef-4cf4-b228-ae85d798cb1f",
   "metadata": {
    "execution": {
     "iopub.execute_input": "2023-12-02T16:44:44.707594Z",
     "iopub.status.busy": "2023-12-02T16:44:44.707012Z",
     "iopub.status.idle": "2023-12-02T16:44:44.732460Z",
     "shell.execute_reply": "2023-12-02T16:44:44.731036Z",
     "shell.execute_reply.started": "2023-12-02T16:44:44.707576Z"
    }
   },
   "outputs": [
    {
     "data": {
      "text/plain": [
       "Agree              54296\n",
       "Disagree             561\n",
       "Mostly Agree       53762\n",
       "Mostly Disagree     2888\n",
       "NO MAJORITY        22592\n",
       "Name: 5_label_majority_answer, dtype: int64"
      ]
     },
     "execution_count": 5,
     "metadata": {},
     "output_type": "execute_result"
    }
   ],
   "source": [
    "df[\"5_label_majority_answer\"].value_counts().sort_index()"
   ]
  },
  {
   "cell_type": "code",
   "execution_count": 8,
   "id": "46ac3b69-4f25-4e65-b646-aa66483d5ea9",
   "metadata": {
    "execution": {
     "iopub.execute_input": "2023-11-09T14:09:19.085764Z",
     "iopub.status.busy": "2023-11-09T14:09:19.083559Z",
     "iopub.status.idle": "2023-11-09T14:09:19.480125Z",
     "shell.execute_reply": "2023-11-09T14:09:19.477543Z",
     "shell.execute_reply.started": "2023-11-09T14:09:19.085633Z"
    }
   },
   "outputs": [
    {
     "name": "stdout",
     "output_type": "stream",
     "text": [
      "<class 'pandas.core.frame.DataFrame'>\n",
      "Int64Index: 6705 entries, 1249 to 118041\n",
      "Data columns (total 9 columns):\n",
      " #   Column                   Non-Null Count  Dtype \n",
      "---  ------                   --------------  ----- \n",
      " 0   id                       6705 non-null   object\n",
      " 1   author                   6705 non-null   object\n",
      " 2   statement                6705 non-null   object\n",
      " 3   target                   6705 non-null   object\n",
      " 4   BinaryNumTarget          6705 non-null   object\n",
      " 5   manual_keywords          6705 non-null   object\n",
      " 6   tweet                    6705 non-null   object\n",
      " 7   5_label_majority_answer  6705 non-null   object\n",
      " 8   3_label_majority_answer  6705 non-null   object\n",
      "dtypes: object(9)\n",
      "memory usage: 523.8+ KB\n"
     ]
    }
   ],
   "source": [
    "sample = df.groupby(by=[\"5_label_majority_answer\"], as_index=False, group_keys=False).apply(lambda c: c.sample(frac=0.05))\n",
    "sample.info()"
   ]
  },
  {
   "cell_type": "code",
   "execution_count": 9,
   "id": "46302a69-d1a0-4f51-b7d0-4036b07f349e",
   "metadata": {
    "execution": {
     "iopub.execute_input": "2023-11-09T14:09:19.487664Z",
     "iopub.status.busy": "2023-11-09T14:09:19.482932Z",
     "iopub.status.idle": "2023-11-09T14:09:19.620774Z",
     "shell.execute_reply": "2023-11-09T14:09:19.618785Z",
     "shell.execute_reply.started": "2023-11-09T14:09:19.487559Z"
    }
   },
   "outputs": [
    {
     "data": {
      "text/html": [
       "<div>\n",
       "<style scoped>\n",
       "    .dataframe tbody tr th:only-of-type {\n",
       "        vertical-align: middle;\n",
       "    }\n",
       "\n",
       "    .dataframe tbody tr th {\n",
       "        vertical-align: top;\n",
       "    }\n",
       "\n",
       "    .dataframe thead th {\n",
       "        text-align: right;\n",
       "    }\n",
       "</style>\n",
       "<table border=\"1\" class=\"dataframe\">\n",
       "  <thead>\n",
       "    <tr style=\"text-align: right;\">\n",
       "      <th></th>\n",
       "      <th>id</th>\n",
       "      <th>author</th>\n",
       "      <th>statement</th>\n",
       "      <th>target</th>\n",
       "      <th>BinaryNumTarget</th>\n",
       "      <th>manual_keywords</th>\n",
       "      <th>tweet</th>\n",
       "      <th>5_label_majority_answer</th>\n",
       "      <th>3_label_majority_answer</th>\n",
       "    </tr>\n",
       "  </thead>\n",
       "  <tbody>\n",
       "    <tr>\n",
       "      <th>70262</th>\n",
       "      <td>70311</td>\n",
       "      <td>W. Gardner</td>\n",
       "      <td>The U.S. Supreme Court decided in 1982 that no...</td>\n",
       "      <td>True</td>\n",
       "      <td>1</td>\n",
       "      <td>Supreme Court, 1982, free k-12 education</td>\n",
       "      <td>@SheriB1957 @Tobymare @TomFitton Plyler vs. Do...</td>\n",
       "      <td>Mostly Agree</td>\n",
       "      <td>Agree</td>\n",
       "    </tr>\n",
       "    <tr>\n",
       "      <th>47873</th>\n",
       "      <td>47918</td>\n",
       "      <td>Tom Kertscher</td>\n",
       "      <td>The Pfizer COVID-19 vaccine is not approved.</td>\n",
       "      <td>False</td>\n",
       "      <td>0</td>\n",
       "      <td>not approved,pfizer, vaccine</td>\n",
       "      <td>@lalalandlover51 @EastlickJason @PaulStanleyLi...</td>\n",
       "      <td>Mostly Agree</td>\n",
       "      <td>Agree</td>\n",
       "    </tr>\n",
       "  </tbody>\n",
       "</table>\n",
       "</div>"
      ],
      "text/plain": [
       "          id         author  \\\n",
       "70262  70311     W. Gardner   \n",
       "47873  47918  Tom Kertscher   \n",
       "\n",
       "                                               statement target  \\\n",
       "70262  The U.S. Supreme Court decided in 1982 that no...   True   \n",
       "47873       The Pfizer COVID-19 vaccine is not approved.  False   \n",
       "\n",
       "      BinaryNumTarget                           manual_keywords  \\\n",
       "70262               1  Supreme Court, 1982, free k-12 education   \n",
       "47873               0              not approved,pfizer, vaccine   \n",
       "\n",
       "                                                   tweet  \\\n",
       "70262  @SheriB1957 @Tobymare @TomFitton Plyler vs. Do...   \n",
       "47873  @lalalandlover51 @EastlickJason @PaulStanleyLi...   \n",
       "\n",
       "      5_label_majority_answer 3_label_majority_answer  \n",
       "70262            Mostly Agree                   Agree  \n",
       "47873            Mostly Agree                   Agree  "
      ]
     },
     "execution_count": 9,
     "metadata": {},
     "output_type": "execute_result"
    }
   ],
   "source": [
    "sample.sample(2)"
   ]
  },
  {
   "cell_type": "code",
   "execution_count": 10,
   "id": "299e31e7-4e17-46ae-be84-80c486019e36",
   "metadata": {
    "execution": {
     "iopub.execute_input": "2023-11-09T14:09:19.628093Z",
     "iopub.status.busy": "2023-11-09T14:09:19.626450Z",
     "iopub.status.idle": "2023-11-09T14:09:19.661476Z",
     "shell.execute_reply": "2023-11-09T14:09:19.659419Z",
     "shell.execute_reply.started": "2023-11-09T14:09:19.628024Z"
    }
   },
   "outputs": [
    {
     "data": {
      "text/plain": [
       "Agree       6397\n",
       "Disagree     308\n",
       "Name: 3_label_majority_answer, dtype: int64"
      ]
     },
     "execution_count": 10,
     "metadata": {},
     "output_type": "execute_result"
    }
   ],
   "source": [
    "sample[\"3_label_majority_answer\"].value_counts()"
   ]
  },
  {
   "cell_type": "code",
   "execution_count": 11,
   "id": "bb3ff888-3342-4325-b2bc-1cecc98ae02f",
   "metadata": {
    "execution": {
     "iopub.execute_input": "2023-11-09T14:09:19.663646Z",
     "iopub.status.busy": "2023-11-09T14:09:19.663178Z",
     "iopub.status.idle": "2023-11-09T14:09:19.684497Z",
     "shell.execute_reply": "2023-11-09T14:09:19.682468Z",
     "shell.execute_reply.started": "2023-11-09T14:09:19.663609Z"
    }
   },
   "outputs": [
    {
     "data": {
      "text/plain": [
       "Agree              2715\n",
       "Disagree             28\n",
       "Mostly Agree       2688\n",
       "Mostly Disagree     144\n",
       "NO MAJORITY        1130\n",
       "Name: 5_label_majority_answer, dtype: int64"
      ]
     },
     "execution_count": 11,
     "metadata": {},
     "output_type": "execute_result"
    }
   ],
   "source": [
    "sample[\"5_label_majority_answer\"].value_counts().sort_index()"
   ]
  },
  {
   "cell_type": "code",
   "execution_count": 12,
   "id": "db833d7f-a757-4f11-8ab9-13319f2a66d3",
   "metadata": {
    "execution": {
     "iopub.execute_input": "2023-11-09T14:09:19.689452Z",
     "iopub.status.busy": "2023-11-09T14:09:19.688932Z",
     "iopub.status.idle": "2023-11-09T14:09:19.755732Z",
     "shell.execute_reply": "2023-11-09T14:09:19.753946Z",
     "shell.execute_reply.started": "2023-11-09T14:09:19.689409Z"
    }
   },
   "outputs": [
    {
     "data": {
      "text/plain": [
       "Agree       95.73\n",
       "Disagree     4.27\n",
       "Name: 3_label_majority_answer, dtype: float64"
      ]
     },
     "execution_count": 12,
     "metadata": {},
     "output_type": "execute_result"
    }
   ],
   "source": [
    "np.round((df[\"3_label_majority_answer\"].value_counts() / df.shape[0]) * 100, 2)"
   ]
  },
  {
   "cell_type": "code",
   "execution_count": 13,
   "id": "d5b66b58-417d-42c1-87b2-67728c777333",
   "metadata": {
    "execution": {
     "iopub.execute_input": "2023-11-09T14:09:19.758157Z",
     "iopub.status.busy": "2023-11-09T14:09:19.757748Z",
     "iopub.status.idle": "2023-11-09T14:09:19.807037Z",
     "shell.execute_reply": "2023-11-09T14:09:19.804992Z",
     "shell.execute_reply.started": "2023-11-09T14:09:19.758122Z"
    }
   },
   "outputs": [
    {
     "data": {
      "text/plain": [
       "Agree              40.49\n",
       "Mostly Agree       40.09\n",
       "NO MAJORITY        16.85\n",
       "Mostly Disagree     2.15\n",
       "Disagree            0.42\n",
       "Name: 5_label_majority_answer, dtype: float64"
      ]
     },
     "execution_count": 13,
     "metadata": {},
     "output_type": "execute_result"
    }
   ],
   "source": [
    "np.round((df[\"5_label_majority_answer\"].value_counts() / df.shape[0]) * 100, 2)"
   ]
  },
  {
   "cell_type": "code",
   "execution_count": 10,
   "id": "25cb3f9a-2c9c-4501-9ab3-16e44debd924",
   "metadata": {
    "execution": {
     "iopub.execute_input": "2023-11-07T15:48:10.249572Z",
     "iopub.status.busy": "2023-11-07T15:48:10.248750Z",
     "iopub.status.idle": "2023-11-07T15:48:10.260164Z",
     "shell.execute_reply": "2023-11-07T15:48:10.258795Z",
     "shell.execute_reply.started": "2023-11-07T15:48:10.249549Z"
    }
   },
   "outputs": [
    {
     "data": {
      "text/plain": [
       "Agree       95.71\n",
       "Disagree     4.29\n",
       "Name: 3_label_majority_answer, dtype: float64"
      ]
     },
     "execution_count": 10,
     "metadata": {},
     "output_type": "execute_result"
    }
   ],
   "source": [
    "np.round((sample[\"3_label_majority_answer\"].value_counts() / sample.shape[0]) * 100, 2)"
   ]
  },
  {
   "cell_type": "code",
   "execution_count": 11,
   "id": "fcd6d2b9-c067-44f5-b91d-0c447a5023c2",
   "metadata": {
    "execution": {
     "iopub.execute_input": "2023-11-07T15:48:10.263131Z",
     "iopub.status.busy": "2023-11-07T15:48:10.262011Z",
     "iopub.status.idle": "2023-11-07T15:48:10.275725Z",
     "shell.execute_reply": "2023-11-07T15:48:10.274320Z",
     "shell.execute_reply.started": "2023-11-07T15:48:10.263098Z"
    },
    "scrolled": true
   },
   "outputs": [
    {
     "data": {
      "text/plain": [
       "Agree              40.49\n",
       "Mostly Agree       40.09\n",
       "NO MAJORITY        16.84\n",
       "Mostly Disagree     2.15\n",
       "Disagree            0.42\n",
       "Name: 5_label_majority_answer, dtype: float64"
      ]
     },
     "execution_count": 11,
     "metadata": {},
     "output_type": "execute_result"
    }
   ],
   "source": [
    "np.round((sample[\"5_label_majority_answer\"].value_counts() / sample.shape[0]) * 100, 2)"
   ]
  },
  {
   "cell_type": "code",
   "execution_count": 15,
   "id": "700d9ea0-c4f2-4a14-8071-94e99e60cde6",
   "metadata": {
    "execution": {
     "iopub.execute_input": "2023-11-07T08:50:36.207877Z",
     "iopub.status.busy": "2023-11-07T08:50:36.207094Z",
     "iopub.status.idle": "2023-11-07T08:51:52.517831Z",
     "shell.execute_reply": "2023-11-07T08:51:52.505323Z",
     "shell.execute_reply.started": "2023-11-07T08:50:36.207833Z"
    }
   },
   "outputs": [
    {
     "data": {
      "text/plain": [
       "(13410, 30278)"
      ]
     },
     "execution_count": 15,
     "metadata": {},
     "output_type": "execute_result"
    }
   ],
   "source": [
    "representation = NGram()\n",
    "features, result = representation.generate_representation(sample[\"tweet\"].tolist())\n",
    "result.shape"
   ]
  },
  {
   "cell_type": "code",
   "execution_count": 16,
   "id": "d0a1b124-4e8f-48d9-b3e1-c1380c4f3b26",
   "metadata": {
    "execution": {
     "iopub.execute_input": "2023-11-07T08:51:52.549475Z",
     "iopub.status.busy": "2023-11-07T08:51:52.547692Z",
     "iopub.status.idle": "2023-11-07T08:51:52.598561Z",
     "shell.execute_reply": "2023-11-07T08:51:52.594493Z",
     "shell.execute_reply.started": "2023-11-07T08:51:52.549373Z"
    }
   },
   "outputs": [
    {
     "data": {
      "text/plain": [
       "1624112048"
      ]
     },
     "execution_count": 16,
     "metadata": {},
     "output_type": "execute_result"
    }
   ],
   "source": [
    "sys.getsizeof(result)"
   ]
  },
  {
   "cell_type": "code",
   "execution_count": 17,
   "id": "2dcf9ecd-512c-4fa5-8003-a47e66442f9a",
   "metadata": {
    "execution": {
     "iopub.execute_input": "2023-11-07T08:51:52.604923Z",
     "iopub.status.busy": "2023-11-07T08:51:52.603878Z",
     "iopub.status.idle": "2023-11-07T08:51:52.620019Z",
     "shell.execute_reply": "2023-11-07T08:51:52.618875Z",
     "shell.execute_reply.started": "2023-11-07T08:51:52.604878Z"
    }
   },
   "outputs": [
    {
     "data": {
      "text/plain": [
       "1.5125722140073776"
      ]
     },
     "execution_count": 17,
     "metadata": {},
     "output_type": "execute_result"
    }
   ],
   "source": [
    "sys.getsizeof(result) / (2 ** 30)"
   ]
  },
  {
   "cell_type": "code",
   "execution_count": 18,
   "id": "986512af-23d7-413a-be77-b1ddd6173df6",
   "metadata": {
    "execution": {
     "iopub.execute_input": "2023-11-07T08:51:52.623471Z",
     "iopub.status.busy": "2023-11-07T08:51:52.622788Z",
     "iopub.status.idle": "2023-11-07T09:00:38.799398Z",
     "shell.execute_reply": "2023-11-07T09:00:38.772938Z",
     "shell.execute_reply.started": "2023-11-07T08:51:52.623435Z"
    }
   },
   "outputs": [
    {
     "data": {
      "text/plain": [
       "array([[0.        , 1.        , 0.9894057 , ..., 1.        , 1.        ,\n",
       "        1.        ],\n",
       "       [1.        , 0.        , 1.        , ..., 1.        , 1.        ,\n",
       "        1.        ],\n",
       "       [0.9894057 , 1.        , 0.        , ..., 1.        , 1.        ,\n",
       "        0.98675853],\n",
       "       ...,\n",
       "       [1.        , 1.        , 1.        , ..., 0.        , 1.        ,\n",
       "        1.        ],\n",
       "       [1.        , 1.        , 1.        , ..., 1.        , 0.        ,\n",
       "        1.        ],\n",
       "       [1.        , 1.        , 0.98675853, ..., 1.        , 1.        ,\n",
       "        0.        ]], dtype=float32)"
      ]
     },
     "execution_count": 18,
     "metadata": {},
     "output_type": "execute_result"
    }
   ],
   "source": [
    "cosine_distances(result, result)"
   ]
  },
  {
   "cell_type": "code",
   "execution_count": 19,
   "id": "2c48bb34-099e-4ff5-bc59-b7335ed115b5",
   "metadata": {
    "execution": {
     "iopub.execute_input": "2023-11-07T09:00:38.874259Z",
     "iopub.status.busy": "2023-11-07T09:00:38.870978Z",
     "iopub.status.idle": "2023-11-07T09:00:38.942158Z",
     "shell.execute_reply": "2023-11-07T09:00:38.940972Z",
     "shell.execute_reply.started": "2023-11-07T09:00:38.873875Z"
    }
   },
   "outputs": [],
   "source": [
    "root_logger = getLogger(\"root\")"
   ]
  },
  {
   "cell_type": "code",
   "execution_count": 20,
   "id": "c612129d-c418-4507-8a59-f4df806d5d94",
   "metadata": {
    "execution": {
     "iopub.execute_input": "2023-11-07T09:00:38.947632Z",
     "iopub.status.busy": "2023-11-07T09:00:38.946969Z",
     "iopub.status.idle": "2023-11-07T09:00:38.995499Z",
     "shell.execute_reply": "2023-11-07T09:00:38.993925Z",
     "shell.execute_reply.started": "2023-11-07T09:00:38.947603Z"
    }
   },
   "outputs": [],
   "source": [
    "aiNet = AiNet(distance_method=\"cosine\", logger=root_logger)"
   ]
  },
  {
   "cell_type": "code",
   "execution_count": 21,
   "id": "1c08bddf-9d0f-4d4e-a74f-ae6badcfbbab",
   "metadata": {
    "execution": {
     "iopub.execute_input": "2023-11-07T09:00:39.000993Z",
     "iopub.status.busy": "2023-11-07T09:00:39.000203Z",
     "iopub.status.idle": "2023-11-07T09:57:05.173138Z",
     "shell.execute_reply": "2023-11-07T09:57:05.150383Z",
     "shell.execute_reply.started": "2023-11-07T09:00:39.000967Z"
    }
   },
   "outputs": [
    {
     "name": "stdout",
     "output_type": "stream",
     "text": [
      "iter: 1 | cur_hyper_rate:  0.00000000 | |██████----------------------------------------------------------------------------------------------| 6.7% | avd: 0.00000 | net size: 9\r"
     ]
    }
   ],
   "source": [
    "aiNet.fit(\n",
    "    antigen_population=result, \n",
    "    max_iter=15, \n",
    "    number_of_antibodies=int(result.shape[0] * 0.10), \n",
    "    clone_multiplier=10, \n",
    "    no_best_cells_taken_each_selection=5, \n",
    "    percent_clones_reselected=0.12, \n",
    "    pruning_threshold=0.5\n",
    ")"
   ]
  },
  {
   "cell_type": "code",
   "execution_count": 22,
   "id": "88ba54d3-39ae-498e-862a-64fef5744c49",
   "metadata": {
    "execution": {
     "iopub.execute_input": "2023-11-07T09:57:05.250447Z",
     "iopub.status.busy": "2023-11-07T09:57:05.247303Z",
     "iopub.status.idle": "2023-11-07T09:57:05.366173Z",
     "shell.execute_reply": "2023-11-07T09:57:05.364995Z",
     "shell.execute_reply.started": "2023-11-07T09:57:05.249915Z"
    }
   },
   "outputs": [
    {
     "data": {
      "text/plain": [
       "(9, 30278)"
      ]
     },
     "execution_count": 22,
     "metadata": {},
     "output_type": "execute_result"
    }
   ],
   "source": [
    "aiNet.antibody_population.shape"
   ]
  },
  {
   "cell_type": "code",
   "execution_count": 14,
   "id": "f1feb168-4599-4ce7-97c8-4087206294a7",
   "metadata": {
    "execution": {
     "iopub.execute_input": "2023-11-09T14:09:24.982732Z",
     "iopub.status.busy": "2023-11-09T14:09:24.979552Z",
     "iopub.status.idle": "2023-11-09T14:09:26.286192Z",
     "shell.execute_reply": "2023-11-09T14:09:26.283977Z",
     "shell.execute_reply.started": "2023-11-09T14:09:24.982657Z"
    }
   },
   "outputs": [],
   "source": [
    "sample.to_csv(\"sample_cleansed_data.csv\", encoding=\"utf-8\", index=False, sep=\",\", quoting=csv.QUOTE_NONNUMERIC, quotechar='\"')"
   ]
  },
  {
   "cell_type": "code",
   "execution_count": 15,
   "id": "2a1209ca-abc1-44cb-8207-19ea89226d9b",
   "metadata": {
    "execution": {
     "iopub.execute_input": "2023-11-09T14:09:26.297389Z",
     "iopub.status.busy": "2023-11-09T14:09:26.295912Z",
     "iopub.status.idle": "2023-11-09T14:09:26.866321Z",
     "shell.execute_reply": "2023-11-09T14:09:26.863998Z",
     "shell.execute_reply.started": "2023-11-09T14:09:26.297250Z"
    }
   },
   "outputs": [],
   "source": [
    "with open(\"sample_cleansed_data.csv\", \"r+\", newline=\"\", encoding=\"utf-8\") as f:\n",
    "    reader = csv.reader(f, delimiter=\",\", quoting=csv.QUOTE_MINIMAL, quotechar='\"')\n",
    "    data = list(reader)\n",
    "    header = data.pop(0)\n",
    "\n",
    "df1 = pd.DataFrame(data=data, columns=header)"
   ]
  },
  {
   "cell_type": "code",
   "execution_count": 21,
   "id": "0071b091-763c-4c2d-b3b7-3ad575e3a707",
   "metadata": {
    "execution": {
     "iopub.execute_input": "2023-11-09T14:10:05.858341Z",
     "iopub.status.busy": "2023-11-09T14:10:05.857292Z",
     "iopub.status.idle": "2023-11-09T14:10:05.885606Z",
     "shell.execute_reply": "2023-11-09T14:10:05.884315Z",
     "shell.execute_reply.started": "2023-11-09T14:10:05.858312Z"
    }
   },
   "outputs": [
    {
     "name": "stdout",
     "output_type": "stream",
     "text": [
      "<class 'pandas.core.frame.DataFrame'>\n",
      "RangeIndex: 6705 entries, 0 to 6704\n",
      "Data columns (total 9 columns):\n",
      " #   Column                   Non-Null Count  Dtype \n",
      "---  ------                   --------------  ----- \n",
      " 0   id                       6705 non-null   object\n",
      " 1   author                   6705 non-null   object\n",
      " 2   statement                6705 non-null   object\n",
      " 3   target                   6705 non-null   object\n",
      " 4   BinaryNumTarget          6705 non-null   object\n",
      " 5   manual_keywords          6705 non-null   object\n",
      " 6   tweet                    6705 non-null   object\n",
      " 7   5_label_majority_answer  6705 non-null   object\n",
      " 8   3_label_majority_answer  6705 non-null   object\n",
      "dtypes: object(9)\n",
      "memory usage: 471.6+ KB\n"
     ]
    }
   ],
   "source": [
    "df1.info()"
   ]
  },
  {
   "cell_type": "code",
   "execution_count": 17,
   "id": "8b2af5b6-76d9-49a3-a056-d770e157ce3d",
   "metadata": {
    "execution": {
     "iopub.execute_input": "2023-11-09T14:09:32.903895Z",
     "iopub.status.busy": "2023-11-09T14:09:32.902906Z",
     "iopub.status.idle": "2023-11-09T14:09:32.929900Z",
     "shell.execute_reply": "2023-11-09T14:09:32.928380Z",
     "shell.execute_reply.started": "2023-11-09T14:09:32.903851Z"
    }
   },
   "outputs": [
    {
     "data": {
      "text/plain": [
       "Agree       6397\n",
       "Disagree     308\n",
       "Name: 3_label_majority_answer, dtype: int64"
      ]
     },
     "execution_count": 17,
     "metadata": {},
     "output_type": "execute_result"
    }
   ],
   "source": [
    "df1[\"3_label_majority_answer\"].value_counts()"
   ]
  },
  {
   "cell_type": "code",
   "execution_count": 18,
   "id": "cb98823c-27d4-449b-ac62-8173d7c5e791",
   "metadata": {
    "execution": {
     "iopub.execute_input": "2023-11-09T14:09:33.329974Z",
     "iopub.status.busy": "2023-11-09T14:09:33.328614Z",
     "iopub.status.idle": "2023-11-09T14:09:33.349800Z",
     "shell.execute_reply": "2023-11-09T14:09:33.346366Z",
     "shell.execute_reply.started": "2023-11-09T14:09:33.329744Z"
    }
   },
   "outputs": [
    {
     "data": {
      "text/plain": [
       "Agree              2715\n",
       "Mostly Agree       2688\n",
       "NO MAJORITY        1130\n",
       "Mostly Disagree     144\n",
       "Disagree             28\n",
       "Name: 5_label_majority_answer, dtype: int64"
      ]
     },
     "execution_count": 18,
     "metadata": {},
     "output_type": "execute_result"
    }
   ],
   "source": [
    "df1[\"5_label_majority_answer\"].value_counts()"
   ]
  },
  {
   "cell_type": "code",
   "execution_count": 20,
   "id": "6dbdbc30-9578-4f6a-bf6a-177d84d14ac1",
   "metadata": {
    "execution": {
     "iopub.execute_input": "2023-11-09T14:10:00.407938Z",
     "iopub.status.busy": "2023-11-09T14:10:00.407110Z",
     "iopub.status.idle": "2023-11-09T14:10:00.423480Z",
     "shell.execute_reply": "2023-11-09T14:10:00.422269Z",
     "shell.execute_reply.started": "2023-11-09T14:10:00.407914Z"
    }
   },
   "outputs": [
    {
     "data": {
      "text/plain": [
       "0"
      ]
     },
     "execution_count": 20,
     "metadata": {},
     "output_type": "execute_result"
    }
   ],
   "source": [
    "(df1[\"tweet\"].isna().astype(int) + df1[\"tweet\"].isnull().astype(int)).sum()"
   ]
  },
  {
   "cell_type": "code",
   "execution_count": null,
   "id": "c4440910-f017-4a61-b91d-4877ea37af96",
   "metadata": {},
   "outputs": [],
   "source": []
  }
 ],
 "metadata": {
  "kernelspec": {
   "display_name": "Python 3 (ipykernel)",
   "language": "python",
   "name": "python3"
  },
  "language_info": {
   "codemirror_mode": {
    "name": "ipython",
    "version": 3
   },
   "file_extension": ".py",
   "mimetype": "text/x-python",
   "name": "python",
   "nbconvert_exporter": "python",
   "pygments_lexer": "ipython3",
   "version": "3.11.6"
  },
  "widgets": {
   "application/vnd.jupyter.widget-state+json": {
    "state": {},
    "version_major": 2,
    "version_minor": 0
   }
  }
 },
 "nbformat": 4,
 "nbformat_minor": 5
}
