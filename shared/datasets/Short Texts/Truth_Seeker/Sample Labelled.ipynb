{
 "cells": [
  {
   "cell_type": "code",
   "execution_count": 1,
   "id": "f48cfd8a-21ef-44dd-ba52-f89f0c373128",
   "metadata": {
    "execution": {
     "iopub.execute_input": "2023-12-02T16:38:20.067985Z",
     "iopub.status.busy": "2023-12-02T16:38:20.066987Z",
     "iopub.status.idle": "2023-12-02T16:38:20.079612Z",
     "shell.execute_reply": "2023-12-02T16:38:20.078568Z",
     "shell.execute_reply.started": "2023-12-02T16:38:20.067949Z"
    }
   },
   "outputs": [
    {
     "data": {
      "text/plain": [
       "131072"
      ]
     },
     "execution_count": 1,
     "metadata": {},
     "output_type": "execute_result"
    }
   ],
   "source": [
    "import os\n",
    "import csv\n",
    "import sys\n",
    "from pathlib import Path\n",
    "\n",
    "sys.path.append(\n",
    "    os.path.join(\n",
    "        Path(os.getcwd()).parents[3],\n",
    "        \"src\"\n",
    "    )\n",
    ")\n",
    "\n",
    "csv.field_size_limit(sys.maxsize)"
   ]
  },
  {
   "cell_type": "code",
   "execution_count": 2,
   "id": "7eb58bc5-2502-4eb9-9706-7450f01ca23b",
   "metadata": {
    "execution": {
     "iopub.execute_input": "2023-12-02T16:38:20.506066Z",
     "iopub.status.busy": "2023-12-02T16:38:20.505791Z",
     "iopub.status.idle": "2023-12-02T16:38:29.621738Z",
     "shell.execute_reply": "2023-12-02T16:38:29.620108Z",
     "shell.execute_reply.started": "2023-12-02T16:38:20.506049Z"
    }
   },
   "outputs": [],
   "source": [
    "import numpy as np\n",
    "import pandas as pd\n",
    "from models import AiNet\n",
    "from representations import NGram\n",
    "from logging import getLogger\n",
    "from utils import cosine_distances, euclidean_distances"
   ]
  },
  {
   "cell_type": "code",
   "execution_count": 3,
   "id": "3492e807-2688-461e-abac-b5e00af76cc3",
   "metadata": {
    "execution": {
     "iopub.execute_input": "2023-12-02T16:38:29.624987Z",
     "iopub.status.busy": "2023-12-02T16:38:29.623757Z",
     "iopub.status.idle": "2023-12-02T16:38:31.243163Z",
     "shell.execute_reply": "2023-12-02T16:38:31.241632Z",
     "shell.execute_reply.started": "2023-12-02T16:38:29.624933Z"
    }
   },
   "outputs": [
    {
     "name": "stdout",
     "output_type": "stream",
     "text": [
      "<class 'pandas.core.frame.DataFrame'>\n",
      "RangeIndex: 111507 entries, 0 to 111506\n",
      "Data columns (total 11 columns):\n",
      " #   Column                   Non-Null Count   Dtype \n",
      "---  ------                   --------------   ----- \n",
      " 0   id                       111507 non-null  object\n",
      " 1   author                   111507 non-null  object\n",
      " 2   statement                111507 non-null  object\n",
      " 3   target                   111507 non-null  object\n",
      " 4   BinaryNumTarget          111507 non-null  object\n",
      " 5   manual_keywords          111507 non-null  object\n",
      " 6   tweet                    111507 non-null  object\n",
      " 7   5_label_majority_answer  111507 non-null  object\n",
      " 8   5_truthfulness           111507 non-null  object\n",
      " 9   3_label_majority_answer  111507 non-null  object\n",
      " 10  3_truthfulness           111507 non-null  object\n",
      "dtypes: object(11)\n",
      "memory usage: 9.4+ MB\n"
     ]
    }
   ],
   "source": [
    "with open(\"cleansed_mapped_data.csv\", \"r+\", newline=\"\", encoding=\"utf-8\") as f:\n",
    "    reader = csv.reader(f, delimiter=\",\", quotechar='\"', quoting=csv.QUOTE_MINIMAL)\n",
    "    data = list(reader)\n",
    "    header = data.pop(0)\n",
    "\n",
    "df = pd.DataFrame(data=data, columns=header)\n",
    "df.info()"
   ]
  },
  {
   "cell_type": "code",
   "execution_count": 6,
   "id": "dc2238fe-7b37-4205-bf2e-b3e57075b5f6",
   "metadata": {
    "execution": {
     "iopub.execute_input": "2023-12-02T16:38:55.482452Z",
     "iopub.status.busy": "2023-12-02T16:38:55.482195Z",
     "iopub.status.idle": "2023-12-02T16:38:55.505627Z",
     "shell.execute_reply": "2023-12-02T16:38:55.504764Z",
     "shell.execute_reply.started": "2023-12-02T16:38:55.482434Z"
    }
   },
   "outputs": [
    {
     "data": {
      "text/plain": [
       "False    54132\n",
       "True     57375\n",
       "Name: 3_truthfulness, dtype: int64"
      ]
     },
     "execution_count": 6,
     "metadata": {},
     "output_type": "execute_result"
    }
   ],
   "source": [
    "df[\"3_truthfulness\"].value_counts().sort_index()"
   ]
  },
  {
   "cell_type": "code",
   "execution_count": 5,
   "id": "c79793dc-3a60-4cfa-8cd0-c25f013916ea",
   "metadata": {
    "execution": {
     "iopub.execute_input": "2023-12-02T16:38:44.245770Z",
     "iopub.status.busy": "2023-12-02T16:38:44.244626Z",
     "iopub.status.idle": "2023-12-02T16:38:44.268010Z",
     "shell.execute_reply": "2023-12-02T16:38:44.266588Z",
     "shell.execute_reply.started": "2023-12-02T16:38:44.245737Z"
    }
   },
   "outputs": [
    {
     "data": {
      "text/plain": [
       "False           26606\n",
       "Mostly False    27526\n",
       "Mostly True     29124\n",
       "True            28251\n",
       "Name: 5_truthfulness, dtype: int64"
      ]
     },
     "execution_count": 5,
     "metadata": {},
     "output_type": "execute_result"
    }
   ],
   "source": [
    "df[\"5_truthfulness\"].value_counts().sort_index()"
   ]
  },
  {
   "cell_type": "code",
   "execution_count": 7,
   "id": "45deb21b-8b01-4edc-934e-f6110023ee99",
   "metadata": {
    "execution": {
     "iopub.execute_input": "2023-12-02T16:42:14.931453Z",
     "iopub.status.busy": "2023-12-02T16:42:14.930365Z",
     "iopub.status.idle": "2023-12-02T16:42:14.954787Z",
     "shell.execute_reply": "2023-12-02T16:42:14.953789Z",
     "shell.execute_reply.started": "2023-12-02T16:42:14.931427Z"
    }
   },
   "outputs": [
    {
     "data": {
      "text/plain": [
       "False           23.86\n",
       "Mostly False    24.69\n",
       "Mostly True     26.12\n",
       "True            25.34\n",
       "Name: 5_truthfulness, dtype: float64"
      ]
     },
     "execution_count": 7,
     "metadata": {},
     "output_type": "execute_result"
    }
   ],
   "source": [
    "np.round((df[\"5_truthfulness\"].value_counts() / df.shape[0]) * 100, 2).sort_index()"
   ]
  },
  {
   "cell_type": "code",
   "execution_count": 9,
   "id": "46ac3b69-4f25-4e65-b646-aa66483d5ea9",
   "metadata": {
    "execution": {
     "iopub.execute_input": "2023-11-09T14:04:24.630866Z",
     "iopub.status.busy": "2023-11-09T14:04:24.629671Z",
     "iopub.status.idle": "2023-11-09T14:04:24.807515Z",
     "shell.execute_reply": "2023-11-09T14:04:24.806216Z",
     "shell.execute_reply.started": "2023-11-09T14:04:24.630828Z"
    }
   },
   "outputs": [
    {
     "name": "stdout",
     "output_type": "stream",
     "text": [
      "<class 'pandas.core.frame.DataFrame'>\n",
      "Int64Index: 5575 entries, 67610 to 54757\n",
      "Data columns (total 11 columns):\n",
      " #   Column                   Non-Null Count  Dtype \n",
      "---  ------                   --------------  ----- \n",
      " 0   id                       5575 non-null   object\n",
      " 1   author                   5575 non-null   object\n",
      " 2   statement                5575 non-null   object\n",
      " 3   target                   5575 non-null   object\n",
      " 4   BinaryNumTarget          5575 non-null   object\n",
      " 5   manual_keywords          5575 non-null   object\n",
      " 6   tweet                    5575 non-null   object\n",
      " 7   5_label_majority_answer  5575 non-null   object\n",
      " 8   5_truthfulness           5575 non-null   object\n",
      " 9   3_label_majority_answer  5575 non-null   object\n",
      " 10  3_truthfulness           5575 non-null   object\n",
      "dtypes: object(11)\n",
      "memory usage: 522.7+ KB\n"
     ]
    }
   ],
   "source": [
    "sample = df.groupby(by=[\"5_truthfulness\"], as_index=False, group_keys=False).apply(lambda c: c.sample(frac=0.05))\n",
    "sample.info()"
   ]
  },
  {
   "cell_type": "code",
   "execution_count": 10,
   "id": "46302a69-d1a0-4f51-b7d0-4036b07f349e",
   "metadata": {
    "execution": {
     "iopub.execute_input": "2023-11-09T14:05:08.257315Z",
     "iopub.status.busy": "2023-11-09T14:05:08.255487Z",
     "iopub.status.idle": "2023-11-09T14:05:08.446934Z",
     "shell.execute_reply": "2023-11-09T14:05:08.444707Z",
     "shell.execute_reply.started": "2023-11-09T14:05:08.257053Z"
    }
   },
   "outputs": [
    {
     "data": {
      "text/html": [
       "<div>\n",
       "<style scoped>\n",
       "    .dataframe tbody tr th:only-of-type {\n",
       "        vertical-align: middle;\n",
       "    }\n",
       "\n",
       "    .dataframe tbody tr th {\n",
       "        vertical-align: top;\n",
       "    }\n",
       "\n",
       "    .dataframe thead th {\n",
       "        text-align: right;\n",
       "    }\n",
       "</style>\n",
       "<table border=\"1\" class=\"dataframe\">\n",
       "  <thead>\n",
       "    <tr style=\"text-align: right;\">\n",
       "      <th></th>\n",
       "      <th>id</th>\n",
       "      <th>author</th>\n",
       "      <th>statement</th>\n",
       "      <th>target</th>\n",
       "      <th>BinaryNumTarget</th>\n",
       "      <th>manual_keywords</th>\n",
       "      <th>tweet</th>\n",
       "      <th>5_label_majority_answer</th>\n",
       "      <th>5_truthfulness</th>\n",
       "      <th>3_label_majority_answer</th>\n",
       "      <th>3_truthfulness</th>\n",
       "    </tr>\n",
       "  </thead>\n",
       "  <tbody>\n",
       "    <tr>\n",
       "      <th>57210</th>\n",
       "      <td>68981</td>\n",
       "      <td>Sue Owen</td>\n",
       "      <td>Nearly 40 percent of his McAllen-area constitu...</td>\n",
       "      <td>True</td>\n",
       "      <td>1</td>\n",
       "      <td>40 percent, obesity</td>\n",
       "      <td>@MarkOkanagan @bigfatsurprise @amyalkon @DrJAs...</td>\n",
       "      <td>Agree</td>\n",
       "      <td>True</td>\n",
       "      <td>Agree</td>\n",
       "      <td>True</td>\n",
       "    </tr>\n",
       "    <tr>\n",
       "      <th>90618</th>\n",
       "      <td>109321</td>\n",
       "      <td>Tom Kertscher</td>\n",
       "      <td>If you were forced to use a Sharpie to fill ou...</td>\n",
       "      <td>False</td>\n",
       "      <td>0</td>\n",
       "      <td>Sharpie, voter fraud</td>\n",
       "      <td>@awardsaa APOLLO JUSTICE ARIZONA ELECTION BALL...</td>\n",
       "      <td>Mostly Agree</td>\n",
       "      <td>Mostly False</td>\n",
       "      <td>Agree</td>\n",
       "      <td>False</td>\n",
       "    </tr>\n",
       "  </tbody>\n",
       "</table>\n",
       "</div>"
      ],
      "text/plain": [
       "           id         author  \\\n",
       "57210   68981       Sue Owen   \n",
       "90618  109321  Tom Kertscher   \n",
       "\n",
       "                                               statement target  \\\n",
       "57210  Nearly 40 percent of his McAllen-area constitu...   True   \n",
       "90618  If you were forced to use a Sharpie to fill ou...  False   \n",
       "\n",
       "      BinaryNumTarget       manual_keywords  \\\n",
       "57210               1   40 percent, obesity   \n",
       "90618               0  Sharpie, voter fraud   \n",
       "\n",
       "                                                   tweet  \\\n",
       "57210  @MarkOkanagan @bigfatsurprise @amyalkon @DrJAs...   \n",
       "90618  @awardsaa APOLLO JUSTICE ARIZONA ELECTION BALL...   \n",
       "\n",
       "      5_label_majority_answer 5_truthfulness 3_label_majority_answer  \\\n",
       "57210                   Agree           True                   Agree   \n",
       "90618            Mostly Agree   Mostly False                   Agree   \n",
       "\n",
       "      3_truthfulness  \n",
       "57210           True  \n",
       "90618          False  "
      ]
     },
     "execution_count": 10,
     "metadata": {},
     "output_type": "execute_result"
    }
   ],
   "source": [
    "sample.sample(2)"
   ]
  },
  {
   "cell_type": "code",
   "execution_count": 23,
   "id": "299e31e7-4e17-46ae-be84-80c486019e36",
   "metadata": {
    "execution": {
     "iopub.execute_input": "2023-11-09T14:07:46.879623Z",
     "iopub.status.busy": "2023-11-09T14:07:46.878569Z",
     "iopub.status.idle": "2023-11-09T14:07:46.922141Z",
     "shell.execute_reply": "2023-11-09T14:07:46.921160Z",
     "shell.execute_reply.started": "2023-11-09T14:07:46.879592Z"
    }
   },
   "outputs": [
    {
     "data": {
      "text/plain": [
       "False    2706\n",
       "True     2869\n",
       "Name: 3_truthfulness, dtype: int64"
      ]
     },
     "execution_count": 23,
     "metadata": {},
     "output_type": "execute_result"
    }
   ],
   "source": [
    "sample[\"3_truthfulness\"].value_counts().sort_index()"
   ]
  },
  {
   "cell_type": "code",
   "execution_count": 12,
   "id": "bb3ff888-3342-4325-b2bc-1cecc98ae02f",
   "metadata": {
    "execution": {
     "iopub.execute_input": "2023-11-09T14:05:09.856646Z",
     "iopub.status.busy": "2023-11-09T14:05:09.855892Z",
     "iopub.status.idle": "2023-11-09T14:05:09.873414Z",
     "shell.execute_reply": "2023-11-09T14:05:09.872342Z",
     "shell.execute_reply.started": "2023-11-09T14:05:09.856617Z"
    }
   },
   "outputs": [
    {
     "data": {
      "text/plain": [
       "Mostly True     1456\n",
       "True            1413\n",
       "Mostly False    1376\n",
       "False           1330\n",
       "Name: 5_truthfulness, dtype: int64"
      ]
     },
     "execution_count": 12,
     "metadata": {},
     "output_type": "execute_result"
    }
   ],
   "source": [
    "sample[\"5_truthfulness\"].value_counts()"
   ]
  },
  {
   "cell_type": "code",
   "execution_count": 13,
   "id": "db833d7f-a757-4f11-8ab9-13319f2a66d3",
   "metadata": {
    "execution": {
     "iopub.execute_input": "2023-11-09T14:05:10.944566Z",
     "iopub.status.busy": "2023-11-09T14:05:10.944008Z",
     "iopub.status.idle": "2023-11-09T14:05:11.115982Z",
     "shell.execute_reply": "2023-11-09T14:05:11.114800Z",
     "shell.execute_reply.started": "2023-11-09T14:05:10.944526Z"
    }
   },
   "outputs": [
    {
     "data": {
      "text/plain": [
       "True     51.45\n",
       "False    48.55\n",
       "Name: 3_truthfulness, dtype: float64"
      ]
     },
     "execution_count": 13,
     "metadata": {},
     "output_type": "execute_result"
    }
   ],
   "source": [
    "np.round((df[\"3_truthfulness\"].value_counts() / df.shape[0]) * 100, 2)"
   ]
  },
  {
   "cell_type": "code",
   "execution_count": 14,
   "id": "d5b66b58-417d-42c1-87b2-67728c777333",
   "metadata": {
    "execution": {
     "iopub.execute_input": "2023-11-09T14:05:13.815030Z",
     "iopub.status.busy": "2023-11-09T14:05:13.813408Z",
     "iopub.status.idle": "2023-11-09T14:05:13.864929Z",
     "shell.execute_reply": "2023-11-09T14:05:13.862577Z",
     "shell.execute_reply.started": "2023-11-09T14:05:13.814986Z"
    }
   },
   "outputs": [
    {
     "data": {
      "text/plain": [
       "Mostly True     26.12\n",
       "True            25.34\n",
       "Mostly False    24.69\n",
       "False           23.86\n",
       "Name: 5_truthfulness, dtype: float64"
      ]
     },
     "execution_count": 14,
     "metadata": {},
     "output_type": "execute_result"
    }
   ],
   "source": [
    "np.round((df[\"5_truthfulness\"].value_counts() / df.shape[0]) * 100, 2)"
   ]
  },
  {
   "cell_type": "code",
   "execution_count": 15,
   "id": "25cb3f9a-2c9c-4501-9ab3-16e44debd924",
   "metadata": {
    "execution": {
     "iopub.execute_input": "2023-11-09T14:05:14.137126Z",
     "iopub.status.busy": "2023-11-09T14:05:14.136396Z",
     "iopub.status.idle": "2023-11-09T14:05:14.153354Z",
     "shell.execute_reply": "2023-11-09T14:05:14.151864Z",
     "shell.execute_reply.started": "2023-11-09T14:05:14.137096Z"
    }
   },
   "outputs": [
    {
     "data": {
      "text/plain": [
       "True     51.46\n",
       "False    48.54\n",
       "Name: 3_truthfulness, dtype: float64"
      ]
     },
     "execution_count": 15,
     "metadata": {},
     "output_type": "execute_result"
    }
   ],
   "source": [
    "np.round((sample[\"3_truthfulness\"].value_counts() / sample.shape[0]) * 100, 2)"
   ]
  },
  {
   "cell_type": "code",
   "execution_count": 16,
   "id": "fcd6d2b9-c067-44f5-b91d-0c447a5023c2",
   "metadata": {
    "execution": {
     "iopub.execute_input": "2023-11-09T14:05:15.634402Z",
     "iopub.status.busy": "2023-11-09T14:05:15.633467Z",
     "iopub.status.idle": "2023-11-09T14:05:15.646960Z",
     "shell.execute_reply": "2023-11-09T14:05:15.645558Z",
     "shell.execute_reply.started": "2023-11-09T14:05:15.634376Z"
    },
    "scrolled": true
   },
   "outputs": [
    {
     "data": {
      "text/plain": [
       "Mostly True     26.12\n",
       "True            25.35\n",
       "Mostly False    24.68\n",
       "False           23.86\n",
       "Name: 5_truthfulness, dtype: float64"
      ]
     },
     "execution_count": 16,
     "metadata": {},
     "output_type": "execute_result"
    }
   ],
   "source": [
    "np.round((sample[\"5_truthfulness\"].value_counts() / sample.shape[0]) * 100, 2)"
   ]
  },
  {
   "cell_type": "code",
   "execution_count": 12,
   "id": "700d9ea0-c4f2-4a14-8071-94e99e60cde6",
   "metadata": {
    "execution": {
     "iopub.execute_input": "2023-11-06T21:42:37.981801Z",
     "iopub.status.busy": "2023-11-06T21:42:37.981248Z",
     "iopub.status.idle": "2023-11-06T21:43:19.446444Z",
     "shell.execute_reply": "2023-11-06T21:43:19.422601Z",
     "shell.execute_reply.started": "2023-11-06T21:42:37.981750Z"
    }
   },
   "outputs": [
    {
     "data": {
      "text/plain": [
       "(11151, 26380)"
      ]
     },
     "execution_count": 12,
     "metadata": {},
     "output_type": "execute_result"
    }
   ],
   "source": [
    "representation = NGram()\n",
    "features, result = representation.generate_representation(sample[\"tweet\"].tolist())\n",
    "result.shape"
   ]
  },
  {
   "cell_type": "code",
   "execution_count": 13,
   "id": "d0a1b124-4e8f-48d9-b3e1-c1380c4f3b26",
   "metadata": {
    "execution": {
     "iopub.execute_input": "2023-11-06T21:43:19.495880Z",
     "iopub.status.busy": "2023-11-06T21:43:19.493599Z",
     "iopub.status.idle": "2023-11-06T21:43:19.536663Z",
     "shell.execute_reply": "2023-11-06T21:43:19.534558Z",
     "shell.execute_reply.started": "2023-11-06T21:43:19.495731Z"
    }
   },
   "outputs": [
    {
     "data": {
      "text/plain": [
       "1176653648"
      ]
     },
     "execution_count": 13,
     "metadata": {},
     "output_type": "execute_result"
    }
   ],
   "source": [
    "sys.getsizeof(result)"
   ]
  },
  {
   "cell_type": "code",
   "execution_count": 14,
   "id": "2dcf9ecd-512c-4fa5-8003-a47e66442f9a",
   "metadata": {
    "execution": {
     "iopub.execute_input": "2023-11-06T21:43:19.542026Z",
     "iopub.status.busy": "2023-11-06T21:43:19.541136Z",
     "iopub.status.idle": "2023-11-06T21:43:19.567975Z",
     "shell.execute_reply": "2023-11-06T21:43:19.562154Z",
     "shell.execute_reply.started": "2023-11-06T21:43:19.541983Z"
    }
   },
   "outputs": [
    {
     "data": {
      "text/plain": [
       "1.095844104886055"
      ]
     },
     "execution_count": 14,
     "metadata": {},
     "output_type": "execute_result"
    }
   ],
   "source": [
    "sys.getsizeof(result) / (2 ** 30)"
   ]
  },
  {
   "cell_type": "code",
   "execution_count": 15,
   "id": "986512af-23d7-413a-be77-b1ddd6173df6",
   "metadata": {
    "execution": {
     "iopub.execute_input": "2023-11-06T21:46:32.278571Z",
     "iopub.status.busy": "2023-11-06T21:46:32.277793Z",
     "iopub.status.idle": "2023-11-06T21:52:16.645068Z",
     "shell.execute_reply": "2023-11-06T21:52:16.635486Z",
     "shell.execute_reply.started": "2023-11-06T21:46:32.278543Z"
    }
   },
   "outputs": [
    {
     "data": {
      "text/plain": [
       "array([[0.        , 1.        , 0.9714923 , ..., 1.        , 1.        ,\n",
       "        0.98369694],\n",
       "       [1.        , 0.        , 1.        , ..., 1.        , 1.        ,\n",
       "        1.        ],\n",
       "       [0.9714923 , 1.        , 0.        , ..., 1.        , 1.        ,\n",
       "        1.        ],\n",
       "       ...,\n",
       "       [1.        , 1.        , 1.        , ..., 0.        , 1.        ,\n",
       "        0.98115957],\n",
       "       [1.        , 1.        , 1.        , ..., 1.        , 0.        ,\n",
       "        0.9528623 ],\n",
       "       [0.98369694, 1.        , 1.        , ..., 0.98115957, 0.9528623 ,\n",
       "        0.        ]], dtype=float32)"
      ]
     },
     "execution_count": 15,
     "metadata": {},
     "output_type": "execute_result"
    }
   ],
   "source": [
    "cosine_distances(result, result)"
   ]
  },
  {
   "cell_type": "code",
   "execution_count": 16,
   "id": "2c48bb34-099e-4ff5-bc59-b7335ed115b5",
   "metadata": {
    "execution": {
     "iopub.execute_input": "2023-11-06T21:52:32.381090Z",
     "iopub.status.busy": "2023-11-06T21:52:32.379142Z",
     "iopub.status.idle": "2023-11-06T21:52:32.453634Z",
     "shell.execute_reply": "2023-11-06T21:52:32.450557Z",
     "shell.execute_reply.started": "2023-11-06T21:52:32.380822Z"
    }
   },
   "outputs": [],
   "source": [
    "root_logger = getLogger(\"root\")"
   ]
  },
  {
   "cell_type": "code",
   "execution_count": 17,
   "id": "c612129d-c418-4507-8a59-f4df806d5d94",
   "metadata": {
    "execution": {
     "iopub.execute_input": "2023-11-06T21:52:32.707002Z",
     "iopub.status.busy": "2023-11-06T21:52:32.706156Z",
     "iopub.status.idle": "2023-11-06T21:52:32.756954Z",
     "shell.execute_reply": "2023-11-06T21:52:32.755438Z",
     "shell.execute_reply.started": "2023-11-06T21:52:32.706972Z"
    }
   },
   "outputs": [],
   "source": [
    "aiNet = AiNet(distance_method=\"cosine\", logger=root_logger)"
   ]
  },
  {
   "cell_type": "code",
   "execution_count": 19,
   "id": "1c08bddf-9d0f-4d4e-a74f-ae6badcfbbab",
   "metadata": {
    "execution": {
     "iopub.execute_input": "2023-11-06T21:52:53.552745Z",
     "iopub.status.busy": "2023-11-06T21:52:53.551983Z",
     "iopub.status.idle": "2023-11-07T04:02:19.529261Z",
     "shell.execute_reply": "2023-11-07T04:02:19.511059Z",
     "shell.execute_reply.started": "2023-11-06T21:52:53.552719Z"
    }
   },
   "outputs": [
    {
     "name": "stdout",
     "output_type": "stream",
     "text": [
      "iter: 1 | cur_hyper_rate:  0.00000000 | |██████----------------------------------------------------------------------------------------------| 6.7% | avd: 0.00000 | net size: 0\r"
     ]
    }
   ],
   "source": [
    "aiNet.fit(\n",
    "    antigen_population=result, \n",
    "    max_iter=15, \n",
    "    number_of_antibodies=int(result.shape[0] * 0.10), \n",
    "    clone_multiplier=10, \n",
    "    no_best_cells_taken_each_selection=5, \n",
    "    percent_clones_reselected=0.12, \n",
    "    pruning_threshold=0.5\n",
    ")"
   ]
  },
  {
   "cell_type": "code",
   "execution_count": 20,
   "id": "88ba54d3-39ae-498e-862a-64fef5744c49",
   "metadata": {
    "execution": {
     "iopub.execute_input": "2023-11-07T04:02:19.581885Z",
     "iopub.status.busy": "2023-11-07T04:02:19.579254Z",
     "iopub.status.idle": "2023-11-07T04:02:19.677657Z",
     "shell.execute_reply": "2023-11-07T04:02:19.675602Z",
     "shell.execute_reply.started": "2023-11-07T04:02:19.581094Z"
    }
   },
   "outputs": [
    {
     "data": {
      "text/plain": [
       "(0,)"
      ]
     },
     "execution_count": 20,
     "metadata": {},
     "output_type": "execute_result"
    }
   ],
   "source": [
    "aiNet.antibody_population.shape"
   ]
  },
  {
   "cell_type": "code",
   "execution_count": 17,
   "id": "f1feb168-4599-4ce7-97c8-4087206294a7",
   "metadata": {
    "execution": {
     "iopub.execute_input": "2023-11-09T14:05:19.468165Z",
     "iopub.status.busy": "2023-11-09T14:05:19.467721Z",
     "iopub.status.idle": "2023-11-09T14:05:19.759496Z",
     "shell.execute_reply": "2023-11-09T14:05:19.758228Z",
     "shell.execute_reply.started": "2023-11-09T14:05:19.468147Z"
    }
   },
   "outputs": [],
   "source": [
    "sample.to_csv(\"sample_cleansed_mapped_data.csv\", encoding=\"utf-8\", index=False, sep=\",\", quoting=csv.QUOTE_NONNUMERIC, quotechar='\"')"
   ]
  },
  {
   "cell_type": "code",
   "execution_count": 18,
   "id": "2a1209ca-abc1-44cb-8207-19ea89226d9b",
   "metadata": {
    "execution": {
     "iopub.execute_input": "2023-11-09T14:05:19.901909Z",
     "iopub.status.busy": "2023-11-09T14:05:19.901251Z",
     "iopub.status.idle": "2023-11-09T14:05:24.105329Z",
     "shell.execute_reply": "2023-11-09T14:05:24.103941Z",
     "shell.execute_reply.started": "2023-11-09T14:05:19.901865Z"
    }
   },
   "outputs": [],
   "source": [
    "with open(\"sample_cleansed_mapped_data.csv\", \"r+\", newline=\"\", encoding=\"utf-8\") as f:\n",
    "    reader = csv.reader(f, delimiter=\",\", quoting=csv.QUOTE_MINIMAL, quotechar='\"')\n",
    "    data = list(reader)\n",
    "    header = data.pop(0)\n",
    "\n",
    "df1 = pd.DataFrame(data=data, columns=header)"
   ]
  },
  {
   "cell_type": "code",
   "execution_count": 24,
   "id": "0071b091-763c-4c2d-b3b7-3ad575e3a707",
   "metadata": {
    "execution": {
     "iopub.execute_input": "2023-11-09T14:07:53.398377Z",
     "iopub.status.busy": "2023-11-09T14:07:53.397215Z",
     "iopub.status.idle": "2023-11-09T14:07:53.588052Z",
     "shell.execute_reply": "2023-11-09T14:07:53.585704Z",
     "shell.execute_reply.started": "2023-11-09T14:07:53.398338Z"
    }
   },
   "outputs": [
    {
     "name": "stdout",
     "output_type": "stream",
     "text": [
      "<class 'pandas.core.frame.DataFrame'>\n",
      "RangeIndex: 5575 entries, 0 to 5574\n",
      "Data columns (total 11 columns):\n",
      " #   Column                   Non-Null Count  Dtype \n",
      "---  ------                   --------------  ----- \n",
      " 0   id                       5575 non-null   object\n",
      " 1   author                   5575 non-null   object\n",
      " 2   statement                5575 non-null   object\n",
      " 3   target                   5575 non-null   object\n",
      " 4   BinaryNumTarget          5575 non-null   object\n",
      " 5   manual_keywords          5575 non-null   object\n",
      " 6   tweet                    5575 non-null   object\n",
      " 7   5_label_majority_answer  5575 non-null   object\n",
      " 8   5_truthfulness           5575 non-null   object\n",
      " 9   3_label_majority_answer  5575 non-null   object\n",
      " 10  3_truthfulness           5575 non-null   object\n",
      "dtypes: object(11)\n",
      "memory usage: 479.2+ KB\n"
     ]
    }
   ],
   "source": [
    "df1.info()"
   ]
  },
  {
   "cell_type": "code",
   "execution_count": 20,
   "id": "d3bc4268-6944-40ce-8d46-50424ee329f7",
   "metadata": {
    "execution": {
     "iopub.execute_input": "2023-11-09T14:05:25.287664Z",
     "iopub.status.busy": "2023-11-09T14:05:25.286423Z",
     "iopub.status.idle": "2023-11-09T14:05:25.303155Z",
     "shell.execute_reply": "2023-11-09T14:05:25.301678Z",
     "shell.execute_reply.started": "2023-11-09T14:05:25.287598Z"
    }
   },
   "outputs": [
    {
     "data": {
      "text/plain": [
       "True     2869\n",
       "False    2706\n",
       "Name: 3_truthfulness, dtype: int64"
      ]
     },
     "execution_count": 20,
     "metadata": {},
     "output_type": "execute_result"
    }
   ],
   "source": [
    "df1[\"3_truthfulness\"].value_counts()"
   ]
  },
  {
   "cell_type": "code",
   "execution_count": 21,
   "id": "8b2af5b6-76d9-49a3-a056-d770e157ce3d",
   "metadata": {
    "execution": {
     "iopub.execute_input": "2023-11-09T14:05:25.741059Z",
     "iopub.status.busy": "2023-11-09T14:05:25.740244Z",
     "iopub.status.idle": "2023-11-09T14:05:25.753156Z",
     "shell.execute_reply": "2023-11-09T14:05:25.751630Z",
     "shell.execute_reply.started": "2023-11-09T14:05:25.741015Z"
    }
   },
   "outputs": [
    {
     "data": {
      "text/plain": [
       "Mostly True     1456\n",
       "True            1413\n",
       "Mostly False    1376\n",
       "False           1330\n",
       "Name: 5_truthfulness, dtype: int64"
      ]
     },
     "execution_count": 21,
     "metadata": {},
     "output_type": "execute_result"
    }
   ],
   "source": [
    "df1[\"5_truthfulness\"].value_counts()"
   ]
  },
  {
   "cell_type": "code",
   "execution_count": 25,
   "id": "6dbdbc30-9578-4f6a-bf6a-177d84d14ac1",
   "metadata": {
    "execution": {
     "iopub.execute_input": "2023-11-09T14:09:40.824880Z",
     "iopub.status.busy": "2023-11-09T14:09:40.821079Z",
     "iopub.status.idle": "2023-11-09T14:09:41.077683Z",
     "shell.execute_reply": "2023-11-09T14:09:41.071564Z",
     "shell.execute_reply.started": "2023-11-09T14:09:40.824373Z"
    }
   },
   "outputs": [
    {
     "data": {
      "text/plain": [
       "0"
      ]
     },
     "execution_count": 25,
     "metadata": {},
     "output_type": "execute_result"
    }
   ],
   "source": [
    "(df1[\"tweet\"].isna().astype(int) + df1[\"tweet\"].isnull().astype(int)).sum()"
   ]
  },
  {
   "cell_type": "code",
   "execution_count": null,
   "id": "c72cb9ef-c1aa-44e3-b639-85cbf0cb646f",
   "metadata": {},
   "outputs": [],
   "source": []
  }
 ],
 "metadata": {
  "kernelspec": {
   "display_name": "Python 3 (ipykernel)",
   "language": "python",
   "name": "python3"
  },
  "language_info": {
   "codemirror_mode": {
    "name": "ipython",
    "version": 3
   },
   "file_extension": ".py",
   "mimetype": "text/x-python",
   "name": "python",
   "nbconvert_exporter": "python",
   "pygments_lexer": "ipython3",
   "version": "3.11.6"
  },
  "widgets": {
   "application/vnd.jupyter.widget-state+json": {
    "state": {},
    "version_major": 2,
    "version_minor": 0
   }
  }
 },
 "nbformat": 4,
 "nbformat_minor": 5
}
