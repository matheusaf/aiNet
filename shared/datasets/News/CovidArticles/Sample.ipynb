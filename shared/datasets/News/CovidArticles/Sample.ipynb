{
 "cells": [
  {
   "cell_type": "code",
   "execution_count": 1,
   "id": "f48cfd8a-21ef-44dd-ba52-f89f0c373128",
   "metadata": {
    "execution": {
     "iopub.execute_input": "2023-12-05T13:15:41.790472Z",
     "iopub.status.busy": "2023-12-05T13:15:41.790151Z",
     "iopub.status.idle": "2023-12-05T13:15:41.807121Z",
     "shell.execute_reply": "2023-12-05T13:15:41.805273Z",
     "shell.execute_reply.started": "2023-12-05T13:15:41.790450Z"
    }
   },
   "outputs": [
    {
     "data": {
      "text/plain": [
       "131072"
      ]
     },
     "execution_count": 1,
     "metadata": {},
     "output_type": "execute_result"
    }
   ],
   "source": [
    "import os\n",
    "import csv\n",
    "import sys\n",
    "from pathlib import Path\n",
    "\n",
    "sys.path.append(\n",
    "    os.path.join(\n",
    "        Path(os.getcwd()).parents[3],\n",
    "        \"src\"\n",
    "    )\n",
    ")\n",
    "\n",
    "csv.field_size_limit(sys.maxsize)"
   ]
  },
  {
   "cell_type": "code",
   "execution_count": 2,
   "id": "7eb58bc5-2502-4eb9-9706-7450f01ca23b",
   "metadata": {
    "execution": {
     "iopub.execute_input": "2023-12-05T13:15:41.981257Z",
     "iopub.status.busy": "2023-12-05T13:15:41.980948Z",
     "iopub.status.idle": "2023-12-05T13:15:58.715623Z",
     "shell.execute_reply": "2023-12-05T13:15:58.713865Z",
     "shell.execute_reply.started": "2023-12-05T13:15:41.981236Z"
    }
   },
   "outputs": [],
   "source": [
    "import numpy as np\n",
    "import pandas as pd\n",
    "from models import AiNet\n",
    "from representations import NGram\n",
    "from logging import getLogger\n",
    "from utils import cosine_distances, euclidean_distances"
   ]
  },
  {
   "cell_type": "code",
   "execution_count": null,
   "id": "3492e807-2688-461e-abac-b5e00af76cc3",
   "metadata": {
    "execution": {
     "iopub.execute_input": "2023-12-05T13:15:58.718471Z",
     "iopub.status.busy": "2023-12-05T13:15:58.717889Z"
    }
   },
   "outputs": [],
   "source": [
    "with open(\"cleansed_data.csv\", \"r+\", newline=\"\", encoding=\"utf-8\") as f:\n",
    "    reader = csv.reader(f, delimiter=\",\", quotechar='\"', quoting=csv.QUOTE_MINIMAL)\n",
    "    data = list(reader)\n",
    "    header = data.pop(0)\n",
    "\n",
    "df = pd.DataFrame(data=data, columns=header)\n",
    "df.info()"
   ]
  },
  {
   "cell_type": "code",
   "execution_count": 7,
   "id": "bd224cb8-1600-4d91-b9e0-4b95003a8c9f",
   "metadata": {
    "execution": {
     "iopub.execute_input": "2023-12-05T13:24:50.532119Z",
     "iopub.status.busy": "2023-12-05T13:24:50.531130Z",
     "iopub.status.idle": "2023-12-05T13:24:50.809232Z",
     "shell.execute_reply": "2023-12-05T13:24:50.807477Z",
     "shell.execute_reply.started": "2023-12-05T13:24:50.532088Z"
    }
   },
   "outputs": [
    {
     "data": {
      "text/plain": [
       "'The coronavirus epidemic: Implications for markets'"
      ]
     },
     "execution_count": 7,
     "metadata": {},
     "output_type": "execute_result"
    }
   ],
   "source": [
    "df[df[\"category\"].str.match(\"esg\", case=False)].iloc[0].title"
   ]
  },
  {
   "cell_type": "code",
   "execution_count": 5,
   "id": "46ac3b69-4f25-4e65-b646-aa66483d5ea9",
   "metadata": {
    "execution": {
     "iopub.execute_input": "2023-11-06T02:52:24.595404Z",
     "iopub.status.busy": "2023-11-06T02:52:24.594750Z",
     "iopub.status.idle": "2023-11-06T02:52:24.896675Z",
     "shell.execute_reply": "2023-11-06T02:52:24.895589Z",
     "shell.execute_reply.started": "2023-11-06T02:52:24.595382Z"
    },
    "scrolled": true
   },
   "outputs": [
    {
     "name": "stdout",
     "output_type": "stream",
     "text": [
      "<class 'pandas.core.frame.DataFrame'>\n",
      "Int64Index: 4756 entries, 260427 to 149895\n",
      "Data columns (total 4 columns):\n",
      " #   Column       Non-Null Count  Dtype \n",
      "---  ------       --------------  ----- \n",
      " 0   original_id  4756 non-null   object\n",
      " 1   title        4756 non-null   object\n",
      " 2   content      4756 non-null   object\n",
      " 3   category     4756 non-null   object\n",
      "dtypes: object(4)\n",
      "memory usage: 185.8+ KB\n"
     ]
    }
   ],
   "source": [
    "sample = df.groupby(by=[\"category\"], as_index=False, group_keys=False).apply(lambda c: c.sample(frac=0.01))\n",
    "sample.info()"
   ]
  },
  {
   "cell_type": "code",
   "execution_count": 6,
   "id": "46302a69-d1a0-4f51-b7d0-4036b07f349e",
   "metadata": {
    "execution": {
     "iopub.execute_input": "2023-11-06T02:52:24.898754Z",
     "iopub.status.busy": "2023-11-06T02:52:24.898076Z",
     "iopub.status.idle": "2023-11-06T02:52:24.937087Z",
     "shell.execute_reply": "2023-11-06T02:52:24.936119Z",
     "shell.execute_reply.started": "2023-11-06T02:52:24.898726Z"
    }
   },
   "outputs": [
    {
     "data": {
      "text/html": [
       "<div>\n",
       "<style scoped>\n",
       "    .dataframe tbody tr th:only-of-type {\n",
       "        vertical-align: middle;\n",
       "    }\n",
       "\n",
       "    .dataframe tbody tr th {\n",
       "        vertical-align: top;\n",
       "    }\n",
       "\n",
       "    .dataframe thead th {\n",
       "        text-align: right;\n",
       "    }\n",
       "</style>\n",
       "<table border=\"1\" class=\"dataframe\">\n",
       "  <thead>\n",
       "    <tr style=\"text-align: right;\">\n",
       "      <th></th>\n",
       "      <th>original_id</th>\n",
       "      <th>title</th>\n",
       "      <th>content</th>\n",
       "      <th>category</th>\n",
       "    </tr>\n",
       "  </thead>\n",
       "  <tbody>\n",
       "    <tr>\n",
       "      <th>17744</th>\n",
       "      <td>17803</td>\n",
       "      <td>Rolling report: Impact of coronavirus on pro r...</td>\n",
       "      <td>Get access to more than 30 brands, premium vid...</td>\n",
       "      <td>general</td>\n",
       "    </tr>\n",
       "    <tr>\n",
       "      <th>324573</th>\n",
       "      <td>326048</td>\n",
       "      <td>Minneapolis on trial: how the year of George F...</td>\n",
       "      <td>At 9.52pm on 8 March 2020, my university sent ...</td>\n",
       "      <td>general</td>\n",
       "    </tr>\n",
       "  </tbody>\n",
       "</table>\n",
       "</div>"
      ],
      "text/plain": [
       "       original_id                                              title  \\\n",
       "17744        17803  Rolling report: Impact of coronavirus on pro r...   \n",
       "324573      326048  Minneapolis on trial: how the year of George F...   \n",
       "\n",
       "                                                  content category  \n",
       "17744   Get access to more than 30 brands, premium vid...  general  \n",
       "324573  At 9.52pm on 8 March 2020, my university sent ...  general  "
      ]
     },
     "execution_count": 6,
     "metadata": {},
     "output_type": "execute_result"
    }
   ],
   "source": [
    "sample.sample(2)"
   ]
  },
  {
   "cell_type": "code",
   "execution_count": 7,
   "id": "299e31e7-4e17-46ae-be84-80c486019e36",
   "metadata": {
    "execution": {
     "iopub.execute_input": "2023-11-06T02:52:24.939302Z",
     "iopub.status.busy": "2023-11-06T02:52:24.938832Z",
     "iopub.status.idle": "2023-11-06T02:52:24.955174Z",
     "shell.execute_reply": "2023-11-06T02:52:24.954057Z",
     "shell.execute_reply.started": "2023-11-06T02:52:24.939279Z"
    }
   },
   "outputs": [
    {
     "data": {
      "text/plain": [
       "business    2631\n",
       "general     1502\n",
       "tech         522\n",
       "science       81\n",
       "esg           20\n",
       "Name: category, dtype: int64"
      ]
     },
     "execution_count": 7,
     "metadata": {},
     "output_type": "execute_result"
    }
   ],
   "source": [
    "sample[\"category\"].value_counts()"
   ]
  },
  {
   "cell_type": "code",
   "execution_count": 8,
   "id": "d5b66b58-417d-42c1-87b2-67728c777333",
   "metadata": {
    "execution": {
     "iopub.execute_input": "2023-11-06T02:52:24.957474Z",
     "iopub.status.busy": "2023-11-06T02:52:24.957018Z",
     "iopub.status.idle": "2023-11-06T02:52:25.064265Z",
     "shell.execute_reply": "2023-11-06T02:52:25.060353Z",
     "shell.execute_reply.started": "2023-11-06T02:52:24.957435Z"
    }
   },
   "outputs": [
    {
     "data": {
      "text/plain": [
       "business    55.31\n",
       "general     31.59\n",
       "tech        10.97\n",
       "science      1.70\n",
       "esg          0.43\n",
       "Name: category, dtype: float64"
      ]
     },
     "execution_count": 8,
     "metadata": {},
     "output_type": "execute_result"
    }
   ],
   "source": [
    "np.round((df[\"category\"].value_counts() / df.shape[0]) * 100, 2)"
   ]
  },
  {
   "cell_type": "code",
   "execution_count": 9,
   "id": "fcd6d2b9-c067-44f5-b91d-0c447a5023c2",
   "metadata": {
    "execution": {
     "iopub.execute_input": "2023-11-06T02:52:25.068948Z",
     "iopub.status.busy": "2023-11-06T02:52:25.066809Z",
     "iopub.status.idle": "2023-11-06T02:52:25.089516Z",
     "shell.execute_reply": "2023-11-06T02:52:25.087516Z",
     "shell.execute_reply.started": "2023-11-06T02:52:25.068846Z"
    },
    "scrolled": true
   },
   "outputs": [
    {
     "data": {
      "text/plain": [
       "business    55.32\n",
       "general     31.58\n",
       "tech        10.98\n",
       "science      1.70\n",
       "esg          0.42\n",
       "Name: category, dtype: float64"
      ]
     },
     "execution_count": 9,
     "metadata": {},
     "output_type": "execute_result"
    }
   ],
   "source": [
    "np.round((sample[\"category\"].value_counts() / sample.shape[0]) * 100, 2)"
   ]
  },
  {
   "cell_type": "code",
   "execution_count": 10,
   "id": "e21c582f-a8d3-4125-ba6a-269c7664bf38",
   "metadata": {
    "execution": {
     "iopub.execute_input": "2023-11-06T02:54:10.034071Z",
     "iopub.status.busy": "2023-11-06T02:54:10.033524Z",
     "iopub.status.idle": "2023-11-06T02:54:10.161174Z",
     "shell.execute_reply": "2023-11-06T02:54:10.158876Z",
     "shell.execute_reply.started": "2023-11-06T02:54:10.034038Z"
    }
   },
   "outputs": [],
   "source": [
    "del df"
   ]
  },
  {
   "cell_type": "code",
   "execution_count": 12,
   "id": "1c2871e3-e757-4514-bc63-a32b6a49d81a",
   "metadata": {
    "execution": {
     "iopub.execute_input": "2023-11-06T02:54:25.177494Z",
     "iopub.status.busy": "2023-11-06T02:54:25.176747Z",
     "iopub.status.idle": "2023-11-06T02:54:26.136237Z",
     "shell.execute_reply": "2023-11-06T02:54:26.135184Z",
     "shell.execute_reply.started": "2023-11-06T02:54:25.177466Z"
    }
   },
   "outputs": [],
   "source": [
    "del data"
   ]
  },
  {
   "cell_type": "code",
   "execution_count": 13,
   "id": "26a10bdb-8555-4f09-92cc-5a53eeb7ea20",
   "metadata": {
    "execution": {
     "iopub.execute_input": "2023-11-06T02:54:46.867948Z",
     "iopub.status.busy": "2023-11-06T02:54:46.867462Z",
     "iopub.status.idle": "2023-11-06T02:54:46.876146Z",
     "shell.execute_reply": "2023-11-06T02:54:46.874208Z",
     "shell.execute_reply.started": "2023-11-06T02:54:46.867918Z"
    }
   },
   "outputs": [],
   "source": [
    "del reader"
   ]
  },
  {
   "cell_type": "code",
   "execution_count": 14,
   "id": "700d9ea0-c4f2-4a14-8071-94e99e60cde6",
   "metadata": {
    "execution": {
     "iopub.execute_input": "2023-11-06T02:54:58.316781Z",
     "iopub.status.busy": "2023-11-06T02:54:58.316224Z",
     "iopub.status.idle": "2023-11-06T03:05:15.345128Z",
     "shell.execute_reply": "2023-11-06T03:05:15.324224Z",
     "shell.execute_reply.started": "2023-11-06T02:54:58.316761Z"
    }
   },
   "outputs": [
    {
     "data": {
      "text/plain": [
       "(4756, 64752)"
      ]
     },
     "execution_count": 14,
     "metadata": {},
     "output_type": "execute_result"
    }
   ],
   "source": [
    "representation = NGram()\n",
    "features, result = representation.generate_representation(sample[\"content\"].tolist())\n",
    "result.shape"
   ]
  },
  {
   "cell_type": "code",
   "execution_count": 15,
   "id": "d0a1b124-4e8f-48d9-b3e1-c1380c4f3b26",
   "metadata": {
    "execution": {
     "iopub.execute_input": "2023-11-06T03:05:15.389587Z",
     "iopub.status.busy": "2023-11-06T03:05:15.385606Z",
     "iopub.status.idle": "2023-11-06T03:05:15.443293Z",
     "shell.execute_reply": "2023-11-06T03:05:15.441435Z",
     "shell.execute_reply.started": "2023-11-06T03:05:15.389422Z"
    }
   },
   "outputs": [
    {
     "data": {
      "text/plain": [
       "1231842176"
      ]
     },
     "execution_count": 15,
     "metadata": {},
     "output_type": "execute_result"
    }
   ],
   "source": [
    "sys.getsizeof(result)"
   ]
  },
  {
   "cell_type": "code",
   "execution_count": 16,
   "id": "76f43073-bd30-457a-88e5-f6f9d10ba672",
   "metadata": {
    "execution": {
     "iopub.execute_input": "2023-11-06T03:05:15.447118Z",
     "iopub.status.busy": "2023-11-06T03:05:15.446181Z",
     "iopub.status.idle": "2023-11-06T03:05:15.506330Z",
     "shell.execute_reply": "2023-11-06T03:05:15.503941Z",
     "shell.execute_reply.started": "2023-11-06T03:05:15.447083Z"
    }
   },
   "outputs": [
    {
     "data": {
      "text/plain": [
       "1073741824"
      ]
     },
     "execution_count": 16,
     "metadata": {},
     "output_type": "execute_result"
    }
   ],
   "source": [
    "2 ** 30"
   ]
  },
  {
   "cell_type": "code",
   "execution_count": 17,
   "id": "473d6a14-f644-467f-a31c-80b0a9b3d6b1",
   "metadata": {
    "execution": {
     "iopub.execute_input": "2023-11-06T03:05:15.512428Z",
     "iopub.status.busy": "2023-11-06T03:05:15.511630Z",
     "iopub.status.idle": "2023-11-06T03:05:15.522312Z",
     "shell.execute_reply": "2023-11-06T03:05:15.519427Z",
     "shell.execute_reply.started": "2023-11-06T03:05:15.512397Z"
    }
   },
   "outputs": [
    {
     "data": {
      "text/plain": [
       "1073741824"
      ]
     },
     "execution_count": 17,
     "metadata": {},
     "output_type": "execute_result"
    }
   ],
   "source": [
    "(2 ** 10) ** 3"
   ]
  },
  {
   "cell_type": "code",
   "execution_count": 18,
   "id": "2dcf9ecd-512c-4fa5-8003-a47e66442f9a",
   "metadata": {
    "execution": {
     "iopub.execute_input": "2023-11-06T03:05:15.526472Z",
     "iopub.status.busy": "2023-11-06T03:05:15.525526Z",
     "iopub.status.idle": "2023-11-06T03:05:15.543513Z",
     "shell.execute_reply": "2023-11-06T03:05:15.540543Z",
     "shell.execute_reply.started": "2023-11-06T03:05:15.526384Z"
    }
   },
   "outputs": [
    {
     "data": {
      "text/plain": [
       "1.1472424268722534"
      ]
     },
     "execution_count": 18,
     "metadata": {},
     "output_type": "execute_result"
    }
   ],
   "source": [
    "sys.getsizeof(result) / (2 ** 30)"
   ]
  },
  {
   "cell_type": "code",
   "execution_count": 19,
   "id": "986512af-23d7-413a-be77-b1ddd6173df6",
   "metadata": {
    "execution": {
     "iopub.execute_input": "2023-11-06T03:05:15.548038Z",
     "iopub.status.busy": "2023-11-06T03:05:15.546882Z",
     "iopub.status.idle": "2023-11-06T03:13:14.567277Z",
     "shell.execute_reply": "2023-11-06T03:13:14.523725Z",
     "shell.execute_reply.started": "2023-11-06T03:05:15.547965Z"
    }
   },
   "outputs": [
    {
     "data": {
      "text/plain": [
       "array([[0.        , 0.9962292 , 0.9926793 , ..., 0.99515617, 0.95879716,\n",
       "        0.9930818 ],\n",
       "       [0.9962292 , 0.        , 0.9499531 , ..., 0.9853188 , 0.9894974 ,\n",
       "        0.9642602 ],\n",
       "       [0.9926793 , 0.9499531 , 0.        , ..., 0.9651548 , 0.9879954 ,\n",
       "        0.9165024 ],\n",
       "       ...,\n",
       "       [0.99515617, 0.9853188 , 0.9651548 , ..., 0.        , 0.98443395,\n",
       "        0.96122915],\n",
       "       [0.95879716, 0.9894974 , 0.9879954 , ..., 0.98443395, 0.        ,\n",
       "        0.9670766 ],\n",
       "       [0.9930818 , 0.9642602 , 0.9165024 , ..., 0.96122915, 0.9670766 ,\n",
       "        0.        ]], dtype=float32)"
      ]
     },
     "execution_count": 19,
     "metadata": {},
     "output_type": "execute_result"
    }
   ],
   "source": [
    "cosine_distances(result, result)"
   ]
  },
  {
   "cell_type": "code",
   "execution_count": 20,
   "id": "2c48bb34-099e-4ff5-bc59-b7335ed115b5",
   "metadata": {
    "execution": {
     "iopub.execute_input": "2023-11-06T03:13:51.391840Z",
     "iopub.status.busy": "2023-11-06T03:13:51.388046Z",
     "iopub.status.idle": "2023-11-06T03:13:51.502917Z",
     "shell.execute_reply": "2023-11-06T03:13:51.498993Z",
     "shell.execute_reply.started": "2023-11-06T03:13:51.391675Z"
    }
   },
   "outputs": [],
   "source": [
    "root_logger = getLogger(\"root\")"
   ]
  },
  {
   "cell_type": "code",
   "execution_count": 21,
   "id": "c612129d-c418-4507-8a59-f4df806d5d94",
   "metadata": {
    "execution": {
     "iopub.execute_input": "2023-11-06T03:13:52.296576Z",
     "iopub.status.busy": "2023-11-06T03:13:52.295548Z",
     "iopub.status.idle": "2023-11-06T03:13:52.378059Z",
     "shell.execute_reply": "2023-11-06T03:13:52.375424Z",
     "shell.execute_reply.started": "2023-11-06T03:13:52.296526Z"
    }
   },
   "outputs": [],
   "source": [
    "aiNet = AiNet(distance_method=\"cosine\", logger=root_logger)"
   ]
  },
  {
   "cell_type": "code",
   "execution_count": 22,
   "id": "1c08bddf-9d0f-4d4e-a74f-ae6badcfbbab",
   "metadata": {
    "execution": {
     "iopub.execute_input": "2023-11-06T03:13:54.205815Z",
     "iopub.status.busy": "2023-11-06T03:13:54.204495Z",
     "iopub.status.idle": "2023-11-06T03:31:48.311363Z",
     "shell.execute_reply": "2023-11-06T03:31:48.298729Z",
     "shell.execute_reply.started": "2023-11-06T03:13:54.205762Z"
    }
   },
   "outputs": [
    {
     "name": "stdout",
     "output_type": "stream",
     "text": [
      "iter: 1 | cur_hyper_rate:  0.00000000 | |██████----------------------------------------------------------------------------------------------| 6.7% | avd: 0.00000 | net size: 46\r"
     ]
    }
   ],
   "source": [
    "aiNet.fit(\n",
    "    antigen_population=result, \n",
    "    max_iter=15, \n",
    "    number_of_antibodies=int(result.shape[0] * 0.10), \n",
    "    clone_multiplier=10, \n",
    "    no_best_cells_taken_each_selection=5, \n",
    "    percent_clones_reselected=0.12, \n",
    "    pruning_threshold=0.5\n",
    ")"
   ]
  },
  {
   "cell_type": "code",
   "execution_count": 23,
   "id": "88ba54d3-39ae-498e-862a-64fef5744c49",
   "metadata": {
    "execution": {
     "iopub.execute_input": "2023-11-06T03:41:58.805567Z",
     "iopub.status.busy": "2023-11-06T03:41:58.802591Z",
     "iopub.status.idle": "2023-11-06T03:41:58.934226Z",
     "shell.execute_reply": "2023-11-06T03:41:58.932083Z",
     "shell.execute_reply.started": "2023-11-06T03:41:58.805432Z"
    }
   },
   "outputs": [
    {
     "data": {
      "text/plain": [
       "(46, 64752)"
      ]
     },
     "execution_count": 23,
     "metadata": {},
     "output_type": "execute_result"
    }
   ],
   "source": [
    "aiNet.antibody_population.shape"
   ]
  },
  {
   "cell_type": "code",
   "execution_count": 25,
   "id": "f1feb168-4599-4ce7-97c8-4087206294a7",
   "metadata": {
    "execution": {
     "iopub.execute_input": "2023-11-06T03:42:43.197878Z",
     "iopub.status.busy": "2023-11-06T03:42:43.197156Z",
     "iopub.status.idle": "2023-11-06T03:42:44.007136Z",
     "shell.execute_reply": "2023-11-06T03:42:44.006223Z",
     "shell.execute_reply.started": "2023-11-06T03:42:43.197860Z"
    }
   },
   "outputs": [],
   "source": [
    "sample.to_csv(\"sample_cleansed_data.csv\", encoding=\"utf-8\", index=False, sep=\",\", quoting=csv.QUOTE_MINIMAL, quotechar='\"')"
   ]
  },
  {
   "cell_type": "code",
   "execution_count": 3,
   "id": "2a1209ca-abc1-44cb-8207-19ea89226d9b",
   "metadata": {
    "execution": {
     "iopub.execute_input": "2023-11-06T04:11:09.467159Z",
     "iopub.status.busy": "2023-11-06T04:11:09.465398Z",
     "iopub.status.idle": "2023-11-06T04:11:12.352637Z",
     "shell.execute_reply": "2023-11-06T04:11:12.342625Z",
     "shell.execute_reply.started": "2023-11-06T04:11:09.467073Z"
    }
   },
   "outputs": [],
   "source": [
    "with open(\"sample_cleansed_data.csv\", \"r+\", newline=\"\", encoding=\"utf-8\") as f:\n",
    "    reader = csv.reader(f, delimiter=\",\", quoting=csv.QUOTE_MINIMAL, quotechar='\"')\n",
    "    data = list(reader)\n",
    "    header = data.pop(0)\n",
    "\n",
    "df1 = pd.DataFrame(data=data, columns=header)"
   ]
  },
  {
   "cell_type": "code",
   "execution_count": 4,
   "id": "0071b091-763c-4c2d-b3b7-3ad575e3a707",
   "metadata": {
    "execution": {
     "iopub.execute_input": "2023-11-06T04:11:12.366431Z",
     "iopub.status.busy": "2023-11-06T04:11:12.365953Z",
     "iopub.status.idle": "2023-11-06T04:11:12.604153Z",
     "shell.execute_reply": "2023-11-06T04:11:12.600608Z",
     "shell.execute_reply.started": "2023-11-06T04:11:12.366392Z"
    }
   },
   "outputs": [
    {
     "name": "stdout",
     "output_type": "stream",
     "text": [
      "<class 'pandas.core.frame.DataFrame'>\n",
      "RangeIndex: 4756 entries, 0 to 4755\n",
      "Data columns (total 4 columns):\n",
      " #   Column       Non-Null Count  Dtype \n",
      "---  ------       --------------  ----- \n",
      " 0   original_id  4756 non-null   object\n",
      " 1   title        4756 non-null   object\n",
      " 2   content      4756 non-null   object\n",
      " 3   category     4756 non-null   object\n",
      "dtypes: object(4)\n",
      "memory usage: 148.8+ KB\n"
     ]
    }
   ],
   "source": [
    "df1.info()"
   ]
  },
  {
   "cell_type": "code",
   "execution_count": 5,
   "id": "8b2af5b6-76d9-49a3-a056-d770e157ce3d",
   "metadata": {
    "execution": {
     "iopub.execute_input": "2023-11-06T04:11:12.647069Z",
     "iopub.status.busy": "2023-11-06T04:11:12.611987Z",
     "iopub.status.idle": "2023-11-06T04:11:12.713712Z",
     "shell.execute_reply": "2023-11-06T04:11:12.710050Z",
     "shell.execute_reply.started": "2023-11-06T04:11:12.647003Z"
    }
   },
   "outputs": [
    {
     "data": {
      "text/plain": [
       "business    2631\n",
       "general     1502\n",
       "tech         522\n",
       "science       81\n",
       "esg           20\n",
       "Name: category, dtype: int64"
      ]
     },
     "execution_count": 5,
     "metadata": {},
     "output_type": "execute_result"
    }
   ],
   "source": [
    "df1[\"category\"].value_counts()"
   ]
  },
  {
   "cell_type": "code",
   "execution_count": 6,
   "id": "6dbdbc30-9578-4f6a-bf6a-177d84d14ac1",
   "metadata": {
    "execution": {
     "iopub.execute_input": "2023-11-06T04:11:12.732312Z",
     "iopub.status.busy": "2023-11-06T04:11:12.722288Z",
     "iopub.status.idle": "2023-11-06T04:11:12.806130Z",
     "shell.execute_reply": "2023-11-06T04:11:12.802141Z",
     "shell.execute_reply.started": "2023-11-06T04:11:12.732238Z"
    }
   },
   "outputs": [
    {
     "data": {
      "text/plain": [
       "0"
      ]
     },
     "execution_count": 6,
     "metadata": {},
     "output_type": "execute_result"
    }
   ],
   "source": [
    "(df1[\"content\"].isna().astype(int) + df1[\"content\"].isnull().astype(int)).sum()"
   ]
  },
  {
   "cell_type": "code",
   "execution_count": null,
   "id": "c4440910-f017-4a61-b91d-4877ea37af96",
   "metadata": {},
   "outputs": [],
   "source": []
  }
 ],
 "metadata": {
  "kernelspec": {
   "display_name": "Python 3 (ipykernel)",
   "language": "python",
   "name": "python3"
  },
  "language_info": {
   "codemirror_mode": {
    "name": "ipython",
    "version": 3
   },
   "file_extension": ".py",
   "mimetype": "text/x-python",
   "name": "python",
   "nbconvert_exporter": "python",
   "pygments_lexer": "ipython3",
   "version": "3.11.6"
  },
  "widgets": {
   "application/vnd.jupyter.widget-state+json": {
    "state": {},
    "version_major": 2,
    "version_minor": 0
   }
  }
 },
 "nbformat": 4,
 "nbformat_minor": 5
}
