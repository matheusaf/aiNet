{
 "cells": [
  {
   "cell_type": "code",
   "execution_count": 1,
   "id": "f48cfd8a-21ef-44dd-ba52-f89f0c373128",
   "metadata": {
    "execution": {
     "iopub.execute_input": "2023-11-06T00:07:43.446322Z",
     "iopub.status.busy": "2023-11-06T00:07:43.444857Z",
     "iopub.status.idle": "2023-11-06T00:07:43.502035Z",
     "shell.execute_reply": "2023-11-06T00:07:43.486160Z",
     "shell.execute_reply.started": "2023-11-06T00:07:43.446266Z"
    }
   },
   "outputs": [
    {
     "data": {
      "text/plain": [
       "131072"
      ]
     },
     "execution_count": 1,
     "metadata": {},
     "output_type": "execute_result"
    }
   ],
   "source": [
    "import os\n",
    "import csv\n",
    "import sys\n",
    "from pathlib import Path\n",
    "\n",
    "sys.path.append(\n",
    "    os.path.join(\n",
    "        Path(os.getcwd()).parents[3],\n",
    "        \"src\"\n",
    "    )\n",
    ")\n",
    "\n",
    "csv.field_size_limit(sys.maxsize)"
   ]
  },
  {
   "cell_type": "code",
   "execution_count": 3,
   "id": "7eb58bc5-2502-4eb9-9706-7450f01ca23b",
   "metadata": {
    "execution": {
     "iopub.execute_input": "2023-11-06T00:07:58.220119Z",
     "iopub.status.busy": "2023-11-06T00:07:58.219615Z",
     "iopub.status.idle": "2023-11-06T00:08:21.646232Z",
     "shell.execute_reply": "2023-11-06T00:08:21.642906Z",
     "shell.execute_reply.started": "2023-11-06T00:07:58.220085Z"
    }
   },
   "outputs": [],
   "source": [
    "import numpy as np\n",
    "import pandas as pd\n",
    "from models import AiNet\n",
    "from representations import NGram\n",
    "from logging import getLogger\n",
    "from utils import cosine_distances, euclidean_distances"
   ]
  },
  {
   "cell_type": "code",
   "execution_count": 5,
   "id": "3492e807-2688-461e-abac-b5e00af76cc3",
   "metadata": {
    "execution": {
     "iopub.execute_input": "2023-11-06T00:11:01.468345Z",
     "iopub.status.busy": "2023-11-06T00:11:01.467082Z",
     "iopub.status.idle": "2023-11-06T00:11:10.795119Z",
     "shell.execute_reply": "2023-11-06T00:11:10.789112Z",
     "shell.execute_reply.started": "2023-11-06T00:11:01.468280Z"
    }
   },
   "outputs": [
    {
     "name": "stdout",
     "output_type": "stream",
     "text": [
      "<class 'pandas.core.frame.DataFrame'>\n",
      "RangeIndex: 62703 entries, 0 to 62702\n",
      "Data columns (total 4 columns):\n",
      " #   Column  Non-Null Count  Dtype \n",
      "---  ------  --------------  ----- \n",
      " 0   id      62703 non-null  object\n",
      " 1   title   62703 non-null  object\n",
      " 2   text    62703 non-null  object\n",
      " 3   label   62703 non-null  object\n",
      "dtypes: object(4)\n",
      "memory usage: 1.9+ MB\n"
     ]
    }
   ],
   "source": [
    "with open(\"cleansed_data.csv\", \"r+\", newline=\"\", encoding=\"utf-8\") as f:\n",
    "    reader = csv.reader(f, delimiter=\",\", quotechar='\"', quoting=csv.QUOTE_MINIMAL)\n",
    "    data = list(reader)\n",
    "    header = data.pop(0)\n",
    "\n",
    "df = pd.DataFrame(data=data, columns=header)\n",
    "df.info()"
   ]
  },
  {
   "cell_type": "code",
   "execution_count": 4,
   "id": "46ac3b69-4f25-4e65-b646-aa66483d5ea9",
   "metadata": {
    "execution": {
     "iopub.execute_input": "2023-11-05T21:57:54.020746Z",
     "iopub.status.busy": "2023-11-05T21:57:54.020457Z",
     "iopub.status.idle": "2023-11-05T21:57:54.072298Z",
     "shell.execute_reply": "2023-11-05T21:57:54.070989Z",
     "shell.execute_reply.started": "2023-11-05T21:57:54.020721Z"
    }
   },
   "outputs": [
    {
     "data": {
      "text/html": [
       "<div>\n",
       "<style scoped>\n",
       "    .dataframe tbody tr th:only-of-type {\n",
       "        vertical-align: middle;\n",
       "    }\n",
       "\n",
       "    .dataframe tbody tr th {\n",
       "        vertical-align: top;\n",
       "    }\n",
       "\n",
       "    .dataframe thead th {\n",
       "        text-align: right;\n",
       "    }\n",
       "</style>\n",
       "<table border=\"1\" class=\"dataframe\">\n",
       "  <thead>\n",
       "    <tr style=\"text-align: right;\">\n",
       "      <th></th>\n",
       "      <th>id</th>\n",
       "      <th>title</th>\n",
       "      <th>text</th>\n",
       "      <th>label</th>\n",
       "    </tr>\n",
       "  </thead>\n",
       "  <tbody>\n",
       "    <tr>\n",
       "      <th>31247</th>\n",
       "      <td>33629</td>\n",
       "      <td>U.S. welcomes Hariri's return to Lebanon: Stat...</td>\n",
       "      <td>WASHINGTON (Reuters) - The United States welco...</td>\n",
       "      <td>0</td>\n",
       "    </tr>\n",
       "    <tr>\n",
       "      <th>62564</th>\n",
       "      <td>71954</td>\n",
       "      <td>Strange People Who Shifted to Other Dimensions</td>\n",
       "      <td>Mysterious Universe \\nDo other realities brush...</td>\n",
       "      <td>1</td>\n",
       "    </tr>\n",
       "  </tbody>\n",
       "</table>\n",
       "</div>"
      ],
      "text/plain": [
       "          id                                              title  \\\n",
       "31247  33629  U.S. welcomes Hariri's return to Lebanon: Stat...   \n",
       "62564  71954     Strange People Who Shifted to Other Dimensions   \n",
       "\n",
       "                                                    text label  \n",
       "31247  WASHINGTON (Reuters) - The United States welco...     0  \n",
       "62564  Mysterious Universe \\nDo other realities brush...     1  "
      ]
     },
     "execution_count": 4,
     "metadata": {},
     "output_type": "execute_result"
    }
   ],
   "source": [
    "sample = df.groupby(by=[\"label\"], as_index=False, group_keys=False).apply(lambda c: c.sample(frac=0.10))\n",
    "sample.sample(2)"
   ]
  },
  {
   "cell_type": "code",
   "execution_count": 5,
   "id": "46302a69-d1a0-4f51-b7d0-4036b07f349e",
   "metadata": {
    "execution": {
     "iopub.execute_input": "2023-11-05T21:57:54.075981Z",
     "iopub.status.busy": "2023-11-05T21:57:54.075208Z",
     "iopub.status.idle": "2023-11-05T21:57:54.093469Z",
     "shell.execute_reply": "2023-11-05T21:57:54.091874Z",
     "shell.execute_reply.started": "2023-11-05T21:57:54.075954Z"
    }
   },
   "outputs": [
    {
     "name": "stdout",
     "output_type": "stream",
     "text": [
      "<class 'pandas.core.frame.DataFrame'>\n",
      "Int64Index: 6270 entries, 9742 to 3423\n",
      "Data columns (total 4 columns):\n",
      " #   Column  Non-Null Count  Dtype \n",
      "---  ------  --------------  ----- \n",
      " 0   id      6270 non-null   object\n",
      " 1   title   6270 non-null   object\n",
      " 2   text    6270 non-null   object\n",
      " 3   label   6270 non-null   object\n",
      "dtypes: object(4)\n",
      "memory usage: 244.9+ KB\n"
     ]
    }
   ],
   "source": [
    "sample.info()"
   ]
  },
  {
   "cell_type": "code",
   "execution_count": 6,
   "id": "299e31e7-4e17-46ae-be84-80c486019e36",
   "metadata": {
    "execution": {
     "iopub.execute_input": "2023-11-05T21:57:54.095219Z",
     "iopub.status.busy": "2023-11-05T21:57:54.094692Z",
     "iopub.status.idle": "2023-11-05T21:57:54.109647Z",
     "shell.execute_reply": "2023-11-05T21:57:54.105500Z",
     "shell.execute_reply.started": "2023-11-05T21:57:54.095189Z"
    }
   },
   "outputs": [
    {
     "data": {
      "text/plain": [
       "0    3462\n",
       "1    2808\n",
       "Name: label, dtype: int64"
      ]
     },
     "execution_count": 6,
     "metadata": {},
     "output_type": "execute_result"
    }
   ],
   "source": [
    "sample[\"label\"].value_counts()"
   ]
  },
  {
   "cell_type": "code",
   "execution_count": 7,
   "id": "d5b66b58-417d-42c1-87b2-67728c777333",
   "metadata": {
    "execution": {
     "iopub.execute_input": "2023-11-05T21:57:54.111765Z",
     "iopub.status.busy": "2023-11-05T21:57:54.111106Z",
     "iopub.status.idle": "2023-11-05T21:57:54.124225Z",
     "shell.execute_reply": "2023-11-05T21:57:54.122853Z",
     "shell.execute_reply.started": "2023-11-05T21:57:54.111738Z"
    }
   },
   "outputs": [
    {
     "data": {
      "text/plain": [
       "0    55.21\n",
       "1    44.79\n",
       "Name: label, dtype: float64"
      ]
     },
     "execution_count": 7,
     "metadata": {},
     "output_type": "execute_result"
    }
   ],
   "source": [
    "np.round((df[\"label\"].value_counts() / df.shape[0]) * 100, 2)"
   ]
  },
  {
   "cell_type": "code",
   "execution_count": 8,
   "id": "fcd6d2b9-c067-44f5-b91d-0c447a5023c2",
   "metadata": {
    "execution": {
     "iopub.execute_input": "2023-11-05T21:57:54.126759Z",
     "iopub.status.busy": "2023-11-05T21:57:54.126003Z",
     "iopub.status.idle": "2023-11-05T21:57:54.139406Z",
     "shell.execute_reply": "2023-11-05T21:57:54.137710Z",
     "shell.execute_reply.started": "2023-11-05T21:57:54.126726Z"
    },
    "scrolled": true
   },
   "outputs": [
    {
     "data": {
      "text/plain": [
       "0    55.22\n",
       "1    44.78\n",
       "Name: label, dtype: float64"
      ]
     },
     "execution_count": 8,
     "metadata": {},
     "output_type": "execute_result"
    }
   ],
   "source": [
    "np.round((sample[\"label\"].value_counts() / sample.shape[0]) * 100, 2)"
   ]
  },
  {
   "cell_type": "code",
   "execution_count": 9,
   "id": "700d9ea0-c4f2-4a14-8071-94e99e60cde6",
   "metadata": {
    "execution": {
     "iopub.execute_input": "2023-11-05T21:57:54.141025Z",
     "iopub.status.busy": "2023-11-05T21:57:54.140580Z",
     "iopub.status.idle": "2023-11-05T22:02:50.919939Z",
     "shell.execute_reply": "2023-11-05T22:02:50.917534Z",
     "shell.execute_reply.started": "2023-11-05T21:57:54.140993Z"
    }
   },
   "outputs": [
    {
     "data": {
      "text/plain": [
       "(6270, 57155)"
      ]
     },
     "execution_count": 9,
     "metadata": {},
     "output_type": "execute_result"
    }
   ],
   "source": [
    "representation = NGram()\n",
    "features, result = representation.generate_representation(sample[\"text\"].tolist())\n",
    "result.shape"
   ]
  },
  {
   "cell_type": "code",
   "execution_count": 10,
   "id": "986512af-23d7-413a-be77-b1ddd6173df6",
   "metadata": {
    "execution": {
     "iopub.execute_input": "2023-11-05T22:02:50.931076Z",
     "iopub.status.busy": "2023-11-05T22:02:50.930235Z",
     "iopub.status.idle": "2023-11-05T22:07:49.385639Z",
     "shell.execute_reply": "2023-11-05T22:07:49.356281Z",
     "shell.execute_reply.started": "2023-11-05T22:02:50.931046Z"
    }
   },
   "outputs": [
    {
     "data": {
      "text/plain": [
       "array([[0.        , 0.99063635, 0.9092292 , ..., 0.95825356, 0.9775527 ,\n",
       "        0.9204125 ],\n",
       "       [0.99063635, 0.        , 0.994514  , ..., 0.98332024, 0.9970965 ,\n",
       "        0.97896427],\n",
       "       [0.9092292 , 0.994514  , 0.        , ..., 0.9764874 , 0.9919133 ,\n",
       "        0.9841107 ],\n",
       "       ...,\n",
       "       [0.95825356, 0.98332024, 0.9764874 , ..., 0.        , 0.9960306 ,\n",
       "        0.98048794],\n",
       "       [0.9775527 , 0.9970965 , 0.9919133 , ..., 0.9960306 , 0.        ,\n",
       "        0.9899569 ],\n",
       "       [0.9204125 , 0.97896427, 0.9841107 , ..., 0.98048794, 0.9899569 ,\n",
       "        0.        ]], dtype=float32)"
      ]
     },
     "execution_count": 10,
     "metadata": {},
     "output_type": "execute_result"
    }
   ],
   "source": [
    "cosine_distances(result, result)"
   ]
  },
  {
   "cell_type": "code",
   "execution_count": 11,
   "id": "2c48bb34-099e-4ff5-bc59-b7335ed115b5",
   "metadata": {
    "execution": {
     "iopub.execute_input": "2023-11-05T22:07:49.475767Z",
     "iopub.status.busy": "2023-11-05T22:07:49.474063Z",
     "iopub.status.idle": "2023-11-05T22:07:49.535220Z",
     "shell.execute_reply": "2023-11-05T22:07:49.534056Z",
     "shell.execute_reply.started": "2023-11-05T22:07:49.475658Z"
    }
   },
   "outputs": [],
   "source": [
    "root_logger = getLogger(\"root\")"
   ]
  },
  {
   "cell_type": "code",
   "execution_count": 12,
   "id": "c612129d-c418-4507-8a59-f4df806d5d94",
   "metadata": {
    "execution": {
     "iopub.execute_input": "2023-11-05T23:30:21.606748Z",
     "iopub.status.busy": "2023-11-05T23:30:21.602866Z",
     "iopub.status.idle": "2023-11-05T23:30:21.724820Z",
     "shell.execute_reply": "2023-11-05T23:30:21.720281Z",
     "shell.execute_reply.started": "2023-11-05T23:30:21.606609Z"
    }
   },
   "outputs": [],
   "source": [
    "aiNet = AiNet(distance_method=\"cosine\", logger=root_logger)"
   ]
  },
  {
   "cell_type": "code",
   "execution_count": 13,
   "id": "1c08bddf-9d0f-4d4e-a74f-ae6badcfbbab",
   "metadata": {
    "execution": {
     "iopub.execute_input": "2023-11-05T23:30:24.699087Z",
     "iopub.status.busy": "2023-11-05T23:30:24.697696Z",
     "iopub.status.idle": "2023-11-06T00:02:39.092837Z",
     "shell.execute_reply": "2023-11-06T00:02:39.063179Z",
     "shell.execute_reply.started": "2023-11-05T23:30:24.699052Z"
    }
   },
   "outputs": [
    {
     "name": "stdout",
     "output_type": "stream",
     "text": [
      "iter: 1 | cur_hyper_rate:  0.00000000 | |██████----------------------------------------------------------------------------------------------| 6.7% | avd: 0.00000 | net size: 47\r"
     ]
    }
   ],
   "source": [
    "aiNet.fit(\n",
    "    antigen_population=result, \n",
    "    max_iter=15, \n",
    "    number_of_antibodies=int(result.shape[0] * 0.10), \n",
    "    clone_multiplier=10, \n",
    "    no_best_cells_taken_each_selection=5, \n",
    "    percent_clones_reselected=0.12, \n",
    "    pruning_threshold=0.5\n",
    ")"
   ]
  },
  {
   "cell_type": "code",
   "execution_count": 14,
   "id": "88ba54d3-39ae-498e-862a-64fef5744c49",
   "metadata": {
    "execution": {
     "iopub.execute_input": "2023-11-06T00:02:45.970014Z",
     "iopub.status.busy": "2023-11-06T00:02:45.965131Z",
     "iopub.status.idle": "2023-11-06T00:02:46.159351Z",
     "shell.execute_reply": "2023-11-06T00:02:46.156095Z",
     "shell.execute_reply.started": "2023-11-06T00:02:45.969706Z"
    }
   },
   "outputs": [
    {
     "data": {
      "text/plain": [
       "(47, 57155)"
      ]
     },
     "execution_count": 14,
     "metadata": {},
     "output_type": "execute_result"
    }
   ],
   "source": [
    "aiNet.antibody_population.shape"
   ]
  },
  {
   "cell_type": "code",
   "execution_count": 15,
   "id": "f1feb168-4599-4ce7-97c8-4087206294a7",
   "metadata": {
    "execution": {
     "iopub.execute_input": "2023-11-06T00:02:49.089911Z",
     "iopub.status.busy": "2023-11-06T00:02:49.088616Z",
     "iopub.status.idle": "2023-11-06T00:03:06.703942Z",
     "shell.execute_reply": "2023-11-06T00:03:06.701896Z",
     "shell.execute_reply.started": "2023-11-06T00:02:49.089878Z"
    }
   },
   "outputs": [],
   "source": [
    "sample.to_csv(\"sample_cleansed_train_file.csv\", encoding=\"utf-8\", index=False, sep=\",\", quoting=csv.QUOTE_MINIMAL, quotechar='\"')"
   ]
  },
  {
   "cell_type": "code",
   "execution_count": 16,
   "id": "2a1209ca-abc1-44cb-8207-19ea89226d9b",
   "metadata": {
    "execution": {
     "iopub.execute_input": "2023-11-06T00:03:06.711816Z",
     "iopub.status.busy": "2023-11-06T00:03:06.711205Z",
     "iopub.status.idle": "2023-11-06T00:03:35.151514Z",
     "shell.execute_reply": "2023-11-06T00:03:35.146999Z",
     "shell.execute_reply.started": "2023-11-06T00:03:06.711787Z"
    }
   },
   "outputs": [],
   "source": [
    "with open(\"sample_cleansed_train_file.csv\", \"r+\", newline=\"\", encoding=\"utf-8\") as f:\n",
    "    reader = csv.reader(f, delimiter=\",\", quoting=csv.QUOTE_MINIMAL, quotechar='\"')\n",
    "    data = list(reader)\n",
    "    header = data.pop(0)\n",
    "\n",
    "df1 = pd.DataFrame(data=data, columns=header)"
   ]
  },
  {
   "cell_type": "code",
   "execution_count": 17,
   "id": "0071b091-763c-4c2d-b3b7-3ad575e3a707",
   "metadata": {
    "execution": {
     "iopub.execute_input": "2023-11-06T00:03:35.160067Z",
     "iopub.status.busy": "2023-11-06T00:03:35.159138Z",
     "iopub.status.idle": "2023-11-06T00:03:36.025108Z",
     "shell.execute_reply": "2023-11-06T00:03:36.004757Z",
     "shell.execute_reply.started": "2023-11-06T00:03:35.159986Z"
    }
   },
   "outputs": [
    {
     "name": "stdout",
     "output_type": "stream",
     "text": [
      "<class 'pandas.core.frame.DataFrame'>\n",
      "RangeIndex: 6270 entries, 0 to 6269\n",
      "Data columns (total 4 columns):\n",
      " #   Column  Non-Null Count  Dtype \n",
      "---  ------  --------------  ----- \n",
      " 0   id      6270 non-null   object\n",
      " 1   title   6270 non-null   object\n",
      " 2   text    6270 non-null   object\n",
      " 3   label   6270 non-null   object\n",
      "dtypes: object(4)\n",
      "memory usage: 196.1+ KB\n"
     ]
    }
   ],
   "source": [
    "df1.info()"
   ]
  },
  {
   "cell_type": "code",
   "execution_count": 19,
   "id": "8b2af5b6-76d9-49a3-a056-d770e157ce3d",
   "metadata": {
    "execution": {
     "iopub.execute_input": "2023-11-06T00:04:54.091629Z",
     "iopub.status.busy": "2023-11-06T00:04:54.089853Z",
     "iopub.status.idle": "2023-11-06T00:04:54.108296Z",
     "shell.execute_reply": "2023-11-06T00:04:54.105338Z",
     "shell.execute_reply.started": "2023-11-06T00:04:54.091589Z"
    }
   },
   "outputs": [
    {
     "data": {
      "text/plain": [
       "0    3462\n",
       "1    2808\n",
       "Name: label, dtype: int64"
      ]
     },
     "execution_count": 19,
     "metadata": {},
     "output_type": "execute_result"
    }
   ],
   "source": [
    "df1[\"label\"].value_counts()"
   ]
  },
  {
   "cell_type": "code",
   "execution_count": 20,
   "id": "6dbdbc30-9578-4f6a-bf6a-177d84d14ac1",
   "metadata": {
    "execution": {
     "iopub.execute_input": "2023-11-06T00:05:04.814351Z",
     "iopub.status.busy": "2023-11-06T00:05:04.813829Z",
     "iopub.status.idle": "2023-11-06T00:05:04.836772Z",
     "shell.execute_reply": "2023-11-06T00:05:04.834359Z",
     "shell.execute_reply.started": "2023-11-06T00:05:04.814318Z"
    }
   },
   "outputs": [
    {
     "data": {
      "text/plain": [
       "0"
      ]
     },
     "execution_count": 20,
     "metadata": {},
     "output_type": "execute_result"
    }
   ],
   "source": [
    "(df1[\"text\"].isna().astype(int) + df1[\"text\"].isnull().astype(int)).sum()"
   ]
  },
  {
   "cell_type": "code",
   "execution_count": null,
   "id": "c4440910-f017-4a61-b91d-4877ea37af96",
   "metadata": {},
   "outputs": [],
   "source": []
  }
 ],
 "metadata": {
  "kernelspec": {
   "display_name": "Python 3 (ipykernel)",
   "language": "python",
   "name": "python3"
  },
  "language_info": {
   "codemirror_mode": {
    "name": "ipython",
    "version": 3
   },
   "file_extension": ".py",
   "mimetype": "text/x-python",
   "name": "python",
   "nbconvert_exporter": "python",
   "pygments_lexer": "ipython3",
   "version": "3.11.6"
  },
  "widgets": {
   "application/vnd.jupyter.widget-state+json": {
    "state": {},
    "version_major": 2,
    "version_minor": 0
   }
  }
 },
 "nbformat": 4,
 "nbformat_minor": 5
}
