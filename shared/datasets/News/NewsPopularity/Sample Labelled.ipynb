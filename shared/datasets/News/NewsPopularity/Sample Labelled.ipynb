{
 "cells": [
  {
   "cell_type": "code",
   "execution_count": 1,
   "id": "f48cfd8a-21ef-44dd-ba52-f89f0c373128",
   "metadata": {
    "execution": {
     "iopub.execute_input": "2023-12-02T16:33:25.239920Z",
     "iopub.status.busy": "2023-12-02T16:33:25.238910Z",
     "iopub.status.idle": "2023-12-02T16:33:25.247899Z",
     "shell.execute_reply": "2023-12-02T16:33:25.246833Z",
     "shell.execute_reply.started": "2023-12-02T16:33:25.239889Z"
    }
   },
   "outputs": [],
   "source": [
    "import os\n",
    "import csv\n",
    "import sys\n",
    "from pathlib import Path\n",
    "\n",
    "sys.path.append(\n",
    "    os.path.join(\n",
    "        Path(os.getcwd()).parents[3],\n",
    "        \"src\"\n",
    "    )\n",
    ")"
   ]
  },
  {
   "cell_type": "code",
   "execution_count": 2,
   "id": "7eb58bc5-2502-4eb9-9706-7450f01ca23b",
   "metadata": {
    "execution": {
     "iopub.execute_input": "2023-12-02T16:33:25.524202Z",
     "iopub.status.busy": "2023-12-02T16:33:25.523338Z",
     "iopub.status.idle": "2023-12-02T16:33:34.290005Z",
     "shell.execute_reply": "2023-12-02T16:33:34.288861Z",
     "shell.execute_reply.started": "2023-12-02T16:33:25.524156Z"
    }
   },
   "outputs": [],
   "source": [
    "import numpy as np\n",
    "import pandas as pd\n",
    "from models import AiNet\n",
    "from representations import NGram\n",
    "from logging import getLogger\n",
    "from utils import cosine_distances, euclidean_distances"
   ]
  },
  {
   "cell_type": "code",
   "execution_count": 3,
   "id": "3492e807-2688-461e-abac-b5e00af76cc3",
   "metadata": {
    "execution": {
     "iopub.execute_input": "2023-12-02T16:33:34.293285Z",
     "iopub.status.busy": "2023-12-02T16:33:34.292434Z",
     "iopub.status.idle": "2023-12-02T16:33:34.718849Z",
     "shell.execute_reply": "2023-12-02T16:33:34.717581Z",
     "shell.execute_reply.started": "2023-12-02T16:33:34.293243Z"
    }
   },
   "outputs": [
    {
     "name": "stdout",
     "output_type": "stream",
     "text": [
      "<class 'pandas.core.frame.DataFrame'>\n",
      "RangeIndex: 40406 entries, 0 to 40405\n",
      "Data columns (total 12 columns):\n",
      " #   Column             Non-Null Count  Dtype \n",
      "---  ------             --------------  ----- \n",
      " 0   IDLink             40406 non-null  object\n",
      " 1   Title              40406 non-null  object\n",
      " 2   Headline           40406 non-null  object\n",
      " 3   Source             40406 non-null  object\n",
      " 4   Topic              40406 non-null  object\n",
      " 5   PublishDate        40406 non-null  object\n",
      " 6   Facebook           40406 non-null  object\n",
      " 7   GooglePlus         40406 non-null  object\n",
      " 8   LinkedIn           40406 non-null  object\n",
      " 9   SentimentTitle     40406 non-null  object\n",
      " 10  SentimentHeadline  40406 non-null  object\n",
      " 11  label              40406 non-null  object\n",
      "dtypes: object(12)\n",
      "memory usage: 3.7+ MB\n"
     ]
    }
   ],
   "source": [
    "with open(\"cleansed_labelled_train_file.csv\", \"r+\", newline=\"\", encoding=\"utf-8\") as f:\n",
    "    reader = csv.reader(f, delimiter=\",\", quotechar='\"', quoting=csv.QUOTE_MINIMAL)\n",
    "    data = list(reader)\n",
    "    header = data.pop(0)\n",
    "\n",
    "df = pd.DataFrame(data=data, columns=header)\n",
    "df.info()"
   ]
  },
  {
   "cell_type": "code",
   "execution_count": 4,
   "id": "cdb9604d-f41c-4787-bce5-2f0bb2c7ac08",
   "metadata": {
    "execution": {
     "iopub.execute_input": "2023-12-02T16:33:37.188719Z",
     "iopub.status.busy": "2023-12-02T16:33:37.187644Z",
     "iopub.status.idle": "2023-12-02T16:33:37.208498Z",
     "shell.execute_reply": "2023-12-02T16:33:37.207197Z",
     "shell.execute_reply.started": "2023-12-02T16:33:37.188682Z"
    }
   },
   "outputs": [
    {
     "data": {
      "text/plain": [
       "Facebook      32975\n",
       "GooglePlus     1281\n",
       "LinkedIn       6150\n",
       "Name: label, dtype: int64"
      ]
     },
     "execution_count": 4,
     "metadata": {},
     "output_type": "execute_result"
    }
   ],
   "source": [
    "df[\"label\"].value_counts().sort_index()"
   ]
  },
  {
   "cell_type": "code",
   "execution_count": 5,
   "id": "1f76ed32-90b3-4279-a95e-2ef9b35a6dc7",
   "metadata": {
    "execution": {
     "iopub.execute_input": "2023-12-02T16:33:50.576081Z",
     "iopub.status.busy": "2023-12-02T16:33:50.575215Z",
     "iopub.status.idle": "2023-12-02T16:33:50.591753Z",
     "shell.execute_reply": "2023-12-02T16:33:50.590888Z",
     "shell.execute_reply.started": "2023-12-02T16:33:50.576056Z"
    }
   },
   "outputs": [
    {
     "data": {
      "text/plain": [
       "Facebook      81.61\n",
       "GooglePlus     3.17\n",
       "LinkedIn      15.22\n",
       "Name: label, dtype: float64"
      ]
     },
     "execution_count": 5,
     "metadata": {},
     "output_type": "execute_result"
    }
   ],
   "source": [
    "np.round((df[\"label\"].value_counts() / df.shape[0]) * 100, 2).sort_index()"
   ]
  },
  {
   "cell_type": "code",
   "execution_count": 4,
   "id": "46ac3b69-4f25-4e65-b646-aa66483d5ea9",
   "metadata": {
    "execution": {
     "iopub.execute_input": "2023-11-11T03:31:35.648733Z",
     "iopub.status.busy": "2023-11-11T03:31:35.648111Z",
     "iopub.status.idle": "2023-11-11T03:31:36.750115Z",
     "shell.execute_reply": "2023-11-11T03:31:36.745891Z",
     "shell.execute_reply.started": "2023-11-11T03:31:35.648698Z"
    }
   },
   "outputs": [
    {
     "name": "stdout",
     "output_type": "stream",
     "text": [
      "<class 'pandas.core.frame.DataFrame'>\n",
      "Int64Index: 6060 entries, 35420 to 34299\n",
      "Data columns (total 12 columns):\n",
      " #   Column             Non-Null Count  Dtype \n",
      "---  ------             --------------  ----- \n",
      " 0   IDLink             6060 non-null   object\n",
      " 1   Title              6060 non-null   object\n",
      " 2   Headline           6060 non-null   object\n",
      " 3   Source             6060 non-null   object\n",
      " 4   Topic              6060 non-null   object\n",
      " 5   PublishDate        6060 non-null   object\n",
      " 6   Facebook           6060 non-null   object\n",
      " 7   GooglePlus         6060 non-null   object\n",
      " 8   LinkedIn           6060 non-null   object\n",
      " 9   SentimentTitle     6060 non-null   object\n",
      " 10  SentimentHeadline  6060 non-null   object\n",
      " 11  label              6060 non-null   object\n",
      "dtypes: object(12)\n",
      "memory usage: 615.5+ KB\n"
     ]
    }
   ],
   "source": [
    "sample = df.groupby(by=[\"label\"], as_index=False, group_keys=False).apply(lambda c: c.sample(frac=0.15))\n",
    "sample.info()"
   ]
  },
  {
   "cell_type": "code",
   "execution_count": 5,
   "id": "46302a69-d1a0-4f51-b7d0-4036b07f349e",
   "metadata": {
    "execution": {
     "iopub.execute_input": "2023-11-11T03:31:36.877123Z",
     "iopub.status.busy": "2023-11-11T03:31:36.862171Z",
     "iopub.status.idle": "2023-11-11T03:31:37.275869Z",
     "shell.execute_reply": "2023-11-11T03:31:37.274517Z",
     "shell.execute_reply.started": "2023-11-11T03:31:36.877069Z"
    }
   },
   "outputs": [
    {
     "data": {
      "text/html": [
       "<div>\n",
       "<style scoped>\n",
       "    .dataframe tbody tr th:only-of-type {\n",
       "        vertical-align: middle;\n",
       "    }\n",
       "\n",
       "    .dataframe tbody tr th {\n",
       "        vertical-align: top;\n",
       "    }\n",
       "\n",
       "    .dataframe thead th {\n",
       "        text-align: right;\n",
       "    }\n",
       "</style>\n",
       "<table border=\"1\" class=\"dataframe\">\n",
       "  <thead>\n",
       "    <tr style=\"text-align: right;\">\n",
       "      <th></th>\n",
       "      <th>IDLink</th>\n",
       "      <th>Title</th>\n",
       "      <th>Headline</th>\n",
       "      <th>Source</th>\n",
       "      <th>Topic</th>\n",
       "      <th>PublishDate</th>\n",
       "      <th>Facebook</th>\n",
       "      <th>GooglePlus</th>\n",
       "      <th>LinkedIn</th>\n",
       "      <th>SentimentTitle</th>\n",
       "      <th>SentimentHeadline</th>\n",
       "      <th>label</th>\n",
       "    </tr>\n",
       "  </thead>\n",
       "  <tbody>\n",
       "    <tr>\n",
       "      <th>11809</th>\n",
       "      <td>G01ModYUV0</td>\n",
       "      <td>Ingram Micro joins Microsoft cloud programme i...</td>\n",
       "      <td>Ingram Micro announced that it has joined Micr...</td>\n",
       "      <td>Telecompaper (subscription)</td>\n",
       "      <td>microsoft</td>\n",
       "      <td>2015-12-21 09:57:23</td>\n",
       "      <td>0</td>\n",
       "      <td>0</td>\n",
       "      <td>1</td>\n",
       "      <td>-0.0668402777777777</td>\n",
       "      <td>-0.0168869717050765</td>\n",
       "      <td>LinkedIn</td>\n",
       "    </tr>\n",
       "    <tr>\n",
       "      <th>1247</th>\n",
       "      <td>nqqALiJIkv</td>\n",
       "      <td>Microsoft, GM, Ford among several corporations...</td>\n",
       "      <td>Automotive and technology firms including Ford...</td>\n",
       "      <td>WDIV Detroit</td>\n",
       "      <td>microsoft</td>\n",
       "      <td>2015-11-15 21:26:16</td>\n",
       "      <td>8</td>\n",
       "      <td>1</td>\n",
       "      <td>1</td>\n",
       "      <td>0.0</td>\n",
       "      <td>-0.0430154501007303</td>\n",
       "      <td>Facebook</td>\n",
       "    </tr>\n",
       "  </tbody>\n",
       "</table>\n",
       "</div>"
      ],
      "text/plain": [
       "           IDLink                                              Title  \\\n",
       "11809  G01ModYUV0  Ingram Micro joins Microsoft cloud programme i...   \n",
       "1247   nqqALiJIkv  Microsoft, GM, Ford among several corporations...   \n",
       "\n",
       "                                                Headline  \\\n",
       "11809  Ingram Micro announced that it has joined Micr...   \n",
       "1247   Automotive and technology firms including Ford...   \n",
       "\n",
       "                            Source      Topic          PublishDate Facebook  \\\n",
       "11809  Telecompaper (subscription)  microsoft  2015-12-21 09:57:23        0   \n",
       "1247                  WDIV Detroit  microsoft  2015-11-15 21:26:16        8   \n",
       "\n",
       "      GooglePlus LinkedIn       SentimentTitle    SentimentHeadline     label  \n",
       "11809          0        1  -0.0668402777777777  -0.0168869717050765  LinkedIn  \n",
       "1247           1        1                  0.0  -0.0430154501007303  Facebook  "
      ]
     },
     "execution_count": 5,
     "metadata": {},
     "output_type": "execute_result"
    }
   ],
   "source": [
    "sample.sample(2)"
   ]
  },
  {
   "cell_type": "code",
   "execution_count": 14,
   "id": "299e31e7-4e17-46ae-be84-80c486019e36",
   "metadata": {
    "execution": {
     "iopub.execute_input": "2023-11-11T03:37:32.842220Z",
     "iopub.status.busy": "2023-11-11T03:37:32.714410Z",
     "iopub.status.idle": "2023-11-11T03:37:33.289748Z",
     "shell.execute_reply": "2023-11-11T03:37:33.285783Z",
     "shell.execute_reply.started": "2023-11-11T03:37:32.831667Z"
    }
   },
   "outputs": [
    {
     "data": {
      "text/plain": [
       "Facebook      4946\n",
       "GooglePlus     192\n",
       "LinkedIn       922\n",
       "Name: label, dtype: int64"
      ]
     },
     "execution_count": 14,
     "metadata": {},
     "output_type": "execute_result"
    }
   ],
   "source": [
    "sample[\"label\"].value_counts().sort_index()"
   ]
  },
  {
   "cell_type": "code",
   "execution_count": 7,
   "id": "d5b66b58-417d-42c1-87b2-67728c777333",
   "metadata": {
    "execution": {
     "iopub.execute_input": "2023-11-11T03:31:37.459565Z",
     "iopub.status.busy": "2023-11-11T03:31:37.452839Z",
     "iopub.status.idle": "2023-11-11T03:31:37.801486Z",
     "shell.execute_reply": "2023-11-11T03:31:37.800442Z",
     "shell.execute_reply.started": "2023-11-11T03:31:37.459510Z"
    }
   },
   "outputs": [
    {
     "data": {
      "text/plain": [
       "Facebook      81.61\n",
       "LinkedIn      15.22\n",
       "GooglePlus     3.17\n",
       "Name: label, dtype: float64"
      ]
     },
     "execution_count": 7,
     "metadata": {},
     "output_type": "execute_result"
    }
   ],
   "source": [
    "np.round((df[\"label\"].value_counts() / df.shape[0]) * 100, 2)"
   ]
  },
  {
   "cell_type": "code",
   "execution_count": 8,
   "id": "fcd6d2b9-c067-44f5-b91d-0c447a5023c2",
   "metadata": {
    "execution": {
     "iopub.execute_input": "2023-11-11T03:31:37.807834Z",
     "iopub.status.busy": "2023-11-11T03:31:37.805395Z",
     "iopub.status.idle": "2023-11-11T03:31:37.956251Z",
     "shell.execute_reply": "2023-11-11T03:31:37.952821Z",
     "shell.execute_reply.started": "2023-11-11T03:31:37.807778Z"
    },
    "scrolled": true
   },
   "outputs": [
    {
     "data": {
      "text/plain": [
       "Facebook      81.62\n",
       "LinkedIn      15.21\n",
       "GooglePlus     3.17\n",
       "Name: label, dtype: float64"
      ]
     },
     "execution_count": 8,
     "metadata": {},
     "output_type": "execute_result"
    }
   ],
   "source": [
    "np.round((sample[\"label\"].value_counts() / sample.shape[0]) * 100, 2)"
   ]
  },
  {
   "cell_type": "code",
   "execution_count": 22,
   "id": "700d9ea0-c4f2-4a14-8071-94e99e60cde6",
   "metadata": {
    "execution": {
     "iopub.execute_input": "2023-11-09T14:32:54.123723Z",
     "iopub.status.busy": "2023-11-09T14:32:54.122976Z",
     "iopub.status.idle": "2023-11-09T14:33:23.184072Z",
     "shell.execute_reply": "2023-11-09T14:33:23.181840Z",
     "shell.execute_reply.started": "2023-11-09T14:32:54.123696Z"
    }
   },
   "outputs": [
    {
     "data": {
      "text/plain": [
       "(10102, 13621)"
      ]
     },
     "execution_count": 22,
     "metadata": {},
     "output_type": "execute_result"
    }
   ],
   "source": [
    "representation = NGram()\n",
    "features, result =representation.generate_representation(sample[\"Headline\"].tolist())\n",
    "result.shape"
   ]
  },
  {
   "cell_type": "code",
   "execution_count": 23,
   "id": "986512af-23d7-413a-be77-b1ddd6173df6",
   "metadata": {
    "execution": {
     "iopub.execute_input": "2023-11-09T14:33:23.192944Z",
     "iopub.status.busy": "2023-11-09T14:33:23.188288Z",
     "iopub.status.idle": "2023-11-09T14:35:40.751319Z",
     "shell.execute_reply": "2023-11-09T14:35:40.739757Z",
     "shell.execute_reply.started": "2023-11-09T14:33:23.192806Z"
    }
   },
   "outputs": [
    {
     "data": {
      "text/plain": [
       "array([[0.        , 0.9313711 , 1.        , ..., 0.96771014, 1.        ,\n",
       "        1.        ],\n",
       "       [0.9313711 , 0.        , 1.        , ..., 0.97608423, 1.        ,\n",
       "        0.9490532 ],\n",
       "       [1.        , 1.        , 0.        , ..., 1.        , 0.9849643 ,\n",
       "        1.        ],\n",
       "       ...,\n",
       "       [0.96771014, 0.97608423, 1.        , ..., 0.        , 1.        ,\n",
       "        0.8994009 ],\n",
       "       [1.        , 1.        , 0.9849643 , ..., 1.        , 0.        ,\n",
       "        1.        ],\n",
       "       [1.        , 0.9490532 , 1.        , ..., 0.8994009 , 1.        ,\n",
       "        0.        ]], dtype=float32)"
      ]
     },
     "execution_count": 23,
     "metadata": {},
     "output_type": "execute_result"
    }
   ],
   "source": [
    "cosine_distances(result, result)"
   ]
  },
  {
   "cell_type": "code",
   "execution_count": 12,
   "id": "2c48bb34-099e-4ff5-bc59-b7335ed115b5",
   "metadata": {
    "execution": {
     "iopub.execute_input": "2023-11-09T14:26:30.404297Z",
     "iopub.status.busy": "2023-11-09T14:26:30.401088Z",
     "iopub.status.idle": "2023-11-09T14:26:30.442176Z",
     "shell.execute_reply": "2023-11-09T14:26:30.439204Z",
     "shell.execute_reply.started": "2023-11-09T14:26:30.404186Z"
    }
   },
   "outputs": [],
   "source": [
    "root_logger = getLogger(\"root\")"
   ]
  },
  {
   "cell_type": "code",
   "execution_count": 12,
   "id": "c612129d-c418-4507-8a59-f4df806d5d94",
   "metadata": {
    "execution": {
     "iopub.execute_input": "2023-11-07T06:59:24.659450Z",
     "iopub.status.busy": "2023-11-07T06:59:24.658878Z",
     "iopub.status.idle": "2023-11-07T06:59:24.682080Z",
     "shell.execute_reply": "2023-11-07T06:59:24.680994Z",
     "shell.execute_reply.started": "2023-11-07T06:59:24.659395Z"
    }
   },
   "outputs": [],
   "source": [
    "aiNet = AiNet(distance_method=\"cosine\", logger=root_logger)"
   ]
  },
  {
   "cell_type": "code",
   "execution_count": 13,
   "id": "1c08bddf-9d0f-4d4e-a74f-ae6badcfbbab",
   "metadata": {
    "execution": {
     "iopub.execute_input": "2023-11-07T06:59:24.685035Z",
     "iopub.status.busy": "2023-11-07T06:59:24.684364Z",
     "iopub.status.idle": "2023-11-07T07:14:01.718311Z",
     "shell.execute_reply": "2023-11-07T07:14:01.710508Z",
     "shell.execute_reply.started": "2023-11-07T06:59:24.685013Z"
    }
   },
   "outputs": [
    {
     "name": "stdout",
     "output_type": "stream",
     "text": [
      "iter: 1 | cur_hyper_rate:  0.00000000 | |██████----------------------------------------------------------------------------------------------| 6.7% | avd: 0.00000 | net size: 68\r"
     ]
    }
   ],
   "source": [
    "aiNet.fit(\n",
    "    antigen_population=result, \n",
    "    max_iter=15, \n",
    "    number_of_antibodies=int(result.shape[0] * 0.10), \n",
    "    clone_multiplier=10, \n",
    "    no_best_cells_taken_each_selection=5, \n",
    "    percent_clones_reselected=0.12, \n",
    "    pruning_threshold=0.5\n",
    ")"
   ]
  },
  {
   "cell_type": "code",
   "execution_count": 14,
   "id": "88ba54d3-39ae-498e-862a-64fef5744c49",
   "metadata": {
    "execution": {
     "iopub.execute_input": "2023-11-07T07:14:01.740212Z",
     "iopub.status.busy": "2023-11-07T07:14:01.735257Z",
     "iopub.status.idle": "2023-11-07T07:14:01.782221Z",
     "shell.execute_reply": "2023-11-07T07:14:01.780913Z",
     "shell.execute_reply.started": "2023-11-07T07:14:01.740019Z"
    }
   },
   "outputs": [
    {
     "data": {
      "text/plain": [
       "(68, 13698)"
      ]
     },
     "execution_count": 14,
     "metadata": {},
     "output_type": "execute_result"
    }
   ],
   "source": [
    "aiNet.antibody_population.shape"
   ]
  },
  {
   "cell_type": "code",
   "execution_count": 9,
   "id": "f1feb168-4599-4ce7-97c8-4087206294a7",
   "metadata": {
    "execution": {
     "iopub.execute_input": "2023-11-11T03:31:38.070138Z",
     "iopub.status.busy": "2023-11-11T03:31:38.048241Z",
     "iopub.status.idle": "2023-11-11T03:31:39.824628Z",
     "shell.execute_reply": "2023-11-11T03:31:39.823245Z",
     "shell.execute_reply.started": "2023-11-11T03:31:38.070089Z"
    }
   },
   "outputs": [],
   "source": [
    "sample.to_csv(\"sample_cleansed_labelled_train_file.csv\", encoding=\"utf-8\", index=False, sep=\",\", quoting=csv.QUOTE_MINIMAL, quotechar='\"')"
   ]
  },
  {
   "cell_type": "code",
   "execution_count": 10,
   "id": "2a1209ca-abc1-44cb-8207-19ea89226d9b",
   "metadata": {
    "execution": {
     "iopub.execute_input": "2023-11-11T03:31:39.857306Z",
     "iopub.status.busy": "2023-11-11T03:31:39.835881Z",
     "iopub.status.idle": "2023-11-11T03:31:40.745385Z",
     "shell.execute_reply": "2023-11-11T03:31:40.744163Z",
     "shell.execute_reply.started": "2023-11-11T03:31:39.857253Z"
    }
   },
   "outputs": [],
   "source": [
    "with open(\"sample_cleansed_labelled_train_file.csv\", \"r+\", newline=\"\", encoding=\"utf-8\") as f:\n",
    "    reader = csv.reader(f, delimiter=\",\", quoting=csv.QUOTE_MINIMAL, quotechar='\"')\n",
    "    data = list(reader)\n",
    "    header = data.pop(0)\n",
    "\n",
    "df1 = pd.DataFrame(data=data, columns=header)"
   ]
  },
  {
   "cell_type": "code",
   "execution_count": 11,
   "id": "0071b091-763c-4c2d-b3b7-3ad575e3a707",
   "metadata": {
    "execution": {
     "iopub.execute_input": "2023-11-11T03:31:40.789013Z",
     "iopub.status.busy": "2023-11-11T03:31:40.755065Z",
     "iopub.status.idle": "2023-11-11T03:31:41.518661Z",
     "shell.execute_reply": "2023-11-11T03:31:41.517536Z",
     "shell.execute_reply.started": "2023-11-11T03:31:40.788955Z"
    }
   },
   "outputs": [
    {
     "name": "stdout",
     "output_type": "stream",
     "text": [
      "<class 'pandas.core.frame.DataFrame'>\n",
      "RangeIndex: 6060 entries, 0 to 6059\n",
      "Data columns (total 12 columns):\n",
      " #   Column             Non-Null Count  Dtype \n",
      "---  ------             --------------  ----- \n",
      " 0   IDLink             6060 non-null   object\n",
      " 1   Title              6060 non-null   object\n",
      " 2   Headline           6060 non-null   object\n",
      " 3   Source             6060 non-null   object\n",
      " 4   Topic              6060 non-null   object\n",
      " 5   PublishDate        6060 non-null   object\n",
      " 6   Facebook           6060 non-null   object\n",
      " 7   GooglePlus         6060 non-null   object\n",
      " 8   LinkedIn           6060 non-null   object\n",
      " 9   SentimentTitle     6060 non-null   object\n",
      " 10  SentimentHeadline  6060 non-null   object\n",
      " 11  label              6060 non-null   object\n",
      "dtypes: object(12)\n",
      "memory usage: 568.3+ KB\n"
     ]
    }
   ],
   "source": [
    "df1.info()"
   ]
  },
  {
   "cell_type": "code",
   "execution_count": 12,
   "id": "8b2af5b6-76d9-49a3-a056-d770e157ce3d",
   "metadata": {
    "execution": {
     "iopub.execute_input": "2023-11-11T03:31:41.612405Z",
     "iopub.status.busy": "2023-11-11T03:31:41.520194Z",
     "iopub.status.idle": "2023-11-11T03:31:41.704992Z",
     "shell.execute_reply": "2023-11-11T03:31:41.703846Z",
     "shell.execute_reply.started": "2023-11-11T03:31:41.612322Z"
    }
   },
   "outputs": [
    {
     "data": {
      "text/plain": [
       "Facebook      4946\n",
       "LinkedIn       922\n",
       "GooglePlus     192\n",
       "Name: label, dtype: int64"
      ]
     },
     "execution_count": 12,
     "metadata": {},
     "output_type": "execute_result"
    }
   ],
   "source": [
    "df1[\"label\"].value_counts()"
   ]
  },
  {
   "cell_type": "code",
   "execution_count": 13,
   "id": "6dbdbc30-9578-4f6a-bf6a-177d84d14ac1",
   "metadata": {
    "execution": {
     "iopub.execute_input": "2023-11-11T03:31:41.769819Z",
     "iopub.status.busy": "2023-11-11T03:31:41.707691Z",
     "iopub.status.idle": "2023-11-11T03:31:41.891422Z",
     "shell.execute_reply": "2023-11-11T03:31:41.889788Z",
     "shell.execute_reply.started": "2023-11-11T03:31:41.769762Z"
    }
   },
   "outputs": [
    {
     "data": {
      "text/plain": [
       "0"
      ]
     },
     "execution_count": 13,
     "metadata": {},
     "output_type": "execute_result"
    }
   ],
   "source": [
    "(df1[\"Headline\"].isna().astype(int) + df1[\"Headline\"].isnull().astype(int)).sum()"
   ]
  },
  {
   "cell_type": "code",
   "execution_count": null,
   "id": "c4440910-f017-4a61-b91d-4877ea37af96",
   "metadata": {},
   "outputs": [],
   "source": []
  }
 ],
 "metadata": {
  "kernelspec": {
   "display_name": "Python 3 (ipykernel)",
   "language": "python",
   "name": "python3"
  },
  "language_info": {
   "codemirror_mode": {
    "name": "ipython",
    "version": 3
   },
   "file_extension": ".py",
   "mimetype": "text/x-python",
   "name": "python",
   "nbconvert_exporter": "python",
   "pygments_lexer": "ipython3",
   "version": "3.11.6"
  },
  "widgets": {
   "application/vnd.jupyter.widget-state+json": {
    "state": {},
    "version_major": 2,
    "version_minor": 0
   }
  }
 },
 "nbformat": 4,
 "nbformat_minor": 5
}
