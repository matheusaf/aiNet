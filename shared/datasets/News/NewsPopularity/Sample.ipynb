{
 "cells": [
  {
   "cell_type": "code",
   "execution_count": 1,
   "id": "f48cfd8a-21ef-44dd-ba52-f89f0c373128",
   "metadata": {
    "execution": {
     "iopub.execute_input": "2023-12-02T16:36:44.624695Z",
     "iopub.status.busy": "2023-12-02T16:36:44.623927Z",
     "iopub.status.idle": "2023-12-02T16:36:44.630985Z",
     "shell.execute_reply": "2023-12-02T16:36:44.629788Z",
     "shell.execute_reply.started": "2023-12-02T16:36:44.624675Z"
    }
   },
   "outputs": [],
   "source": [
    "import os\n",
    "import csv\n",
    "import sys\n",
    "from pathlib import Path\n",
    "\n",
    "sys.path.append(\n",
    "    os.path.join(\n",
    "        Path(os.getcwd()).parents[3],\n",
    "        \"src\"\n",
    "    )\n",
    ")"
   ]
  },
  {
   "cell_type": "code",
   "execution_count": 2,
   "id": "7eb58bc5-2502-4eb9-9706-7450f01ca23b",
   "metadata": {
    "execution": {
     "iopub.execute_input": "2023-12-02T16:36:44.816509Z",
     "iopub.status.busy": "2023-12-02T16:36:44.815473Z",
     "iopub.status.idle": "2023-12-02T16:36:52.853387Z",
     "shell.execute_reply": "2023-12-02T16:36:52.852187Z",
     "shell.execute_reply.started": "2023-12-02T16:36:44.816457Z"
    }
   },
   "outputs": [],
   "source": [
    "import numpy as np\n",
    "import pandas as pd\n",
    "from models import AiNet\n",
    "from representations import NGram\n",
    "from logging import getLogger\n",
    "from utils import cosine_distances, euclidean_distances"
   ]
  },
  {
   "cell_type": "code",
   "execution_count": 3,
   "id": "3492e807-2688-461e-abac-b5e00af76cc3",
   "metadata": {
    "execution": {
     "iopub.execute_input": "2023-12-02T16:36:52.855987Z",
     "iopub.status.busy": "2023-12-02T16:36:52.854998Z",
     "iopub.status.idle": "2023-12-02T16:36:53.480145Z",
     "shell.execute_reply": "2023-12-02T16:36:53.478134Z",
     "shell.execute_reply.started": "2023-12-02T16:36:52.855957Z"
    }
   },
   "outputs": [
    {
     "name": "stdout",
     "output_type": "stream",
     "text": [
      "<class 'pandas.core.frame.DataFrame'>\n",
      "RangeIndex: 52041 entries, 0 to 52040\n",
      "Data columns (total 11 columns):\n",
      " #   Column             Non-Null Count  Dtype \n",
      "---  ------             --------------  ----- \n",
      " 0   IDLink             52041 non-null  object\n",
      " 1   Title              52041 non-null  object\n",
      " 2   Headline           52041 non-null  object\n",
      " 3   Source             52041 non-null  object\n",
      " 4   Topic              52041 non-null  object\n",
      " 5   PublishDate        52041 non-null  object\n",
      " 6   Facebook           52041 non-null  object\n",
      " 7   GooglePlus         52041 non-null  object\n",
      " 8   LinkedIn           52041 non-null  object\n",
      " 9   SentimentTitle     52041 non-null  object\n",
      " 10  SentimentHeadline  52041 non-null  object\n",
      "dtypes: object(11)\n",
      "memory usage: 4.4+ MB\n"
     ]
    }
   ],
   "source": [
    "with open(\"cleansed_train_file.csv\", \"r+\", newline=\"\", encoding=\"utf-8\") as f:\n",
    "    reader = csv.reader(f, delimiter=\",\", quotechar='\"', quoting=csv.QUOTE_MINIMAL)\n",
    "    data = list(reader)\n",
    "    header = data.pop(0)\n",
    "\n",
    "df = pd.DataFrame(data=data, columns=header)\n",
    "df.info()"
   ]
  },
  {
   "cell_type": "code",
   "execution_count": 4,
   "id": "9de12301-2299-49bf-88fe-233b38240531",
   "metadata": {
    "execution": {
     "iopub.execute_input": "2023-12-02T16:36:53.484679Z",
     "iopub.status.busy": "2023-12-02T16:36:53.483290Z",
     "iopub.status.idle": "2023-12-02T16:36:53.508012Z",
     "shell.execute_reply": "2023-12-02T16:36:53.506266Z",
     "shell.execute_reply.started": "2023-12-02T16:36:53.484637Z"
    }
   },
   "outputs": [
    {
     "data": {
      "text/plain": [
       "economy      18939\n",
       "microsoft    12132\n",
       "obama        15808\n",
       "palestine     5162\n",
       "Name: Topic, dtype: int64"
      ]
     },
     "execution_count": 4,
     "metadata": {},
     "output_type": "execute_result"
    }
   ],
   "source": [
    "df[\"Topic\"].value_counts().sort_index()"
   ]
  },
  {
   "cell_type": "code",
   "execution_count": 5,
   "id": "d7d09d6e-5196-40b8-80da-31ae3de669f1",
   "metadata": {
    "execution": {
     "iopub.execute_input": "2023-12-02T16:37:01.915778Z",
     "iopub.status.busy": "2023-12-02T16:37:01.915038Z",
     "iopub.status.idle": "2023-12-02T16:37:01.930609Z",
     "shell.execute_reply": "2023-12-02T16:37:01.929677Z",
     "shell.execute_reply.started": "2023-12-02T16:37:01.915748Z"
    }
   },
   "outputs": [
    {
     "data": {
      "text/plain": [
       "economy      36.39\n",
       "microsoft    23.31\n",
       "obama        30.38\n",
       "palestine     9.92\n",
       "Name: Topic, dtype: float64"
      ]
     },
     "execution_count": 5,
     "metadata": {},
     "output_type": "execute_result"
    }
   ],
   "source": [
    "np.round((df[\"Topic\"].value_counts() / df.shape[0]) * 100, 2).sort_index()"
   ]
  },
  {
   "cell_type": "code",
   "execution_count": 4,
   "id": "46ac3b69-4f25-4e65-b646-aa66483d5ea9",
   "metadata": {
    "execution": {
     "iopub.execute_input": "2023-11-11T03:43:26.020339Z",
     "iopub.status.busy": "2023-11-11T03:43:26.019102Z",
     "iopub.status.idle": "2023-11-11T03:43:26.206267Z",
     "shell.execute_reply": "2023-11-11T03:43:26.201536Z",
     "shell.execute_reply.started": "2023-11-11T03:43:26.020134Z"
    }
   },
   "outputs": [
    {
     "name": "stdout",
     "output_type": "stream",
     "text": [
      "<class 'pandas.core.frame.DataFrame'>\n",
      "Int64Index: 6245 entries, 40029 to 11135\n",
      "Data columns (total 11 columns):\n",
      " #   Column             Non-Null Count  Dtype \n",
      "---  ------             --------------  ----- \n",
      " 0   IDLink             6245 non-null   object\n",
      " 1   Title              6245 non-null   object\n",
      " 2   Headline           6245 non-null   object\n",
      " 3   Source             6245 non-null   object\n",
      " 4   Topic              6245 non-null   object\n",
      " 5   PublishDate        6245 non-null   object\n",
      " 6   Facebook           6245 non-null   object\n",
      " 7   GooglePlus         6245 non-null   object\n",
      " 8   LinkedIn           6245 non-null   object\n",
      " 9   SentimentTitle     6245 non-null   object\n",
      " 10  SentimentHeadline  6245 non-null   object\n",
      "dtypes: object(11)\n",
      "memory usage: 585.5+ KB\n"
     ]
    }
   ],
   "source": [
    "sample = df.groupby(by=[\"Topic\"], as_index=False, group_keys=False).apply(lambda c: c.sample(frac=0.12))\n",
    "sample.info()"
   ]
  },
  {
   "cell_type": "code",
   "execution_count": 5,
   "id": "46302a69-d1a0-4f51-b7d0-4036b07f349e",
   "metadata": {
    "execution": {
     "iopub.execute_input": "2023-11-11T03:43:26.231941Z",
     "iopub.status.busy": "2023-11-11T03:43:26.230984Z",
     "iopub.status.idle": "2023-11-11T03:43:26.294115Z",
     "shell.execute_reply": "2023-11-11T03:43:26.291070Z",
     "shell.execute_reply.started": "2023-11-11T03:43:26.231880Z"
    }
   },
   "outputs": [
    {
     "data": {
      "text/html": [
       "<div>\n",
       "<style scoped>\n",
       "    .dataframe tbody tr th:only-of-type {\n",
       "        vertical-align: middle;\n",
       "    }\n",
       "\n",
       "    .dataframe tbody tr th {\n",
       "        vertical-align: top;\n",
       "    }\n",
       "\n",
       "    .dataframe thead th {\n",
       "        text-align: right;\n",
       "    }\n",
       "</style>\n",
       "<table border=\"1\" class=\"dataframe\">\n",
       "  <thead>\n",
       "    <tr style=\"text-align: right;\">\n",
       "      <th></th>\n",
       "      <th>IDLink</th>\n",
       "      <th>Title</th>\n",
       "      <th>Headline</th>\n",
       "      <th>Source</th>\n",
       "      <th>Topic</th>\n",
       "      <th>PublishDate</th>\n",
       "      <th>Facebook</th>\n",
       "      <th>GooglePlus</th>\n",
       "      <th>LinkedIn</th>\n",
       "      <th>SentimentTitle</th>\n",
       "      <th>SentimentHeadline</th>\n",
       "    </tr>\n",
       "  </thead>\n",
       "  <tbody>\n",
       "    <tr>\n",
       "      <th>25124</th>\n",
       "      <td>bcARglJdaA</td>\n",
       "      <td>High Court Will Hear Microsoft Appeal Over Xbo...</td>\n",
       "      <td>The Supreme Court will decide whether Microsof...</td>\n",
       "      <td>New York Times</td>\n",
       "      <td>microsoft</td>\n",
       "      <td>2016-01-15 13:48:00</td>\n",
       "      <td>0</td>\n",
       "      <td>0</td>\n",
       "      <td>0</td>\n",
       "      <td>0.18958333333333302</td>\n",
       "      <td>-0.0739509972887452</td>\n",
       "    </tr>\n",
       "    <tr>\n",
       "      <th>9451</th>\n",
       "      <td>bjUzYccNlm</td>\n",
       "      <td>Saving Europe's Economy From Going Down ...</td>\n",
       "      <td>Philippe Legrain is the author of European Spr...</td>\n",
       "      <td>The Brussels Times</td>\n",
       "      <td>economy</td>\n",
       "      <td>2015-12-03 17:08:18</td>\n",
       "      <td>1</td>\n",
       "      <td>0</td>\n",
       "      <td>0</td>\n",
       "      <td>-0.08962325751589502</td>\n",
       "      <td>-0.0761123511904762</td>\n",
       "    </tr>\n",
       "  </tbody>\n",
       "</table>\n",
       "</div>"
      ],
      "text/plain": [
       "           IDLink                                              Title  \\\n",
       "25124  bcARglJdaA  High Court Will Hear Microsoft Appeal Over Xbo...   \n",
       "9451   bjUzYccNlm        Saving Europe's Economy From Going Down ...   \n",
       "\n",
       "                                                Headline              Source  \\\n",
       "25124  The Supreme Court will decide whether Microsof...      New York Times   \n",
       "9451   Philippe Legrain is the author of European Spr...  The Brussels Times   \n",
       "\n",
       "           Topic          PublishDate Facebook GooglePlus LinkedIn  \\\n",
       "25124  microsoft  2016-01-15 13:48:00        0          0        0   \n",
       "9451     economy  2015-12-03 17:08:18        1          0        0   \n",
       "\n",
       "             SentimentTitle    SentimentHeadline  \n",
       "25124   0.18958333333333302  -0.0739509972887452  \n",
       "9451   -0.08962325751589502  -0.0761123511904762  "
      ]
     },
     "execution_count": 5,
     "metadata": {},
     "output_type": "execute_result"
    }
   ],
   "source": [
    "sample.sample(2)"
   ]
  },
  {
   "cell_type": "code",
   "execution_count": 15,
   "id": "299e31e7-4e17-46ae-be84-80c486019e36",
   "metadata": {
    "execution": {
     "iopub.execute_input": "2023-11-11T03:46:49.586896Z",
     "iopub.status.busy": "2023-11-11T03:46:49.580711Z",
     "iopub.status.idle": "2023-11-11T03:46:49.756579Z",
     "shell.execute_reply": "2023-11-11T03:46:49.732219Z",
     "shell.execute_reply.started": "2023-11-11T03:46:49.586830Z"
    }
   },
   "outputs": [
    {
     "data": {
      "text/plain": [
       "economy      2273\n",
       "microsoft    1456\n",
       "obama        1897\n",
       "palestine     619\n",
       "Name: Topic, dtype: int64"
      ]
     },
     "execution_count": 15,
     "metadata": {},
     "output_type": "execute_result"
    }
   ],
   "source": [
    "sample[\"Topic\"].value_counts().sort_index()"
   ]
  },
  {
   "cell_type": "code",
   "execution_count": 16,
   "id": "d5b66b58-417d-42c1-87b2-67728c777333",
   "metadata": {
    "execution": {
     "iopub.execute_input": "2023-11-11T03:48:17.187743Z",
     "iopub.status.busy": "2023-11-11T03:48:17.187205Z",
     "iopub.status.idle": "2023-11-11T03:48:17.539352Z",
     "shell.execute_reply": "2023-11-11T03:48:17.473714Z",
     "shell.execute_reply.started": "2023-11-11T03:48:17.187697Z"
    }
   },
   "outputs": [
    {
     "data": {
      "text/plain": [
       "economy      36.39\n",
       "microsoft    23.31\n",
       "obama        30.38\n",
       "palestine     9.92\n",
       "Name: Topic, dtype: float64"
      ]
     },
     "execution_count": 16,
     "metadata": {},
     "output_type": "execute_result"
    }
   ],
   "source": [
    "np.round((df[\"Topic\"].value_counts() / df.shape[0]) * 100, 2).sort_index()"
   ]
  },
  {
   "cell_type": "code",
   "execution_count": 8,
   "id": "fcd6d2b9-c067-44f5-b91d-0c447a5023c2",
   "metadata": {
    "execution": {
     "iopub.execute_input": "2023-11-11T03:43:26.477282Z",
     "iopub.status.busy": "2023-11-11T03:43:26.473334Z",
     "iopub.status.idle": "2023-11-11T03:43:26.498535Z",
     "shell.execute_reply": "2023-11-11T03:43:26.496315Z",
     "shell.execute_reply.started": "2023-11-11T03:43:26.477213Z"
    },
    "scrolled": true
   },
   "outputs": [
    {
     "data": {
      "text/plain": [
       "economy      36.40\n",
       "obama        30.38\n",
       "microsoft    23.31\n",
       "palestine     9.91\n",
       "Name: Topic, dtype: float64"
      ]
     },
     "execution_count": 8,
     "metadata": {},
     "output_type": "execute_result"
    }
   ],
   "source": [
    "np.round((sample[\"Topic\"].value_counts() / sample.shape[0]) * 100, 2)"
   ]
  },
  {
   "cell_type": "code",
   "execution_count": null,
   "id": "700d9ea0-c4f2-4a14-8071-94e99e60cde6",
   "metadata": {},
   "outputs": [],
   "source": [
    "representation = NGram()\n",
    "features, result =representation.generate_representation(sample[\"Headline\"].tolist())\n",
    "result.shape"
   ]
  },
  {
   "cell_type": "code",
   "execution_count": 17,
   "id": "986512af-23d7-413a-be77-b1ddd6173df6",
   "metadata": {
    "execution": {
     "iopub.execute_input": "2023-11-07T06:06:17.042662Z",
     "iopub.status.busy": "2023-11-07T06:06:17.042391Z",
     "iopub.status.idle": "2023-11-07T06:07:14.819120Z",
     "shell.execute_reply": "2023-11-07T06:07:14.806810Z",
     "shell.execute_reply.started": "2023-11-07T06:06:17.042642Z"
    }
   },
   "outputs": [
    {
     "data": {
      "text/plain": [
       "array([[0.        , 0.98551255, 0.98605776, ..., 0.9635516 , 1.        ,\n",
       "        1.        ],\n",
       "       [0.98551255, 0.        , 0.9862035 , ..., 1.        , 1.        ,\n",
       "        1.        ],\n",
       "       [0.98605776, 0.9862035 , 0.        , ..., 1.        , 0.9812703 ,\n",
       "        0.9547632 ],\n",
       "       ...,\n",
       "       [0.9635516 , 1.        , 1.        , ..., 0.        , 1.        ,\n",
       "        0.96716624],\n",
       "       [1.        , 1.        , 0.9812703 , ..., 1.        , 0.        ,\n",
       "        1.        ],\n",
       "       [1.        , 1.        , 0.9547632 , ..., 0.96716624, 1.        ,\n",
       "        0.        ]], dtype=float32)"
      ]
     },
     "execution_count": 17,
     "metadata": {},
     "output_type": "execute_result"
    }
   ],
   "source": [
    "cosine_distances(result, result)"
   ]
  },
  {
   "cell_type": "code",
   "execution_count": 18,
   "id": "2c48bb34-099e-4ff5-bc59-b7335ed115b5",
   "metadata": {
    "execution": {
     "iopub.execute_input": "2023-11-07T06:07:14.848220Z",
     "iopub.status.busy": "2023-11-07T06:07:14.846361Z",
     "iopub.status.idle": "2023-11-07T06:07:14.885467Z",
     "shell.execute_reply": "2023-11-07T06:07:14.883791Z",
     "shell.execute_reply.started": "2023-11-07T06:07:14.848069Z"
    }
   },
   "outputs": [],
   "source": [
    "root_logger = getLogger(\"root\")"
   ]
  },
  {
   "cell_type": "code",
   "execution_count": 19,
   "id": "c612129d-c418-4507-8a59-f4df806d5d94",
   "metadata": {
    "execution": {
     "iopub.execute_input": "2023-11-07T06:07:14.898096Z",
     "iopub.status.busy": "2023-11-07T06:07:14.897183Z",
     "iopub.status.idle": "2023-11-07T06:07:14.926278Z",
     "shell.execute_reply": "2023-11-07T06:07:14.924660Z",
     "shell.execute_reply.started": "2023-11-07T06:07:14.898062Z"
    }
   },
   "outputs": [],
   "source": [
    "aiNet = AiNet(distance_method=\"cosine\", logger=root_logger)"
   ]
  },
  {
   "cell_type": "code",
   "execution_count": 20,
   "id": "1c08bddf-9d0f-4d4e-a74f-ae6badcfbbab",
   "metadata": {
    "execution": {
     "iopub.execute_input": "2023-11-07T06:07:14.929171Z",
     "iopub.status.busy": "2023-11-07T06:07:14.928174Z",
     "iopub.status.idle": "2023-11-07T06:22:29.355570Z",
     "shell.execute_reply": "2023-11-07T06:22:29.348635Z",
     "shell.execute_reply.started": "2023-11-07T06:07:14.929131Z"
    }
   },
   "outputs": [
    {
     "name": "stdout",
     "output_type": "stream",
     "text": [
      "iter: 1 | cur_hyper_rate:  0.00000000 | |██████----------------------------------------------------------------------------------------------| 6.7% | avd: 0.00000 | net size: 100\r"
     ]
    }
   ],
   "source": [
    "aiNet.fit(\n",
    "    antigen_population=result, \n",
    "    max_iter=15, \n",
    "    number_of_antibodies=int(result.shape[0] * 0.10), \n",
    "    clone_multiplier=10, \n",
    "    no_best_cells_taken_each_selection=5, \n",
    "    percent_clones_reselected=0.12, \n",
    "    pruning_threshold=0.5\n",
    ")"
   ]
  },
  {
   "cell_type": "code",
   "execution_count": 21,
   "id": "88ba54d3-39ae-498e-862a-64fef5744c49",
   "metadata": {
    "execution": {
     "iopub.execute_input": "2023-11-07T06:22:29.379659Z",
     "iopub.status.busy": "2023-11-07T06:22:29.375484Z",
     "iopub.status.idle": "2023-11-07T06:22:29.422767Z",
     "shell.execute_reply": "2023-11-07T06:22:29.420983Z",
     "shell.execute_reply.started": "2023-11-07T06:22:29.379465Z"
    }
   },
   "outputs": [
    {
     "data": {
      "text/plain": [
       "(100, 14072)"
      ]
     },
     "execution_count": 21,
     "metadata": {},
     "output_type": "execute_result"
    }
   ],
   "source": [
    "aiNet.antibody_population.shape"
   ]
  },
  {
   "cell_type": "code",
   "execution_count": 9,
   "id": "f1feb168-4599-4ce7-97c8-4087206294a7",
   "metadata": {
    "execution": {
     "iopub.execute_input": "2023-11-11T03:43:26.526707Z",
     "iopub.status.busy": "2023-11-11T03:43:26.526158Z",
     "iopub.status.idle": "2023-11-11T03:43:26.868618Z",
     "shell.execute_reply": "2023-11-11T03:43:26.862767Z",
     "shell.execute_reply.started": "2023-11-11T03:43:26.526664Z"
    }
   },
   "outputs": [],
   "source": [
    "sample.to_csv(\"sample_cleansed_train_file.csv\", encoding=\"utf-8\", index=False, sep=\",\", quoting=csv.QUOTE_MINIMAL, quotechar='\"')"
   ]
  },
  {
   "cell_type": "code",
   "execution_count": 10,
   "id": "2a1209ca-abc1-44cb-8207-19ea89226d9b",
   "metadata": {
    "execution": {
     "iopub.execute_input": "2023-11-11T03:43:26.888848Z",
     "iopub.status.busy": "2023-11-11T03:43:26.887985Z",
     "iopub.status.idle": "2023-11-11T03:43:27.030866Z",
     "shell.execute_reply": "2023-11-11T03:43:27.027995Z",
     "shell.execute_reply.started": "2023-11-11T03:43:26.888791Z"
    }
   },
   "outputs": [],
   "source": [
    "with open(\"sample_cleansed_train_file.csv\", \"r+\", newline=\"\", encoding=\"utf-8\") as f:\n",
    "    reader = csv.reader(f, delimiter=\",\", quoting=csv.QUOTE_MINIMAL, quotechar='\"')\n",
    "    data = list(reader)\n",
    "    header = data.pop(0)\n",
    "\n",
    "df1 = pd.DataFrame(data=data, columns=header)"
   ]
  },
  {
   "cell_type": "code",
   "execution_count": 11,
   "id": "0071b091-763c-4c2d-b3b7-3ad575e3a707",
   "metadata": {
    "execution": {
     "iopub.execute_input": "2023-11-11T03:43:27.053663Z",
     "iopub.status.busy": "2023-11-11T03:43:27.052328Z",
     "iopub.status.idle": "2023-11-11T03:43:27.110853Z",
     "shell.execute_reply": "2023-11-11T03:43:27.100098Z",
     "shell.execute_reply.started": "2023-11-11T03:43:27.053523Z"
    }
   },
   "outputs": [
    {
     "name": "stdout",
     "output_type": "stream",
     "text": [
      "<class 'pandas.core.frame.DataFrame'>\n",
      "RangeIndex: 6245 entries, 0 to 6244\n",
      "Data columns (total 11 columns):\n",
      " #   Column             Non-Null Count  Dtype \n",
      "---  ------             --------------  ----- \n",
      " 0   IDLink             6245 non-null   object\n",
      " 1   Title              6245 non-null   object\n",
      " 2   Headline           6245 non-null   object\n",
      " 3   Source             6245 non-null   object\n",
      " 4   Topic              6245 non-null   object\n",
      " 5   PublishDate        6245 non-null   object\n",
      " 6   Facebook           6245 non-null   object\n",
      " 7   GooglePlus         6245 non-null   object\n",
      " 8   LinkedIn           6245 non-null   object\n",
      " 9   SentimentTitle     6245 non-null   object\n",
      " 10  SentimentHeadline  6245 non-null   object\n",
      "dtypes: object(11)\n",
      "memory usage: 536.8+ KB\n"
     ]
    }
   ],
   "source": [
    "df1.info()"
   ]
  },
  {
   "cell_type": "code",
   "execution_count": 12,
   "id": "8b2af5b6-76d9-49a3-a056-d770e157ce3d",
   "metadata": {
    "execution": {
     "iopub.execute_input": "2023-11-11T03:43:27.128016Z",
     "iopub.status.busy": "2023-11-11T03:43:27.126153Z",
     "iopub.status.idle": "2023-11-11T03:43:27.163197Z",
     "shell.execute_reply": "2023-11-11T03:43:27.155371Z",
     "shell.execute_reply.started": "2023-11-11T03:43:27.127831Z"
    }
   },
   "outputs": [
    {
     "data": {
      "text/plain": [
       "economy      2273\n",
       "obama        1897\n",
       "microsoft    1456\n",
       "palestine     619\n",
       "Name: Topic, dtype: int64"
      ]
     },
     "execution_count": 12,
     "metadata": {},
     "output_type": "execute_result"
    }
   ],
   "source": [
    "df1[\"Topic\"].value_counts()"
   ]
  },
  {
   "cell_type": "code",
   "execution_count": 14,
   "id": "6dbdbc30-9578-4f6a-bf6a-177d84d14ac1",
   "metadata": {
    "execution": {
     "iopub.execute_input": "2023-11-11T03:46:02.400964Z",
     "iopub.status.busy": "2023-11-11T03:46:02.400458Z",
     "iopub.status.idle": "2023-11-11T03:46:02.706708Z",
     "shell.execute_reply": "2023-11-11T03:46:02.700583Z",
     "shell.execute_reply.started": "2023-11-11T03:46:02.400921Z"
    }
   },
   "outputs": [
    {
     "data": {
      "text/plain": [
       "0"
      ]
     },
     "execution_count": 14,
     "metadata": {},
     "output_type": "execute_result"
    }
   ],
   "source": [
    "(df1[\"Headline\"].isna().astype(int) + df1[\"Headline\"].isnull().astype(int)).sum()"
   ]
  },
  {
   "cell_type": "code",
   "execution_count": null,
   "id": "cbed887a-f39d-4eb6-8e3f-57f3ed56894d",
   "metadata": {},
   "outputs": [],
   "source": []
  }
 ],
 "metadata": {
  "kernelspec": {
   "display_name": "Python 3 (ipykernel)",
   "language": "python",
   "name": "python3"
  },
  "language_info": {
   "codemirror_mode": {
    "name": "ipython",
    "version": 3
   },
   "file_extension": ".py",
   "mimetype": "text/x-python",
   "name": "python",
   "nbconvert_exporter": "python",
   "pygments_lexer": "ipython3",
   "version": "3.11.6"
  },
  "widgets": {
   "application/vnd.jupyter.widget-state+json": {
    "state": {},
    "version_major": 2,
    "version_minor": 0
   }
  }
 },
 "nbformat": 4,
 "nbformat_minor": 5
}
