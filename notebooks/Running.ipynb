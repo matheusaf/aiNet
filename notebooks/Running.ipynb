{
 "cells": [
  {
   "cell_type": "code",
   "execution_count": null,
   "id": "f535e46e",
   "metadata": {},
   "outputs": [
    {
     "ename": "ModuleNotFoundError",
     "evalue": "No module named 'spacy'",
     "output_type": "error",
     "traceback": [
      "\u001b[0;31m---------------------------------------------------------------------------\u001b[0m",
      "\u001b[0;31mModuleNotFoundError\u001b[0m                       Traceback (most recent call last)",
      "Cell \u001b[0;32mIn[1], line 4\u001b[0m\n\u001b[1;32m      2\u001b[0m \u001b[38;5;28;01mimport\u001b[39;00m \u001b[38;5;21;01msys\u001b[39;00m\n\u001b[1;32m      3\u001b[0m \u001b[38;5;28;01mimport\u001b[39;00m \u001b[38;5;21;01mjson\u001b[39;00m\n\u001b[0;32m----> 4\u001b[0m \u001b[38;5;28;01mimport\u001b[39;00m \u001b[38;5;21;01mspacy\u001b[39;00m\n\u001b[1;32m      6\u001b[0m \u001b[38;5;28;01mfrom\u001b[39;00m \u001b[38;5;21;01mpathlib\u001b[39;00m \u001b[38;5;28;01mimport\u001b[39;00m Path\n\u001b[1;32m      7\u001b[0m \u001b[38;5;28;01mfrom\u001b[39;00m \u001b[38;5;21;01mtorch\u001b[39;00m \u001b[38;5;28;01mimport\u001b[39;00m multiprocessing \u001b[38;5;28;01mas\u001b[39;00m tmp\n",
      "\u001b[0;31mModuleNotFoundError\u001b[0m: No module named 'spacy'"
     ]
    }
   ],
   "source": [
    "import os\n",
    "import sys\n",
    "import json\n",
    "import spacy\n",
    "import logging as lg\n",
    "from pathlib import Path\n",
    "from torch import multiprocessing as tmp\n",
    "from ainet_executor import AiNetExecutor"
   ]
  },
  {
   "cell_type": "code",
   "execution_count": null,
   "id": "e5f57bd4",
   "metadata": {},
   "outputs": [],
   "source": [
    "sys.path.append(\n",
    "    os.path.join(\n",
    "        Path(os.getcwd()).parents[1],\n",
    "        \"src\"\n",
    "    )\n",
    ")\n",
    "\n",
    "tmp.set_start_method(\"spawn\", force=True)\n",
    "spacy.prefer_gpu()  # type: ignore\n",
    "\n",
    "root_log = lg.getLogger(\"root\")\n",
    "root_log.setLevel(lg.FATAL)"
   ]
  },
  {
   "cell_type": "code",
   "execution_count": null,
   "id": "f1c624be",
   "metadata": {},
   "outputs": [],
   "source": [
    "EXECUTION_PLAN_FILE = \"../executions.json\"\n",
    "with open(EXECUTION_PLAN_FILE, \"r\", encoding=\"utf-8\") as json_file:\n",
    "    executions = json.load(json_file)\n",
    "\n",
    "executor = AiNetExecutor(logger=root_log)\n",
    "executor.execute(executions_plans=executions[\"executions_plans\"])"
   ]
  }
 ],
 "metadata": {
  "kernelspec": {
   "display_name": "env",
   "language": "python",
   "name": "python3"
  },
  "language_info": {
   "codemirror_mode": {
    "name": "ipython",
    "version": 3
   },
   "file_extension": ".py",
   "mimetype": "text/x-python",
   "name": "python",
   "nbconvert_exporter": "python",
   "pygments_lexer": "ipython3",
   "version": "3.12.1"
  }
 },
 "nbformat": 4,
 "nbformat_minor": 5
}
