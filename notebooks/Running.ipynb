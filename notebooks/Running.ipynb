{
 "cells": [
  {
   "cell_type": "code",
   "execution_count": null,
   "id": "f535e46e",
   "metadata": {},
   "outputs": [
    {
     "ename": "",
     "evalue": "",
     "output_type": "error",
     "traceback": [
      "\u001b[1;31mFalha ao iniciar o Kernel. \n",
      "\u001b[1;31mTypeError: <class 'traitlets.traitlets.List'> is not a generic class. \n",
      "\u001b[1;31mConsulte o <a href='command:jupyter.viewOutput'>log</a> do Jupyter para obter mais detalhes."
     ]
    }
   ],
   "source": [
    "import os\n",
    "import sys\n",
    "import json\n",
    "import spacy\n",
    "import logging as lg\n",
    "from pathlib import Path\n",
    "from torch import multiprocessing as tmp"
   ]
  },
  {
   "cell_type": "code",
   "execution_count": null,
   "id": "e5f57bd4",
   "metadata": {},
   "outputs": [],
   "source": [
    "sys.path.append(\n",
    "    os.path.join(\n",
    "        Path(os.getcwd()).parents[0],\n",
    "        \"src\"\n",
    "    )\n",
    ")\n",
    "\n",
    "from ainet_executor import AiNetExecutor"
   ]
  },
  {
   "cell_type": "code",
   "execution_count": null,
   "id": "0172f578",
   "metadata": {},
   "outputs": [],
   "source": [
    "tmp.set_start_method(\"spawn\", force=True)\n",
    "spacy.prefer_gpu()  # type: ignore\n",
    "\n",
    "root_log = lg.getLogger(\"root\")\n",
    "root_log.setLevel(lg.FATAL)"
   ]
  },
  {
   "cell_type": "code",
   "execution_count": null,
   "id": "f1c624be",
   "metadata": {},
   "outputs": [],
   "source": [
    "EXECUTION_PLAN_FILE = os.path.join(\"..\", \"src\", \"execution_plans\", \"executions.json\")\n",
    "with open(EXECUTION_PLAN_FILE, \"r\", encoding=\"utf-8\") as json_file:\n",
    "    executions = json.load(json_file)\n",
    "\n",
    "executor = AiNetExecutor(logger=root_log)\n",
    "executor.execute(executions_plans=executions[\"executions_plans\"])"
   ]
  }
 ],
 "metadata": {
  "kernelspec": {
   "display_name": "env",
   "language": "python",
   "name": "python3"
  },
  "language_info": {
   "codemirror_mode": {
    "name": "ipython",
    "version": 3
   },
   "file_extension": ".py",
   "mimetype": "text/x-python",
   "name": "python",
   "nbconvert_exporter": "python",
   "pygments_lexer": "ipython3",
   "version": "3.11.14"
  }
 },
 "nbformat": 4,
 "nbformat_minor": 5
}
